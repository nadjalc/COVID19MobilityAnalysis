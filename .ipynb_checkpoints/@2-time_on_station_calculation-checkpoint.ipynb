{
 "cells": [
  {
   "cell_type": "code",
   "execution_count": 2,
   "metadata": {},
   "outputs": [],
   "source": [
    "import pandas as pd\n",
    "import glob\n",
    "from datetime import datetime\n",
    "import time"
   ]
  },
  {
   "cell_type": "markdown",
   "metadata": {},
   "source": [
    "#### Preprocessing of the raw collected data into the table where one row shows one period of time that the bike spent on the same location (station)"
   ]
  },
  {
   "cell_type": "code",
   "execution_count": null,
   "metadata": {},
   "outputs": [],
   "source": [
    "url = \"output_datasets/cleaned_data_nextbike_2019-12.csv.gz\"\n",
    "df = pd.read_csv(url, sep=';', low_memory=False)"
   ]
  },
  {
   "cell_type": "code",
   "execution_count": null,
   "metadata": {},
   "outputs": [],
   "source": [
    "fmt = '%Y-%m-%d %H:%M:%S'"
   ]
  },
  {
   "cell_type": "code",
   "execution_count": null,
   "metadata": {},
   "outputs": [],
   "source": [
    "df"
   ]
  },
  {
   "cell_type": "code",
   "execution_count": null,
   "metadata": {},
   "outputs": [],
   "source": [
    "new_df = pd.DataFrame(columns= ['lat', 'lng', 'time_begin', 'time_end', 'standing_time_minutes', 'uid', 'name', 'address', 'bike', 'bike_racks', 'bikes', \n",
    "                                'booked_bikes', 'free_racks', 'free_special_racks', 'maintenance', 'number', \n",
    "                                'place_type', 'rack_locks', 'special_racks', 'spot', 'terminal_type', 'city',\n",
    "                                'country_code', 'company', 'timezone', 'available_bikes'] ) #empty dataframe with the new column structure"
   ]
  },
  {
   "cell_type": "code",
   "execution_count": null,
   "metadata": {},
   "outputs": [],
   "source": [
    "for index, row in df.iterrows():\n",
    "    t_begin = df['time_begin'][index].split('.')[0]\n",
    "    t_end = df['time_end'][index].split('.')[0]    \n",
    "    \n",
    "    d1 = datetime.strptime(t_begin, fmt)\n",
    "    d2 = datetime.strptime(t_end, fmt)\n",
    "    \n",
    "    d1_ts = time.mktime(d1.timetuple())\n",
    "    d2_ts = time.mktime(d2.timetuple())\n",
    "    \n",
    "    minsDiff = round((int(d2_ts-d1_ts) / 60), 0)\n",
    "    new_df = new_df.append({'lat' : row['lat'], 'lng' : row['lng'] ,\n",
    "                            'time_begin' : row['time_begin'], 'time_end' : row['time_end'], \n",
    "                            'standing_time_minutes' : minsDiff, 'uid' : row['uid'], 'address' : row['address'], \n",
    "                            'bike' : row['bike'], 'bike_racks' : row['bike_racks'], 'bikes' : row['bikes'], \n",
    "                            'booked_bikes' : row['booked_bikes'], 'free_racks' : row['free_racks'], \n",
    "                            'free_special_racks' : row['free_special_racks'], \n",
    "                            'maintenance' : row['maintenance'], 'name' : row['name'], 'number' : row['number'], \n",
    "                            'place_type' : row['place_type'], 'rack_locks' : row['rack_locks'], \n",
    "                            'special_racks' : row['special_racks'], 'spot' : row['spot'], \n",
    "                            'terminal_type' : row['terminal_type'], 'city' : row['city'], \n",
    "                            'country_code' : row['country_code'], 'company' : row['company'], \n",
    "                            'timezone' : row['timezone'], 'available_bikes' : row['available_bikes']}, ignore_index=True)"
   ]
  },
  {
   "cell_type": "code",
   "execution_count": null,
   "metadata": {},
   "outputs": [],
   "source": [
    "new_df"
   ]
  },
  {
   "cell_type": "code",
   "execution_count": null,
   "metadata": {},
   "outputs": [],
   "source": [
    "new_df.to_csv('time_on_station_data_nextbike_2019-12.csv', sep=';', index=False)"
   ]
  },
  {
   "cell_type": "code",
   "execution_count": null,
   "metadata": {},
   "outputs": [],
   "source": []
  }
 ],
 "metadata": {
  "kernelspec": {
   "display_name": "Python 3",
   "language": "python",
   "name": "python3"
  },
  "language_info": {
   "codemirror_mode": {
    "name": "ipython",
    "version": 3
   },
   "file_extension": ".py",
   "mimetype": "text/x-python",
   "name": "python",
   "nbconvert_exporter": "python",
   "pygments_lexer": "ipython3",
   "version": "3.8.5"
  }
 },
 "nbformat": 4,
 "nbformat_minor": 2
}
