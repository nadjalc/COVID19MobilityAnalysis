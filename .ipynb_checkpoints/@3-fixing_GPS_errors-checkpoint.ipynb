{
 "cells": [
  {
   "cell_type": "code",
   "execution_count": 1,
   "metadata": {},
   "outputs": [],
   "source": [
    "import pandas as pd\n",
    "import random\n",
    "from datetime import datetime\n",
    "import time\n",
    "from itertools import islice"
   ]
  },
  {
   "cell_type": "code",
   "execution_count": 2,
   "metadata": {},
   "outputs": [],
   "source": [
    "def unique(sequence): #removes duplicates from a list whilst preserving order\n",
    "    visited = set()\n",
    "    return [x for x in sequence if not (x in visited or visited.add(x))]"
   ]
  },
  {
   "cell_type": "code",
   "execution_count": 3,
   "metadata": {},
   "outputs": [],
   "source": [
    "url = \"station_times_for_fixing_data_nextbike_2020-01.csv.gz\""
   ]
  },
  {
   "cell_type": "code",
   "execution_count": 4,
   "metadata": {},
   "outputs": [],
   "source": [
    "df = pd.read_csv(url, sep=';', low_memory=False)"
   ]
  },
  {
   "cell_type": "code",
   "execution_count": 5,
   "metadata": {},
   "outputs": [],
   "source": [
    "fmt = '%Y-%m-%d %H:%M:%S'"
   ]
  },
  {
   "cell_type": "code",
   "execution_count": 6,
   "metadata": {},
   "outputs": [
    {
     "data": {
      "text/plain": [
       "Index(['lat', 'lng', 'time_begin', 'time_end', 'standing_time_minutes', 'uid',\n",
       "       'name', 'address', 'bike', 'bike_racks', 'bikes', 'booked_bikes',\n",
       "       'free_racks', 'free_special_racks', 'maintenance', 'number',\n",
       "       'place_type', 'rack_locks', 'special_racks', 'spot', 'terminal_type',\n",
       "       'city', 'country_code', 'company', 'timezone', 'available_bikes'],\n",
       "      dtype='object')"
      ]
     },
     "execution_count": 6,
     "metadata": {},
     "output_type": "execute_result"
    }
   ],
   "source": [
    "df.columns"
   ]
  },
  {
   "cell_type": "code",
   "execution_count": 6,
   "metadata": {},
   "outputs": [],
   "source": [
    "pd.set_option('display.max_columns()', None)"
   ]
  },
  {
   "cell_type": "code",
   "execution_count": 7,
   "metadata": {},
   "outputs": [],
   "source": [
    "new_df = pd.DataFrame(columns= ['old_index', 'lat', 'lng', 'time_begin', 'time_end', 'standing_time_minutes', 'uid', 'name', 'address',\n",
    "                                'bike', 'bike_racks', 'bikes', \n",
    "                                'booked_bikes', 'free_racks', 'free_special_racks', 'maintenance', 'number', \n",
    "                                'place_type', 'rack_locks', 'special_racks', 'spot', 'terminal_type', 'city',\n",
    "                                'country_code', 'company', 'timezone', 'available_bikes'] ) \n",
    "#empty dataframe with the new column structure\n"
   ]
  },
  {
   "cell_type": "markdown",
   "metadata": {},
   "source": [
    "#### OLD_INDEX is gonna be used later when we itterate trough smaller data frames containing only data rows with same uid. \n",
    "#### These subset data frames create new indexes but we use old index to compare positions based on the original place in the main df"
   ]
  },
  {
   "cell_type": "code",
   "execution_count": 2,
   "metadata": {},
   "outputs": [
    {
     "ename": "NameError",
     "evalue": "name 'df' is not defined",
     "output_type": "error",
     "traceback": [
      "\u001b[1;31m---------------------------------------------------------------------------\u001b[0m",
      "\u001b[1;31mNameError\u001b[0m                                 Traceback (most recent call last)",
      "\u001b[1;32m<ipython-input-2-00cf07b74dcd>\u001b[0m in \u001b[0;36m<module>\u001b[1;34m\u001b[0m\n\u001b[1;32m----> 1\u001b[1;33m \u001b[0mdf\u001b[0m\u001b[1;33m\u001b[0m\u001b[1;33m\u001b[0m\u001b[0m\n\u001b[0m",
      "\u001b[1;31mNameError\u001b[0m: name 'df' is not defined"
     ]
    }
   ],
   "source": [
    "df"
   ]
  },
  {
   "cell_type": "code",
   "execution_count": 9,
   "metadata": {},
   "outputs": [],
   "source": [
    "uidsToList = df['uid'].tolist()\n",
    "uidsList = unique(uidsToList) #removes duplicates from a list whilst preserving order"
   ]
  },
  {
   "cell_type": "code",
   "execution_count": 10,
   "metadata": {},
   "outputs": [
    {
     "data": {
      "text/plain": [
       "65179"
      ]
     },
     "execution_count": 10,
     "metadata": {},
     "output_type": "execute_result"
    }
   ],
   "source": [
    "len(uidsList)"
   ]
  },
  {
   "cell_type": "code",
   "execution_count": 11,
   "metadata": {},
   "outputs": [],
   "source": [
    "df.reset_index(inplace=True)"
   ]
  },
  {
   "cell_type": "code",
   "execution_count": 12,
   "metadata": {},
   "outputs": [],
   "source": [
    "df.rename(columns={\"index\": \"old_index\"}, inplace=True) #create duplicate column of indexes - old_index"
   ]
  },
  {
   "cell_type": "markdown",
   "metadata": {},
   "source": [
    "### We want to merge all the rows with the same uid into one row\n",
    "### First we need to check GPS errors"
   ]
  },
  {
   "cell_type": "markdown",
   "metadata": {},
   "source": [
    "Old index order is used to interupt same uid processing if two rows are not in a sequence in original data frame. This eliminates the error that was created in cases when one uid appeared for to riddes that are sepparated by many other rides on the same bike. This error is related to how the uid is generated"
   ]
  },
  {
   "cell_type": "code",
   "execution_count": 13,
   "metadata": {
    "scrolled": true
   },
   "outputs": [],
   "source": [
    "questionable_changes = {} #creating dictionary to hold uid:difference \n",
    "for uid in uidsList: \n",
    "    single_uid_records = df[df['uid']==uid]\n",
    "    first_row_data = single_uid_records.iloc[0]\n",
    "    last_end_time = first_row_data['time_end']\n",
    "    last_oi = first_row_data['old_index']\n",
    "\n",
    "    for index, row in islice(single_uid_records.iterrows(), 1, None):\n",
    "        if last_oi+1 != df['old_index'][index]: #using old index to interupt same uid processing if two rows are not in a sequence in original data frame\n",
    "            break\n",
    "        t_begin = df['time_begin'][index].split('.')[0]\n",
    "        t_end_previous = last_end_time.split('.')[0]    \n",
    "\n",
    "        d1 = datetime.strptime(t_begin, fmt)\n",
    "        d2 = datetime.strptime(t_end_previous, fmt)\n",
    "\n",
    "        d1_ts = time.mktime(d1.timetuple())\n",
    "        d2_ts = time.mktime(d2.timetuple())\n",
    "\n",
    "        minsDiff = round((int(d1_ts-d2_ts) / 60), 0)\n",
    "\n",
    "        last_end_time = row['time_end']\n",
    "        last_oi = df['old_index'][index]\n",
    "        if minsDiff > 1:\n",
    "            questionable_changes[uid] = minsDiff\n",
    "        \n"
   ]
  },
  {
   "cell_type": "code",
   "execution_count": 14,
   "metadata": {
    "scrolled": true
   },
   "outputs": [
    {
     "data": {
      "text/plain": [
       "{26870459: 1558.0,\n",
       " 26556383: 3.0,\n",
       " 27375414: 2.0,\n",
       " 26561791: 1254.0,\n",
       " 26550515: 14.0,\n",
       " 27375246: 13.0,\n",
       " 27411154: 2.0,\n",
       " 26612553: 2667.0,\n",
       " 27239943: 1045.0,\n",
       " 27215287: 5.0,\n",
       " 26619292: 20446.0,\n",
       " 27375320: 2.0,\n",
       " 27411206: 2.0,\n",
       " 27310782: 2.0,\n",
       " 27004024: 6.0,\n",
       " 27163803: 5.0,\n",
       " 26897899: 44.0,\n",
       " 27373636: 2531.0,\n",
       " 27180239: 1420.0,\n",
       " 26962478: 107.0,\n",
       " 26902080: 5.0,\n",
       " 26919602: 1473.0,\n",
       " 26676668: 4.0,\n",
       " 26830402: 4.0,\n",
       " 27346323: 1465.0,\n",
       " 26574707: 4738.0,\n",
       " 27411156: 2.0,\n",
       " 27424198: 2.0,\n",
       " 26898627: 867.0,\n",
       " 27410752: 2.0,\n",
       " 27450077: 2.0,\n",
       " 27424820: 2.0}"
      ]
     },
     "execution_count": 14,
     "metadata": {},
     "output_type": "execute_result"
    }
   ],
   "source": [
    "questionable_changes"
   ]
  },
  {
   "cell_type": "code",
   "execution_count": 15,
   "metadata": {},
   "outputs": [
    {
     "data": {
      "text/plain": [
       "32"
      ]
     },
     "execution_count": 15,
     "metadata": {},
     "output_type": "execute_result"
    }
   ],
   "source": [
    "len(questionable_changes)"
   ]
  },
  {
   "cell_type": "code",
   "execution_count": 16,
   "metadata": {},
   "outputs": [
    {
     "data": {
      "text/plain": [
       "32"
      ]
     },
     "execution_count": 16,
     "metadata": {},
     "output_type": "execute_result"
    }
   ],
   "source": [
    "len(set(questionable_changes))"
   ]
  },
  {
   "cell_type": "markdown",
   "metadata": {},
   "source": [
    "#### We checked GPS errors and found multiple questionable changes, meaning that bike was missing from GPS for longer time than just an momentarily variation in location. \n",
    "#### Changes in location were controled (making distance controle for that) and conclusion is thata everything with same uid should be merged. Rows with same uid's will be merged and minutes of standing added together + difference in minutes that looks like a ride but it is only GPS error\n",
    "\n",
    "### Running cells to clean the data from extra rows (temporar solutions for distance check and for choosing lat and lng)"
   ]
  },
  {
   "cell_type": "code",
   "execution_count": 17,
   "metadata": {},
   "outputs": [],
   "source": [
    "for uid in uidsList: \n",
    "    single_uid_records = df[df['uid']==uid]\n",
    "    first_row_data = single_uid_records.iloc[0]\n",
    "    last_end_time = first_row_data['time_end']\n",
    "    current_sum = first_row_data['standing_time_minutes']\n",
    "    last_oi = first_row_data['old_index']\n",
    "\n",
    "\n",
    "    new_df = new_df.append({'old_index': first_row_data['old_index'], 'lat' : first_row_data['lat'], 'lng' : first_row_data['lng'], \n",
    "                            'time_begin' : first_row_data['time_begin'],\n",
    "                            'time_end' : last_end_time, 'standing_time_minutes' : first_row_data['standing_time_minutes'],\n",
    "                            'uid' : first_row_data['uid'], 'name' : first_row_data['name'], 'address' : first_row_data['address'],\n",
    "                            'bike' : first_row_data['bike'], 'bike_racks' : first_row_data['bike_racks'], \n",
    "                            'bikes' : first_row_data['bikes'], 'booked_bikes' : first_row_data['booked_bikes'], \n",
    "                            'free_racks' : first_row_data['free_racks'], 'free_special_racks' : first_row_data['free_special_racks'],\n",
    "                            'maintenance' : first_row_data['maintenance'], 'number' : first_row_data['number'], \n",
    "                            'place_type' : first_row_data['place_type'], 'rack_locks' : first_row_data['rack_locks'],\n",
    "                            'special_racks' : first_row_data['special_racks'], 'spot' : first_row_data['spot'], \n",
    "                            'terminal_type' : first_row_data['terminal_type'], 'city' : first_row_data['city'],\n",
    "                            'country_code' : first_row_data['country_code'], 'company' : first_row_data['company'],\n",
    "                            'timezone' : first_row_data['timezone'], 'available_bikes' : first_row_data['available_bikes']}, ignore_index=True) \n",
    "\n",
    "    for index, row in islice(single_uid_records.iterrows(), 1, None):\n",
    "        if last_oi+1 != df['old_index'][index]:\n",
    "            break\n",
    "        t_begin = df['time_begin'][index].split('.')[0]\n",
    "        t_end_previous = last_end_time.split('.')[0]    \n",
    "\n",
    "        d1 = datetime.strptime(t_begin, fmt)\n",
    "        d2 = datetime.strptime(t_end_previous, fmt)\n",
    "\n",
    "        d1_ts = time.mktime(d1.timetuple())\n",
    "        d2_ts = time.mktime(d2.timetuple())\n",
    "\n",
    "        minsDiff = round((int(d1_ts-d2_ts) / 60), 0)\n",
    "        current_sum += row['standing_time_minutes'] + minsDiff\n",
    "\n",
    "        new_df.iloc[-1, new_df.columns.get_loc('standing_time_minutes')] = current_sum\n",
    "        new_df.iloc[-1, new_df.columns.get_loc('lat')] = row['lat']\n",
    "        new_df.iloc[-1, new_df.columns.get_loc('lng')] = row['lng']\n",
    "        new_df.iloc[-1, new_df.columns.get_loc('time_end')] = row['time_end']\n",
    "\n",
    "        last_end_time = row['time_end']\n",
    "        last_oi = df['old_index'][index]\n",
    "\n",
    "\n"
   ]
  },
  {
   "cell_type": "code",
   "execution_count": 19,
   "metadata": {},
   "outputs": [],
   "source": [
    "new_df.drop(['old_index'], axis=1,inplace=True)"
   ]
  },
  {
   "cell_type": "code",
   "execution_count": 20,
   "metadata": {},
   "outputs": [
    {
     "data": {
      "text/html": [
       "<div>\n",
       "<style scoped>\n",
       "    .dataframe tbody tr th:only-of-type {\n",
       "        vertical-align: middle;\n",
       "    }\n",
       "\n",
       "    .dataframe tbody tr th {\n",
       "        vertical-align: top;\n",
       "    }\n",
       "\n",
       "    .dataframe thead th {\n",
       "        text-align: right;\n",
       "    }\n",
       "</style>\n",
       "<table border=\"1\" class=\"dataframe\">\n",
       "  <thead>\n",
       "    <tr style=\"text-align: right;\">\n",
       "      <th></th>\n",
       "      <th>lat</th>\n",
       "      <th>lng</th>\n",
       "      <th>time_begin</th>\n",
       "      <th>time_end</th>\n",
       "      <th>standing_time_minutes</th>\n",
       "      <th>uid</th>\n",
       "      <th>name</th>\n",
       "      <th>address</th>\n",
       "      <th>bike</th>\n",
       "      <th>bike_racks</th>\n",
       "      <th>bikes</th>\n",
       "      <th>booked_bikes</th>\n",
       "      <th>free_racks</th>\n",
       "      <th>free_special_racks</th>\n",
       "      <th>maintenance</th>\n",
       "      <th>number</th>\n",
       "      <th>place_type</th>\n",
       "      <th>rack_locks</th>\n",
       "      <th>special_racks</th>\n",
       "      <th>spot</th>\n",
       "      <th>terminal_type</th>\n",
       "      <th>city</th>\n",
       "      <th>country_code</th>\n",
       "      <th>company</th>\n",
       "      <th>timezone</th>\n",
       "      <th>available_bikes</th>\n",
       "    </tr>\n",
       "  </thead>\n",
       "  <tbody>\n",
       "    <tr>\n",
       "      <td>0</td>\n",
       "      <td>50.965871</td>\n",
       "      <td>6.958885</td>\n",
       "      <td>2020-01-01 00:00:02.250239</td>\n",
       "      <td>2020-01-02 08:33:01.862366</td>\n",
       "      <td>1953.0</td>\n",
       "      <td>26502959</td>\n",
       "      <td>BIKE 22174</td>\n",
       "      <td>NaN</td>\n",
       "      <td>True</td>\n",
       "      <td>0</td>\n",
       "      <td>1</td>\n",
       "      <td>0</td>\n",
       "      <td>0</td>\n",
       "      <td>0</td>\n",
       "      <td>False</td>\n",
       "      <td>0</td>\n",
       "      <td>12</td>\n",
       "      <td>False</td>\n",
       "      <td>0</td>\n",
       "      <td>False</td>\n",
       "      <td>NaN</td>\n",
       "      <td>Köln</td>\n",
       "      <td>DE</td>\n",
       "      <td>Nextbike</td>\n",
       "      <td>Europe/Berlin</td>\n",
       "      <td>2620</td>\n",
       "    </tr>\n",
       "    <tr>\n",
       "      <td>1</td>\n",
       "      <td>50.967846</td>\n",
       "      <td>6.957729</td>\n",
       "      <td>2020-01-02 11:04:02.156789</td>\n",
       "      <td>2020-01-02 11:04:02.156789</td>\n",
       "      <td>0.0</td>\n",
       "      <td>26553268</td>\n",
       "      <td>BIKE 22174</td>\n",
       "      <td>NaN</td>\n",
       "      <td>True</td>\n",
       "      <td>0</td>\n",
       "      <td>1</td>\n",
       "      <td>0</td>\n",
       "      <td>0</td>\n",
       "      <td>0</td>\n",
       "      <td>False</td>\n",
       "      <td>0</td>\n",
       "      <td>12</td>\n",
       "      <td>False</td>\n",
       "      <td>0</td>\n",
       "      <td>False</td>\n",
       "      <td>NaN</td>\n",
       "      <td>Köln</td>\n",
       "      <td>DE</td>\n",
       "      <td>Nextbike</td>\n",
       "      <td>Europe/Berlin</td>\n",
       "      <td>2614</td>\n",
       "    </tr>\n",
       "    <tr>\n",
       "      <td>2</td>\n",
       "      <td>50.966346</td>\n",
       "      <td>6.955552</td>\n",
       "      <td>2020-01-02 11:05:01.959077</td>\n",
       "      <td>2020-01-02 14:37:02.217892</td>\n",
       "      <td>212.0</td>\n",
       "      <td>26554933</td>\n",
       "      <td>BIKE 22174</td>\n",
       "      <td>NaN</td>\n",
       "      <td>True</td>\n",
       "      <td>0</td>\n",
       "      <td>1</td>\n",
       "      <td>0</td>\n",
       "      <td>0</td>\n",
       "      <td>0</td>\n",
       "      <td>False</td>\n",
       "      <td>0</td>\n",
       "      <td>12</td>\n",
       "      <td>False</td>\n",
       "      <td>0</td>\n",
       "      <td>False</td>\n",
       "      <td>NaN</td>\n",
       "      <td>Köln</td>\n",
       "      <td>DE</td>\n",
       "      <td>Nextbike</td>\n",
       "      <td>Europe/Berlin</td>\n",
       "      <td>2612</td>\n",
       "    </tr>\n",
       "    <tr>\n",
       "      <td>3</td>\n",
       "      <td>50.962111</td>\n",
       "      <td>6.953751</td>\n",
       "      <td>2020-01-02 14:46:02.261764</td>\n",
       "      <td>2020-01-02 14:53:02.574806</td>\n",
       "      <td>7.0</td>\n",
       "      <td>26559553</td>\n",
       "      <td>BIKE 22174</td>\n",
       "      <td>NaN</td>\n",
       "      <td>True</td>\n",
       "      <td>0</td>\n",
       "      <td>1</td>\n",
       "      <td>0</td>\n",
       "      <td>0</td>\n",
       "      <td>0</td>\n",
       "      <td>False</td>\n",
       "      <td>0</td>\n",
       "      <td>12</td>\n",
       "      <td>False</td>\n",
       "      <td>0</td>\n",
       "      <td>False</td>\n",
       "      <td>NaN</td>\n",
       "      <td>Köln</td>\n",
       "      <td>DE</td>\n",
       "      <td>Nextbike</td>\n",
       "      <td>Europe/Berlin</td>\n",
       "      <td>2596</td>\n",
       "    </tr>\n",
       "    <tr>\n",
       "      <td>4</td>\n",
       "      <td>50.962755</td>\n",
       "      <td>6.954006</td>\n",
       "      <td>2020-01-02 14:54:02.736863</td>\n",
       "      <td>2020-01-02 16:38:02.237953</td>\n",
       "      <td>104.0</td>\n",
       "      <td>26559847</td>\n",
       "      <td>BIKE 22174</td>\n",
       "      <td>NaN</td>\n",
       "      <td>True</td>\n",
       "      <td>0</td>\n",
       "      <td>1</td>\n",
       "      <td>0</td>\n",
       "      <td>0</td>\n",
       "      <td>0</td>\n",
       "      <td>False</td>\n",
       "      <td>0</td>\n",
       "      <td>12</td>\n",
       "      <td>False</td>\n",
       "      <td>0</td>\n",
       "      <td>False</td>\n",
       "      <td>NaN</td>\n",
       "      <td>Köln</td>\n",
       "      <td>DE</td>\n",
       "      <td>Nextbike</td>\n",
       "      <td>Europe/Berlin</td>\n",
       "      <td>2596</td>\n",
       "    </tr>\n",
       "    <tr>\n",
       "      <td>...</td>\n",
       "      <td>...</td>\n",
       "      <td>...</td>\n",
       "      <td>...</td>\n",
       "      <td>...</td>\n",
       "      <td>...</td>\n",
       "      <td>...</td>\n",
       "      <td>...</td>\n",
       "      <td>...</td>\n",
       "      <td>...</td>\n",
       "      <td>...</td>\n",
       "      <td>...</td>\n",
       "      <td>...</td>\n",
       "      <td>...</td>\n",
       "      <td>...</td>\n",
       "      <td>...</td>\n",
       "      <td>...</td>\n",
       "      <td>...</td>\n",
       "      <td>...</td>\n",
       "      <td>...</td>\n",
       "      <td>...</td>\n",
       "      <td>...</td>\n",
       "      <td>...</td>\n",
       "      <td>...</td>\n",
       "      <td>...</td>\n",
       "      <td>...</td>\n",
       "      <td>...</td>\n",
       "    </tr>\n",
       "    <tr>\n",
       "      <td>65174</td>\n",
       "      <td>50.956329</td>\n",
       "      <td>6.961367</td>\n",
       "      <td>2020-01-29 16:46:03.386454</td>\n",
       "      <td>2020-01-29 19:06:02.448191</td>\n",
       "      <td>140.0</td>\n",
       "      <td>27393224</td>\n",
       "      <td>BIKE 22189</td>\n",
       "      <td>NaN</td>\n",
       "      <td>True</td>\n",
       "      <td>0</td>\n",
       "      <td>1</td>\n",
       "      <td>0</td>\n",
       "      <td>0</td>\n",
       "      <td>0</td>\n",
       "      <td>False</td>\n",
       "      <td>0</td>\n",
       "      <td>12</td>\n",
       "      <td>False</td>\n",
       "      <td>0</td>\n",
       "      <td>False</td>\n",
       "      <td>NaN</td>\n",
       "      <td>Köln</td>\n",
       "      <td>DE</td>\n",
       "      <td>Nextbike</td>\n",
       "      <td>Europe/Berlin</td>\n",
       "      <td>2620</td>\n",
       "    </tr>\n",
       "    <tr>\n",
       "      <td>65175</td>\n",
       "      <td>50.956544</td>\n",
       "      <td>6.960522</td>\n",
       "      <td>2020-01-29 20:49:02.999793</td>\n",
       "      <td>2020-01-30 19:05:02.312216</td>\n",
       "      <td>1336.0</td>\n",
       "      <td>27399233</td>\n",
       "      <td>BIKE 22189</td>\n",
       "      <td>NaN</td>\n",
       "      <td>True</td>\n",
       "      <td>0</td>\n",
       "      <td>1</td>\n",
       "      <td>0</td>\n",
       "      <td>0</td>\n",
       "      <td>0</td>\n",
       "      <td>False</td>\n",
       "      <td>0</td>\n",
       "      <td>12</td>\n",
       "      <td>False</td>\n",
       "      <td>0</td>\n",
       "      <td>False</td>\n",
       "      <td>NaN</td>\n",
       "      <td>Köln</td>\n",
       "      <td>DE</td>\n",
       "      <td>Nextbike</td>\n",
       "      <td>Europe/Berlin</td>\n",
       "      <td>2611</td>\n",
       "    </tr>\n",
       "    <tr>\n",
       "      <td>65176</td>\n",
       "      <td>50.954342</td>\n",
       "      <td>6.963644</td>\n",
       "      <td>2020-01-30 19:21:03.153910</td>\n",
       "      <td>2020-01-31 15:40:02.609916</td>\n",
       "      <td>1219.0</td>\n",
       "      <td>27422488</td>\n",
       "      <td>BIKE 22189</td>\n",
       "      <td>NaN</td>\n",
       "      <td>True</td>\n",
       "      <td>0</td>\n",
       "      <td>1</td>\n",
       "      <td>0</td>\n",
       "      <td>0</td>\n",
       "      <td>0</td>\n",
       "      <td>False</td>\n",
       "      <td>0</td>\n",
       "      <td>12</td>\n",
       "      <td>False</td>\n",
       "      <td>0</td>\n",
       "      <td>False</td>\n",
       "      <td>NaN</td>\n",
       "      <td>Köln</td>\n",
       "      <td>DE</td>\n",
       "      <td>Nextbike</td>\n",
       "      <td>Europe/Berlin</td>\n",
       "      <td>2619</td>\n",
       "    </tr>\n",
       "    <tr>\n",
       "      <td>65177</td>\n",
       "      <td>50.947149</td>\n",
       "      <td>6.922682</td>\n",
       "      <td>2020-01-31 15:57:02.645204</td>\n",
       "      <td>2020-01-31 16:52:03.247628</td>\n",
       "      <td>55.0</td>\n",
       "      <td>27443473</td>\n",
       "      <td>BIKE 22189</td>\n",
       "      <td>NaN</td>\n",
       "      <td>True</td>\n",
       "      <td>0</td>\n",
       "      <td>1</td>\n",
       "      <td>0</td>\n",
       "      <td>0</td>\n",
       "      <td>0</td>\n",
       "      <td>False</td>\n",
       "      <td>0</td>\n",
       "      <td>12</td>\n",
       "      <td>False</td>\n",
       "      <td>0</td>\n",
       "      <td>False</td>\n",
       "      <td>NaN</td>\n",
       "      <td>Köln</td>\n",
       "      <td>DE</td>\n",
       "      <td>Nextbike</td>\n",
       "      <td>Europe/Berlin</td>\n",
       "      <td>2612</td>\n",
       "    </tr>\n",
       "    <tr>\n",
       "      <td>65178</td>\n",
       "      <td>50.928276</td>\n",
       "      <td>6.963387</td>\n",
       "      <td>2020-01-31 17:31:02.996461</td>\n",
       "      <td>2020-01-31 23:59:03.293537</td>\n",
       "      <td>388.0</td>\n",
       "      <td>27446704</td>\n",
       "      <td>BIKE 22189</td>\n",
       "      <td>NaN</td>\n",
       "      <td>True</td>\n",
       "      <td>0</td>\n",
       "      <td>1</td>\n",
       "      <td>0</td>\n",
       "      <td>0</td>\n",
       "      <td>0</td>\n",
       "      <td>False</td>\n",
       "      <td>0</td>\n",
       "      <td>12</td>\n",
       "      <td>False</td>\n",
       "      <td>0</td>\n",
       "      <td>False</td>\n",
       "      <td>NaN</td>\n",
       "      <td>Köln</td>\n",
       "      <td>DE</td>\n",
       "      <td>Nextbike</td>\n",
       "      <td>Europe/Berlin</td>\n",
       "      <td>2630</td>\n",
       "    </tr>\n",
       "  </tbody>\n",
       "</table>\n",
       "<p>65179 rows × 26 columns</p>\n",
       "</div>"
      ],
      "text/plain": [
       "             lat       lng                  time_begin  \\\n",
       "0      50.965871  6.958885  2020-01-01 00:00:02.250239   \n",
       "1      50.967846  6.957729  2020-01-02 11:04:02.156789   \n",
       "2      50.966346  6.955552  2020-01-02 11:05:01.959077   \n",
       "3      50.962111  6.953751  2020-01-02 14:46:02.261764   \n",
       "4      50.962755  6.954006  2020-01-02 14:54:02.736863   \n",
       "...          ...       ...                         ...   \n",
       "65174  50.956329  6.961367  2020-01-29 16:46:03.386454   \n",
       "65175  50.956544  6.960522  2020-01-29 20:49:02.999793   \n",
       "65176  50.954342  6.963644  2020-01-30 19:21:03.153910   \n",
       "65177  50.947149  6.922682  2020-01-31 15:57:02.645204   \n",
       "65178  50.928276  6.963387  2020-01-31 17:31:02.996461   \n",
       "\n",
       "                         time_end  standing_time_minutes       uid  \\\n",
       "0      2020-01-02 08:33:01.862366                 1953.0  26502959   \n",
       "1      2020-01-02 11:04:02.156789                    0.0  26553268   \n",
       "2      2020-01-02 14:37:02.217892                  212.0  26554933   \n",
       "3      2020-01-02 14:53:02.574806                    7.0  26559553   \n",
       "4      2020-01-02 16:38:02.237953                  104.0  26559847   \n",
       "...                           ...                    ...       ...   \n",
       "65174  2020-01-29 19:06:02.448191                  140.0  27393224   \n",
       "65175  2020-01-30 19:05:02.312216                 1336.0  27399233   \n",
       "65176  2020-01-31 15:40:02.609916                 1219.0  27422488   \n",
       "65177  2020-01-31 16:52:03.247628                   55.0  27443473   \n",
       "65178  2020-01-31 23:59:03.293537                  388.0  27446704   \n",
       "\n",
       "             name address  bike bike_racks bikes booked_bikes free_racks  \\\n",
       "0      BIKE 22174     NaN  True          0     1            0          0   \n",
       "1      BIKE 22174     NaN  True          0     1            0          0   \n",
       "2      BIKE 22174     NaN  True          0     1            0          0   \n",
       "3      BIKE 22174     NaN  True          0     1            0          0   \n",
       "4      BIKE 22174     NaN  True          0     1            0          0   \n",
       "...           ...     ...   ...        ...   ...          ...        ...   \n",
       "65174  BIKE 22189     NaN  True          0     1            0          0   \n",
       "65175  BIKE 22189     NaN  True          0     1            0          0   \n",
       "65176  BIKE 22189     NaN  True          0     1            0          0   \n",
       "65177  BIKE 22189     NaN  True          0     1            0          0   \n",
       "65178  BIKE 22189     NaN  True          0     1            0          0   \n",
       "\n",
       "      free_special_racks maintenance number place_type rack_locks  \\\n",
       "0                      0       False      0         12      False   \n",
       "1                      0       False      0         12      False   \n",
       "2                      0       False      0         12      False   \n",
       "3                      0       False      0         12      False   \n",
       "4                      0       False      0         12      False   \n",
       "...                  ...         ...    ...        ...        ...   \n",
       "65174                  0       False      0         12      False   \n",
       "65175                  0       False      0         12      False   \n",
       "65176                  0       False      0         12      False   \n",
       "65177                  0       False      0         12      False   \n",
       "65178                  0       False      0         12      False   \n",
       "\n",
       "      special_racks   spot  terminal_type  city country_code   company  \\\n",
       "0                 0  False            NaN  Köln           DE  Nextbike   \n",
       "1                 0  False            NaN  Köln           DE  Nextbike   \n",
       "2                 0  False            NaN  Köln           DE  Nextbike   \n",
       "3                 0  False            NaN  Köln           DE  Nextbike   \n",
       "4                 0  False            NaN  Köln           DE  Nextbike   \n",
       "...             ...    ...            ...   ...          ...       ...   \n",
       "65174             0  False            NaN  Köln           DE  Nextbike   \n",
       "65175             0  False            NaN  Köln           DE  Nextbike   \n",
       "65176             0  False            NaN  Köln           DE  Nextbike   \n",
       "65177             0  False            NaN  Köln           DE  Nextbike   \n",
       "65178             0  False            NaN  Köln           DE  Nextbike   \n",
       "\n",
       "            timezone available_bikes  \n",
       "0      Europe/Berlin            2620  \n",
       "1      Europe/Berlin            2614  \n",
       "2      Europe/Berlin            2612  \n",
       "3      Europe/Berlin            2596  \n",
       "4      Europe/Berlin            2596  \n",
       "...              ...             ...  \n",
       "65174  Europe/Berlin            2620  \n",
       "65175  Europe/Berlin            2611  \n",
       "65176  Europe/Berlin            2619  \n",
       "65177  Europe/Berlin            2612  \n",
       "65178  Europe/Berlin            2630  \n",
       "\n",
       "[65179 rows x 26 columns]"
      ]
     },
     "execution_count": 20,
     "metadata": {},
     "output_type": "execute_result"
    }
   ],
   "source": [
    "new_df"
   ]
  },
  {
   "cell_type": "code",
   "execution_count": 21,
   "metadata": {},
   "outputs": [],
   "source": [
    "new_df.to_csv('processed_data_nextbike_2020-01cc.csv', sep=';', index=False) "
   ]
  },
  {
   "cell_type": "markdown",
   "metadata": {},
   "source": [
    "### Checking the data"
   ]
  },
  {
   "cell_type": "code",
   "execution_count": null,
   "metadata": {},
   "outputs": [],
   "source": [
    "single_uid = df[df['uid']== 26062537 ]\n",
    "single_uid"
   ]
  },
  {
   "cell_type": "code",
   "execution_count": null,
   "metadata": {},
   "outputs": [],
   "source": [
    "single_uid = new_df[new_df['uid']== 26062537 ]\n",
    "single_uid"
   ]
  },
  {
   "cell_type": "code",
   "execution_count": null,
   "metadata": {},
   "outputs": [],
   "source": [
    "new_df"
   ]
  },
  {
   "cell_type": "code",
   "execution_count": null,
   "metadata": {},
   "outputs": [],
   "source": [
    "uidsToList2 = new_df['uid'].tolist()\n",
    "uidsList2 = list(set(uidsToList))"
   ]
  },
  {
   "cell_type": "code",
   "execution_count": null,
   "metadata": {},
   "outputs": [],
   "source": [
    "len(uidsList2)"
   ]
  },
  {
   "cell_type": "code",
   "execution_count": null,
   "metadata": {},
   "outputs": [],
   "source": [
    "len(set(uidsList2))"
   ]
  },
  {
   "cell_type": "code",
   "execution_count": null,
   "metadata": {},
   "outputs": [],
   "source": [
    "new_df['standing_time_minutes'].value_counts(dropna=False)"
   ]
  },
  {
   "cell_type": "code",
   "execution_count": null,
   "metadata": {},
   "outputs": [],
   "source": [
    "quid= df[df['uid']==25690126]\n",
    "quid"
   ]
  },
  {
   "cell_type": "code",
   "execution_count": null,
   "metadata": {},
   "outputs": [],
   "source": []
  }
 ],
 "metadata": {
  "kernelspec": {
   "display_name": "Python 3",
   "language": "python",
   "name": "python3"
  },
  "language_info": {
   "codemirror_mode": {
    "name": "ipython",
    "version": 3
   },
   "file_extension": ".py",
   "mimetype": "text/x-python",
   "name": "python",
   "nbconvert_exporter": "python",
   "pygments_lexer": "ipython3",
   "version": "3.8.5"
  }
 },
 "nbformat": 4,
 "nbformat_minor": 2
}
