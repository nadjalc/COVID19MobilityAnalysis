{
 "cells": [
  {
   "cell_type": "code",
   "execution_count": 1,
   "metadata": {},
   "outputs": [],
   "source": [
    "import pandas as pd\n",
    "import glob"
   ]
  },
  {
   "cell_type": "code",
   "execution_count": 2,
   "metadata": {},
   "outputs": [],
   "source": [
    "all_files = glob.glob('./data_for_cleaning/*.csv')\n",
    "all_files.sort()"
   ]
  },
  {
   "cell_type": "code",
   "execution_count": 3,
   "metadata": {},
   "outputs": [
    {
     "data": {
      "text/plain": [
       "[]"
      ]
     },
     "execution_count": 3,
     "metadata": {},
     "output_type": "execute_result"
    }
   ],
   "source": [
    "all_files"
   ]
  },
  {
   "cell_type": "code",
   "execution_count": 4,
   "metadata": {},
   "outputs": [],
   "source": [
    "for file in all_files:\n",
    "    day_frame = pd.read_csv(file, index_col=None, header=0, sep= ';', low_memory=False)\n",
    "    day_name = file.split('/')[2]\n",
    "    \n",
    "    namesToList = day_frame['name'].tolist()\n",
    "    namesList = list(set(namesToList)) #created list of bikes\n",
    "    \n",
    "    latitude = 0\n",
    "    longitude = 0\n",
    "    \n",
    "    new_df = pd.DataFrame(columns= ['lat', 'lng', 'time_begin', 'time_end','uid', 'address', 'name', 'bike', 'bike_racks', 'bikes', \n",
    "                                'booked_bikes', 'free_racks', 'free_special_racks', 'maintenance', 'number', \n",
    "                                'place_type', 'rack_locks', 'special_racks', 'spot', 'terminal_type', 'city',\n",
    "                                'country_code', 'company', 'timezone', 'available_bikes'] ) #empty dataframe with the new column structure\n",
    "    \n",
    "    for name in namesList: #repeat for each bike/bike name\n",
    "        single_bike_records = day_frame[day_frame['name']==name] \n",
    "        #separating dataframe that has all the columns as day_frame but only for current bike\n",
    "\n",
    "        first_row_data = single_bike_records.iloc[0] #saving first row data\n",
    "        latitude, longitude = first_row_data['lat'], first_row_data['lng']\n",
    "        new_df = new_df.append({'lat' : latitude, 'lng' : longitude,\n",
    "                                'time_begin' : first_row_data['timestamp'], 'time_end' : 0,\n",
    "                                'address' : first_row_data['address'], 'bike' : first_row_data['bike'], \n",
    "                                'bike_racks' : first_row_data['bike_racks'], 'bikes' : first_row_data['bikes'], \n",
    "                                'booked_bikes' : first_row_data['booked_bikes'], 'free_racks' : first_row_data['free_racks'], \n",
    "                                'free_special_racks' : first_row_data['free_special_racks'],\n",
    "                                'maintenance' : first_row_data['maintenance'], 'name' : name, 'number' : first_row_data['number'], \n",
    "                                'place_type' : first_row_data['place_type'], 'rack_locks' : first_row_data['rack_locks'], \n",
    "                                'special_racks' : first_row_data['special_racks'], 'spot' : first_row_data['spot'], \n",
    "                                'terminal_type' : first_row_data['terminal_type'],'uid' : first_row_data['uid'], \n",
    "                                'city' : first_row_data['city'], \n",
    "                                'country_code' : first_row_data['country_code'], 'company' : first_row_data['company'], \n",
    "                                'timezone' : first_row_data['timezone'],\n",
    "                                'available_bikes' : first_row_data['available_bikes']}, ignore_index=True) \n",
    "                                #saving the first row for bike - first location\n",
    "        \n",
    "\n",
    "        for index, row in single_bike_records.iterrows(): #itteration trough rows- possible different locations of the bike\n",
    "            if latitude == row['lat'] and longitude == row['lng']:\n",
    "                new_df.iloc[-1, new_df.columns.get_loc('time_end')] = row['timestamp'] #setting a value for time_end \n",
    "                #updating the last_time that bike was on a current location as long as we dont find the change in lat and lng\n",
    "\n",
    "            else: #if we find the change in location\n",
    "                new_df = new_df.append({'uid' : row['uid'] , 'lat' : row['lat'], 'lng' : row['lng'],\n",
    "                                'time_begin' : row['timestamp'], 'time_end' : row['timestamp'],\n",
    "                                'address' : row['address'], 'bike' : row['bike'], \n",
    "                                'bike_racks' : row['bike_racks'], 'bikes' : row['bikes'], \n",
    "                                'booked_bikes' : row['booked_bikes'], 'free_racks' : row['free_racks'], \n",
    "                                'free_special_racks' : row['free_special_racks'], \n",
    "                                'maintenance' : row['maintenance'], 'name' : row['name'], 'number' : row['number'], \n",
    "                                'place_type' : row['place_type'], 'rack_locks' : row['rack_locks'], \n",
    "                                'special_racks' : row['special_racks'], 'spot' : row['spot'], \n",
    "                                'terminal_type' : row['terminal_type'], 'city' : row['city'], \n",
    "                                'country_code' : row['country_code'], 'company' : row['company'], \n",
    "                                'timezone' : row['timezone'],\n",
    "                                'available_bikes' : row['available_bikes']}, ignore_index=True) \n",
    "                #saving the new row if there is a change in location\n",
    "                latitude, longitude = row['lat'], row['lng'] #updating to new location, continue searching for changes\n",
    "                \n",
    "    out_folder = './out_data/'\n",
    "    new_df.to_csv(out_folder + day_name, sep=';', index=False) #saves each day file, one by one, when cleaning is finished "
   ]
  },
  {
   "cell_type": "code",
   "execution_count": null,
   "metadata": {},
   "outputs": [],
   "source": []
  }
 ],
 "metadata": {
  "kernelspec": {
   "display_name": "Python 3",
   "language": "python",
   "name": "python3"
  },
  "language_info": {
   "codemirror_mode": {
    "name": "ipython",
    "version": 3
   },
   "file_extension": ".py",
   "mimetype": "text/x-python",
   "name": "python",
   "nbconvert_exporter": "python",
   "pygments_lexer": "ipython3",
   "version": "3.8.5"
  }
 },
 "nbformat": 4,
 "nbformat_minor": 2
}
