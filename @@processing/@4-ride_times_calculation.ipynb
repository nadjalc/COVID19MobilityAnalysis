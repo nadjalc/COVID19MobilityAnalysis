{
 "cells": [
  {
   "cell_type": "code",
   "execution_count": 1,
   "metadata": {},
   "outputs": [],
   "source": [
    "import pandas as pd\n",
    "from datetime import datetime\n",
    "import time\n",
    "from itertools import islice"
   ]
  },
  {
   "cell_type": "code",
   "execution_count": 2,
   "metadata": {},
   "outputs": [],
   "source": [
    "def append_new_row(data_frame, row):\n",
    "    data_frame = data_frame.append({'lat_begin' : row['lat'], 'lng_begin' : row['lng'],\n",
    "                                'lat_end' : 0, 'lng_end' : 0,\n",
    "                                'ride_begin' : row['time_end'], 'ride_end' : 0,\n",
    "                                'ride_time_minutes' : 0,\n",
    "                                'uid_begin' : row['uid'], 'uid_end' : 0, 'standing_before_ride' : row['standing_time_minutes'],\n",
    "                                'name' : row['name'], 'address' : row['address'],\n",
    "                                'bike' : row['bike'], 'bike_racks' : row['bike_racks'], \n",
    "                                'bikes' : row['bikes'], 'booked_bikes' : row['booked_bikes'], \n",
    "                                'free_racks' : row['free_racks'], 'free_special_racks' : row['free_special_racks'],\n",
    "                                'maintenance' : row['maintenance'], 'number' : row['number'], \n",
    "                                'place_type' : row['place_type'], 'rack_locks' : row['rack_locks'],\n",
    "                                'special_racks' : row['special_racks'], 'spot' : row['spot'], \n",
    "                                'terminal_type' : row['terminal_type'], 'city' : row['city'],\n",
    "                                'country_code' : row['country_code'], 'company' : row['company'],\n",
    "                                'timezone' : row['timezone'],\n",
    "                                'available_bikes' : row['available_bikes']}, ignore_index=True)\n",
    "    return data_frame"
   ]
  },
  {
   "cell_type": "markdown",
   "metadata": {},
   "source": [
    "### Processes the data in order to create new column  'ride_time_minutes' \n",
    "\n",
    "#### As URL set one of the following:\n",
    "1. 'cleaned_data_nextbike_yy-mm.csv.gz' if you want to work with original cleaned data \n",
    "2. 'processed_data_nextbike_yy-mm.csv.gz' if you want to work with data that has GPS errors removed \n",
    "\n",
    "CHANGE NAME OF OUTPUT TO DESCRIBE THE CHOICE"
   ]
  },
  {
   "cell_type": "code",
   "execution_count": 3,
   "metadata": {},
   "outputs": [],
   "source": [
    "url = \"output_datasets/processed_data_nextbike_2020-07.csv.gz\"\n",
    "df = pd.read_csv(url, sep=';', low_memory=False)"
   ]
  },
  {
   "cell_type": "code",
   "execution_count": 4,
   "metadata": {},
   "outputs": [],
   "source": [
    "fmt = '%Y-%m-%d %H:%M:%S'"
   ]
  },
  {
   "cell_type": "code",
   "execution_count": 5,
   "metadata": {},
   "outputs": [],
   "source": [
    "pd.set_option('display.max_rows', None)"
   ]
  },
  {
   "cell_type": "code",
   "execution_count": 6,
   "metadata": {},
   "outputs": [
    {
     "data": {
      "text/plain": [
       "False"
      ]
     },
     "execution_count": 6,
     "metadata": {},
     "output_type": "execute_result"
    }
   ],
   "source": [
    "df[\"uid\"].duplicated().any() #checking if cleaning in notebook @3 was done - there should be no duplicates"
   ]
  },
  {
   "cell_type": "code",
   "execution_count": 7,
   "metadata": {},
   "outputs": [],
   "source": [
    "new_df = pd.DataFrame(columns= ['lat_begin', 'lng_begin', 'lat_end', 'lng_end', 'ride_begin', 'ride_end', 'ride_time_minutes', \n",
    "                                'uid_begin', 'uid_end', 'standing_before_ride', 'address', 'name', 'available_bikes', 'bike', 'bike_racks', 'bikes', \n",
    "                                'booked_bikes', 'free_racks', 'free_special_racks', 'maintenance', 'number', \n",
    "                                'place_type', 'rack_locks', 'special_racks', 'spot', 'terminal_type', 'city',\n",
    "                                'country_code', 'company', 'timezone'] ) #empty dataframe with the new column structure"
   ]
  },
  {
   "cell_type": "code",
   "execution_count": 8,
   "metadata": {},
   "outputs": [],
   "source": [
    "bikesToList = df['name'].tolist()\n",
    "bikesList = list(set(bikesToList))"
   ]
  },
  {
   "cell_type": "code",
   "execution_count": 9,
   "metadata": {},
   "outputs": [],
   "source": [
    "for name in bikesList: #repeat for each bike/bike name\n",
    "    single_bike_records = df[df['name']==name]\n",
    "    first_row_data = single_bike_records.iloc[0]\n",
    "    last_end_time = first_row_data['time_end']\n",
    "\n",
    "    new_df = append_new_row(new_df, first_row_data)\n",
    "\n",
    "    for index, row in islice(single_bike_records.iterrows(), 1, None):\n",
    "        t_begin = df['time_begin'][index].split('.')[0]\n",
    "        t_end_previous = last_end_time.split('.')[0]    \n",
    "\n",
    "        d1 = datetime.strptime(t_begin, fmt)\n",
    "        d2 = datetime.strptime(t_end_previous, fmt)\n",
    "\n",
    "        d1_ts = time.mktime(d1.timetuple())\n",
    "        d2_ts = time.mktime(d2.timetuple())\n",
    "\n",
    "        minsDiff = round((int(d1_ts-d2_ts) / 60), 0)\n",
    "\n",
    "        new_df.iloc[-1, new_df.columns.get_loc('ride_time_minutes')] = minsDiff\n",
    "        new_df.iloc[-1, new_df.columns.get_loc('lat_end')] = row['lat']\n",
    "        new_df.iloc[-1, new_df.columns.get_loc('lng_end')] = row['lng']\n",
    "        new_df.iloc[-1, new_df.columns.get_loc('ride_end')] = row['time_begin']\n",
    "        new_df.iloc[-1, new_df.columns.get_loc('uid_end')] = row['uid']\n",
    "\n",
    "        last_end_time = row['time_end']\n",
    "        \n",
    "        new_df = append_new_row(new_df, row)"
   ]
  },
  {
   "cell_type": "code",
   "execution_count": 10,
   "metadata": {},
   "outputs": [
    {
     "data": {
      "text/html": [
       "<div>\n",
       "<style scoped>\n",
       "    .dataframe tbody tr th:only-of-type {\n",
       "        vertical-align: middle;\n",
       "    }\n",
       "\n",
       "    .dataframe tbody tr th {\n",
       "        vertical-align: top;\n",
       "    }\n",
       "\n",
       "    .dataframe thead th {\n",
       "        text-align: right;\n",
       "    }\n",
       "</style>\n",
       "<table border=\"1\" class=\"dataframe\">\n",
       "  <thead>\n",
       "    <tr style=\"text-align: right;\">\n",
       "      <th></th>\n",
       "      <th>lat_begin</th>\n",
       "      <th>lng_begin</th>\n",
       "      <th>lat_end</th>\n",
       "      <th>lng_end</th>\n",
       "      <th>ride_begin</th>\n",
       "      <th>ride_end</th>\n",
       "      <th>ride_time_minutes</th>\n",
       "      <th>uid_begin</th>\n",
       "      <th>uid_end</th>\n",
       "      <th>standing_before_ride</th>\n",
       "      <th>...</th>\n",
       "      <th>number</th>\n",
       "      <th>place_type</th>\n",
       "      <th>rack_locks</th>\n",
       "      <th>special_racks</th>\n",
       "      <th>spot</th>\n",
       "      <th>terminal_type</th>\n",
       "      <th>city</th>\n",
       "      <th>country_code</th>\n",
       "      <th>company</th>\n",
       "      <th>timezone</th>\n",
       "    </tr>\n",
       "  </thead>\n",
       "  <tbody>\n",
       "    <tr>\n",
       "      <th>0</th>\n",
       "      <td>50.921618</td>\n",
       "      <td>6.933237</td>\n",
       "      <td>50.913</td>\n",
       "      <td>6.92249</td>\n",
       "      <td>2020-07-01 09:31:02.322428</td>\n",
       "      <td>2020-07-01 09:49:01.995455</td>\n",
       "      <td>18</td>\n",
       "      <td>31804315</td>\n",
       "      <td>31819860</td>\n",
       "      <td>571.0</td>\n",
       "      <td>...</td>\n",
       "      <td>0</td>\n",
       "      <td>12</td>\n",
       "      <td>False</td>\n",
       "      <td>0</td>\n",
       "      <td>False</td>\n",
       "      <td>NaN</td>\n",
       "      <td>Köln</td>\n",
       "      <td>DE</td>\n",
       "      <td>Nextbike</td>\n",
       "      <td>Europe/Berlin</td>\n",
       "    </tr>\n",
       "    <tr>\n",
       "      <th>1</th>\n",
       "      <td>50.913049</td>\n",
       "      <td>6.922490</td>\n",
       "      <td>50.9108</td>\n",
       "      <td>6.94197</td>\n",
       "      <td>2020-07-01 10:35:02.336121</td>\n",
       "      <td>2020-07-01 10:44:02.333799</td>\n",
       "      <td>9</td>\n",
       "      <td>31819860</td>\n",
       "      <td>31821838</td>\n",
       "      <td>46.0</td>\n",
       "      <td>...</td>\n",
       "      <td>0</td>\n",
       "      <td>12</td>\n",
       "      <td>False</td>\n",
       "      <td>0</td>\n",
       "      <td>False</td>\n",
       "      <td>NaN</td>\n",
       "      <td>Köln</td>\n",
       "      <td>DE</td>\n",
       "      <td>Nextbike</td>\n",
       "      <td>Europe/Berlin</td>\n",
       "    </tr>\n",
       "    <tr>\n",
       "      <th>2</th>\n",
       "      <td>50.910794</td>\n",
       "      <td>6.941967</td>\n",
       "      <td>50.9314</td>\n",
       "      <td>6.91823</td>\n",
       "      <td>2020-07-01 11:32:02.897704</td>\n",
       "      <td>2020-07-01 11:55:01.902627</td>\n",
       "      <td>23</td>\n",
       "      <td>31821838</td>\n",
       "      <td>31824497</td>\n",
       "      <td>48.0</td>\n",
       "      <td>...</td>\n",
       "      <td>0</td>\n",
       "      <td>12</td>\n",
       "      <td>False</td>\n",
       "      <td>0</td>\n",
       "      <td>False</td>\n",
       "      <td>NaN</td>\n",
       "      <td>Köln</td>\n",
       "      <td>DE</td>\n",
       "      <td>Nextbike</td>\n",
       "      <td>Europe/Berlin</td>\n",
       "    </tr>\n",
       "    <tr>\n",
       "      <th>3</th>\n",
       "      <td>50.931395</td>\n",
       "      <td>6.918226</td>\n",
       "      <td>50.9298</td>\n",
       "      <td>6.91381</td>\n",
       "      <td>2020-07-01 12:03:01.601807</td>\n",
       "      <td>2020-07-01 12:24:02.273590</td>\n",
       "      <td>21</td>\n",
       "      <td>31824497</td>\n",
       "      <td>31825694</td>\n",
       "      <td>8.0</td>\n",
       "      <td>...</td>\n",
       "      <td>0</td>\n",
       "      <td>12</td>\n",
       "      <td>False</td>\n",
       "      <td>0</td>\n",
       "      <td>False</td>\n",
       "      <td>NaN</td>\n",
       "      <td>Köln</td>\n",
       "      <td>DE</td>\n",
       "      <td>Nextbike</td>\n",
       "      <td>Europe/Berlin</td>\n",
       "    </tr>\n",
       "    <tr>\n",
       "      <th>4</th>\n",
       "      <td>50.929816</td>\n",
       "      <td>6.913806</td>\n",
       "      <td>50.9298</td>\n",
       "      <td>6.91362</td>\n",
       "      <td>2020-07-01 17:59:02.213975</td>\n",
       "      <td>2020-07-01 18:05:02.088433</td>\n",
       "      <td>6</td>\n",
       "      <td>31825694</td>\n",
       "      <td>31843292</td>\n",
       "      <td>335.0</td>\n",
       "      <td>...</td>\n",
       "      <td>0</td>\n",
       "      <td>12</td>\n",
       "      <td>False</td>\n",
       "      <td>0</td>\n",
       "      <td>False</td>\n",
       "      <td>NaN</td>\n",
       "      <td>Köln</td>\n",
       "      <td>DE</td>\n",
       "      <td>Nextbike</td>\n",
       "      <td>Europe/Berlin</td>\n",
       "    </tr>\n",
       "  </tbody>\n",
       "</table>\n",
       "<p>5 rows × 30 columns</p>\n",
       "</div>"
      ],
      "text/plain": [
       "   lat_begin  lng_begin  lat_end  lng_end                  ride_begin  \\\n",
       "0  50.921618   6.933237   50.913  6.92249  2020-07-01 09:31:02.322428   \n",
       "1  50.913049   6.922490  50.9108  6.94197  2020-07-01 10:35:02.336121   \n",
       "2  50.910794   6.941967  50.9314  6.91823  2020-07-01 11:32:02.897704   \n",
       "3  50.931395   6.918226  50.9298  6.91381  2020-07-01 12:03:01.601807   \n",
       "4  50.929816   6.913806  50.9298  6.91362  2020-07-01 17:59:02.213975   \n",
       "\n",
       "                     ride_end ride_time_minutes uid_begin   uid_end  \\\n",
       "0  2020-07-01 09:49:01.995455                18  31804315  31819860   \n",
       "1  2020-07-01 10:44:02.333799                 9  31819860  31821838   \n",
       "2  2020-07-01 11:55:01.902627                23  31821838  31824497   \n",
       "3  2020-07-01 12:24:02.273590                21  31824497  31825694   \n",
       "4  2020-07-01 18:05:02.088433                 6  31825694  31843292   \n",
       "\n",
       "   standing_before_ride  ... number place_type rack_locks special_racks  \\\n",
       "0                 571.0  ...      0         12      False             0   \n",
       "1                  46.0  ...      0         12      False             0   \n",
       "2                  48.0  ...      0         12      False             0   \n",
       "3                   8.0  ...      0         12      False             0   \n",
       "4                 335.0  ...      0         12      False             0   \n",
       "\n",
       "    spot terminal_type  city country_code   company       timezone  \n",
       "0  False           NaN  Köln           DE  Nextbike  Europe/Berlin  \n",
       "1  False           NaN  Köln           DE  Nextbike  Europe/Berlin  \n",
       "2  False           NaN  Köln           DE  Nextbike  Europe/Berlin  \n",
       "3  False           NaN  Köln           DE  Nextbike  Europe/Berlin  \n",
       "4  False           NaN  Köln           DE  Nextbike  Europe/Berlin  \n",
       "\n",
       "[5 rows x 30 columns]"
      ]
     },
     "execution_count": 10,
     "metadata": {},
     "output_type": "execute_result"
    }
   ],
   "source": [
    "new_df.head()"
   ]
  },
  {
   "cell_type": "markdown",
   "metadata": {},
   "source": [
    "###  Prevous code assignes 0 values to some features that should be updated trough itteration to contain acctual end values of one ride.\n",
    "### As a result for each bike there will be one extra row that has not updated values, meaning itteration has reached the end for selected bike and 0 values were not updated. \n",
    "### In the following cells we check for rows like that - idealy number of rows shoud match number of bikes"
   ]
  },
  {
   "cell_type": "code",
   "execution_count": null,
   "metadata": {},
   "outputs": [],
   "source": [
    "control_df = new_df[new_df['ride_end'] == 0]\n",
    "control_df"
   ]
  },
  {
   "cell_type": "code",
   "execution_count": null,
   "metadata": {},
   "outputs": [],
   "source": [
    "len(bikesList)"
   ]
  },
  {
   "cell_type": "code",
   "execution_count": null,
   "metadata": {},
   "outputs": [],
   "source": [
    "incorrect_indexes = list(control_df.index.values)\n",
    "len(incorrect_indexes)"
   ]
  },
  {
   "cell_type": "code",
   "execution_count": null,
   "metadata": {},
   "outputs": [],
   "source": [
    "for i in incorrect_indexes:\n",
    "    if i in new_df.index.values:\n",
    "        new_df.drop(i, inplace=True)\n",
    "    "
   ]
  },
  {
   "cell_type": "code",
   "execution_count": null,
   "metadata": {},
   "outputs": [],
   "source": [
    "new_df = new_df.reset_index()"
   ]
  },
  {
   "cell_type": "code",
   "execution_count": null,
   "metadata": {},
   "outputs": [],
   "source": [
    "new_df.drop(['index'], axis=1)"
   ]
  },
  {
   "cell_type": "code",
   "execution_count": null,
   "metadata": {},
   "outputs": [],
   "source": [
    "new_df['ride_time_minutes'].value_counts(dropna=False)"
   ]
  },
  {
   "cell_type": "code",
   "execution_count": null,
   "metadata": {},
   "outputs": [],
   "source": [
    "single_bike = df[df['name']== 'BIKE 21423' ]\n",
    "single_bike"
   ]
  },
  {
   "cell_type": "code",
   "execution_count": null,
   "metadata": {},
   "outputs": [],
   "source": [
    "single_bike_new = new_df[new_df['name']== 'BIKE 21423' ]\n",
    "single_bike_new"
   ]
  },
  {
   "cell_type": "code",
   "execution_count": null,
   "metadata": {},
   "outputs": [],
   "source": [
    "new_df.to_csv('rides_table_nextbike_2020-06.csv', sep=';', index=False) "
   ]
  }
 ],
 "metadata": {
  "kernelspec": {
   "display_name": "Python 3",
   "language": "python",
   "name": "python3"
  },
  "language_info": {
   "codemirror_mode": {
    "name": "ipython",
    "version": 3
   },
   "file_extension": ".py",
   "mimetype": "text/x-python",
   "name": "python",
   "nbconvert_exporter": "python",
   "pygments_lexer": "ipython3",
   "version": "3.8.5"
  }
 },
 "nbformat": 4,
 "nbformat_minor": 2
}
