{
 "cells": [
  {
   "cell_type": "code",
   "execution_count": 1,
   "metadata": {},
   "outputs": [],
   "source": [
    "import pandas as pd\n",
    "import math as mt\n",
    "import seaborn as sns\n",
    "import matplotlib.pyplot as plt\n",
    "%matplotlib inline\n",
    "import statistics\n",
    "from itertools import islice"
   ]
  },
  {
   "cell_type": "code",
   "execution_count": 2,
   "metadata": {},
   "outputs": [],
   "source": [
    "from pylab import rcParams\n",
    "rcParams['figure.figsize'] = 16, 9"
   ]
  },
  {
   "cell_type": "code",
   "execution_count": 3,
   "metadata": {},
   "outputs": [],
   "source": [
    "url = \"processed_data_nextbike_2020-06cc.csv\"\n",
    "df = pd.read_csv(url, sep=';', low_memory=False)"
   ]
  },
  {
   "cell_type": "code",
   "execution_count": 4,
   "metadata": {},
   "outputs": [],
   "source": [
    "pd.set_option('display.max_rows()', None)"
   ]
  },
  {
   "cell_type": "markdown",
   "metadata": {},
   "source": [
    "#### Function for limiting possible lengths of distances to 2500meters in order to work with one part of data without extreme values"
   ]
  },
  {
   "cell_type": "code",
   "execution_count": 4,
   "metadata": {},
   "outputs": [],
   "source": [
    "def drop_duplicates(l):\n",
    "    '''Droping duplicates from a list while maintaining order'''\n",
    "    seen = set()\n",
    "    seen_add = seen.add\n",
    "    return [x for x in l if not (x in seen or seen_add(x))]"
   ]
  },
  {
   "cell_type": "code",
   "execution_count": 5,
   "metadata": {},
   "outputs": [],
   "source": [
    "def short_list(time):\n",
    "    return [x for x in sr[time] if x < 2500]"
   ]
  },
  {
   "cell_type": "code",
   "execution_count": 8,
   "metadata": {},
   "outputs": [],
   "source": [
    "#df = df.drop(['bike', 'bike_racks', 'bikes', 'booked_bikes', 'free_racks', 'free_special_racks', 'maintenance', 'number', \n",
    "#              'place_type', 'rack_locks', 'special_racks', 'spot', 'terminal_type', 'city',\n",
    "#              'country_code', 'company', 'timezone', 'available_bikes'], axis=1)"
   ]
  },
  {
   "cell_type": "code",
   "execution_count": 6,
   "metadata": {},
   "outputs": [
    {
     "data": {
      "text/html": [
       "<div>\n",
       "<style scoped>\n",
       "    .dataframe tbody tr th:only-of-type {\n",
       "        vertical-align: middle;\n",
       "    }\n",
       "\n",
       "    .dataframe tbody tr th {\n",
       "        vertical-align: top;\n",
       "    }\n",
       "\n",
       "    .dataframe thead th {\n",
       "        text-align: right;\n",
       "    }\n",
       "</style>\n",
       "<table border=\"1\" class=\"dataframe\">\n",
       "  <thead>\n",
       "    <tr style=\"text-align: right;\">\n",
       "      <th></th>\n",
       "      <th>lat</th>\n",
       "      <th>lng</th>\n",
       "      <th>time_begin</th>\n",
       "      <th>time_end</th>\n",
       "      <th>standing_time_minutes</th>\n",
       "      <th>uid</th>\n",
       "      <th>name</th>\n",
       "      <th>address</th>\n",
       "      <th>bike</th>\n",
       "      <th>bike_racks</th>\n",
       "      <th>...</th>\n",
       "      <th>place_type</th>\n",
       "      <th>rack_locks</th>\n",
       "      <th>special_racks</th>\n",
       "      <th>spot</th>\n",
       "      <th>terminal_type</th>\n",
       "      <th>city</th>\n",
       "      <th>country_code</th>\n",
       "      <th>company</th>\n",
       "      <th>timezone</th>\n",
       "      <th>available_bikes</th>\n",
       "    </tr>\n",
       "  </thead>\n",
       "  <tbody>\n",
       "    <tr>\n",
       "      <th>0</th>\n",
       "      <td>50.933660</td>\n",
       "      <td>6.934702</td>\n",
       "      <td>2020-06-01 00:00:02.340680</td>\n",
       "      <td>2020-06-01 00:58:02.478003</td>\n",
       "      <td>58.0</td>\n",
       "      <td>30462152</td>\n",
       "      <td>BIKE 22740</td>\n",
       "      <td>NaN</td>\n",
       "      <td>True</td>\n",
       "      <td>0</td>\n",
       "      <td>...</td>\n",
       "      <td>12</td>\n",
       "      <td>False</td>\n",
       "      <td>0</td>\n",
       "      <td>False</td>\n",
       "      <td>NaN</td>\n",
       "      <td>Köln</td>\n",
       "      <td>DE</td>\n",
       "      <td>Nextbike</td>\n",
       "      <td>Europe/Berlin</td>\n",
       "      <td>1058</td>\n",
       "    </tr>\n",
       "    <tr>\n",
       "      <th>1</th>\n",
       "      <td>50.956013</td>\n",
       "      <td>6.930739</td>\n",
       "      <td>2020-06-01 03:50:01.887992</td>\n",
       "      <td>2020-06-01 12:51:02.242190</td>\n",
       "      <td>541.0</td>\n",
       "      <td>30472458</td>\n",
       "      <td>BIKE 22740</td>\n",
       "      <td>NaN</td>\n",
       "      <td>True</td>\n",
       "      <td>0</td>\n",
       "      <td>...</td>\n",
       "      <td>12</td>\n",
       "      <td>False</td>\n",
       "      <td>0</td>\n",
       "      <td>False</td>\n",
       "      <td>NaN</td>\n",
       "      <td>Köln</td>\n",
       "      <td>DE</td>\n",
       "      <td>Nextbike</td>\n",
       "      <td>Europe/Berlin</td>\n",
       "      <td>1059</td>\n",
       "    </tr>\n",
       "    <tr>\n",
       "      <th>2</th>\n",
       "      <td>50.963772</td>\n",
       "      <td>6.926052</td>\n",
       "      <td>2020-06-01 13:25:02.620637</td>\n",
       "      <td>2020-06-01 15:59:02.217934</td>\n",
       "      <td>154.0</td>\n",
       "      <td>30482511</td>\n",
       "      <td>BIKE 22740</td>\n",
       "      <td>NaN</td>\n",
       "      <td>True</td>\n",
       "      <td>0</td>\n",
       "      <td>...</td>\n",
       "      <td>12</td>\n",
       "      <td>False</td>\n",
       "      <td>0</td>\n",
       "      <td>False</td>\n",
       "      <td>NaN</td>\n",
       "      <td>Köln</td>\n",
       "      <td>DE</td>\n",
       "      <td>Nextbike</td>\n",
       "      <td>Europe/Berlin</td>\n",
       "      <td>1050</td>\n",
       "    </tr>\n",
       "    <tr>\n",
       "      <th>3</th>\n",
       "      <td>50.964657</td>\n",
       "      <td>6.929327</td>\n",
       "      <td>2020-06-01 20:46:02.362104</td>\n",
       "      <td>2020-06-01 20:46:02.362104</td>\n",
       "      <td>0.0</td>\n",
       "      <td>30508458</td>\n",
       "      <td>BIKE 22740</td>\n",
       "      <td>NaN</td>\n",
       "      <td>True</td>\n",
       "      <td>0</td>\n",
       "      <td>...</td>\n",
       "      <td>12</td>\n",
       "      <td>False</td>\n",
       "      <td>0</td>\n",
       "      <td>False</td>\n",
       "      <td>NaN</td>\n",
       "      <td>Köln</td>\n",
       "      <td>DE</td>\n",
       "      <td>Nextbike</td>\n",
       "      <td>Europe/Berlin</td>\n",
       "      <td>1059</td>\n",
       "    </tr>\n",
       "    <tr>\n",
       "      <th>4</th>\n",
       "      <td>50.954216</td>\n",
       "      <td>6.926643</td>\n",
       "      <td>2020-06-01 21:04:01.714219</td>\n",
       "      <td>2020-06-02 08:21:02.109542</td>\n",
       "      <td>677.0</td>\n",
       "      <td>30509507</td>\n",
       "      <td>BIKE 22740</td>\n",
       "      <td>NaN</td>\n",
       "      <td>True</td>\n",
       "      <td>0</td>\n",
       "      <td>...</td>\n",
       "      <td>12</td>\n",
       "      <td>False</td>\n",
       "      <td>0</td>\n",
       "      <td>False</td>\n",
       "      <td>NaN</td>\n",
       "      <td>Köln</td>\n",
       "      <td>DE</td>\n",
       "      <td>Nextbike</td>\n",
       "      <td>Europe/Berlin</td>\n",
       "      <td>1060</td>\n",
       "    </tr>\n",
       "  </tbody>\n",
       "</table>\n",
       "<p>5 rows × 26 columns</p>\n",
       "</div>"
      ],
      "text/plain": [
       "         lat       lng                  time_begin  \\\n",
       "0  50.933660  6.934702  2020-06-01 00:00:02.340680   \n",
       "1  50.956013  6.930739  2020-06-01 03:50:01.887992   \n",
       "2  50.963772  6.926052  2020-06-01 13:25:02.620637   \n",
       "3  50.964657  6.929327  2020-06-01 20:46:02.362104   \n",
       "4  50.954216  6.926643  2020-06-01 21:04:01.714219   \n",
       "\n",
       "                     time_end  standing_time_minutes       uid        name  \\\n",
       "0  2020-06-01 00:58:02.478003                   58.0  30462152  BIKE 22740   \n",
       "1  2020-06-01 12:51:02.242190                  541.0  30472458  BIKE 22740   \n",
       "2  2020-06-01 15:59:02.217934                  154.0  30482511  BIKE 22740   \n",
       "3  2020-06-01 20:46:02.362104                    0.0  30508458  BIKE 22740   \n",
       "4  2020-06-02 08:21:02.109542                  677.0  30509507  BIKE 22740   \n",
       "\n",
       "  address  bike  bike_racks  ...  place_type  rack_locks  special_racks  \\\n",
       "0     NaN  True           0  ...          12       False              0   \n",
       "1     NaN  True           0  ...          12       False              0   \n",
       "2     NaN  True           0  ...          12       False              0   \n",
       "3     NaN  True           0  ...          12       False              0   \n",
       "4     NaN  True           0  ...          12       False              0   \n",
       "\n",
       "    spot  terminal_type  city  country_code   company       timezone  \\\n",
       "0  False            NaN  Köln            DE  Nextbike  Europe/Berlin   \n",
       "1  False            NaN  Köln            DE  Nextbike  Europe/Berlin   \n",
       "2  False            NaN  Köln            DE  Nextbike  Europe/Berlin   \n",
       "3  False            NaN  Köln            DE  Nextbike  Europe/Berlin   \n",
       "4  False            NaN  Köln            DE  Nextbike  Europe/Berlin   \n",
       "\n",
       "   available_bikes  \n",
       "0             1058  \n",
       "1             1059  \n",
       "2             1050  \n",
       "3             1059  \n",
       "4             1060  \n",
       "\n",
       "[5 rows x 26 columns]"
      ]
     },
     "execution_count": 6,
     "metadata": {},
     "output_type": "execute_result"
    }
   ],
   "source": [
    "df.head()"
   ]
  },
  {
   "cell_type": "code",
   "execution_count": 7,
   "metadata": {},
   "outputs": [
    {
     "data": {
      "text/plain": [
       "False"
      ]
     },
     "execution_count": 7,
     "metadata": {},
     "output_type": "execute_result"
    }
   ],
   "source": [
    "df[\"uid\"].duplicated().any()"
   ]
  },
  {
   "cell_type": "code",
   "execution_count": 31,
   "metadata": {},
   "outputs": [],
   "source": [
    "previous_index = overview_list[0]\n",
    "list_of_suspicious_indexes = []\n",
    "for index,row in islice(df_suspicious_indexes.iterrows(), 1, None):\n",
    "    if (row['distance'] == previous_distance):\n",
    "        list_of_suspicious_indexes.append(previous_index)\n",
    "        list_of_suspicious_indexes.append(index)\n",
    "        \n",
    "    previous_index = index\n",
    "    previous_distance = row['distance']"
   ]
  },
  {
   "cell_type": "code",
   "execution_count": 32,
   "metadata": {},
   "outputs": [
    {
     "data": {
      "text/plain": [
       "[388, 389, 56136, 56137]"
      ]
     },
     "execution_count": 32,
     "metadata": {},
     "output_type": "execute_result"
    }
   ],
   "source": [
    "list_of_suspicious_indexes"
   ]
  },
  {
   "cell_type": "code",
   "execution_count": null,
   "metadata": {},
   "outputs": [],
   "source": [
    "df"
   ]
  },
  {
   "cell_type": "code",
   "execution_count": null,
   "metadata": {},
   "outputs": [],
   "source": [
    "df_no_adr = df.drop(overview_list, axis=0)\n",
    "df_no_adr.reset_index(inplace=True)\n",
    "df_no_adr.drop('index', axis=1, inplace=True)"
   ]
  },
  {
   "cell_type": "code",
   "execution_count": null,
   "metadata": {},
   "outputs": [],
   "source": [
    "for index,row in df_no_adr.iterrows():\n",
    "    if row['distance'] > 20000:\n",
    "        print(index)"
   ]
  },
  {
   "cell_type": "code",
   "execution_count": null,
   "metadata": {},
   "outputs": [],
   "source": [
    "df_no_adr.loc[28761]"
   ]
  },
  {
   "cell_type": "code",
   "execution_count": null,
   "metadata": {},
   "outputs": [],
   "source": [
    "single_bike = df_no_adr[df_no_adr['name']== 'BIKE 21729' ]\n",
    "single_bike.head()"
   ]
  },
  {
   "cell_type": "code",
   "execution_count": null,
   "metadata": {},
   "outputs": [],
   "source": [
    "single_bike = df_no_adr[df_no_adr['name']== 'BIKE 22447' ]\n",
    "single_bike"
   ]
  },
  {
   "cell_type": "code",
   "execution_count": null,
   "metadata": {},
   "outputs": [],
   "source": [
    "out_of_cologne = single_bike.index"
   ]
  },
  {
   "cell_type": "code",
   "execution_count": null,
   "metadata": {},
   "outputs": [],
   "source": [
    "out_of_cologne"
   ]
  },
  {
   "cell_type": "code",
   "execution_count": null,
   "metadata": {},
   "outputs": [],
   "source": [
    "df_no_adr = df_no_adr.drop(out_of_cologne, axis=0)\n",
    "df_no_adr.reset_index(inplace=True)\n",
    "df_no_adr.drop('index', axis=1, inplace=True)"
   ]
  },
  {
   "cell_type": "code",
   "execution_count": null,
   "metadata": {},
   "outputs": [],
   "source": [
    "large_travels = []\n",
    "for index, row in df_no_adr.iterrows():\n",
    "    if row['ride_time_minutes'] > 2880:\n",
    "        large_travels.append(index)"
   ]
  },
  {
   "cell_type": "code",
   "execution_count": null,
   "metadata": {},
   "outputs": [],
   "source": [
    "len(large_travels)"
   ]
  },
  {
   "cell_type": "code",
   "execution_count": null,
   "metadata": {},
   "outputs": [],
   "source": [
    "df_no_adr = df_no_adr.drop(large_travels, axis=0)\n",
    "df_no_adr.reset_index(inplace=True)\n",
    "df_no_adr.drop('index', axis=1, inplace=True)"
   ]
  },
  {
   "cell_type": "code",
   "execution_count": null,
   "metadata": {},
   "outputs": [],
   "source": [
    "df_no_adr.to_csv('prefin_data_nextbike_2020-06cc.csv', sep=';', index=False) "
   ]
  },
  {
   "cell_type": "markdown",
   "metadata": {},
   "source": [
    "### -Grouping distances by ride time\n",
    "#### -Saving the result of groupng into Series "
   ]
  },
  {
   "cell_type": "code",
   "execution_count": null,
   "metadata": {},
   "outputs": [],
   "source": [
    "sr= df_no_adr.groupby('ride_time_minutes')['distance'].apply(list) "
   ]
  },
  {
   "cell_type": "code",
   "execution_count": null,
   "metadata": {},
   "outputs": [],
   "source": [
    "sr"
   ]
  },
  {
   "cell_type": "markdown",
   "metadata": {},
   "source": [
    "#### -Saving the result of groupng into DataFrame"
   ]
  },
  {
   "cell_type": "code",
   "execution_count": null,
   "metadata": {},
   "outputs": [],
   "source": [
    "distances_df = sr.to_frame() #if data is needed in a DataFrame instead of Series for visualization"
   ]
  },
  {
   "cell_type": "code",
   "execution_count": null,
   "metadata": {},
   "outputs": [],
   "source": [
    "distances_df"
   ]
  },
  {
   "cell_type": "code",
   "execution_count": null,
   "metadata": {},
   "outputs": [],
   "source": [
    "max(distances_df.loc[1][\"distance\"])"
   ]
  }
 ],
 "metadata": {
  "kernelspec": {
   "display_name": "Python 3",
   "language": "python",
   "name": "python3"
  },
  "language_info": {
   "codemirror_mode": {
    "name": "ipython",
    "version": 3
   },
   "file_extension": ".py",
   "mimetype": "text/x-python",
   "name": "python",
   "nbconvert_exporter": "python",
   "pygments_lexer": "ipython3",
   "version": "3.8.5"
  }
 },
 "nbformat": 4,
 "nbformat_minor": 2
}
