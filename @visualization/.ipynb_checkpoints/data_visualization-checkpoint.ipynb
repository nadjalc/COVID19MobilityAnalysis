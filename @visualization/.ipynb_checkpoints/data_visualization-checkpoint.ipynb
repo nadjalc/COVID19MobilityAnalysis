{
 "cells": [
  {
   "cell_type": "code",
   "execution_count": 2,
   "metadata": {},
   "outputs": [],
   "source": [
    "import pandas as pd\n",
    "import seaborn as sns\n",
    "import matplotlib.pyplot as plt\n",
    "%matplotlib inline\n",
    "import statistics"
   ]
  },
  {
   "cell_type": "code",
   "execution_count": 3,
   "metadata": {},
   "outputs": [],
   "source": [
    "from pylab import rcParams\n",
    "rcParams['figure.figsize'] = 16, 9"
   ]
  },
  {
   "cell_type": "code",
   "execution_count": 4,
   "metadata": {},
   "outputs": [],
   "source": [
    "url = \"distance_and_ride_time_data_nextbike_2019-12.csv.gz\"\n",
    "df = pd.read_csv(url, sep=';', low_memory=False)"
   ]
  },
  {
   "cell_type": "code",
   "execution_count": 5,
   "metadata": {},
   "outputs": [],
   "source": [
    "pd.set_option('display.max_columns', None)"
   ]
  },
  {
   "cell_type": "markdown",
   "metadata": {},
   "source": [
    "#### Function for limiting possible lengths of distances to 2500meters in order to work with one part of data without extreme values"
   ]
  },
  {
   "cell_type": "code",
   "execution_count": 25,
   "metadata": {},
   "outputs": [],
   "source": [
    "def short_list(time):\n",
    "    return [x for x in sr[time] if x < 2500]"
   ]
  },
  {
   "cell_type": "code",
   "execution_count": 6,
   "metadata": {},
   "outputs": [
    {
     "data": {
      "text/html": [
       "<div>\n",
       "<style scoped>\n",
       "    .dataframe tbody tr th:only-of-type {\n",
       "        vertical-align: middle;\n",
       "    }\n",
       "\n",
       "    .dataframe tbody tr th {\n",
       "        vertical-align: top;\n",
       "    }\n",
       "\n",
       "    .dataframe thead th {\n",
       "        text-align: right;\n",
       "    }\n",
       "</style>\n",
       "<table border=\"1\" class=\"dataframe\">\n",
       "  <thead>\n",
       "    <tr style=\"text-align: right;\">\n",
       "      <th></th>\n",
       "      <th>lat_begin</th>\n",
       "      <th>lng_begin</th>\n",
       "      <th>lat_end</th>\n",
       "      <th>lng_end</th>\n",
       "      <th>ride_begin</th>\n",
       "      <th>ride_end</th>\n",
       "      <th>ride_time_minutes</th>\n",
       "      <th>distance</th>\n",
       "      <th>uid_begin</th>\n",
       "      <th>uid_end</th>\n",
       "      <th>address</th>\n",
       "      <th>name</th>\n",
       "      <th>bike</th>\n",
       "      <th>bike_racks</th>\n",
       "      <th>bikes</th>\n",
       "      <th>booked_bikes</th>\n",
       "      <th>free_racks</th>\n",
       "      <th>free_special_racks</th>\n",
       "      <th>maintenance</th>\n",
       "      <th>number</th>\n",
       "      <th>place_type</th>\n",
       "      <th>rack_locks</th>\n",
       "      <th>special_racks</th>\n",
       "      <th>spot</th>\n",
       "      <th>terminal_type</th>\n",
       "      <th>city</th>\n",
       "      <th>country_code</th>\n",
       "      <th>company</th>\n",
       "      <th>timezone</th>\n",
       "      <th>available_bikes</th>\n",
       "    </tr>\n",
       "  </thead>\n",
       "  <tbody>\n",
       "    <tr>\n",
       "      <td>0</td>\n",
       "      <td>50.913779</td>\n",
       "      <td>6.962233</td>\n",
       "      <td>50.912295</td>\n",
       "      <td>6.944296</td>\n",
       "      <td>2019-12-05 11:00:02.469638</td>\n",
       "      <td>2019-12-05 11:46:02.169357</td>\n",
       "      <td>46.0</td>\n",
       "      <td>1269.0</td>\n",
       "      <td>25392185</td>\n",
       "      <td>25663133</td>\n",
       "      <td>NaN</td>\n",
       "      <td>BIKE 21295</td>\n",
       "      <td>True</td>\n",
       "      <td>0</td>\n",
       "      <td>1</td>\n",
       "      <td>0</td>\n",
       "      <td>0</td>\n",
       "      <td>0</td>\n",
       "      <td>False</td>\n",
       "      <td>0</td>\n",
       "      <td>12</td>\n",
       "      <td>False</td>\n",
       "      <td>0</td>\n",
       "      <td>False</td>\n",
       "      <td>NaN</td>\n",
       "      <td>Köln</td>\n",
       "      <td>DE</td>\n",
       "      <td>Nextbike</td>\n",
       "      <td>Europe/Berlin</td>\n",
       "      <td>2623</td>\n",
       "    </tr>\n",
       "    <tr>\n",
       "      <td>1</td>\n",
       "      <td>50.912295</td>\n",
       "      <td>6.944296</td>\n",
       "      <td>50.924901</td>\n",
       "      <td>6.933871</td>\n",
       "      <td>2019-12-06 09:40:03.021306</td>\n",
       "      <td>2019-12-06 09:58:02.307276</td>\n",
       "      <td>18.0</td>\n",
       "      <td>1581.0</td>\n",
       "      <td>25663133</td>\n",
       "      <td>25699710</td>\n",
       "      <td>NaN</td>\n",
       "      <td>BIKE 21295</td>\n",
       "      <td>True</td>\n",
       "      <td>0</td>\n",
       "      <td>1</td>\n",
       "      <td>0</td>\n",
       "      <td>0</td>\n",
       "      <td>0</td>\n",
       "      <td>False</td>\n",
       "      <td>0</td>\n",
       "      <td>12</td>\n",
       "      <td>False</td>\n",
       "      <td>0</td>\n",
       "      <td>False</td>\n",
       "      <td>NaN</td>\n",
       "      <td>Köln</td>\n",
       "      <td>DE</td>\n",
       "      <td>Nextbike</td>\n",
       "      <td>Europe/Berlin</td>\n",
       "      <td>2616</td>\n",
       "    </tr>\n",
       "    <tr>\n",
       "      <td>2</td>\n",
       "      <td>50.924901</td>\n",
       "      <td>6.933871</td>\n",
       "      <td>50.928389</td>\n",
       "      <td>6.936747</td>\n",
       "      <td>2019-12-06 10:39:02.291524</td>\n",
       "      <td>2019-12-06 11:27:02.388595</td>\n",
       "      <td>48.0</td>\n",
       "      <td>437.0</td>\n",
       "      <td>25699710</td>\n",
       "      <td>25702347</td>\n",
       "      <td>NaN</td>\n",
       "      <td>BIKE 21295</td>\n",
       "      <td>True</td>\n",
       "      <td>0</td>\n",
       "      <td>1</td>\n",
       "      <td>0</td>\n",
       "      <td>0</td>\n",
       "      <td>0</td>\n",
       "      <td>False</td>\n",
       "      <td>0</td>\n",
       "      <td>12</td>\n",
       "      <td>False</td>\n",
       "      <td>0</td>\n",
       "      <td>False</td>\n",
       "      <td>NaN</td>\n",
       "      <td>Köln</td>\n",
       "      <td>DE</td>\n",
       "      <td>Nextbike</td>\n",
       "      <td>Europe/Berlin</td>\n",
       "      <td>2622</td>\n",
       "    </tr>\n",
       "    <tr>\n",
       "      <td>3</td>\n",
       "      <td>50.928389</td>\n",
       "      <td>6.936747</td>\n",
       "      <td>50.928076</td>\n",
       "      <td>6.928903</td>\n",
       "      <td>2019-12-06 17:44:02.107092</td>\n",
       "      <td>2019-12-06 17:54:03.147127</td>\n",
       "      <td>10.0</td>\n",
       "      <td>551.0</td>\n",
       "      <td>25702347</td>\n",
       "      <td>25714871</td>\n",
       "      <td>NaN</td>\n",
       "      <td>BIKE 21295</td>\n",
       "      <td>True</td>\n",
       "      <td>0</td>\n",
       "      <td>1</td>\n",
       "      <td>0</td>\n",
       "      <td>0</td>\n",
       "      <td>0</td>\n",
       "      <td>False</td>\n",
       "      <td>0</td>\n",
       "      <td>12</td>\n",
       "      <td>False</td>\n",
       "      <td>0</td>\n",
       "      <td>False</td>\n",
       "      <td>NaN</td>\n",
       "      <td>Köln</td>\n",
       "      <td>DE</td>\n",
       "      <td>Nextbike</td>\n",
       "      <td>Europe/Berlin</td>\n",
       "      <td>2620</td>\n",
       "    </tr>\n",
       "    <tr>\n",
       "      <td>4</td>\n",
       "      <td>50.928076</td>\n",
       "      <td>6.928903</td>\n",
       "      <td>50.920755</td>\n",
       "      <td>6.933416</td>\n",
       "      <td>2019-12-06 18:20:02.671104</td>\n",
       "      <td>2019-12-06 18:28:02.793480</td>\n",
       "      <td>8.0</td>\n",
       "      <td>874.0</td>\n",
       "      <td>25714871</td>\n",
       "      <td>25715910</td>\n",
       "      <td>NaN</td>\n",
       "      <td>BIKE 21295</td>\n",
       "      <td>True</td>\n",
       "      <td>0</td>\n",
       "      <td>1</td>\n",
       "      <td>0</td>\n",
       "      <td>0</td>\n",
       "      <td>0</td>\n",
       "      <td>False</td>\n",
       "      <td>0</td>\n",
       "      <td>12</td>\n",
       "      <td>False</td>\n",
       "      <td>0</td>\n",
       "      <td>False</td>\n",
       "      <td>NaN</td>\n",
       "      <td>Köln</td>\n",
       "      <td>DE</td>\n",
       "      <td>Nextbike</td>\n",
       "      <td>Europe/Berlin</td>\n",
       "      <td>2576</td>\n",
       "    </tr>\n",
       "  </tbody>\n",
       "</table>\n",
       "</div>"
      ],
      "text/plain": [
       "   lat_begin  lng_begin    lat_end   lng_end                  ride_begin  \\\n",
       "0  50.913779   6.962233  50.912295  6.944296  2019-12-05 11:00:02.469638   \n",
       "1  50.912295   6.944296  50.924901  6.933871  2019-12-06 09:40:03.021306   \n",
       "2  50.924901   6.933871  50.928389  6.936747  2019-12-06 10:39:02.291524   \n",
       "3  50.928389   6.936747  50.928076  6.928903  2019-12-06 17:44:02.107092   \n",
       "4  50.928076   6.928903  50.920755  6.933416  2019-12-06 18:20:02.671104   \n",
       "\n",
       "                     ride_end  ride_time_minutes  distance  uid_begin  \\\n",
       "0  2019-12-05 11:46:02.169357               46.0    1269.0   25392185   \n",
       "1  2019-12-06 09:58:02.307276               18.0    1581.0   25663133   \n",
       "2  2019-12-06 11:27:02.388595               48.0     437.0   25699710   \n",
       "3  2019-12-06 17:54:03.147127               10.0     551.0   25702347   \n",
       "4  2019-12-06 18:28:02.793480                8.0     874.0   25714871   \n",
       "\n",
       "    uid_end address        name  bike  bike_racks  bikes  booked_bikes  \\\n",
       "0  25663133     NaN  BIKE 21295  True           0      1             0   \n",
       "1  25699710     NaN  BIKE 21295  True           0      1             0   \n",
       "2  25702347     NaN  BIKE 21295  True           0      1             0   \n",
       "3  25714871     NaN  BIKE 21295  True           0      1             0   \n",
       "4  25715910     NaN  BIKE 21295  True           0      1             0   \n",
       "\n",
       "   free_racks  free_special_racks  maintenance  number  place_type  \\\n",
       "0           0                   0        False       0          12   \n",
       "1           0                   0        False       0          12   \n",
       "2           0                   0        False       0          12   \n",
       "3           0                   0        False       0          12   \n",
       "4           0                   0        False       0          12   \n",
       "\n",
       "   rack_locks  special_racks   spot  terminal_type  city country_code  \\\n",
       "0       False              0  False            NaN  Köln           DE   \n",
       "1       False              0  False            NaN  Köln           DE   \n",
       "2       False              0  False            NaN  Köln           DE   \n",
       "3       False              0  False            NaN  Köln           DE   \n",
       "4       False              0  False            NaN  Köln           DE   \n",
       "\n",
       "    company       timezone  available_bikes  \n",
       "0  Nextbike  Europe/Berlin             2623  \n",
       "1  Nextbike  Europe/Berlin             2616  \n",
       "2  Nextbike  Europe/Berlin             2622  \n",
       "3  Nextbike  Europe/Berlin             2620  \n",
       "4  Nextbike  Europe/Berlin             2576  "
      ]
     },
     "execution_count": 6,
     "metadata": {},
     "output_type": "execute_result"
    }
   ],
   "source": [
    "df.head()"
   ]
  },
  {
   "cell_type": "code",
   "execution_count": 7,
   "metadata": {},
   "outputs": [
    {
     "data": {
      "text/html": [
       "<div>\n",
       "<style scoped>\n",
       "    .dataframe tbody tr th:only-of-type {\n",
       "        vertical-align: middle;\n",
       "    }\n",
       "\n",
       "    .dataframe tbody tr th {\n",
       "        vertical-align: top;\n",
       "    }\n",
       "\n",
       "    .dataframe thead th {\n",
       "        text-align: right;\n",
       "    }\n",
       "</style>\n",
       "<table border=\"1\" class=\"dataframe\">\n",
       "  <thead>\n",
       "    <tr style=\"text-align: right;\">\n",
       "      <th></th>\n",
       "      <th>lat_begin</th>\n",
       "      <th>lng_begin</th>\n",
       "      <th>lat_end</th>\n",
       "      <th>lng_end</th>\n",
       "      <th>ride_begin</th>\n",
       "      <th>ride_end</th>\n",
       "      <th>ride_time_minutes</th>\n",
       "      <th>distance</th>\n",
       "      <th>uid_begin</th>\n",
       "      <th>uid_end</th>\n",
       "      <th>address</th>\n",
       "      <th>name</th>\n",
       "      <th>bike</th>\n",
       "      <th>bike_racks</th>\n",
       "      <th>bikes</th>\n",
       "      <th>booked_bikes</th>\n",
       "      <th>free_racks</th>\n",
       "      <th>free_special_racks</th>\n",
       "      <th>maintenance</th>\n",
       "      <th>number</th>\n",
       "      <th>place_type</th>\n",
       "      <th>rack_locks</th>\n",
       "      <th>special_racks</th>\n",
       "      <th>spot</th>\n",
       "      <th>terminal_type</th>\n",
       "      <th>city</th>\n",
       "      <th>country_code</th>\n",
       "      <th>company</th>\n",
       "      <th>timezone</th>\n",
       "      <th>available_bikes</th>\n",
       "    </tr>\n",
       "  </thead>\n",
       "  <tbody>\n",
       "    <tr>\n",
       "      <td>0</td>\n",
       "      <td>50.913779</td>\n",
       "      <td>6.962233</td>\n",
       "      <td>50.912295</td>\n",
       "      <td>6.944296</td>\n",
       "      <td>2019-12-05 11:00:02.469638</td>\n",
       "      <td>2019-12-05 11:46:02.169357</td>\n",
       "      <td>46.0</td>\n",
       "      <td>1269.0</td>\n",
       "      <td>25392185</td>\n",
       "      <td>25663133</td>\n",
       "      <td>NaN</td>\n",
       "      <td>BIKE 21295</td>\n",
       "      <td>True</td>\n",
       "      <td>0</td>\n",
       "      <td>1</td>\n",
       "      <td>0</td>\n",
       "      <td>0</td>\n",
       "      <td>0</td>\n",
       "      <td>False</td>\n",
       "      <td>0</td>\n",
       "      <td>12</td>\n",
       "      <td>False</td>\n",
       "      <td>0</td>\n",
       "      <td>False</td>\n",
       "      <td>NaN</td>\n",
       "      <td>Köln</td>\n",
       "      <td>DE</td>\n",
       "      <td>Nextbike</td>\n",
       "      <td>Europe/Berlin</td>\n",
       "      <td>2623</td>\n",
       "    </tr>\n",
       "    <tr>\n",
       "      <td>1</td>\n",
       "      <td>50.912295</td>\n",
       "      <td>6.944296</td>\n",
       "      <td>50.924901</td>\n",
       "      <td>6.933871</td>\n",
       "      <td>2019-12-06 09:40:03.021306</td>\n",
       "      <td>2019-12-06 09:58:02.307276</td>\n",
       "      <td>18.0</td>\n",
       "      <td>1581.0</td>\n",
       "      <td>25663133</td>\n",
       "      <td>25699710</td>\n",
       "      <td>NaN</td>\n",
       "      <td>BIKE 21295</td>\n",
       "      <td>True</td>\n",
       "      <td>0</td>\n",
       "      <td>1</td>\n",
       "      <td>0</td>\n",
       "      <td>0</td>\n",
       "      <td>0</td>\n",
       "      <td>False</td>\n",
       "      <td>0</td>\n",
       "      <td>12</td>\n",
       "      <td>False</td>\n",
       "      <td>0</td>\n",
       "      <td>False</td>\n",
       "      <td>NaN</td>\n",
       "      <td>Köln</td>\n",
       "      <td>DE</td>\n",
       "      <td>Nextbike</td>\n",
       "      <td>Europe/Berlin</td>\n",
       "      <td>2616</td>\n",
       "    </tr>\n",
       "    <tr>\n",
       "      <td>2</td>\n",
       "      <td>50.924901</td>\n",
       "      <td>6.933871</td>\n",
       "      <td>50.928389</td>\n",
       "      <td>6.936747</td>\n",
       "      <td>2019-12-06 10:39:02.291524</td>\n",
       "      <td>2019-12-06 11:27:02.388595</td>\n",
       "      <td>48.0</td>\n",
       "      <td>437.0</td>\n",
       "      <td>25699710</td>\n",
       "      <td>25702347</td>\n",
       "      <td>NaN</td>\n",
       "      <td>BIKE 21295</td>\n",
       "      <td>True</td>\n",
       "      <td>0</td>\n",
       "      <td>1</td>\n",
       "      <td>0</td>\n",
       "      <td>0</td>\n",
       "      <td>0</td>\n",
       "      <td>False</td>\n",
       "      <td>0</td>\n",
       "      <td>12</td>\n",
       "      <td>False</td>\n",
       "      <td>0</td>\n",
       "      <td>False</td>\n",
       "      <td>NaN</td>\n",
       "      <td>Köln</td>\n",
       "      <td>DE</td>\n",
       "      <td>Nextbike</td>\n",
       "      <td>Europe/Berlin</td>\n",
       "      <td>2622</td>\n",
       "    </tr>\n",
       "    <tr>\n",
       "      <td>3</td>\n",
       "      <td>50.928389</td>\n",
       "      <td>6.936747</td>\n",
       "      <td>50.928076</td>\n",
       "      <td>6.928903</td>\n",
       "      <td>2019-12-06 17:44:02.107092</td>\n",
       "      <td>2019-12-06 17:54:03.147127</td>\n",
       "      <td>10.0</td>\n",
       "      <td>551.0</td>\n",
       "      <td>25702347</td>\n",
       "      <td>25714871</td>\n",
       "      <td>NaN</td>\n",
       "      <td>BIKE 21295</td>\n",
       "      <td>True</td>\n",
       "      <td>0</td>\n",
       "      <td>1</td>\n",
       "      <td>0</td>\n",
       "      <td>0</td>\n",
       "      <td>0</td>\n",
       "      <td>False</td>\n",
       "      <td>0</td>\n",
       "      <td>12</td>\n",
       "      <td>False</td>\n",
       "      <td>0</td>\n",
       "      <td>False</td>\n",
       "      <td>NaN</td>\n",
       "      <td>Köln</td>\n",
       "      <td>DE</td>\n",
       "      <td>Nextbike</td>\n",
       "      <td>Europe/Berlin</td>\n",
       "      <td>2620</td>\n",
       "    </tr>\n",
       "    <tr>\n",
       "      <td>4</td>\n",
       "      <td>50.928076</td>\n",
       "      <td>6.928903</td>\n",
       "      <td>50.920755</td>\n",
       "      <td>6.933416</td>\n",
       "      <td>2019-12-06 18:20:02.671104</td>\n",
       "      <td>2019-12-06 18:28:02.793480</td>\n",
       "      <td>8.0</td>\n",
       "      <td>874.0</td>\n",
       "      <td>25714871</td>\n",
       "      <td>25715910</td>\n",
       "      <td>NaN</td>\n",
       "      <td>BIKE 21295</td>\n",
       "      <td>True</td>\n",
       "      <td>0</td>\n",
       "      <td>1</td>\n",
       "      <td>0</td>\n",
       "      <td>0</td>\n",
       "      <td>0</td>\n",
       "      <td>False</td>\n",
       "      <td>0</td>\n",
       "      <td>12</td>\n",
       "      <td>False</td>\n",
       "      <td>0</td>\n",
       "      <td>False</td>\n",
       "      <td>NaN</td>\n",
       "      <td>Köln</td>\n",
       "      <td>DE</td>\n",
       "      <td>Nextbike</td>\n",
       "      <td>Europe/Berlin</td>\n",
       "      <td>2576</td>\n",
       "    </tr>\n",
       "    <tr>\n",
       "      <td>...</td>\n",
       "      <td>...</td>\n",
       "      <td>...</td>\n",
       "      <td>...</td>\n",
       "      <td>...</td>\n",
       "      <td>...</td>\n",
       "      <td>...</td>\n",
       "      <td>...</td>\n",
       "      <td>...</td>\n",
       "      <td>...</td>\n",
       "      <td>...</td>\n",
       "      <td>...</td>\n",
       "      <td>...</td>\n",
       "      <td>...</td>\n",
       "      <td>...</td>\n",
       "      <td>...</td>\n",
       "      <td>...</td>\n",
       "      <td>...</td>\n",
       "      <td>...</td>\n",
       "      <td>...</td>\n",
       "      <td>...</td>\n",
       "      <td>...</td>\n",
       "      <td>...</td>\n",
       "      <td>...</td>\n",
       "      <td>...</td>\n",
       "      <td>...</td>\n",
       "      <td>...</td>\n",
       "      <td>...</td>\n",
       "      <td>...</td>\n",
       "      <td>...</td>\n",
       "      <td>...</td>\n",
       "    </tr>\n",
       "    <tr>\n",
       "      <td>59597</td>\n",
       "      <td>50.935336</td>\n",
       "      <td>6.934648</td>\n",
       "      <td>50.964807</td>\n",
       "      <td>6.959826</td>\n",
       "      <td>2019-12-16 08:41:02.610509</td>\n",
       "      <td>2019-12-16 08:58:02.487859</td>\n",
       "      <td>17.0</td>\n",
       "      <td>3723.0</td>\n",
       "      <td>26045854</td>\n",
       "      <td>26047033</td>\n",
       "      <td>NaN</td>\n",
       "      <td>BIKE 21839</td>\n",
       "      <td>True</td>\n",
       "      <td>0</td>\n",
       "      <td>1</td>\n",
       "      <td>0</td>\n",
       "      <td>0</td>\n",
       "      <td>0</td>\n",
       "      <td>False</td>\n",
       "      <td>0</td>\n",
       "      <td>12</td>\n",
       "      <td>False</td>\n",
       "      <td>0</td>\n",
       "      <td>False</td>\n",
       "      <td>NaN</td>\n",
       "      <td>Köln</td>\n",
       "      <td>DE</td>\n",
       "      <td>Nextbike</td>\n",
       "      <td>Europe/Berlin</td>\n",
       "      <td>2622</td>\n",
       "    </tr>\n",
       "    <tr>\n",
       "      <td>59598</td>\n",
       "      <td>50.964807</td>\n",
       "      <td>6.959826</td>\n",
       "      <td>50.964569</td>\n",
       "      <td>6.959431</td>\n",
       "      <td>2019-12-16 16:26:01.868958</td>\n",
       "      <td>2019-12-16 16:37:01.903258</td>\n",
       "      <td>11.0</td>\n",
       "      <td>38.0</td>\n",
       "      <td>26047033</td>\n",
       "      <td>26062588</td>\n",
       "      <td>NaN</td>\n",
       "      <td>BIKE 21839</td>\n",
       "      <td>True</td>\n",
       "      <td>0</td>\n",
       "      <td>1</td>\n",
       "      <td>0</td>\n",
       "      <td>0</td>\n",
       "      <td>0</td>\n",
       "      <td>False</td>\n",
       "      <td>0</td>\n",
       "      <td>12</td>\n",
       "      <td>False</td>\n",
       "      <td>0</td>\n",
       "      <td>False</td>\n",
       "      <td>NaN</td>\n",
       "      <td>Köln</td>\n",
       "      <td>DE</td>\n",
       "      <td>Nextbike</td>\n",
       "      <td>Europe/Berlin</td>\n",
       "      <td>2624</td>\n",
       "    </tr>\n",
       "    <tr>\n",
       "      <td>59599</td>\n",
       "      <td>50.964569</td>\n",
       "      <td>6.959431</td>\n",
       "      <td>50.929998</td>\n",
       "      <td>6.913899</td>\n",
       "      <td>2019-12-16 17:17:02.826877</td>\n",
       "      <td>2019-12-16 17:45:02.550949</td>\n",
       "      <td>28.0</td>\n",
       "      <td>4997.0</td>\n",
       "      <td>26062588</td>\n",
       "      <td>26065330</td>\n",
       "      <td>NaN</td>\n",
       "      <td>BIKE 21839</td>\n",
       "      <td>True</td>\n",
       "      <td>0</td>\n",
       "      <td>1</td>\n",
       "      <td>0</td>\n",
       "      <td>0</td>\n",
       "      <td>0</td>\n",
       "      <td>False</td>\n",
       "      <td>0</td>\n",
       "      <td>12</td>\n",
       "      <td>False</td>\n",
       "      <td>0</td>\n",
       "      <td>False</td>\n",
       "      <td>NaN</td>\n",
       "      <td>Köln</td>\n",
       "      <td>DE</td>\n",
       "      <td>Nextbike</td>\n",
       "      <td>Europe/Berlin</td>\n",
       "      <td>2583</td>\n",
       "    </tr>\n",
       "    <tr>\n",
       "      <td>59600</td>\n",
       "      <td>50.929998</td>\n",
       "      <td>6.913899</td>\n",
       "      <td>50.939877</td>\n",
       "      <td>6.958089</td>\n",
       "      <td>2019-12-16 18:53:02.356786</td>\n",
       "      <td>2019-12-16 19:12:02.290278</td>\n",
       "      <td>19.0</td>\n",
       "      <td>3287.0</td>\n",
       "      <td>26065330</td>\n",
       "      <td>26068613</td>\n",
       "      <td>NaN</td>\n",
       "      <td>BIKE 21839</td>\n",
       "      <td>True</td>\n",
       "      <td>0</td>\n",
       "      <td>1</td>\n",
       "      <td>0</td>\n",
       "      <td>0</td>\n",
       "      <td>0</td>\n",
       "      <td>False</td>\n",
       "      <td>0</td>\n",
       "      <td>12</td>\n",
       "      <td>False</td>\n",
       "      <td>0</td>\n",
       "      <td>False</td>\n",
       "      <td>NaN</td>\n",
       "      <td>Köln</td>\n",
       "      <td>DE</td>\n",
       "      <td>Nextbike</td>\n",
       "      <td>Europe/Berlin</td>\n",
       "      <td>2594</td>\n",
       "    </tr>\n",
       "    <tr>\n",
       "      <td>59601</td>\n",
       "      <td>50.939877</td>\n",
       "      <td>6.958089</td>\n",
       "      <td>50.948083</td>\n",
       "      <td>6.962984</td>\n",
       "      <td>2019-12-16 19:49:01.815477</td>\n",
       "      <td>2019-12-16 20:01:02.541299</td>\n",
       "      <td>12.0</td>\n",
       "      <td>975.0</td>\n",
       "      <td>26068613</td>\n",
       "      <td>26070269</td>\n",
       "      <td>NaN</td>\n",
       "      <td>BIKE 21839</td>\n",
       "      <td>True</td>\n",
       "      <td>0</td>\n",
       "      <td>1</td>\n",
       "      <td>0</td>\n",
       "      <td>0</td>\n",
       "      <td>0</td>\n",
       "      <td>False</td>\n",
       "      <td>0</td>\n",
       "      <td>12</td>\n",
       "      <td>False</td>\n",
       "      <td>0</td>\n",
       "      <td>False</td>\n",
       "      <td>NaN</td>\n",
       "      <td>Köln</td>\n",
       "      <td>DE</td>\n",
       "      <td>Nextbike</td>\n",
       "      <td>Europe/Berlin</td>\n",
       "      <td>2576</td>\n",
       "    </tr>\n",
       "  </tbody>\n",
       "</table>\n",
       "<p>59601 rows × 30 columns</p>\n",
       "</div>"
      ],
      "text/plain": [
       "       lat_begin  lng_begin    lat_end   lng_end                  ride_begin  \\\n",
       "0      50.913779   6.962233  50.912295  6.944296  2019-12-05 11:00:02.469638   \n",
       "1      50.912295   6.944296  50.924901  6.933871  2019-12-06 09:40:03.021306   \n",
       "2      50.924901   6.933871  50.928389  6.936747  2019-12-06 10:39:02.291524   \n",
       "3      50.928389   6.936747  50.928076  6.928903  2019-12-06 17:44:02.107092   \n",
       "4      50.928076   6.928903  50.920755  6.933416  2019-12-06 18:20:02.671104   \n",
       "...          ...        ...        ...       ...                         ...   \n",
       "59597  50.935336   6.934648  50.964807  6.959826  2019-12-16 08:41:02.610509   \n",
       "59598  50.964807   6.959826  50.964569  6.959431  2019-12-16 16:26:01.868958   \n",
       "59599  50.964569   6.959431  50.929998  6.913899  2019-12-16 17:17:02.826877   \n",
       "59600  50.929998   6.913899  50.939877  6.958089  2019-12-16 18:53:02.356786   \n",
       "59601  50.939877   6.958089  50.948083  6.962984  2019-12-16 19:49:01.815477   \n",
       "\n",
       "                         ride_end  ride_time_minutes  distance  uid_begin  \\\n",
       "0      2019-12-05 11:46:02.169357               46.0    1269.0   25392185   \n",
       "1      2019-12-06 09:58:02.307276               18.0    1581.0   25663133   \n",
       "2      2019-12-06 11:27:02.388595               48.0     437.0   25699710   \n",
       "3      2019-12-06 17:54:03.147127               10.0     551.0   25702347   \n",
       "4      2019-12-06 18:28:02.793480                8.0     874.0   25714871   \n",
       "...                           ...                ...       ...        ...   \n",
       "59597  2019-12-16 08:58:02.487859               17.0    3723.0   26045854   \n",
       "59598  2019-12-16 16:37:01.903258               11.0      38.0   26047033   \n",
       "59599  2019-12-16 17:45:02.550949               28.0    4997.0   26062588   \n",
       "59600  2019-12-16 19:12:02.290278               19.0    3287.0   26065330   \n",
       "59601  2019-12-16 20:01:02.541299               12.0     975.0   26068613   \n",
       "\n",
       "        uid_end address        name  bike  bike_racks  bikes  booked_bikes  \\\n",
       "0      25663133     NaN  BIKE 21295  True           0      1             0   \n",
       "1      25699710     NaN  BIKE 21295  True           0      1             0   \n",
       "2      25702347     NaN  BIKE 21295  True           0      1             0   \n",
       "3      25714871     NaN  BIKE 21295  True           0      1             0   \n",
       "4      25715910     NaN  BIKE 21295  True           0      1             0   \n",
       "...         ...     ...         ...   ...         ...    ...           ...   \n",
       "59597  26047033     NaN  BIKE 21839  True           0      1             0   \n",
       "59598  26062588     NaN  BIKE 21839  True           0      1             0   \n",
       "59599  26065330     NaN  BIKE 21839  True           0      1             0   \n",
       "59600  26068613     NaN  BIKE 21839  True           0      1             0   \n",
       "59601  26070269     NaN  BIKE 21839  True           0      1             0   \n",
       "\n",
       "       free_racks  free_special_racks  maintenance  number  place_type  \\\n",
       "0               0                   0        False       0          12   \n",
       "1               0                   0        False       0          12   \n",
       "2               0                   0        False       0          12   \n",
       "3               0                   0        False       0          12   \n",
       "4               0                   0        False       0          12   \n",
       "...           ...                 ...          ...     ...         ...   \n",
       "59597           0                   0        False       0          12   \n",
       "59598           0                   0        False       0          12   \n",
       "59599           0                   0        False       0          12   \n",
       "59600           0                   0        False       0          12   \n",
       "59601           0                   0        False       0          12   \n",
       "\n",
       "       rack_locks  special_racks   spot  terminal_type  city country_code  \\\n",
       "0           False              0  False            NaN  Köln           DE   \n",
       "1           False              0  False            NaN  Köln           DE   \n",
       "2           False              0  False            NaN  Köln           DE   \n",
       "3           False              0  False            NaN  Köln           DE   \n",
       "4           False              0  False            NaN  Köln           DE   \n",
       "...           ...            ...    ...            ...   ...          ...   \n",
       "59597       False              0  False            NaN  Köln           DE   \n",
       "59598       False              0  False            NaN  Köln           DE   \n",
       "59599       False              0  False            NaN  Köln           DE   \n",
       "59600       False              0  False            NaN  Köln           DE   \n",
       "59601       False              0  False            NaN  Köln           DE   \n",
       "\n",
       "        company       timezone  available_bikes  \n",
       "0      Nextbike  Europe/Berlin             2623  \n",
       "1      Nextbike  Europe/Berlin             2616  \n",
       "2      Nextbike  Europe/Berlin             2622  \n",
       "3      Nextbike  Europe/Berlin             2620  \n",
       "4      Nextbike  Europe/Berlin             2576  \n",
       "...         ...            ...              ...  \n",
       "59597  Nextbike  Europe/Berlin             2622  \n",
       "59598  Nextbike  Europe/Berlin             2624  \n",
       "59599  Nextbike  Europe/Berlin             2583  \n",
       "59600  Nextbike  Europe/Berlin             2594  \n",
       "59601  Nextbike  Europe/Berlin             2576  \n",
       "\n",
       "[59601 rows x 30 columns]"
      ]
     },
     "execution_count": 7,
     "metadata": {},
     "output_type": "execute_result"
    }
   ],
   "source": [
    "df.drop(14343) #removing faulty data record (GPS error in America)"
   ]
  },
  {
   "cell_type": "code",
   "execution_count": 8,
   "metadata": {},
   "outputs": [],
   "source": [
    "distancesList = df['distance'].tolist()"
   ]
  },
  {
   "cell_type": "code",
   "execution_count": 9,
   "metadata": {},
   "outputs": [
    {
     "data": {
      "text/plain": [
       "59602"
      ]
     },
     "execution_count": 9,
     "metadata": {},
     "output_type": "execute_result"
    }
   ],
   "source": [
    "len(distancesList)"
   ]
  },
  {
   "cell_type": "code",
   "execution_count": 10,
   "metadata": {},
   "outputs": [
    {
     "data": {
      "text/plain": [
       "5783"
      ]
     },
     "execution_count": 10,
     "metadata": {},
     "output_type": "execute_result"
    }
   ],
   "source": [
    "len(set(distancesList))"
   ]
  },
  {
   "cell_type": "markdown",
   "metadata": {},
   "source": [
    "### -Grouping distances by ride time\n",
    "#### -Saving the result of groupng into Series "
   ]
  },
  {
   "cell_type": "code",
   "execution_count": 11,
   "metadata": {},
   "outputs": [],
   "source": [
    "sr= df.groupby('ride_time_minutes')['distance'].apply(list) "
   ]
  },
  {
   "cell_type": "code",
   "execution_count": 12,
   "metadata": {},
   "outputs": [
    {
     "data": {
      "text/plain": [
       "ride_time_minutes\n",
       "1.0        [16.0, 28.0, 25.0, 49.0, 27.0, 424.0, 76.0, 21...\n",
       "2.0        [196.0, 21.0, 53.0, 15.0, 2648.0, 60.0, 75.0, ...\n",
       "3.0        [202.0, 690.0, 83.0, 121.0, 36.0, 18.0, 39.0, ...\n",
       "4.0        [338.0, 474.0, 356.0, 28.0, 22.0, 16.0, 8.0, 4...\n",
       "5.0        [153.0, 686.0, 198.0, 614.0, 431.0, 24.0, 341....\n",
       "                                 ...                        \n",
       "28715.0                                              [353.0]\n",
       "28732.0                                             [2073.0]\n",
       "33134.0                                             [5556.0]\n",
       "40542.0                                             [2497.0]\n",
       "41203.0                                             [1140.0]\n",
       "Name: distance, Length: 1647, dtype: object"
      ]
     },
     "execution_count": 12,
     "metadata": {},
     "output_type": "execute_result"
    }
   ],
   "source": [
    "sr"
   ]
  },
  {
   "cell_type": "markdown",
   "metadata": {},
   "source": [
    "#### -Saving the result of groupng into DataFrame"
   ]
  },
  {
   "cell_type": "code",
   "execution_count": 13,
   "metadata": {},
   "outputs": [],
   "source": [
    "distances_df = sr.to_frame() #if data is needed in a DataFrame instead of Series for visualization"
   ]
  },
  {
   "cell_type": "code",
   "execution_count": 14,
   "metadata": {},
   "outputs": [
    {
     "data": {
      "text/html": [
       "<div>\n",
       "<style scoped>\n",
       "    .dataframe tbody tr th:only-of-type {\n",
       "        vertical-align: middle;\n",
       "    }\n",
       "\n",
       "    .dataframe tbody tr th {\n",
       "        vertical-align: top;\n",
       "    }\n",
       "\n",
       "    .dataframe thead th {\n",
       "        text-align: right;\n",
       "    }\n",
       "</style>\n",
       "<table border=\"1\" class=\"dataframe\">\n",
       "  <thead>\n",
       "    <tr style=\"text-align: right;\">\n",
       "      <th></th>\n",
       "      <th>distance</th>\n",
       "    </tr>\n",
       "    <tr>\n",
       "      <th>ride_time_minutes</th>\n",
       "      <th></th>\n",
       "    </tr>\n",
       "  </thead>\n",
       "  <tbody>\n",
       "    <tr>\n",
       "      <td>1.0</td>\n",
       "      <td>[16.0, 28.0, 25.0, 49.0, 27.0, 424.0, 76.0, 21...</td>\n",
       "    </tr>\n",
       "    <tr>\n",
       "      <td>2.0</td>\n",
       "      <td>[196.0, 21.0, 53.0, 15.0, 2648.0, 60.0, 75.0, ...</td>\n",
       "    </tr>\n",
       "    <tr>\n",
       "      <td>3.0</td>\n",
       "      <td>[202.0, 690.0, 83.0, 121.0, 36.0, 18.0, 39.0, ...</td>\n",
       "    </tr>\n",
       "    <tr>\n",
       "      <td>4.0</td>\n",
       "      <td>[338.0, 474.0, 356.0, 28.0, 22.0, 16.0, 8.0, 4...</td>\n",
       "    </tr>\n",
       "    <tr>\n",
       "      <td>5.0</td>\n",
       "      <td>[153.0, 686.0, 198.0, 614.0, 431.0, 24.0, 341....</td>\n",
       "    </tr>\n",
       "    <tr>\n",
       "      <td>...</td>\n",
       "      <td>...</td>\n",
       "    </tr>\n",
       "    <tr>\n",
       "      <td>28715.0</td>\n",
       "      <td>[353.0]</td>\n",
       "    </tr>\n",
       "    <tr>\n",
       "      <td>28732.0</td>\n",
       "      <td>[2073.0]</td>\n",
       "    </tr>\n",
       "    <tr>\n",
       "      <td>33134.0</td>\n",
       "      <td>[5556.0]</td>\n",
       "    </tr>\n",
       "    <tr>\n",
       "      <td>40542.0</td>\n",
       "      <td>[2497.0]</td>\n",
       "    </tr>\n",
       "    <tr>\n",
       "      <td>41203.0</td>\n",
       "      <td>[1140.0]</td>\n",
       "    </tr>\n",
       "  </tbody>\n",
       "</table>\n",
       "<p>1647 rows × 1 columns</p>\n",
       "</div>"
      ],
      "text/plain": [
       "                                                            distance\n",
       "ride_time_minutes                                                   \n",
       "1.0                [16.0, 28.0, 25.0, 49.0, 27.0, 424.0, 76.0, 21...\n",
       "2.0                [196.0, 21.0, 53.0, 15.0, 2648.0, 60.0, 75.0, ...\n",
       "3.0                [202.0, 690.0, 83.0, 121.0, 36.0, 18.0, 39.0, ...\n",
       "4.0                [338.0, 474.0, 356.0, 28.0, 22.0, 16.0, 8.0, 4...\n",
       "5.0                [153.0, 686.0, 198.0, 614.0, 431.0, 24.0, 341....\n",
       "...                                                              ...\n",
       "28715.0                                                      [353.0]\n",
       "28732.0                                                     [2073.0]\n",
       "33134.0                                                     [5556.0]\n",
       "40542.0                                                     [2497.0]\n",
       "41203.0                                                     [1140.0]\n",
       "\n",
       "[1647 rows x 1 columns]"
      ]
     },
     "execution_count": 14,
     "metadata": {},
     "output_type": "execute_result"
    }
   ],
   "source": [
    "distances_df"
   ]
  },
  {
   "cell_type": "code",
   "execution_count": 15,
   "metadata": {},
   "outputs": [
    {
     "data": {
      "text/plain": [
       "4874.0"
      ]
     },
     "execution_count": 15,
     "metadata": {},
     "output_type": "execute_result"
    }
   ],
   "source": [
    "max(distances_df.loc[100][\"distance\"])"
   ]
  },
  {
   "cell_type": "markdown",
   "metadata": {},
   "source": [
    "### Frequencies of distances for 5 min rides"
   ]
  },
  {
   "cell_type": "code",
   "execution_count": 20,
   "metadata": {},
   "outputs": [
    {
     "data": {
      "text/plain": [
       "Text(0, 0.5, 'Frequency')"
      ]
     },
     "execution_count": 20,
     "metadata": {},
     "output_type": "execute_result"
    },
    {
     "data": {
      "image/png": "[encoded data removed]",
      "text/plain": [
       "<Figure size 1152x648 with 1 Axes>"
      ]
     },
     "metadata": {
      "needs_background": "light"
     },
     "output_type": "display_data"
    }
   ],
   "source": [
    "org_plt = sns.distplot(sr[5.0], bins=100,norm_hist=False,kde=False, hist_kws=dict(edgecolor=\"k\", linewidth=1))\n",
    "org_plt.set_title('Frequencies of distances for 5 min rides')\n",
    "org_plt.set_xlabel('Distance in meters')\n",
    "org_plt.set_ylabel('Frequency')"
   ]
  },
  {
   "cell_type": "markdown",
   "metadata": {},
   "source": [
    "## Frequencies of distances for multiple lengths"
   ]
  },
  {
   "cell_type": "markdown",
   "metadata": {},
   "source": [
    "#### Line histogram"
   ]
  },
  {
   "cell_type": "code",
   "execution_count": 34,
   "metadata": {},
   "outputs": [
    {
     "data": {
      "image/png": "[encoded data removed]",
      "text/plain": [
       "<Figure size 1152x648 with 1 Axes>"
      ]
     },
     "metadata": {
      "needs_background": "light"
     },
     "output_type": "display_data"
    }
   ],
   "source": [
    "x1 = sr[5.0]\n",
    "x2 = sr[6.0]\n",
    "x3 = sr[7.0]\n",
    "\n",
    "kwargs = dict(alpha=0.5, bins=100)\n",
    "\n",
    "plt.hist(x1, **kwargs, color='g', label='5 minutes', histtype='step')\n",
    "plt.hist(x2, **kwargs, color='b', label='6 minutes', histtype='step')\n",
    "plt.hist(x3, **kwargs, color='r', label='7 minutes', histtype='step')\n",
    "plt.gca().set(title='Frequency Histogram of distances for x min rides', ylabel='Frequency')\n",
    "plt.legend();"
   ]
  },
  {
   "cell_type": "markdown",
   "metadata": {},
   "source": [
    "#### Bar histogram"
   ]
  },
  {
   "cell_type": "code",
   "execution_count": 35,
   "metadata": {},
   "outputs": [
    {
     "data": {
      "image/png": "[encoded data removed]",
      "text/plain": [
       "<Figure size 1152x648 with 1 Axes>"
      ]
     },
     "metadata": {
      "needs_background": "light"
     },
     "output_type": "display_data"
    }
   ],
   "source": [
    "x1 = sr[5.0]\n",
    "x2 = sr[6.0]\n",
    "x3 = sr[7.0]\n",
    "\n",
    "kwargs = dict(alpha=0.5, bins=100)\n",
    "\n",
    "plt.hist(x1, **kwargs, color='g', label='5 minutes', histtype='bar')\n",
    "plt.hist(x2, **kwargs, color='b', label='6 minutes', histtype='bar')\n",
    "plt.hist(x3, **kwargs, color='r', label='7 minutes', histtype='bar')\n",
    "plt.gca().set(title='Frequency Histogram of distances for x min rides', ylabel='Frequency')\n",
    "plt.legend();"
   ]
  },
  {
   "cell_type": "markdown",
   "metadata": {},
   "source": [
    "### Using a function to limit distances to 2500 meters to see frequencies without extreme values"
   ]
  },
  {
   "cell_type": "code",
   "execution_count": 33,
   "metadata": {},
   "outputs": [
    {
     "data": {
      "image/png": "[encoded data removed]",
      "text/plain": [
       "<Figure size 1152x648 with 1 Axes>"
      ]
     },
     "metadata": {
      "needs_background": "light"
     },
     "output_type": "display_data"
    }
   ],
   "source": [
    "x1 = short_list(5.0)\n",
    "x2 = short_list(6.0)\n",
    "x3 = short_list(7.0)\n",
    "\n",
    "kwargs = dict(alpha=0.5, bins=80)\n",
    "\n",
    "plt.hist(x1, **kwargs, color='g', label='5 minutes', histtype='step')\n",
    "plt.hist(x2, **kwargs, color='b', label='6 minutes', histtype='step')\n",
    "plt.hist(x3, **kwargs, color='r', label='7 minutes', histtype='step')\n",
    "plt.gca().set(title='Frequency Histogram of distances for x min rides', ylabel='Frequency')\n",
    "plt.legend();"
   ]
  },
  {
   "cell_type": "markdown",
   "metadata": {},
   "source": [
    "## Looking into distribution of distances for multiple ride lengths using boxplots"
   ]
  },
  {
   "cell_type": "code",
   "execution_count": 38,
   "metadata": {},
   "outputs": [
    {
     "data": {
      "text/html": [
       "<div>\n",
       "<style scoped>\n",
       "    .dataframe tbody tr th:only-of-type {\n",
       "        vertical-align: middle;\n",
       "    }\n",
       "\n",
       "    .dataframe tbody tr th {\n",
       "        vertical-align: top;\n",
       "    }\n",
       "\n",
       "    .dataframe thead th {\n",
       "        text-align: right;\n",
       "    }\n",
       "</style>\n",
       "<table border=\"1\" class=\"dataframe\">\n",
       "  <thead>\n",
       "    <tr style=\"text-align: right;\">\n",
       "      <th></th>\n",
       "      <th>distance</th>\n",
       "    </tr>\n",
       "    <tr>\n",
       "      <th>ride_time_minutes</th>\n",
       "      <th></th>\n",
       "    </tr>\n",
       "  </thead>\n",
       "  <tbody>\n",
       "    <tr>\n",
       "      <td>1.0</td>\n",
       "      <td>[16.0, 28.0, 25.0, 49.0, 27.0, 424.0, 76.0, 21...</td>\n",
       "    </tr>\n",
       "    <tr>\n",
       "      <td>2.0</td>\n",
       "      <td>[196.0, 21.0, 53.0, 15.0, 2648.0, 60.0, 75.0, ...</td>\n",
       "    </tr>\n",
       "    <tr>\n",
       "      <td>3.0</td>\n",
       "      <td>[202.0, 690.0, 83.0, 121.0, 36.0, 18.0, 39.0, ...</td>\n",
       "    </tr>\n",
       "    <tr>\n",
       "      <td>4.0</td>\n",
       "      <td>[338.0, 474.0, 356.0, 28.0, 22.0, 16.0, 8.0, 4...</td>\n",
       "    </tr>\n",
       "    <tr>\n",
       "      <td>5.0</td>\n",
       "      <td>[153.0, 686.0, 198.0, 614.0, 431.0, 24.0, 341....</td>\n",
       "    </tr>\n",
       "    <tr>\n",
       "      <td>...</td>\n",
       "      <td>...</td>\n",
       "    </tr>\n",
       "    <tr>\n",
       "      <td>28715.0</td>\n",
       "      <td>[353.0]</td>\n",
       "    </tr>\n",
       "    <tr>\n",
       "      <td>28732.0</td>\n",
       "      <td>[2073.0]</td>\n",
       "    </tr>\n",
       "    <tr>\n",
       "      <td>33134.0</td>\n",
       "      <td>[5556.0]</td>\n",
       "    </tr>\n",
       "    <tr>\n",
       "      <td>40542.0</td>\n",
       "      <td>[2497.0]</td>\n",
       "    </tr>\n",
       "    <tr>\n",
       "      <td>41203.0</td>\n",
       "      <td>[1140.0]</td>\n",
       "    </tr>\n",
       "  </tbody>\n",
       "</table>\n",
       "<p>1647 rows × 1 columns</p>\n",
       "</div>"
      ],
      "text/plain": [
       "                                                            distance\n",
       "ride_time_minutes                                                   \n",
       "1.0                [16.0, 28.0, 25.0, 49.0, 27.0, 424.0, 76.0, 21...\n",
       "2.0                [196.0, 21.0, 53.0, 15.0, 2648.0, 60.0, 75.0, ...\n",
       "3.0                [202.0, 690.0, 83.0, 121.0, 36.0, 18.0, 39.0, ...\n",
       "4.0                [338.0, 474.0, 356.0, 28.0, 22.0, 16.0, 8.0, 4...\n",
       "5.0                [153.0, 686.0, 198.0, 614.0, 431.0, 24.0, 341....\n",
       "...                                                              ...\n",
       "28715.0                                                      [353.0]\n",
       "28732.0                                                     [2073.0]\n",
       "33134.0                                                     [5556.0]\n",
       "40542.0                                                     [2497.0]\n",
       "41203.0                                                     [1140.0]\n",
       "\n",
       "[1647 rows x 1 columns]"
      ]
     },
     "execution_count": 38,
     "metadata": {},
     "output_type": "execute_result"
    }
   ],
   "source": [
    "distances_df"
   ]
  },
  {
   "cell_type": "code",
   "execution_count": 39,
   "metadata": {},
   "outputs": [
    {
     "data": {
      "text/plain": [
       "3.0"
      ]
     },
     "execution_count": 39,
     "metadata": {},
     "output_type": "execute_result"
    }
   ],
   "source": [
    "min(distances_df['distance'][19.0])"
   ]
  },
  {
   "cell_type": "code",
   "execution_count": 40,
   "metadata": {},
   "outputs": [],
   "source": [
    "g1 = distances_df['distance'][16.0]\n",
    "g2 = distances_df['distance'][17.0]\n",
    "g3 = distances_df['distance'][18.0]\n",
    "g4 = distances_df['distance'][19.0]\n",
    "g5 = distances_df['distance'][20.0]\n",
    "data_to_plot = [g1, g2, g3, g4, g5]"
   ]
  },
  {
   "cell_type": "code",
   "execution_count": 41,
   "metadata": {},
   "outputs": [
    {
     "data": {
      "image/png": "[encoded data removed]",
      "text/plain": [
       "<Figure size 1152x648 with 1 Axes>"
      ]
     },
     "metadata": {
      "needs_background": "light"
     },
     "output_type": "display_data"
    }
   ],
   "source": [
    "plt.boxplot(data_to_plot, labels= ('16','17','18','19','20'))\n",
    "plt.title('Distances data for multiple ride lengths')\n",
    "plt.ylabel('Distances')\n",
    "plt.xlabel('Ride length in minutes')\n",
    "plt.show() "
   ]
  },
  {
   "cell_type": "code",
   "execution_count": 48,
   "metadata": {},
   "outputs": [
    {
     "data": {
      "image/png": "[encoded data removed]",
      "text/plain": [
       "<Figure size 1152x648 with 1 Axes>"
      ]
     },
     "metadata": {
      "needs_background": "light"
     },
     "output_type": "display_data"
    }
   ],
   "source": [
    "plt.boxplot(distances_df['distance'][15.0], labels=['15'])\n",
    "plt.title('Distances data for 15 min rides')\n",
    "plt.ylabel('Distances')\n",
    "plt.xlabel('Ride length in minutes')\n",
    "plt.show() "
   ]
  },
  {
   "cell_type": "markdown",
   "metadata": {},
   "source": [
    "## Calculating mean value of distances for each ride time"
   ]
  },
  {
   "cell_type": "code",
   "execution_count": 66,
   "metadata": {},
   "outputs": [
    {
     "name": "stderr",
     "output_type": "stream",
     "text": [
      "C:\\Users\\MungoS\\Anaconda3\\lib\\site-packages\\ipykernel_launcher.py:4: FutureWarning: set_value is deprecated and will be removed in a future release. Please use .at[] or .iat[] accessors instead\n",
      "  after removing the cwd from sys.path.\n"
     ]
    }
   ],
   "source": [
    "ser_avg = pd.Series()\n",
    "for index, value in sr.items():\n",
    "    avg = statistics.mean(value)\n",
    "    ser_avg = ser_avg.set_value(index,avg)"
   ]
  },
  {
   "cell_type": "code",
   "execution_count": 67,
   "metadata": {},
   "outputs": [
    {
     "data": {
      "text/plain": [
       "<matplotlib.axes._subplots.AxesSubplot at 0x1a6dfcd7548>"
      ]
     },
     "execution_count": 67,
     "metadata": {},
     "output_type": "execute_result"
    },
    {
     "data": {
      "image/png": "[encoded data removed]",
      "text/plain": [
       "<Figure size 1152x648 with 1 Axes>"
      ]
     },
     "metadata": {
      "needs_background": "light"
     },
     "output_type": "display_data"
    }
   ],
   "source": [
    "ser_avg.plot()"
   ]
  },
  {
   "cell_type": "markdown",
   "metadata": {},
   "source": [
    "# Analysis of previous plot discovered a mean distance that is high above expected values. Looking into data showed that ride time of 1510 mins has a faulty entry where bike was recorded in NewYork\n",
    "# In the next step we drop this value in order to see distribution of mean distances without it"
   ]
  },
  {
   "cell_type": "code",
   "execution_count": 68,
   "metadata": {},
   "outputs": [],
   "source": [
    "ser_avg.drop(1510.0, inplace=True)"
   ]
  },
  {
   "cell_type": "code",
   "execution_count": 69,
   "metadata": {},
   "outputs": [
    {
     "data": {
      "text/plain": [
       "<matplotlib.axes._subplots.AxesSubplot at 0x1a6e3270ac8>"
      ]
     },
     "execution_count": 69,
     "metadata": {},
     "output_type": "execute_result"
    },
    {
     "data": {
      "image/png": "[encoded data removed]",
      "text/plain": [
       "<Figure size 1152x648 with 1 Axes>"
      ]
     },
     "metadata": {
      "needs_background": "light"
     },
     "output_type": "display_data"
    }
   ],
   "source": [
    "ser_avg.plot()"
   ]
  },
  {
   "cell_type": "code",
   "execution_count": 70,
   "metadata": {},
   "outputs": [],
   "source": [
    "new_arr = ser_avg.values.tolist()"
   ]
  },
  {
   "cell_type": "code",
   "execution_count": 71,
   "metadata": {},
   "outputs": [],
   "source": [
    "plt_part1 = ser_avg.loc[1.0 : 70.0]\n",
    "plt_part2 = ser_avg.loc[70.0 : 140.0]\n",
    "plt_part3 = ser_avg.loc[140.0 : 210.0]\n",
    "plt_part4 = ser_avg.loc[210.0 : 280.0]"
   ]
  },
  {
   "cell_type": "code",
   "execution_count": 72,
   "metadata": {},
   "outputs": [
    {
     "data": {
      "text/plain": [
       "Text(0, 0.5, 'Average distance in meters')"
      ]
     },
     "execution_count": 72,
     "metadata": {},
     "output_type": "execute_result"
    },
    {
     "data": {
      "image/png": "[encoded data removed]",
      "text/plain": [
       "<Figure size 1152x648 with 1 Axes>"
      ]
     },
     "metadata": {
      "needs_background": "light"
     },
     "output_type": "display_data"
    }
   ],
   "source": [
    "avg_plt1 = plt_part1.plot(kind='bar', colormap='RdBu')\n",
    "avg_plt1 .set_title('Average distances for minutes of ride (minutes: 1-70)')\n",
    "avg_plt1 .set_xlabel('Minutes of ride')\n",
    "avg_plt1 .set_ylabel('Average distance in meters')"
   ]
  },
  {
   "cell_type": "code",
   "execution_count": 48,
   "metadata": {},
   "outputs": [
    {
     "data": {
      "text/plain": [
       "Text(0,0.5,'Average distance in meters')"
      ]
     },
     "execution_count": 48,
     "metadata": {},
     "output_type": "execute_result"
    },
    {
     "data": {
      "image/png": "[encoded data removed]",
      "text/plain": [
       "<Figure size 1152x648 with 1 Axes>"
      ]
     },
     "metadata": {
      "needs_background": "light"
     },
     "output_type": "display_data"
    }
   ],
   "source": [
    "avg_plt2 = plt_part2.plot(kind='bar', colormap='RdBu')\n",
    "avg_plt2 .set_title('Average distances for minutes of ride (minutes: 70-140)')\n",
    "avg_plt2 .set_xlabel('Minutes of ride')\n",
    "avg_plt2 .set_ylabel('Average distance in meters')"
   ]
  },
  {
   "cell_type": "code",
   "execution_count": 49,
   "metadata": {},
   "outputs": [
    {
     "data": {
      "text/plain": [
       "Text(0,0.5,'Average distance in meters')"
      ]
     },
     "execution_count": 49,
     "metadata": {},
     "output_type": "execute_result"
    },
    {
     "data": {
      "image/png": "[encoded data removed]",
      "text/plain": [
       "<Figure size 1152x648 with 1 Axes>"
      ]
     },
     "metadata": {
      "needs_background": "light"
     },
     "output_type": "display_data"
    }
   ],
   "source": [
    "avg_plt3 = plt_part3.plot(kind='bar', colormap='RdBu')\n",
    "avg_plt3 .set_title('Average distances for minutes of ride (minutes: 140-210)')\n",
    "avg_plt3 .set_xlabel('Minutes of ride')\n",
    "avg_plt3 .set_ylabel('Average distance in meters')"
   ]
  },
  {
   "cell_type": "code",
   "execution_count": 55,
   "metadata": {},
   "outputs": [
    {
     "data": {
      "text/plain": [
       "Text(0,0.5,'Average distance in meters')"
      ]
     },
     "execution_count": 55,
     "metadata": {},
     "output_type": "execute_result"
    },
    {
     "data": {
      "image/png": "[encoded data removed]",
      "text/plain": [
       "<Figure size 1152x648 with 1 Axes>"
      ]
     },
     "metadata": {
      "needs_background": "light"
     },
     "output_type": "display_data"
    }
   ],
   "source": [
    "avg_plt4 = plt_part4.plot(kind='bar', colormap='RdBu')\n",
    "avg_plt4 .set_title('Average distances for minutes of ride (minutes: 210-280)')\n",
    "avg_plt4 .set_xlabel('Minutes of ride')\n",
    "avg_plt4 .set_ylabel('Average distance in meters')"
   ]
  },
  {
   "cell_type": "code",
   "execution_count": 133,
   "metadata": {},
   "outputs": [],
   "source": [
    "#d = {'ride_time_minutes': df_cl['ride_time_minutes'], 'distance': df_cl['distance']}"
   ]
  },
  {
   "cell_type": "code",
   "execution_count": 134,
   "metadata": {},
   "outputs": [],
   "source": [
    "#box_df = pd.DataFrame(data=d)"
   ]
  },
  {
   "cell_type": "code",
   "execution_count": 161,
   "metadata": {},
   "outputs": [],
   "source": [
    "#box_df = box_df[:100]\n",
    "#box_df"
   ]
  },
  {
   "cell_type": "code",
   "execution_count": 162,
   "metadata": {},
   "outputs": [],
   "source": [
    "#type(box_df['ride_time_minutes'][3])"
   ]
  },
  {
   "cell_type": "code",
   "execution_count": 215,
   "metadata": {},
   "outputs": [],
   "source": [
    "#distances_df.boxplot(column='distance', by='ride_time_minutes')"
   ]
  },
  {
   "cell_type": "markdown",
   "metadata": {},
   "source": [
    "# Checking the problematic ride of 1510 mins - it was found that the New York location has index 14343 and it is for a BIKE 21954"
   ]
  },
  {
   "cell_type": "code",
   "execution_count": 56,
   "metadata": {},
   "outputs": [
    {
     "data": {
      "text/plain": [
       "[5899039.0, 1355.0]"
      ]
     },
     "execution_count": 56,
     "metadata": {},
     "output_type": "execute_result"
    }
   ],
   "source": [
    "sr[1510.0]"
   ]
  },
  {
   "cell_type": "code",
   "execution_count": 57,
   "metadata": {},
   "outputs": [
    {
     "name": "stdout",
     "output_type": "stream",
     "text": [
      "14343\n",
      "51770\n"
     ]
    }
   ],
   "source": [
    "for index,row in df.iterrows():\n",
    "    if df.iloc[index][\"ride_time_minutes\"] == 1510.0:\n",
    "        print(index)"
   ]
  },
  {
   "cell_type": "code",
   "execution_count": 108,
   "metadata": {},
   "outputs": [
    {
     "data": {
      "text/plain": [
       "lat_begin                                         50.9341\n",
       "lng_begin                                         6.92146\n",
       "lat_end                                           42.7065\n",
       "lng_end                                          -73.7924\n",
       "ride_begin                     2019-12-03 07:27:03.029065\n",
       "ride_end                       2019-12-04 08:37:02.448581\n",
       "ride_time_minutes                                    1510\n",
       "distance                                      5.89904e+06\n",
       "uid_begin                                        25565506\n",
       "uid_end                                          25616760\n",
       "address                Herbert-Lewin-Straße 2 50931 Köln \n",
       "name                                           BIKE 22714\n",
       "bike                                                 True\n",
       "bike_racks                                              0\n",
       "bikes                                                   1\n",
       "booked_bikes                                            0\n",
       "free_racks                                              0\n",
       "free_special_racks                                      0\n",
       "maintenance                                         False\n",
       "number                                                  0\n",
       "place_type                                             12\n",
       "rack_locks                                          False\n",
       "special_racks                                           0\n",
       "spot                                                False\n",
       "terminal_type                                         NaN\n",
       "city                                                 Köln\n",
       "country_code                                           DE\n",
       "company                                          Nextbike\n",
       "timezone                                    Europe/Berlin\n",
       "available_bikes                                      2615\n",
       "Name: 14343, dtype: object"
      ]
     },
     "execution_count": 108,
     "metadata": {},
     "output_type": "execute_result"
    }
   ],
   "source": [
    "df.iloc[14343]"
   ]
  },
  {
   "cell_type": "code",
   "execution_count": 133,
   "metadata": {},
   "outputs": [
    {
     "data": {
      "text/html": [
       "<div>\n",
       "<style scoped>\n",
       "    .dataframe tbody tr th:only-of-type {\n",
       "        vertical-align: middle;\n",
       "    }\n",
       "\n",
       "    .dataframe tbody tr th {\n",
       "        vertical-align: top;\n",
       "    }\n",
       "\n",
       "    .dataframe thead th {\n",
       "        text-align: right;\n",
       "    }\n",
       "</style>\n",
       "<table border=\"1\" class=\"dataframe\">\n",
       "  <thead>\n",
       "    <tr style=\"text-align: right;\">\n",
       "      <th></th>\n",
       "      <th>lat_begin</th>\n",
       "      <th>lng_begin</th>\n",
       "      <th>lat_end</th>\n",
       "      <th>lng_end</th>\n",
       "      <th>ride_begin</th>\n",
       "      <th>ride_end</th>\n",
       "      <th>ride_time_minutes</th>\n",
       "      <th>distance</th>\n",
       "      <th>uid_begin</th>\n",
       "      <th>uid_end</th>\n",
       "      <th>address</th>\n",
       "      <th>name</th>\n",
       "      <th>bike</th>\n",
       "      <th>bike_racks</th>\n",
       "      <th>bikes</th>\n",
       "      <th>booked_bikes</th>\n",
       "      <th>free_racks</th>\n",
       "      <th>free_special_racks</th>\n",
       "      <th>maintenance</th>\n",
       "      <th>number</th>\n",
       "      <th>place_type</th>\n",
       "      <th>rack_locks</th>\n",
       "      <th>special_racks</th>\n",
       "      <th>spot</th>\n",
       "      <th>terminal_type</th>\n",
       "      <th>city</th>\n",
       "      <th>country_code</th>\n",
       "      <th>company</th>\n",
       "      <th>timezone</th>\n",
       "      <th>available_bikes</th>\n",
       "    </tr>\n",
       "  </thead>\n",
       "  <tbody>\n",
       "    <tr>\n",
       "      <th>14337</th>\n",
       "      <td>50.961241</td>\n",
       "      <td>6.905027</td>\n",
       "      <td>50.951566</td>\n",
       "      <td>6.910268</td>\n",
       "      <td>2019-12-01 11:44:02.918021</td>\n",
       "      <td>2019-12-01 12:08:03.008824</td>\n",
       "      <td>24.0</td>\n",
       "      <td>1137.0</td>\n",
       "      <td>25412978</td>\n",
       "      <td>25514964</td>\n",
       "      <td>NaN</td>\n",
       "      <td>BIKE 22714</td>\n",
       "      <td>True</td>\n",
       "      <td>0</td>\n",
       "      <td>1</td>\n",
       "      <td>0</td>\n",
       "      <td>0</td>\n",
       "      <td>0</td>\n",
       "      <td>False</td>\n",
       "      <td>0</td>\n",
       "      <td>12</td>\n",
       "      <td>False</td>\n",
       "      <td>0</td>\n",
       "      <td>False</td>\n",
       "      <td>NaN</td>\n",
       "      <td>Köln</td>\n",
       "      <td>DE</td>\n",
       "      <td>Nextbike</td>\n",
       "      <td>Europe/Berlin</td>\n",
       "      <td>2623</td>\n",
       "    </tr>\n",
       "    <tr>\n",
       "      <th>14338</th>\n",
       "      <td>50.951566</td>\n",
       "      <td>6.910268</td>\n",
       "      <td>50.961239</td>\n",
       "      <td>6.904819</td>\n",
       "      <td>2019-12-01 12:58:02.936412</td>\n",
       "      <td>2019-12-01 13:10:02.871896</td>\n",
       "      <td>12.0</td>\n",
       "      <td>1142.0</td>\n",
       "      <td>25514964</td>\n",
       "      <td>25516453</td>\n",
       "      <td>NaN</td>\n",
       "      <td>BIKE 22714</td>\n",
       "      <td>True</td>\n",
       "      <td>0</td>\n",
       "      <td>1</td>\n",
       "      <td>0</td>\n",
       "      <td>0</td>\n",
       "      <td>0</td>\n",
       "      <td>False</td>\n",
       "      <td>0</td>\n",
       "      <td>12</td>\n",
       "      <td>False</td>\n",
       "      <td>0</td>\n",
       "      <td>False</td>\n",
       "      <td>NaN</td>\n",
       "      <td>Köln</td>\n",
       "      <td>DE</td>\n",
       "      <td>Nextbike</td>\n",
       "      <td>Europe/Berlin</td>\n",
       "      <td>2624</td>\n",
       "    </tr>\n",
       "    <tr>\n",
       "      <th>14339</th>\n",
       "      <td>50.961239</td>\n",
       "      <td>6.904819</td>\n",
       "      <td>50.978286</td>\n",
       "      <td>6.884869</td>\n",
       "      <td>2019-12-02 08:27:01.977909</td>\n",
       "      <td>2019-12-02 08:39:02.749722</td>\n",
       "      <td>12.0</td>\n",
       "      <td>2355.0</td>\n",
       "      <td>25516453</td>\n",
       "      <td>25539653</td>\n",
       "      <td>NaN</td>\n",
       "      <td>BIKE 22714</td>\n",
       "      <td>True</td>\n",
       "      <td>0</td>\n",
       "      <td>1</td>\n",
       "      <td>0</td>\n",
       "      <td>0</td>\n",
       "      <td>0</td>\n",
       "      <td>False</td>\n",
       "      <td>0</td>\n",
       "      <td>12</td>\n",
       "      <td>False</td>\n",
       "      <td>0</td>\n",
       "      <td>False</td>\n",
       "      <td>NaN</td>\n",
       "      <td>Köln</td>\n",
       "      <td>DE</td>\n",
       "      <td>Nextbike</td>\n",
       "      <td>Europe/Berlin</td>\n",
       "      <td>2624</td>\n",
       "    </tr>\n",
       "    <tr>\n",
       "      <th>14340</th>\n",
       "      <td>50.978286</td>\n",
       "      <td>6.884869</td>\n",
       "      <td>50.961709</td>\n",
       "      <td>6.902409</td>\n",
       "      <td>2019-12-02 15:31:02.544011</td>\n",
       "      <td>2019-12-02 15:42:02.828603</td>\n",
       "      <td>11.0</td>\n",
       "      <td>2216.0</td>\n",
       "      <td>25539653</td>\n",
       "      <td>25553958</td>\n",
       "      <td>NaN</td>\n",
       "      <td>BIKE 22714</td>\n",
       "      <td>True</td>\n",
       "      <td>0</td>\n",
       "      <td>1</td>\n",
       "      <td>0</td>\n",
       "      <td>0</td>\n",
       "      <td>0</td>\n",
       "      <td>False</td>\n",
       "      <td>0</td>\n",
       "      <td>12</td>\n",
       "      <td>False</td>\n",
       "      <td>0</td>\n",
       "      <td>False</td>\n",
       "      <td>NaN</td>\n",
       "      <td>Köln</td>\n",
       "      <td>DE</td>\n",
       "      <td>Nextbike</td>\n",
       "      <td>Europe/Berlin</td>\n",
       "      <td>2627</td>\n",
       "    </tr>\n",
       "    <tr>\n",
       "      <th>14341</th>\n",
       "      <td>50.961709</td>\n",
       "      <td>6.902409</td>\n",
       "      <td>50.943600</td>\n",
       "      <td>6.933070</td>\n",
       "      <td>2019-12-02 18:27:02.783602</td>\n",
       "      <td>2019-12-02 18:40:02.818118</td>\n",
       "      <td>13.0</td>\n",
       "      <td>2945.0</td>\n",
       "      <td>25553958</td>\n",
       "      <td>25560930</td>\n",
       "      <td>NaN</td>\n",
       "      <td>BIKE 22714</td>\n",
       "      <td>True</td>\n",
       "      <td>0</td>\n",
       "      <td>1</td>\n",
       "      <td>0</td>\n",
       "      <td>0</td>\n",
       "      <td>0</td>\n",
       "      <td>False</td>\n",
       "      <td>0</td>\n",
       "      <td>12</td>\n",
       "      <td>False</td>\n",
       "      <td>0</td>\n",
       "      <td>False</td>\n",
       "      <td>NaN</td>\n",
       "      <td>Köln</td>\n",
       "      <td>DE</td>\n",
       "      <td>Nextbike</td>\n",
       "      <td>Europe/Berlin</td>\n",
       "      <td>2595</td>\n",
       "    </tr>\n",
       "    <tr>\n",
       "      <th>14342</th>\n",
       "      <td>50.943600</td>\n",
       "      <td>6.933070</td>\n",
       "      <td>50.934090</td>\n",
       "      <td>6.921458</td>\n",
       "      <td>2019-12-02 21:04:03.209847</td>\n",
       "      <td>2019-12-02 21:18:02.739097</td>\n",
       "      <td>14.0</td>\n",
       "      <td>1335.0</td>\n",
       "      <td>25560930</td>\n",
       "      <td>25565506</td>\n",
       "      <td>NaN</td>\n",
       "      <td>BIKE 22714</td>\n",
       "      <td>True</td>\n",
       "      <td>0</td>\n",
       "      <td>1</td>\n",
       "      <td>0</td>\n",
       "      <td>0</td>\n",
       "      <td>0</td>\n",
       "      <td>False</td>\n",
       "      <td>0</td>\n",
       "      <td>12</td>\n",
       "      <td>False</td>\n",
       "      <td>0</td>\n",
       "      <td>False</td>\n",
       "      <td>NaN</td>\n",
       "      <td>Köln</td>\n",
       "      <td>DE</td>\n",
       "      <td>Nextbike</td>\n",
       "      <td>Europe/Berlin</td>\n",
       "      <td>2598</td>\n",
       "    </tr>\n",
       "    <tr>\n",
       "      <th>14343</th>\n",
       "      <td>50.934090</td>\n",
       "      <td>6.921458</td>\n",
       "      <td>42.706471</td>\n",
       "      <td>-73.792362</td>\n",
       "      <td>2019-12-03 07:27:03.029065</td>\n",
       "      <td>2019-12-04 08:37:02.448581</td>\n",
       "      <td>1510.0</td>\n",
       "      <td>5899039.0</td>\n",
       "      <td>25565506</td>\n",
       "      <td>25616760</td>\n",
       "      <td>Herbert-Lewin-Straße 2 50931 Köln</td>\n",
       "      <td>BIKE 22714</td>\n",
       "      <td>True</td>\n",
       "      <td>0</td>\n",
       "      <td>1</td>\n",
       "      <td>0</td>\n",
       "      <td>0</td>\n",
       "      <td>0</td>\n",
       "      <td>False</td>\n",
       "      <td>0</td>\n",
       "      <td>12</td>\n",
       "      <td>False</td>\n",
       "      <td>0</td>\n",
       "      <td>False</td>\n",
       "      <td>NaN</td>\n",
       "      <td>Köln</td>\n",
       "      <td>DE</td>\n",
       "      <td>Nextbike</td>\n",
       "      <td>Europe/Berlin</td>\n",
       "      <td>2615</td>\n",
       "    </tr>\n",
       "  </tbody>\n",
       "</table>\n",
       "</div>"
      ],
      "text/plain": [
       "       lat_begin  lng_begin    lat_end    lng_end                  ride_begin  \\\n",
       "14337  50.961241   6.905027  50.951566   6.910268  2019-12-01 11:44:02.918021   \n",
       "14338  50.951566   6.910268  50.961239   6.904819  2019-12-01 12:58:02.936412   \n",
       "14339  50.961239   6.904819  50.978286   6.884869  2019-12-02 08:27:01.977909   \n",
       "14340  50.978286   6.884869  50.961709   6.902409  2019-12-02 15:31:02.544011   \n",
       "14341  50.961709   6.902409  50.943600   6.933070  2019-12-02 18:27:02.783602   \n",
       "14342  50.943600   6.933070  50.934090   6.921458  2019-12-02 21:04:03.209847   \n",
       "14343  50.934090   6.921458  42.706471 -73.792362  2019-12-03 07:27:03.029065   \n",
       "\n",
       "                         ride_end  ride_time_minutes   distance  uid_begin  \\\n",
       "14337  2019-12-01 12:08:03.008824               24.0     1137.0   25412978   \n",
       "14338  2019-12-01 13:10:02.871896               12.0     1142.0   25514964   \n",
       "14339  2019-12-02 08:39:02.749722               12.0     2355.0   25516453   \n",
       "14340  2019-12-02 15:42:02.828603               11.0     2216.0   25539653   \n",
       "14341  2019-12-02 18:40:02.818118               13.0     2945.0   25553958   \n",
       "14342  2019-12-02 21:18:02.739097               14.0     1335.0   25560930   \n",
       "14343  2019-12-04 08:37:02.448581             1510.0  5899039.0   25565506   \n",
       "\n",
       "        uid_end                              address        name  bike  \\\n",
       "14337  25514964                                  NaN  BIKE 22714  True   \n",
       "14338  25516453                                  NaN  BIKE 22714  True   \n",
       "14339  25539653                                  NaN  BIKE 22714  True   \n",
       "14340  25553958                                  NaN  BIKE 22714  True   \n",
       "14341  25560930                                  NaN  BIKE 22714  True   \n",
       "14342  25565506                                  NaN  BIKE 22714  True   \n",
       "14343  25616760   Herbert-Lewin-Straße 2 50931 Köln   BIKE 22714  True   \n",
       "\n",
       "       bike_racks  bikes  booked_bikes  free_racks  free_special_racks  \\\n",
       "14337           0      1             0           0                   0   \n",
       "14338           0      1             0           0                   0   \n",
       "14339           0      1             0           0                   0   \n",
       "14340           0      1             0           0                   0   \n",
       "14341           0      1             0           0                   0   \n",
       "14342           0      1             0           0                   0   \n",
       "14343           0      1             0           0                   0   \n",
       "\n",
       "       maintenance  number  place_type  rack_locks  special_racks   spot  \\\n",
       "14337        False       0          12       False              0  False   \n",
       "14338        False       0          12       False              0  False   \n",
       "14339        False       0          12       False              0  False   \n",
       "14340        False       0          12       False              0  False   \n",
       "14341        False       0          12       False              0  False   \n",
       "14342        False       0          12       False              0  False   \n",
       "14343        False       0          12       False              0  False   \n",
       "\n",
       "       terminal_type  city country_code   company       timezone  \\\n",
       "14337            NaN  Köln           DE  Nextbike  Europe/Berlin   \n",
       "14338            NaN  Köln           DE  Nextbike  Europe/Berlin   \n",
       "14339            NaN  Köln           DE  Nextbike  Europe/Berlin   \n",
       "14340            NaN  Köln           DE  Nextbike  Europe/Berlin   \n",
       "14341            NaN  Köln           DE  Nextbike  Europe/Berlin   \n",
       "14342            NaN  Köln           DE  Nextbike  Europe/Berlin   \n",
       "14343            NaN  Köln           DE  Nextbike  Europe/Berlin   \n",
       "\n",
       "       available_bikes  \n",
       "14337             2623  \n",
       "14338             2624  \n",
       "14339             2624  \n",
       "14340             2627  \n",
       "14341             2595  \n",
       "14342             2598  \n",
       "14343             2615  "
      ]
     },
     "execution_count": 133,
     "metadata": {},
     "output_type": "execute_result"
    }
   ],
   "source": [
    "bike_a = df[df['name']== \"BIKE 22714\"]\n",
    "bike_a "
   ]
  },
  {
   "cell_type": "code",
   "execution_count": null,
   "metadata": {},
   "outputs": [],
   "source": []
  }
 ],
 "metadata": {
  "kernelspec": {
   "display_name": "Python 3",
   "language": "python",
   "name": "python3"
  },
  "language_info": {
   "codemirror_mode": {
    "name": "ipython",
    "version": 3
   },
   "file_extension": ".py",
   "mimetype": "text/x-python",
   "name": "python",
   "nbconvert_exporter": "python",
   "pygments_lexer": "ipython3",
   "version": "3.8.5"
  }
 },
 "nbformat": 4,
 "nbformat_minor": 2
}
