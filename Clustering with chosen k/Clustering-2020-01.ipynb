{
 "cells": [
  {
   "cell_type": "code",
   "execution_count": 1,
   "id": "eca1ed40",
   "metadata": {},
   "outputs": [],
   "source": [
    "import pandas as pd\n",
    "import numpy as np\n",
    "import matplotlib\n",
    "import matplotlib.pyplot as plt\n",
    "import seaborn as sns\n",
    "import datetime\n",
    "from itertools import islice\n",
    "import statsmodels.api as sm\n",
    "sns.set()\n",
    "from sklearn.cluster import KMeans\n",
    "from sklearn.cluster import AgglomerativeClustering\n",
    "import scipy.cluster.hierarchy as sch\n",
    "from kneed import KneeLocator\n",
    "from sklearn.metrics import silhouette_score\n",
    "from sklearn.preprocessing import StandardScaler"
   ]
  },
  {
   "cell_type": "code",
   "execution_count": 2,
   "id": "74266d5b",
   "metadata": {},
   "outputs": [],
   "source": [
    "matplotlib.rcParams['figure.figsize'] = (16.0, 12.0)\n",
    "matplotlib.style.use('ggplot')"
   ]
  },
  {
   "cell_type": "code",
   "execution_count": 3,
   "id": "f58b4120",
   "metadata": {},
   "outputs": [],
   "source": [
    "def parse_timestamp(el):\n",
    "    b = datetime.datetime.strptime(el, fmt)\n",
    "    return b"
   ]
  },
  {
   "cell_type": "code",
   "execution_count": 4,
   "id": "df99b485",
   "metadata": {},
   "outputs": [],
   "source": [
    "fmt = '%Y-%m-%d %H:%M:%S'"
   ]
  },
  {
   "cell_type": "code",
   "execution_count": 5,
   "id": "49f253e1",
   "metadata": {},
   "outputs": [],
   "source": [
    "def trim_latlng(x):\n",
    "    return round(x,4)"
   ]
  },
  {
   "cell_type": "code",
   "execution_count": 6,
   "id": "db41468d",
   "metadata": {},
   "outputs": [],
   "source": [
    "url = \"/bigdata/jelicicna/mobility_data_2020/anlysis_data_nextbike_2020-01.csv\"\n",
    "df = pd.read_csv(url, sep=';', low_memory=False)"
   ]
  },
  {
   "cell_type": "code",
   "execution_count": 7,
   "id": "35685119",
   "metadata": {},
   "outputs": [],
   "source": [
    "url2 = \"/bigdata/jelicicna/clustering_datasets/locations_for_clustering_2020-01.csv\"\n",
    "df_locations = pd.read_csv(url2, sep=';', low_memory=False)"
   ]
  },
  {
   "cell_type": "code",
   "execution_count": null,
   "id": "a901d299",
   "metadata": {},
   "outputs": [],
   "source": [
    "df['ride_begin'] = df['ride_begin'].map(parse_timestamp)\n",
    "df['ride_end'] = df['ride_end'].map(parse_timestamp)"
   ]
  },
  {
   "cell_type": "code",
   "execution_count": null,
   "id": "f323365b",
   "metadata": {},
   "outputs": [],
   "source": [
    "df['lat_begin'] = df['lat_begin'].map(trim_latlng)\n",
    "df['lng_begin'] = df['lng_begin'].map(trim_latlng)\n",
    "df['lat_end'] = df['lat_end'].map(trim_latlng)\n",
    "df['lng_end'] = df['lng_end'].map(trim_latlng)"
   ]
  },
  {
   "cell_type": "code",
   "execution_count": null,
   "id": "a5128786",
   "metadata": {},
   "outputs": [],
   "source": [
    "#adding tracking of original indexes for evaluation of results\n",
    "df.reset_index(inplace=True)\n",
    "df.rename({'index':'org_index'}, axis=1, inplace=True)"
   ]
  },
  {
   "cell_type": "code",
   "execution_count": null,
   "id": "8f71ceac",
   "metadata": {},
   "outputs": [],
   "source": [
    "bikes = df[[\"name\"]].drop_duplicates().reset_index(drop=True)\n",
    "bikes[\"bike_id\"]=bikes.index\n",
    "bikes = bikes[[\"bike_id\", \"name\"]]\n",
    "bikes.head() #df with 2 columns containing bike id and corresponding bike names"
   ]
  },
  {
   "cell_type": "code",
   "execution_count": null,
   "id": "919ee725",
   "metadata": {},
   "outputs": [],
   "source": [
    "#adding bike id to df\n",
    "df = pd.merge(df, bikes, on='name', how='outer')"
   ]
  },
  {
   "cell_type": "code",
   "execution_count": null,
   "id": "42b6541e",
   "metadata": {},
   "outputs": [],
   "source": [
    "df_locations"
   ]
  },
  {
   "cell_type": "markdown",
   "id": "b48282b4",
   "metadata": {},
   "source": [
    "## Deciding on an optimal number of clusters"
   ]
  },
  {
   "cell_type": "markdown",
   "id": "b0cfae80",
   "metadata": {},
   "source": [
    "### Elbow method"
   ]
  },
  {
   "cell_type": "code",
   "execution_count": null,
   "id": "800a4b31",
   "metadata": {},
   "outputs": [],
   "source": [
    "#separate data\n",
    "x = df_locations.iloc[:,2:4]"
   ]
  },
  {
   "cell_type": "code",
   "execution_count": null,
   "id": "a8725b54",
   "metadata": {},
   "outputs": [],
   "source": [
    "x.head()"
   ]
  },
  {
   "cell_type": "code",
   "execution_count": null,
   "id": "f368685b",
   "metadata": {},
   "outputs": [],
   "source": [
    "potential_k = []\n",
    "for k in range(10,170,10):\n",
    "    potential_k.append(k)"
   ]
  },
  {
   "cell_type": "code",
   "execution_count": null,
   "id": "15b508a9",
   "metadata": {},
   "outputs": [],
   "source": [
    "kmeans_kwargs = {\n",
    "    \"init\": \"random\",\n",
    "    \"n_init\": 10,\n",
    "    \"max_iter\": 300,\n",
    "    \"random_state\": 42,\n",
    "}\n",
    "\n",
    "# A list holds the SSE values for each k\n",
    "sse = []\n",
    "for k in potential_k:\n",
    "    kmeans = KMeans(n_clusters=k, **kmeans_kwargs)\n",
    "    kmeans.fit(x)\n",
    "    sse.append(kmeans.inertia_)"
   ]
  },
  {
   "cell_type": "code",
   "execution_count": null,
   "id": "9d5e1bf5",
   "metadata": {},
   "outputs": [],
   "source": [
    "plt.style.use(\"fivethirtyeight\")\n",
    "plt.plot(potential_k, sse)\n",
    "plt.xticks(potential_k)\n",
    "plt.xlabel(\"Number of Clusters\")\n",
    "plt.ylabel(\"SSE\")\n",
    "plt.show()"
   ]
  },
  {
   "cell_type": "code",
   "execution_count": null,
   "id": "88d8c840",
   "metadata": {},
   "outputs": [],
   "source": [
    "kl = KneeLocator(range(10,170,10), sse, curve=\"convex\", direction=\"decreasing\")\n",
    "kl.elbow"
   ]
  },
  {
   "cell_type": "code",
   "execution_count": null,
   "id": "c82230dd",
   "metadata": {},
   "outputs": [],
   "source": [
    "#assigning the ideal result of the elbow method as a future k for clustering\n",
    "clust_k = kl.elbow"
   ]
  },
  {
   "cell_type": "markdown",
   "id": "20ff50a9",
   "metadata": {},
   "source": [
    "### Silhouette coefficient"
   ]
  },
  {
   "cell_type": "code",
   "execution_count": null,
   "id": "28186955",
   "metadata": {},
   "outputs": [],
   "source": [
    "# A list with sc for each k to evalueate previous conclusion\n",
    "silhouette_coefficients = []\n",
    "\n",
    "for k in range(10, 170, 10):\n",
    "    kmeans = KMeans(n_clusters=k, **kmeans_kwargs)\n",
    "    kmeans.fit(x)\n",
    "    score = silhouette_score(x, kmeans.labels_)\n",
    "    silhouette_coefficients.append(score)\n",
    "\n",
    "plt.style.use(\"fivethirtyeight\")\n",
    "plt.plot(range(10, 170, 10), silhouette_coefficients)\n",
    "plt.xticks(range(10, 170, 10))\n",
    "plt.xlabel(\"Number of Clusters\")\n",
    "plt.ylabel(\"Silhouette Coefficient\")\n",
    "plt.show()"
   ]
  },
  {
   "cell_type": "markdown",
   "id": "8545ae83",
   "metadata": {},
   "source": [
    "## Clustering"
   ]
  },
  {
   "cell_type": "code",
   "execution_count": null,
   "id": "fff7bb42",
   "metadata": {},
   "outputs": [],
   "source": [
    "x = x.to_numpy()"
   ]
  },
  {
   "cell_type": "code",
   "execution_count": null,
   "id": "d431536b",
   "metadata": {},
   "outputs": [],
   "source": [
    "kmeans = KMeans(clust_k)\n",
    "kmeans.fit(x)"
   ]
  },
  {
   "cell_type": "code",
   "execution_count": null,
   "id": "21906e02",
   "metadata": {},
   "outputs": [],
   "source": [
    "identified_clusters = kmeans.fit_predict(x)\n",
    "identified_clusters"
   ]
  },
  {
   "cell_type": "code",
   "execution_count": null,
   "id": "45622c85",
   "metadata": {},
   "outputs": [],
   "source": [
    "len(identified_clusters)"
   ]
  },
  {
   "cell_type": "code",
   "execution_count": null,
   "id": "7916eb58",
   "metadata": {},
   "outputs": [],
   "source": [
    "df_locations['cluster'] = identified_clusters"
   ]
  },
  {
   "cell_type": "code",
   "execution_count": null,
   "id": "67db1760",
   "metadata": {
    "scrolled": true
   },
   "outputs": [],
   "source": [
    "df_locations.head(2)"
   ]
  },
  {
   "cell_type": "code",
   "execution_count": null,
   "id": "44c55c2b",
   "metadata": {},
   "outputs": [],
   "source": [
    "plt.scatter(df_locations['lng'],df_locations['lat'],c=df_locations['cluster'],cmap='rocket')\n",
    "plt.xlim(6.80,7.15)\n",
    "plt.ylim(50.85,51.06)\n",
    "plt.show()"
   ]
  },
  {
   "cell_type": "code",
   "execution_count": null,
   "id": "5cb94d9f",
   "metadata": {},
   "outputs": [],
   "source": [
    "start_loc = []\n",
    "for index, row in df.iterrows():\n",
    "    loc_str = str([row['lat_begin'],row['lng_begin']])\n",
    "    start_loc.append(loc_str)"
   ]
  },
  {
   "cell_type": "code",
   "execution_count": null,
   "id": "83da5984",
   "metadata": {},
   "outputs": [],
   "source": [
    "end_loc = []\n",
    "for index, row in df.iterrows():\n",
    "    loc_str = str([row['lat_end'],row['lng_end']])\n",
    "    end_loc.append(loc_str)"
   ]
  },
  {
   "cell_type": "code",
   "execution_count": null,
   "id": "4e106d87",
   "metadata": {},
   "outputs": [],
   "source": [
    "len(start_loc)"
   ]
  },
  {
   "cell_type": "code",
   "execution_count": null,
   "id": "a10a30c1",
   "metadata": {},
   "outputs": [],
   "source": [
    "len(end_loc)"
   ]
  },
  {
   "cell_type": "code",
   "execution_count": null,
   "id": "a3b91013",
   "metadata": {},
   "outputs": [],
   "source": [
    "df"
   ]
  },
  {
   "cell_type": "code",
   "execution_count": null,
   "id": "7d0a4aaa",
   "metadata": {},
   "outputs": [],
   "source": [
    "df['latlng'] = start_loc #setting starting locations as a joint column"
   ]
  },
  {
   "cell_type": "code",
   "execution_count": null,
   "id": "0544e12f",
   "metadata": {},
   "outputs": [],
   "source": [
    "df_merge_loc = df_locations[['loc_id', 'latlng', 'cluster']]"
   ]
  },
  {
   "cell_type": "code",
   "execution_count": null,
   "id": "c464269a",
   "metadata": {
    "scrolled": true
   },
   "outputs": [],
   "source": [
    "df_merge_loc"
   ]
  },
  {
   "cell_type": "code",
   "execution_count": null,
   "id": "02a04a75",
   "metadata": {},
   "outputs": [],
   "source": [
    "df_clusters = pd.merge(df, df_merge_loc, on='latlng', how='left')"
   ]
  },
  {
   "cell_type": "code",
   "execution_count": null,
   "id": "adbe5578",
   "metadata": {},
   "outputs": [],
   "source": [
    "df_clusters"
   ]
  },
  {
   "cell_type": "code",
   "execution_count": null,
   "id": "2f938807",
   "metadata": {},
   "outputs": [],
   "source": [
    "cls = {'latlng':'latlng_start','loc_id':'loc_id_start', 'cluster':'cluster_start'}\n",
    "df_clusters.rename(columns=cls, inplace=True) #renaming columns to match data about the start of the ride"
   ]
  },
  {
   "cell_type": "code",
   "execution_count": null,
   "id": "7926de30",
   "metadata": {},
   "outputs": [],
   "source": [
    "len(df_clusters)"
   ]
  },
  {
   "cell_type": "code",
   "execution_count": null,
   "id": "9247064a",
   "metadata": {},
   "outputs": [],
   "source": [
    "df_clusters['latlng'] = end_loc #setting ending locations as a joint column"
   ]
  },
  {
   "cell_type": "code",
   "execution_count": null,
   "id": "210fd860",
   "metadata": {},
   "outputs": [],
   "source": [
    "df_clusters = pd.merge(df_clusters, df_merge_loc, on='latlng', how='left')"
   ]
  },
  {
   "cell_type": "code",
   "execution_count": null,
   "id": "17316a4a",
   "metadata": {},
   "outputs": [],
   "source": [
    "df_clusters"
   ]
  },
  {
   "cell_type": "code",
   "execution_count": null,
   "id": "ad92a7d0",
   "metadata": {},
   "outputs": [],
   "source": [
    "cls = {'latlng':'latlng_end','loc_id':'loc_id_end', 'cluster':'cluster_end'}\n",
    "df_clusters.rename(columns=cls, inplace=True) #renaming columns to match data about the start of the ride"
   ]
  },
  {
   "cell_type": "code",
   "execution_count": null,
   "id": "9a7a658a",
   "metadata": {},
   "outputs": [],
   "source": [
    "df_g = df_clusters[['ride_time','cluster_start','cluster_end']]"
   ]
  },
  {
   "cell_type": "code",
   "execution_count": null,
   "id": "cc91242c",
   "metadata": {},
   "outputs": [],
   "source": [
    "df_g = df_g.groupby(['cluster_start','cluster_end']).count()"
   ]
  },
  {
   "cell_type": "code",
   "execution_count": null,
   "id": "d943e75d",
   "metadata": {},
   "outputs": [],
   "source": [
    "df_g.reset_index(inplace=True)"
   ]
  },
  {
   "cell_type": "code",
   "execution_count": null,
   "id": "13aa45c4",
   "metadata": {},
   "outputs": [],
   "source": [
    "df_g.rename({'ride_time':'ride_count'}, axis=1, inplace=True)\n",
    "df_g"
   ]
  },
  {
   "cell_type": "code",
   "execution_count": null,
   "id": "7c0749cb",
   "metadata": {},
   "outputs": [],
   "source": [
    "df_g['cluster_start'].value_counts()"
   ]
  },
  {
   "cell_type": "code",
   "execution_count": null,
   "id": "246815b6",
   "metadata": {},
   "outputs": [],
   "source": [
    "df_locations.rename({'cluster':'cluster_kmns'}, inplace=True, axis=1)"
   ]
  },
  {
   "cell_type": "code",
   "execution_count": null,
   "id": "a3e01c2e",
   "metadata": {},
   "outputs": [],
   "source": [
    "df_locations.head()"
   ]
  },
  {
   "cell_type": "markdown",
   "id": "c1bc2a57",
   "metadata": {},
   "source": [
    "### Agglomerative Clustering with chosen k"
   ]
  },
  {
   "cell_type": "code",
   "execution_count": null,
   "id": "05ee9822",
   "metadata": {},
   "outputs": [],
   "source": [
    "len(x)"
   ]
  },
  {
   "cell_type": "code",
   "execution_count": null,
   "id": "3cd1cf5d",
   "metadata": {},
   "outputs": [],
   "source": [
    "from sklearn.cluster import AgglomerativeClustering"
   ]
  },
  {
   "cell_type": "code",
   "execution_count": null,
   "id": "18c8d08c",
   "metadata": {},
   "outputs": [],
   "source": [
    "clustering = AgglomerativeClustering(clust_k).fit(x)\n",
    "clustering"
   ]
  },
  {
   "cell_type": "code",
   "execution_count": null,
   "id": "74fe9bcb",
   "metadata": {},
   "outputs": [],
   "source": [
    "clustering.labels_"
   ]
  },
  {
   "cell_type": "code",
   "execution_count": null,
   "id": "be5cb197",
   "metadata": {},
   "outputs": [],
   "source": [
    "df_locations['cluster_agg'] = clustering.labels_"
   ]
  },
  {
   "cell_type": "code",
   "execution_count": null,
   "id": "8c0b2094",
   "metadata": {},
   "outputs": [],
   "source": [
    "plt.scatter(df_locations['lng'],df_locations['lat'],c=df_locations['cluster_agg'],cmap='rocket')\n",
    "plt.xlim(6.80,7.10)\n",
    "plt.ylim(50.85,51.05)\n",
    "plt.show()"
   ]
  },
  {
   "cell_type": "code",
   "execution_count": null,
   "id": "d055823b",
   "metadata": {},
   "outputs": [],
   "source": [
    "df_locations.head(20)"
   ]
  },
  {
   "cell_type": "code",
   "execution_count": null,
   "id": "187be527",
   "metadata": {},
   "outputs": [],
   "source": [
    "type(df_locations['latlng'])"
   ]
  },
  {
   "cell_type": "code",
   "execution_count": null,
   "id": "527960b4",
   "metadata": {},
   "outputs": [],
   "source": [
    "len(df_locations)"
   ]
  },
  {
   "cell_type": "code",
   "execution_count": null,
   "id": "528c9908",
   "metadata": {},
   "outputs": [],
   "source": [
    "df_locations['cluster_kmns'].value_counts(dropna=False)"
   ]
  },
  {
   "cell_type": "code",
   "execution_count": null,
   "id": "62b5f569",
   "metadata": {},
   "outputs": [],
   "source": [
    "df_locations['cluster_agg'].value_counts(dropna=False)"
   ]
  }
 ],
 "metadata": {
  "kernelspec": {
   "display_name": "Python 3",
   "language": "python",
   "name": "python3"
  },
  "language_info": {
   "codemirror_mode": {
    "name": "ipython",
    "version": 3
   },
   "file_extension": ".py",
   "mimetype": "text/x-python",
   "name": "python",
   "nbconvert_exporter": "python",
   "pygments_lexer": "ipython3",
   "version": "3.5.2"
  }
 },
 "nbformat": 4,
 "nbformat_minor": 5
}
