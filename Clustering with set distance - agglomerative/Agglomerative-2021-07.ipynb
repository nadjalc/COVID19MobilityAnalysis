{
 "cells": [
  {
   "cell_type": "code",
   "execution_count": null,
   "id": "eca1ed40",
   "metadata": {},
   "outputs": [],
   "source": [
    "import pandas as pd\n",
    "import numpy as np\n",
    "import matplotlib\n",
    "import matplotlib.pyplot as plt\n",
    "import seaborn as sns\n",
    "from sklearn.cluster import AgglomerativeClustering\n",
    "from scipy.cluster.hierarchy import dendrogram\n",
    "import datetime\n",
    "from itertools import islice"
   ]
  },
  {
   "cell_type": "code",
   "execution_count": null,
   "id": "74266d5b",
   "metadata": {},
   "outputs": [],
   "source": [
    "matplotlib.rcParams['figure.figsize'] = (16.0, 12.0)\n",
    "matplotlib.style.use('ggplot')"
   ]
  },
  {
   "cell_type": "code",
   "execution_count": null,
   "id": "f58b4120",
   "metadata": {},
   "outputs": [],
   "source": [
    "def parse_timestamp(el):\n",
    "    b = datetime.datetime.strptime(el, fmt)\n",
    "    return b"
   ]
  },
  {
   "cell_type": "code",
   "execution_count": null,
   "id": "abf8f7ec",
   "metadata": {},
   "outputs": [],
   "source": [
    "def create_date_col(df_m):\n",
    "    date_lst = []\n",
    "    for index, row in df_m.iterrows():\n",
    "        day = str(df_m['ride_begin'][index].day)\n",
    "        month = str(df_m['ride_begin'][index].month)\n",
    "        year = str(df_m['ride_begin'][index].year)\n",
    "        date_text = year + '-' + month + '-' + day\n",
    "        date_lst.append(date_text)\n",
    "    return date_lst"
   ]
  },
  {
   "cell_type": "code",
   "execution_count": null,
   "id": "df99b485",
   "metadata": {},
   "outputs": [],
   "source": [
    "fmt = '%Y-%m-%d %H:%M:%S'"
   ]
  },
  {
   "cell_type": "code",
   "execution_count": null,
   "id": "db41468d",
   "metadata": {},
   "outputs": [],
   "source": [
    "url = \"/bigdata/jelicicna/mobility_data_2021/anlysis_data_nextbike_2021-07.csv\"\n",
    "df = pd.read_csv(url, sep=';', low_memory=False)"
   ]
  },
  {
   "cell_type": "code",
   "execution_count": null,
   "id": "26ae53f5",
   "metadata": {},
   "outputs": [],
   "source": [
    "url2 = \"/bigdata/jelicicna/clustering_datasets/locations_for_clustering_2021-07.csv\"\n",
    "df_locations = pd.read_csv(url2, sep=';', low_memory=False)"
   ]
  },
  {
   "cell_type": "code",
   "execution_count": null,
   "id": "df47db2b",
   "metadata": {},
   "outputs": [],
   "source": [
    "df.drop('old_index', axis=1, inplace=True)"
   ]
  },
  {
   "cell_type": "code",
   "execution_count": null,
   "id": "a901d299",
   "metadata": {},
   "outputs": [],
   "source": [
    "df['ride_begin'] = df['ride_begin'].map(parse_timestamp)\n",
    "df['ride_end'] = df['ride_end'].map(parse_timestamp)"
   ]
  },
  {
   "cell_type": "code",
   "execution_count": null,
   "id": "800a4b31",
   "metadata": {},
   "outputs": [],
   "source": [
    "#separate data for clustering\n",
    "x = df_locations.iloc[:,2:4]"
   ]
  },
  {
   "cell_type": "code",
   "execution_count": null,
   "id": "a8725b54",
   "metadata": {},
   "outputs": [],
   "source": [
    "x.head()"
   ]
  },
  {
   "cell_type": "code",
   "execution_count": null,
   "id": "fff7bb42",
   "metadata": {},
   "outputs": [],
   "source": [
    "X = x.to_numpy()"
   ]
  },
  {
   "cell_type": "markdown",
   "id": "8c722501",
   "metadata": {},
   "source": [
    "## Agglomerative clustering"
   ]
  },
  {
   "cell_type": "code",
   "execution_count": null,
   "id": "08bd3298",
   "metadata": {},
   "outputs": [],
   "source": [
    "# A method for generating dendrogram\n",
    "def plot_dendrogram(model, **kwargs):\n",
    "    # Create linkage matrix and then plot the dendrogram\n",
    "\n",
    "    # create the counts of samples under each node\n",
    "    counts = np.zeros(model.children_.shape[0])\n",
    "    n_samples = len(model.labels_)\n",
    "    for i, merge in enumerate(model.children_):\n",
    "        current_count = 0\n",
    "        for child_idx in merge:\n",
    "            if child_idx < n_samples:\n",
    "                current_count += 1  # leaf node\n",
    "            else:\n",
    "                current_count += counts[child_idx - n_samples]\n",
    "        counts[i] = current_count\n",
    "\n",
    "    linkage_matrix = np.column_stack([model.children_, model.distances_, counts]).astype(float)\n",
    "\n",
    "    # Plot the corresponding dendrogram\n",
    "    dendrogram(linkage_matrix, **kwargs)"
   ]
  },
  {
   "cell_type": "code",
   "execution_count": null,
   "id": "f408faf6",
   "metadata": {},
   "outputs": [],
   "source": [
    "# instantiate Agglomerative Clustering instance\n",
    "clustering_model = AgglomerativeClustering(distance_threshold=0, n_clusters=None)"
   ]
  },
  {
   "cell_type": "code",
   "execution_count": null,
   "id": "c69ca5d6",
   "metadata": {},
   "outputs": [],
   "source": [
    "# call fit method with array of sample coordinates passed as a parameter\n",
    "categories = clustering_model.fit(X)"
   ]
  },
  {
   "cell_type": "code",
   "execution_count": null,
   "id": "6ad8b0b6",
   "metadata": {},
   "outputs": [],
   "source": [
    "categories.labels_"
   ]
  },
  {
   "cell_type": "code",
   "execution_count": null,
   "id": "fcc49526",
   "metadata": {},
   "outputs": [],
   "source": [
    "clustering_model.children_"
   ]
  },
  {
   "cell_type": "code",
   "execution_count": null,
   "id": "5c2f08ec",
   "metadata": {},
   "outputs": [],
   "source": [
    "clustering_model.distances_.max()"
   ]
  },
  {
   "cell_type": "code",
   "execution_count": null,
   "id": "74fe9efa",
   "metadata": {},
   "outputs": [],
   "source": [
    "clustering_model.distances_.min()"
   ]
  },
  {
   "cell_type": "code",
   "execution_count": null,
   "id": "43155b21",
   "metadata": {},
   "outputs": [],
   "source": [
    "# instantiate Agglomerative Clustering instance\n",
    "clustering_model = AgglomerativeClustering(distance_threshold=0.3, n_clusters=None)\n",
    "\n",
    "# call fit method with array of sample coordinates passed as a parameter\n",
    "categories = clustering_model.fit(X)\n",
    "\n",
    "categories.labels_"
   ]
  },
  {
   "cell_type": "code",
   "execution_count": null,
   "id": "387480fd",
   "metadata": {},
   "outputs": [],
   "source": [
    "df_locations['cluster'] = categories.labels_"
   ]
  },
  {
   "cell_type": "code",
   "execution_count": null,
   "id": "ceefd902",
   "metadata": {},
   "outputs": [],
   "source": [
    "#plot dendrogram to visualize clusters\n",
    "#plot_dendrogram(categories)"
   ]
  },
  {
   "cell_type": "code",
   "execution_count": null,
   "id": "dfc7b8b1",
   "metadata": {},
   "outputs": [],
   "source": [
    "# instantiate Agglomerative Clustering instance\n",
    "clustering_model2 = AgglomerativeClustering(distance_threshold=0.2, n_clusters=None)\n",
    "\n",
    "# call fit method with array of sample coordinates passed as a parameter\n",
    "categories2 = clustering_model2.fit(X)\n",
    "\n",
    "categories2.labels_"
   ]
  },
  {
   "cell_type": "code",
   "execution_count": null,
   "id": "d54f0247",
   "metadata": {},
   "outputs": [],
   "source": [
    "df_locations['cluster2'] = categories2.labels_"
   ]
  },
  {
   "cell_type": "code",
   "execution_count": null,
   "id": "a8cdf5f1",
   "metadata": {},
   "outputs": [],
   "source": [
    "len(df_locations['cluster'].value_counts())"
   ]
  },
  {
   "cell_type": "code",
   "execution_count": null,
   "id": "d1fed11f",
   "metadata": {},
   "outputs": [],
   "source": [
    "len(df_locations['cluster2'].value_counts())"
   ]
  },
  {
   "cell_type": "code",
   "execution_count": null,
   "id": "9451badc",
   "metadata": {},
   "outputs": [],
   "source": [
    "customPalette = ['#7b241c', '#c0392b', '#cd6155', '#d98880', '#e6b0aa', '#f2d7d5', '#633974', '#76448a', \n",
    "                 '#884ea0', '#9b59b6', '#af7ac5', '#c39bd3', '#1f618d', '#2471a3', '#2980b9', '#5499c7',\n",
    "                 '#7fb3d5', '#a9cce3', '#117864', '#148f77', '#17a589', '#1abc9c', '#48c9b0', '#76d7c4',\n",
    "                 '#9c640c', '#b9770e', '#d68910', '#f39c12', '#f5b041', '#f8c471', '#873600', '#a04000',\n",
    "                 '#ba4a00', '#d35400', '#dc7633', '#e59866', '#626567', '#797d7f', '#909497', '#a6acaf',\n",
    "                 '#bdc3c7', '#cacfd2']\n",
    "sns.set_palette(customPalette)\n",
    "sns.palplot(customPalette)"
   ]
  },
  {
   "cell_type": "code",
   "execution_count": null,
   "id": "fdece497",
   "metadata": {},
   "outputs": [],
   "source": [
    "labels = set(df_locations['cluster'].to_list())\n",
    "labels2 = set(df_locations['cluster2'].to_list())"
   ]
  },
  {
   "cell_type": "code",
   "execution_count": null,
   "id": "1ac3ad64",
   "metadata": {},
   "outputs": [],
   "source": [
    "#create a new figure\n",
    "plt.figure(figsize=(18,18))\n",
    "\n",
    "#loop through labels and plot each cluster\n",
    "for l in labels:\n",
    "\n",
    "    #add data points \n",
    "    plt.scatter(x=df_locations.loc[df_locations['cluster_agg']==l, 'lng'], \n",
    "                y=df_locations.loc[df_locations['cluster_agg']==l, 'lat'], \n",
    "                color=customPalette[l], \n",
    "                alpha=1)\n",
    "    \n",
    "    #add label\n",
    "    plt.annotate(l, \n",
    "                 df_locations.loc[df_locations['cluster_agg']==l,['lng','lat']].mean(),\n",
    "                 horizontalalignment='center',\n",
    "                 verticalalignment='center',\n",
    "                 size=20, weight='bold',\n",
    "                 color='white',\n",
    "                 backgroundcolor=customPalette[l]) "
   ]
  },
  {
   "cell_type": "code",
   "execution_count": null,
   "id": "59ea8b34",
   "metadata": {},
   "outputs": [],
   "source": [
    "#create a new figure\n",
    "plt.figure(figsize=(18,18))\n",
    "\n",
    "#loop through labels and plot each cluster\n",
    "for l in labels:\n",
    "\n",
    "    #add data points \n",
    "    plt.scatter(x=df_locations.loc[df_locations['cluster_agg']==l, 'lng'], \n",
    "                y=df_locations.loc[df_locations['cluster_agg']==l, 'lat'], \n",
    "                color=customPalette[l], \n",
    "                alpha=1)\n",
    "    \n",
    "    #add label\n",
    "    plt.annotate(l, \n",
    "                 df_locations.loc[df_locations['cluster_agg']==l,['lng','lat']].mean(),\n",
    "                 horizontalalignment='center',\n",
    "                 verticalalignment='center',\n",
    "                 size=20, weight='bold',\n",
    "                 color='white',\n",
    "                 backgroundcolor=customPalette[l]) "
   ]
  }
 ],
 "metadata": {
  "kernelspec": {
   "display_name": "Python 3",
   "language": "python",
   "name": "python3"
  },
  "language_info": {
   "codemirror_mode": {
    "name": "ipython",
    "version": 3
   },
   "file_extension": ".py",
   "mimetype": "text/x-python",
   "name": "python",
   "nbconvert_exporter": "python",
   "pygments_lexer": "ipython3",
   "version": "3.5.2"
  }
 },
 "nbformat": 4,
 "nbformat_minor": 5
}
