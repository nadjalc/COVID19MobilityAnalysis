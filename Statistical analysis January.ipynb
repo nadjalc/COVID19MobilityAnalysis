{
 "cells": [
  {
   "cell_type": "code",
   "execution_count": 47,
   "id": "1b9ae1fb",
   "metadata": {},
   "outputs": [],
   "source": [
    "import pandas as pd\n",
    "import seaborn as sns\n",
    "import numpy as np\n",
    "import matplotlib.pyplot as plt\n",
    "import matplotlib\n",
    "from fitter import Fitter, get_common_distributions, get_distributions\n",
    "from itertools import islice\n",
    "import matplotlib.pyplot as plt"
   ]
  },
  {
   "cell_type": "code",
   "execution_count": 48,
   "id": "4f23e8dc",
   "metadata": {},
   "outputs": [],
   "source": [
    "url_20 = \"/bigdata/jelicicna/output_datasets/anlysis_data_nextbike_2020-01.csv.gz\"\n",
    "url_21 = \"/bigdata/jelicicna/output_datasets/anlysis_data_nextbike_2021-01.csv.gz\"\n",
    "df_20 = pd.read_csv(url_20, sep=';', low_memory=False)\n",
    "df_21 = pd.read_csv(url_21, sep=';', low_memory=False)"
   ]
  },
  {
   "cell_type": "code",
   "execution_count": 3,
   "id": "13e2105c",
   "metadata": {},
   "outputs": [],
   "source": [
    "pd.set_option('display.max_columns()', None)"
   ]
  },
  {
   "cell_type": "code",
   "execution_count": 4,
   "id": "f9f5fac1",
   "metadata": {},
   "outputs": [],
   "source": [
    "matplotlib.rcParams['figure.figsize'] = (16.0, 12.0)\n",
    "matplotlib.style.use('ggplot')"
   ]
  },
  {
   "cell_type": "code",
   "execution_count": 5,
   "id": "1b815d03",
   "metadata": {},
   "outputs": [
    {
     "data": {
      "text/html": [
       "<div>\n",
       "<style scoped>\n",
       "    .dataframe tbody tr th:only-of-type {\n",
       "        vertical-align: middle;\n",
       "    }\n",
       "\n",
       "    .dataframe tbody tr th {\n",
       "        vertical-align: top;\n",
       "    }\n",
       "\n",
       "    .dataframe thead th {\n",
       "        text-align: right;\n",
       "    }\n",
       "</style>\n",
       "<table border=\"1\" class=\"dataframe\">\n",
       "  <thead>\n",
       "    <tr style=\"text-align: right;\">\n",
       "      <th></th>\n",
       "      <th>lat_begin</th>\n",
       "      <th>lng_begin</th>\n",
       "      <th>lat_end</th>\n",
       "      <th>lng_end</th>\n",
       "      <th>ride_begin</th>\n",
       "      <th>ride_end</th>\n",
       "      <th>ride_time</th>\n",
       "      <th>distance</th>\n",
       "      <th>uid_begin</th>\n",
       "      <th>uid_end</th>\n",
       "      <th>standing_before_ride</th>\n",
       "      <th>address</th>\n",
       "      <th>name</th>\n",
       "      <th>available_bikes</th>\n",
       "    </tr>\n",
       "  </thead>\n",
       "  <tbody>\n",
       "    <tr>\n",
       "      <th>0</th>\n",
       "      <td>50.932058</td>\n",
       "      <td>6.988541</td>\n",
       "      <td>50.936326</td>\n",
       "      <td>6.986125</td>\n",
       "      <td>2020-01-01 02:40:01</td>\n",
       "      <td>2020-01-01 02:46:02</td>\n",
       "      <td>6.0</td>\n",
       "      <td>504.0</td>\n",
       "      <td>26503191</td>\n",
       "      <td>26523894</td>\n",
       "      <td>160.0</td>\n",
       "      <td>NaN</td>\n",
       "      <td>BIKE 22739</td>\n",
       "      <td>2620</td>\n",
       "    </tr>\n",
       "    <tr>\n",
       "      <th>1</th>\n",
       "      <td>50.936326</td>\n",
       "      <td>6.986125</td>\n",
       "      <td>50.932037</td>\n",
       "      <td>6.988254</td>\n",
       "      <td>2020-01-01 06:25:02</td>\n",
       "      <td>2020-01-01 06:30:03</td>\n",
       "      <td>5.0</td>\n",
       "      <td>500.0</td>\n",
       "      <td>26523894</td>\n",
       "      <td>26528020</td>\n",
       "      <td>219.0</td>\n",
       "      <td>NaN</td>\n",
       "      <td>BIKE 22739</td>\n",
       "      <td>2613</td>\n",
       "    </tr>\n",
       "  </tbody>\n",
       "</table>\n",
       "</div>"
      ],
      "text/plain": [
       "   lat_begin  lng_begin    lat_end   lng_end           ride_begin  \\\n",
       "0  50.932058   6.988541  50.936326  6.986125  2020-01-01 02:40:01   \n",
       "1  50.936326   6.986125  50.932037  6.988254  2020-01-01 06:25:02   \n",
       "\n",
       "              ride_end  ride_time  distance  uid_begin   uid_end  \\\n",
       "0  2020-01-01 02:46:02        6.0     504.0   26503191  26523894   \n",
       "1  2020-01-01 06:30:03        5.0     500.0   26523894  26528020   \n",
       "\n",
       "   standing_before_ride address        name  available_bikes  \n",
       "0                 160.0     NaN  BIKE 22739             2620  \n",
       "1                 219.0     NaN  BIKE 22739             2613  "
      ]
     },
     "execution_count": 5,
     "metadata": {},
     "output_type": "execute_result"
    }
   ],
   "source": [
    "df_20.head(2)"
   ]
  },
  {
   "cell_type": "code",
   "execution_count": 6,
   "id": "22b0f363",
   "metadata": {},
   "outputs": [
    {
     "data": {
      "text/html": [
       "<div>\n",
       "<style scoped>\n",
       "    .dataframe tbody tr th:only-of-type {\n",
       "        vertical-align: middle;\n",
       "    }\n",
       "\n",
       "    .dataframe tbody tr th {\n",
       "        vertical-align: top;\n",
       "    }\n",
       "\n",
       "    .dataframe thead th {\n",
       "        text-align: right;\n",
       "    }\n",
       "</style>\n",
       "<table border=\"1\" class=\"dataframe\">\n",
       "  <thead>\n",
       "    <tr style=\"text-align: right;\">\n",
       "      <th></th>\n",
       "      <th>lat_begin</th>\n",
       "      <th>lng_begin</th>\n",
       "      <th>lat_end</th>\n",
       "      <th>lng_end</th>\n",
       "      <th>ride_begin</th>\n",
       "      <th>ride_end</th>\n",
       "      <th>ride_time</th>\n",
       "      <th>distance</th>\n",
       "      <th>uid_begin</th>\n",
       "      <th>uid_end</th>\n",
       "      <th>standing_before_ride</th>\n",
       "      <th>address</th>\n",
       "      <th>name</th>\n",
       "      <th>available_bikes</th>\n",
       "    </tr>\n",
       "  </thead>\n",
       "  <tbody>\n",
       "    <tr>\n",
       "      <th>0</th>\n",
       "      <td>50.943332</td>\n",
       "      <td>6.981505</td>\n",
       "      <td>50.943501</td>\n",
       "      <td>6.981660</td>\n",
       "      <td>2021-01-02 23:57:02</td>\n",
       "      <td>2021-01-03 00:01:01</td>\n",
       "      <td>4.0</td>\n",
       "      <td>22.0</td>\n",
       "      <td>40297977</td>\n",
       "      <td>40645704</td>\n",
       "      <td>2877.0</td>\n",
       "      <td>NaN</td>\n",
       "      <td>BIKE 21596</td>\n",
       "      <td>814</td>\n",
       "    </tr>\n",
       "    <tr>\n",
       "      <th>1</th>\n",
       "      <td>50.943417</td>\n",
       "      <td>6.981606</td>\n",
       "      <td>50.943419</td>\n",
       "      <td>6.981562</td>\n",
       "      <td>2021-01-11 17:52:01</td>\n",
       "      <td>2021-01-11 17:57:02</td>\n",
       "      <td>5.0</td>\n",
       "      <td>3.0</td>\n",
       "      <td>40668729</td>\n",
       "      <td>40822810</td>\n",
       "      <td>9094.0</td>\n",
       "      <td>NaN</td>\n",
       "      <td>BIKE 21596</td>\n",
       "      <td>766</td>\n",
       "    </tr>\n",
       "  </tbody>\n",
       "</table>\n",
       "</div>"
      ],
      "text/plain": [
       "   lat_begin  lng_begin    lat_end   lng_end           ride_begin  \\\n",
       "0  50.943332   6.981505  50.943501  6.981660  2021-01-02 23:57:02   \n",
       "1  50.943417   6.981606  50.943419  6.981562  2021-01-11 17:52:01   \n",
       "\n",
       "              ride_end  ride_time  distance  uid_begin   uid_end  \\\n",
       "0  2021-01-03 00:01:01        4.0      22.0   40297977  40645704   \n",
       "1  2021-01-11 17:57:02        5.0       3.0   40668729  40822810   \n",
       "\n",
       "   standing_before_ride address        name  available_bikes  \n",
       "0                2877.0     NaN  BIKE 21596              814  \n",
       "1                9094.0     NaN  BIKE 21596              766  "
      ]
     },
     "execution_count": 6,
     "metadata": {},
     "output_type": "execute_result"
    }
   ],
   "source": [
    "df_21.head(2)"
   ]
  },
  {
   "cell_type": "markdown",
   "id": "c9bfc633",
   "metadata": {},
   "source": [
    "## Quantitative analysis"
   ]
  },
  {
   "cell_type": "code",
   "execution_count": 7,
   "id": "21ec08e9",
   "metadata": {},
   "outputs": [
    {
     "data": {
      "text/html": [
       "<div>\n",
       "<style scoped>\n",
       "    .dataframe tbody tr th:only-of-type {\n",
       "        vertical-align: middle;\n",
       "    }\n",
       "\n",
       "    .dataframe tbody tr th {\n",
       "        vertical-align: top;\n",
       "    }\n",
       "\n",
       "    .dataframe thead th {\n",
       "        text-align: right;\n",
       "    }\n",
       "</style>\n",
       "<table border=\"1\" class=\"dataframe\">\n",
       "  <thead>\n",
       "    <tr style=\"text-align: right;\">\n",
       "      <th></th>\n",
       "      <th>lat_begin</th>\n",
       "      <th>lng_begin</th>\n",
       "      <th>lat_end</th>\n",
       "      <th>lng_end</th>\n",
       "      <th>ride_time</th>\n",
       "      <th>distance</th>\n",
       "      <th>uid_begin</th>\n",
       "      <th>uid_end</th>\n",
       "      <th>standing_before_ride</th>\n",
       "      <th>available_bikes</th>\n",
       "    </tr>\n",
       "  </thead>\n",
       "  <tbody>\n",
       "    <tr>\n",
       "      <th>count</th>\n",
       "      <td>63109.000000</td>\n",
       "      <td>63109.000000</td>\n",
       "      <td>63109.000000</td>\n",
       "      <td>63109.000000</td>\n",
       "      <td>63109.000000</td>\n",
       "      <td>63109.000000</td>\n",
       "      <td>6.310900e+04</td>\n",
       "      <td>6.310900e+04</td>\n",
       "      <td>63109.000000</td>\n",
       "      <td>63109.000000</td>\n",
       "    </tr>\n",
       "    <tr>\n",
       "      <th>mean</th>\n",
       "      <td>50.941050</td>\n",
       "      <td>6.949900</td>\n",
       "      <td>50.941057</td>\n",
       "      <td>6.949829</td>\n",
       "      <td>39.760098</td>\n",
       "      <td>1454.624348</td>\n",
       "      <td>2.700932e+07</td>\n",
       "      <td>2.702753e+07</td>\n",
       "      <td>472.943796</td>\n",
       "      <td>2566.345894</td>\n",
       "    </tr>\n",
       "    <tr>\n",
       "      <th>std</th>\n",
       "      <td>0.019488</td>\n",
       "      <td>0.033459</td>\n",
       "      <td>0.019525</td>\n",
       "      <td>0.033464</td>\n",
       "      <td>110.039654</td>\n",
       "      <td>1298.339769</td>\n",
       "      <td>5.365775e+05</td>\n",
       "      <td>3.567388e+05</td>\n",
       "      <td>1200.258974</td>\n",
       "      <td>43.303092</td>\n",
       "    </tr>\n",
       "    <tr>\n",
       "      <th>min</th>\n",
       "      <td>50.732188</td>\n",
       "      <td>6.687291</td>\n",
       "      <td>50.733456</td>\n",
       "      <td>6.687291</td>\n",
       "      <td>1.000000</td>\n",
       "      <td>0.000000</td>\n",
       "      <td>3.600450e+05</td>\n",
       "      <td>3.600450e+05</td>\n",
       "      <td>0.000000</td>\n",
       "      <td>2438.000000</td>\n",
       "    </tr>\n",
       "    <tr>\n",
       "      <th>25%</th>\n",
       "      <td>50.927361</td>\n",
       "      <td>6.925127</td>\n",
       "      <td>50.927368</td>\n",
       "      <td>6.925101</td>\n",
       "      <td>8.000000</td>\n",
       "      <td>519.000000</td>\n",
       "      <td>2.677053e+07</td>\n",
       "      <td>2.678903e+07</td>\n",
       "      <td>25.000000</td>\n",
       "      <td>2534.000000</td>\n",
       "    </tr>\n",
       "    <tr>\n",
       "      <th>50%</th>\n",
       "      <td>50.938959</td>\n",
       "      <td>6.947105</td>\n",
       "      <td>50.939000</td>\n",
       "      <td>6.947024</td>\n",
       "      <td>15.000000</td>\n",
       "      <td>1099.000000</td>\n",
       "      <td>2.702618e+07</td>\n",
       "      <td>2.704044e+07</td>\n",
       "      <td>111.000000</td>\n",
       "      <td>2570.000000</td>\n",
       "    </tr>\n",
       "    <tr>\n",
       "      <th>75%</th>\n",
       "      <td>50.954144</td>\n",
       "      <td>6.970742</td>\n",
       "      <td>50.954144</td>\n",
       "      <td>6.970649</td>\n",
       "      <td>28.000000</td>\n",
       "      <td>2074.000000</td>\n",
       "      <td>2.727220e+07</td>\n",
       "      <td>2.728021e+07</td>\n",
       "      <td>452.000000</td>\n",
       "      <td>2604.000000</td>\n",
       "    </tr>\n",
       "    <tr>\n",
       "      <th>max</th>\n",
       "      <td>51.028600</td>\n",
       "      <td>7.197774</td>\n",
       "      <td>51.028600</td>\n",
       "      <td>7.101521</td>\n",
       "      <td>1440.000000</td>\n",
       "      <td>19481.000000</td>\n",
       "      <td>2.745502e+07</td>\n",
       "      <td>2.745523e+07</td>\n",
       "      <td>33270.000000</td>\n",
       "      <td>2673.000000</td>\n",
       "    </tr>\n",
       "  </tbody>\n",
       "</table>\n",
       "</div>"
      ],
      "text/plain": [
       "          lat_begin     lng_begin       lat_end       lng_end     ride_time  \\\n",
       "count  63109.000000  63109.000000  63109.000000  63109.000000  63109.000000   \n",
       "mean      50.941050      6.949900     50.941057      6.949829     39.760098   \n",
       "std        0.019488      0.033459      0.019525      0.033464    110.039654   \n",
       "min       50.732188      6.687291     50.733456      6.687291      1.000000   \n",
       "25%       50.927361      6.925127     50.927368      6.925101      8.000000   \n",
       "50%       50.938959      6.947105     50.939000      6.947024     15.000000   \n",
       "75%       50.954144      6.970742     50.954144      6.970649     28.000000   \n",
       "max       51.028600      7.197774     51.028600      7.101521   1440.000000   \n",
       "\n",
       "           distance     uid_begin       uid_end  standing_before_ride  \\\n",
       "count  63109.000000  6.310900e+04  6.310900e+04          63109.000000   \n",
       "mean    1454.624348  2.700932e+07  2.702753e+07            472.943796   \n",
       "std     1298.339769  5.365775e+05  3.567388e+05           1200.258974   \n",
       "min        0.000000  3.600450e+05  3.600450e+05              0.000000   \n",
       "25%      519.000000  2.677053e+07  2.678903e+07             25.000000   \n",
       "50%     1099.000000  2.702618e+07  2.704044e+07            111.000000   \n",
       "75%     2074.000000  2.727220e+07  2.728021e+07            452.000000   \n",
       "max    19481.000000  2.745502e+07  2.745523e+07          33270.000000   \n",
       "\n",
       "       available_bikes  \n",
       "count     63109.000000  \n",
       "mean       2566.345894  \n",
       "std          43.303092  \n",
       "min        2438.000000  \n",
       "25%        2534.000000  \n",
       "50%        2570.000000  \n",
       "75%        2604.000000  \n",
       "max        2673.000000  "
      ]
     },
     "execution_count": 7,
     "metadata": {},
     "output_type": "execute_result"
    }
   ],
   "source": [
    "df_20.describe()"
   ]
  },
  {
   "cell_type": "code",
   "execution_count": 8,
   "id": "d823ee22",
   "metadata": {},
   "outputs": [
    {
     "data": {
      "text/html": [
       "<div>\n",
       "<style scoped>\n",
       "    .dataframe tbody tr th:only-of-type {\n",
       "        vertical-align: middle;\n",
       "    }\n",
       "\n",
       "    .dataframe tbody tr th {\n",
       "        vertical-align: top;\n",
       "    }\n",
       "\n",
       "    .dataframe thead th {\n",
       "        text-align: right;\n",
       "    }\n",
       "</style>\n",
       "<table border=\"1\" class=\"dataframe\">\n",
       "  <thead>\n",
       "    <tr style=\"text-align: right;\">\n",
       "      <th></th>\n",
       "      <th>lat_begin</th>\n",
       "      <th>lng_begin</th>\n",
       "      <th>lat_end</th>\n",
       "      <th>lng_end</th>\n",
       "      <th>ride_time</th>\n",
       "      <th>distance</th>\n",
       "      <th>uid_begin</th>\n",
       "      <th>uid_end</th>\n",
       "      <th>standing_before_ride</th>\n",
       "      <th>available_bikes</th>\n",
       "    </tr>\n",
       "  </thead>\n",
       "  <tbody>\n",
       "    <tr>\n",
       "      <th>count</th>\n",
       "      <td>28984.000000</td>\n",
       "      <td>28984.000000</td>\n",
       "      <td>28984.000000</td>\n",
       "      <td>28984.000000</td>\n",
       "      <td>28984.000000</td>\n",
       "      <td>28984.000000</td>\n",
       "      <td>2.898400e+04</td>\n",
       "      <td>2.898400e+04</td>\n",
       "      <td>28984.000000</td>\n",
       "      <td>28984.000000</td>\n",
       "    </tr>\n",
       "    <tr>\n",
       "      <th>mean</th>\n",
       "      <td>50.940539</td>\n",
       "      <td>6.947482</td>\n",
       "      <td>50.940585</td>\n",
       "      <td>6.947558</td>\n",
       "      <td>45.231059</td>\n",
       "      <td>1592.743997</td>\n",
       "      <td>4.090900e+07</td>\n",
       "      <td>4.092418e+07</td>\n",
       "      <td>965.765802</td>\n",
       "      <td>764.446729</td>\n",
       "    </tr>\n",
       "    <tr>\n",
       "      <th>std</th>\n",
       "      <td>0.020080</td>\n",
       "      <td>0.032865</td>\n",
       "      <td>0.020214</td>\n",
       "      <td>0.032913</td>\n",
       "      <td>116.965306</td>\n",
       "      <td>1456.323232</td>\n",
       "      <td>6.321846e+05</td>\n",
       "      <td>6.762612e+05</td>\n",
       "      <td>2190.856136</td>\n",
       "      <td>23.750070</td>\n",
       "    </tr>\n",
       "    <tr>\n",
       "      <th>min</th>\n",
       "      <td>50.812437</td>\n",
       "      <td>6.797032</td>\n",
       "      <td>50.812437</td>\n",
       "      <td>6.797032</td>\n",
       "      <td>1.000000</td>\n",
       "      <td>0.000000</td>\n",
       "      <td>3.922380e+05</td>\n",
       "      <td>3.678240e+05</td>\n",
       "      <td>0.000000</td>\n",
       "      <td>673.000000</td>\n",
       "    </tr>\n",
       "    <tr>\n",
       "      <th>25%</th>\n",
       "      <td>50.926160</td>\n",
       "      <td>6.922787</td>\n",
       "      <td>50.926135</td>\n",
       "      <td>6.922847</td>\n",
       "      <td>9.000000</td>\n",
       "      <td>494.000000</td>\n",
       "      <td>4.075943e+07</td>\n",
       "      <td>4.077593e+07</td>\n",
       "      <td>45.000000</td>\n",
       "      <td>749.000000</td>\n",
       "    </tr>\n",
       "    <tr>\n",
       "      <th>50%</th>\n",
       "      <td>50.938646</td>\n",
       "      <td>6.944674</td>\n",
       "      <td>50.938714</td>\n",
       "      <td>6.944823</td>\n",
       "      <td>17.000000</td>\n",
       "      <td>1210.000000</td>\n",
       "      <td>4.091314e+07</td>\n",
       "      <td>4.092870e+07</td>\n",
       "      <td>260.000000</td>\n",
       "      <td>765.000000</td>\n",
       "    </tr>\n",
       "    <tr>\n",
       "      <th>75%</th>\n",
       "      <td>50.954536</td>\n",
       "      <td>6.966476</td>\n",
       "      <td>50.954706</td>\n",
       "      <td>6.966668</td>\n",
       "      <td>32.000000</td>\n",
       "      <td>2349.000000</td>\n",
       "      <td>4.107850e+07</td>\n",
       "      <td>4.108727e+07</td>\n",
       "      <td>1026.000000</td>\n",
       "      <td>779.000000</td>\n",
       "    </tr>\n",
       "    <tr>\n",
       "      <th>max</th>\n",
       "      <td>51.079262</td>\n",
       "      <td>7.118853</td>\n",
       "      <td>51.079262</td>\n",
       "      <td>7.118863</td>\n",
       "      <td>1440.000000</td>\n",
       "      <td>19576.000000</td>\n",
       "      <td>4.126349e+07</td>\n",
       "      <td>4.126400e+07</td>\n",
       "      <td>44149.000000</td>\n",
       "      <td>833.000000</td>\n",
       "    </tr>\n",
       "  </tbody>\n",
       "</table>\n",
       "</div>"
      ],
      "text/plain": [
       "          lat_begin     lng_begin       lat_end       lng_end     ride_time  \\\n",
       "count  28984.000000  28984.000000  28984.000000  28984.000000  28984.000000   \n",
       "mean      50.940539      6.947482     50.940585      6.947558     45.231059   \n",
       "std        0.020080      0.032865      0.020214      0.032913    116.965306   \n",
       "min       50.812437      6.797032     50.812437      6.797032      1.000000   \n",
       "25%       50.926160      6.922787     50.926135      6.922847      9.000000   \n",
       "50%       50.938646      6.944674     50.938714      6.944823     17.000000   \n",
       "75%       50.954536      6.966476     50.954706      6.966668     32.000000   \n",
       "max       51.079262      7.118853     51.079262      7.118863   1440.000000   \n",
       "\n",
       "           distance     uid_begin       uid_end  standing_before_ride  \\\n",
       "count  28984.000000  2.898400e+04  2.898400e+04          28984.000000   \n",
       "mean    1592.743997  4.090900e+07  4.092418e+07            965.765802   \n",
       "std     1456.323232  6.321846e+05  6.762612e+05           2190.856136   \n",
       "min        0.000000  3.922380e+05  3.678240e+05              0.000000   \n",
       "25%      494.000000  4.075943e+07  4.077593e+07             45.000000   \n",
       "50%     1210.000000  4.091314e+07  4.092870e+07            260.000000   \n",
       "75%     2349.000000  4.107850e+07  4.108727e+07           1026.000000   \n",
       "max    19576.000000  4.126349e+07  4.126400e+07          44149.000000   \n",
       "\n",
       "       available_bikes  \n",
       "count     28984.000000  \n",
       "mean        764.446729  \n",
       "std          23.750070  \n",
       "min         673.000000  \n",
       "25%         749.000000  \n",
       "50%         765.000000  \n",
       "75%         779.000000  \n",
       "max         833.000000  "
      ]
     },
     "execution_count": 8,
     "metadata": {},
     "output_type": "execute_result"
    }
   ],
   "source": [
    "df_21.describe()"
   ]
  },
  {
   "cell_type": "code",
   "execution_count": 9,
   "id": "8e3d0d15",
   "metadata": {},
   "outputs": [],
   "source": [
    "df_20 = df_20[df_20.ride_time != 1]\n",
    "df_21 = df_21[df_21.ride_time != 1]"
   ]
  },
  {
   "cell_type": "code",
   "execution_count": 10,
   "id": "76811f60",
   "metadata": {},
   "outputs": [
    {
     "data": {
      "text/html": [
       "<div>\n",
       "<style scoped>\n",
       "    .dataframe tbody tr th:only-of-type {\n",
       "        vertical-align: middle;\n",
       "    }\n",
       "\n",
       "    .dataframe tbody tr th {\n",
       "        vertical-align: top;\n",
       "    }\n",
       "\n",
       "    .dataframe thead th {\n",
       "        text-align: right;\n",
       "    }\n",
       "</style>\n",
       "<table border=\"1\" class=\"dataframe\">\n",
       "  <thead>\n",
       "    <tr style=\"text-align: right;\">\n",
       "      <th></th>\n",
       "      <th>lat_begin</th>\n",
       "      <th>lng_begin</th>\n",
       "      <th>lat_end</th>\n",
       "      <th>lng_end</th>\n",
       "      <th>ride_time</th>\n",
       "      <th>distance</th>\n",
       "      <th>uid_begin</th>\n",
       "      <th>uid_end</th>\n",
       "      <th>standing_before_ride</th>\n",
       "      <th>available_bikes</th>\n",
       "    </tr>\n",
       "  </thead>\n",
       "  <tbody>\n",
       "    <tr>\n",
       "      <th>count</th>\n",
       "      <td>57971.000000</td>\n",
       "      <td>57971.000000</td>\n",
       "      <td>57971.000000</td>\n",
       "      <td>57971.000000</td>\n",
       "      <td>57971.000000</td>\n",
       "      <td>57971.000000</td>\n",
       "      <td>5.797100e+04</td>\n",
       "      <td>5.797100e+04</td>\n",
       "      <td>57971.000000</td>\n",
       "      <td>57971.000000</td>\n",
       "    </tr>\n",
       "    <tr>\n",
       "      <th>mean</th>\n",
       "      <td>50.941077</td>\n",
       "      <td>6.949943</td>\n",
       "      <td>50.941090</td>\n",
       "      <td>6.949874</td>\n",
       "      <td>43.195425</td>\n",
       "      <td>1569.923634</td>\n",
       "      <td>2.700936e+07</td>\n",
       "      <td>2.702683e+07</td>\n",
       "      <td>508.844940</td>\n",
       "      <td>2566.401856</td>\n",
       "    </tr>\n",
       "    <tr>\n",
       "      <th>std</th>\n",
       "      <td>0.019440</td>\n",
       "      <td>0.033468</td>\n",
       "      <td>0.019484</td>\n",
       "      <td>0.033510</td>\n",
       "      <td>114.179635</td>\n",
       "      <td>1282.242537</td>\n",
       "      <td>4.749857e+05</td>\n",
       "      <td>3.345751e+05</td>\n",
       "      <td>1235.606503</td>\n",
       "      <td>43.291137</td>\n",
       "    </tr>\n",
       "    <tr>\n",
       "      <th>min</th>\n",
       "      <td>50.732188</td>\n",
       "      <td>6.833255</td>\n",
       "      <td>50.733653</td>\n",
       "      <td>6.687291</td>\n",
       "      <td>2.000000</td>\n",
       "      <td>0.000000</td>\n",
       "      <td>3.600450e+05</td>\n",
       "      <td>3.786530e+05</td>\n",
       "      <td>0.000000</td>\n",
       "      <td>2438.000000</td>\n",
       "    </tr>\n",
       "    <tr>\n",
       "      <th>25%</th>\n",
       "      <td>50.927344</td>\n",
       "      <td>6.925058</td>\n",
       "      <td>50.927358</td>\n",
       "      <td>6.925052</td>\n",
       "      <td>10.000000</td>\n",
       "      <td>645.000000</td>\n",
       "      <td>2.676803e+07</td>\n",
       "      <td>2.677808e+07</td>\n",
       "      <td>39.000000</td>\n",
       "      <td>2534.000000</td>\n",
       "    </tr>\n",
       "    <tr>\n",
       "      <th>50%</th>\n",
       "      <td>50.938976</td>\n",
       "      <td>6.947061</td>\n",
       "      <td>50.939018</td>\n",
       "      <td>6.946996</td>\n",
       "      <td>17.000000</td>\n",
       "      <td>1216.000000</td>\n",
       "      <td>2.702372e+07</td>\n",
       "      <td>2.703772e+07</td>\n",
       "      <td>134.000000</td>\n",
       "      <td>2571.000000</td>\n",
       "    </tr>\n",
       "    <tr>\n",
       "      <th>75%</th>\n",
       "      <td>50.954221</td>\n",
       "      <td>6.971123</td>\n",
       "      <td>50.954230</td>\n",
       "      <td>6.971088</td>\n",
       "      <td>30.000000</td>\n",
       "      <td>2190.500000</td>\n",
       "      <td>2.727124e+07</td>\n",
       "      <td>2.727975e+07</td>\n",
       "      <td>502.000000</td>\n",
       "      <td>2604.000000</td>\n",
       "    </tr>\n",
       "    <tr>\n",
       "      <th>max</th>\n",
       "      <td>51.028600</td>\n",
       "      <td>7.197774</td>\n",
       "      <td>51.028600</td>\n",
       "      <td>7.101521</td>\n",
       "      <td>1440.000000</td>\n",
       "      <td>19481.000000</td>\n",
       "      <td>2.745492e+07</td>\n",
       "      <td>2.745523e+07</td>\n",
       "      <td>33270.000000</td>\n",
       "      <td>2673.000000</td>\n",
       "    </tr>\n",
       "  </tbody>\n",
       "</table>\n",
       "</div>"
      ],
      "text/plain": [
       "          lat_begin     lng_begin       lat_end       lng_end     ride_time  \\\n",
       "count  57971.000000  57971.000000  57971.000000  57971.000000  57971.000000   \n",
       "mean      50.941077      6.949943     50.941090      6.949874     43.195425   \n",
       "std        0.019440      0.033468      0.019484      0.033510    114.179635   \n",
       "min       50.732188      6.833255     50.733653      6.687291      2.000000   \n",
       "25%       50.927344      6.925058     50.927358      6.925052     10.000000   \n",
       "50%       50.938976      6.947061     50.939018      6.946996     17.000000   \n",
       "75%       50.954221      6.971123     50.954230      6.971088     30.000000   \n",
       "max       51.028600      7.197774     51.028600      7.101521   1440.000000   \n",
       "\n",
       "           distance     uid_begin       uid_end  standing_before_ride  \\\n",
       "count  57971.000000  5.797100e+04  5.797100e+04          57971.000000   \n",
       "mean    1569.923634  2.700936e+07  2.702683e+07            508.844940   \n",
       "std     1282.242537  4.749857e+05  3.345751e+05           1235.606503   \n",
       "min        0.000000  3.600450e+05  3.786530e+05              0.000000   \n",
       "25%      645.000000  2.676803e+07  2.677808e+07             39.000000   \n",
       "50%     1216.000000  2.702372e+07  2.703772e+07            134.000000   \n",
       "75%     2190.500000  2.727124e+07  2.727975e+07            502.000000   \n",
       "max    19481.000000  2.745492e+07  2.745523e+07          33270.000000   \n",
       "\n",
       "       available_bikes  \n",
       "count     57971.000000  \n",
       "mean       2566.401856  \n",
       "std          43.291137  \n",
       "min        2438.000000  \n",
       "25%        2534.000000  \n",
       "50%        2571.000000  \n",
       "75%        2604.000000  \n",
       "max        2673.000000  "
      ]
     },
     "execution_count": 10,
     "metadata": {},
     "output_type": "execute_result"
    }
   ],
   "source": [
    "df_20.describe()"
   ]
  },
  {
   "cell_type": "code",
   "execution_count": 11,
   "id": "a420a7b1",
   "metadata": {},
   "outputs": [
    {
     "data": {
      "text/html": [
       "<div>\n",
       "<style scoped>\n",
       "    .dataframe tbody tr th:only-of-type {\n",
       "        vertical-align: middle;\n",
       "    }\n",
       "\n",
       "    .dataframe tbody tr th {\n",
       "        vertical-align: top;\n",
       "    }\n",
       "\n",
       "    .dataframe thead th {\n",
       "        text-align: right;\n",
       "    }\n",
       "</style>\n",
       "<table border=\"1\" class=\"dataframe\">\n",
       "  <thead>\n",
       "    <tr style=\"text-align: right;\">\n",
       "      <th></th>\n",
       "      <th>lat_begin</th>\n",
       "      <th>lng_begin</th>\n",
       "      <th>lat_end</th>\n",
       "      <th>lng_end</th>\n",
       "      <th>ride_time</th>\n",
       "      <th>distance</th>\n",
       "      <th>uid_begin</th>\n",
       "      <th>uid_end</th>\n",
       "      <th>standing_before_ride</th>\n",
       "      <th>available_bikes</th>\n",
       "    </tr>\n",
       "  </thead>\n",
       "  <tbody>\n",
       "    <tr>\n",
       "      <th>count</th>\n",
       "      <td>26360.000000</td>\n",
       "      <td>26360.000000</td>\n",
       "      <td>26360.000000</td>\n",
       "      <td>26360.000000</td>\n",
       "      <td>26360.000000</td>\n",
       "      <td>26360.000000</td>\n",
       "      <td>2.636000e+04</td>\n",
       "      <td>2.636000e+04</td>\n",
       "      <td>26360.000000</td>\n",
       "      <td>26360.000000</td>\n",
       "    </tr>\n",
       "    <tr>\n",
       "      <th>mean</th>\n",
       "      <td>50.940406</td>\n",
       "      <td>6.947582</td>\n",
       "      <td>50.940451</td>\n",
       "      <td>6.947679</td>\n",
       "      <td>49.634029</td>\n",
       "      <td>1728.519651</td>\n",
       "      <td>4.090877e+07</td>\n",
       "      <td>4.092675e+07</td>\n",
       "      <td>1036.417451</td>\n",
       "      <td>764.878452</td>\n",
       "    </tr>\n",
       "    <tr>\n",
       "      <th>std</th>\n",
       "      <td>0.020137</td>\n",
       "      <td>0.032433</td>\n",
       "      <td>0.020289</td>\n",
       "      <td>0.032493</td>\n",
       "      <td>121.772954</td>\n",
       "      <td>1451.058051</td>\n",
       "      <td>5.054280e+05</td>\n",
       "      <td>5.271694e+05</td>\n",
       "      <td>2240.484383</td>\n",
       "      <td>23.578364</td>\n",
       "    </tr>\n",
       "    <tr>\n",
       "      <th>min</th>\n",
       "      <td>50.812437</td>\n",
       "      <td>6.814314</td>\n",
       "      <td>50.812437</td>\n",
       "      <td>6.814314</td>\n",
       "      <td>2.000000</td>\n",
       "      <td>0.000000</td>\n",
       "      <td>3.922380e+05</td>\n",
       "      <td>3.678240e+05</td>\n",
       "      <td>0.000000</td>\n",
       "      <td>675.000000</td>\n",
       "    </tr>\n",
       "    <tr>\n",
       "      <th>25%</th>\n",
       "      <td>50.926012</td>\n",
       "      <td>6.922878</td>\n",
       "      <td>50.925954</td>\n",
       "      <td>6.922926</td>\n",
       "      <td>11.000000</td>\n",
       "      <td>649.000000</td>\n",
       "      <td>4.075657e+07</td>\n",
       "      <td>4.077439e+07</td>\n",
       "      <td>76.000000</td>\n",
       "      <td>749.000000</td>\n",
       "    </tr>\n",
       "    <tr>\n",
       "      <th>50%</th>\n",
       "      <td>50.938535</td>\n",
       "      <td>6.944728</td>\n",
       "      <td>50.938607</td>\n",
       "      <td>6.944946</td>\n",
       "      <td>19.000000</td>\n",
       "      <td>1366.000000</td>\n",
       "      <td>4.090990e+07</td>\n",
       "      <td>4.092682e+07</td>\n",
       "      <td>328.000000</td>\n",
       "      <td>766.000000</td>\n",
       "    </tr>\n",
       "    <tr>\n",
       "      <th>75%</th>\n",
       "      <td>50.954440</td>\n",
       "      <td>6.966277</td>\n",
       "      <td>50.954631</td>\n",
       "      <td>6.966531</td>\n",
       "      <td>34.000000</td>\n",
       "      <td>2474.000000</td>\n",
       "      <td>4.107117e+07</td>\n",
       "      <td>4.108476e+07</td>\n",
       "      <td>1099.000000</td>\n",
       "      <td>780.000000</td>\n",
       "    </tr>\n",
       "    <tr>\n",
       "      <th>max</th>\n",
       "      <td>51.079262</td>\n",
       "      <td>7.118853</td>\n",
       "      <td>51.079262</td>\n",
       "      <td>7.118863</td>\n",
       "      <td>1440.000000</td>\n",
       "      <td>19576.000000</td>\n",
       "      <td>4.126349e+07</td>\n",
       "      <td>4.126400e+07</td>\n",
       "      <td>44149.000000</td>\n",
       "      <td>833.000000</td>\n",
       "    </tr>\n",
       "  </tbody>\n",
       "</table>\n",
       "</div>"
      ],
      "text/plain": [
       "          lat_begin     lng_begin       lat_end       lng_end     ride_time  \\\n",
       "count  26360.000000  26360.000000  26360.000000  26360.000000  26360.000000   \n",
       "mean      50.940406      6.947582     50.940451      6.947679     49.634029   \n",
       "std        0.020137      0.032433      0.020289      0.032493    121.772954   \n",
       "min       50.812437      6.814314     50.812437      6.814314      2.000000   \n",
       "25%       50.926012      6.922878     50.925954      6.922926     11.000000   \n",
       "50%       50.938535      6.944728     50.938607      6.944946     19.000000   \n",
       "75%       50.954440      6.966277     50.954631      6.966531     34.000000   \n",
       "max       51.079262      7.118853     51.079262      7.118863   1440.000000   \n",
       "\n",
       "           distance     uid_begin       uid_end  standing_before_ride  \\\n",
       "count  26360.000000  2.636000e+04  2.636000e+04          26360.000000   \n",
       "mean    1728.519651  4.090877e+07  4.092675e+07           1036.417451   \n",
       "std     1451.058051  5.054280e+05  5.271694e+05           2240.484383   \n",
       "min        0.000000  3.922380e+05  3.678240e+05              0.000000   \n",
       "25%      649.000000  4.075657e+07  4.077439e+07             76.000000   \n",
       "50%     1366.000000  4.090990e+07  4.092682e+07            328.000000   \n",
       "75%     2474.000000  4.107117e+07  4.108476e+07           1099.000000   \n",
       "max    19576.000000  4.126349e+07  4.126400e+07          44149.000000   \n",
       "\n",
       "       available_bikes  \n",
       "count     26360.000000  \n",
       "mean        764.878452  \n",
       "std          23.578364  \n",
       "min         675.000000  \n",
       "25%         749.000000  \n",
       "50%         766.000000  \n",
       "75%         780.000000  \n",
       "max         833.000000  "
      ]
     },
     "execution_count": 11,
     "metadata": {},
     "output_type": "execute_result"
    }
   ],
   "source": [
    "df_21.describe()"
   ]
  },
  {
   "cell_type": "markdown",
   "id": "a0ae4601",
   "metadata": {},
   "source": [
    "### Visual analysis"
   ]
  },
  {
   "cell_type": "code",
   "execution_count": 12,
   "id": "6f2feace",
   "metadata": {},
   "outputs": [
    {
     "data": {
      "text/plain": [
       "<matplotlib.axes._subplots.AxesSubplot at 0x7f82a878ec50>"
      ]
     },
     "execution_count": 12,
     "metadata": {},
     "output_type": "execute_result"
    },
    {
     "data": {
      "image/png": "[encoded data removed]",
      "text/plain": [
       "<Figure size 1152x864 with 1 Axes>"
      ]
     },
     "metadata": {},
     "output_type": "display_data"
    }
   ],
   "source": [
    "#sns.set_style('white')\n",
    "#sns.set_context('paper', font_scale= 1.5)\n",
    "\n",
    "sns.distplot(df_20['ride_time'], bins = 200)"
   ]
  },
  {
   "cell_type": "code",
   "execution_count": 13,
   "id": "a17971f3",
   "metadata": {},
   "outputs": [
    {
     "data": {
      "text/plain": [
       "<matplotlib.axes._subplots.AxesSubplot at 0x7f82a874def0>"
      ]
     },
     "execution_count": 13,
     "metadata": {},
     "output_type": "execute_result"
    },
    {
     "data": {
      "image/png": "[encoded data removed]",
      "text/plain": [
       "<Figure size 1152x864 with 1 Axes>"
      ]
     },
     "metadata": {},
     "output_type": "display_data"
    }
   ],
   "source": [
    "sns.distplot(df_21['ride_time'], bins = 200)"
   ]
  },
  {
   "cell_type": "code",
   "execution_count": 14,
   "id": "0393217d",
   "metadata": {},
   "outputs": [
    {
     "data": {
      "text/plain": [
       "<matplotlib.axes._subplots.AxesSubplot at 0x7f82a61b4a58>"
      ]
     },
     "execution_count": 14,
     "metadata": {},
     "output_type": "execute_result"
    },
    {
     "data": {
      "image/png": "[encoded data removed]",
      "text/plain": [
       "<Figure size 1152x864 with 1 Axes>"
      ]
     },
     "metadata": {},
     "output_type": "display_data"
    }
   ],
   "source": [
    "sns.distplot(df_20['distance'], bins = 200)"
   ]
  },
  {
   "cell_type": "code",
   "execution_count": 15,
   "id": "3c62161b",
   "metadata": {},
   "outputs": [
    {
     "data": {
      "text/plain": [
       "<matplotlib.axes._subplots.AxesSubplot at 0x7f82a632c588>"
      ]
     },
     "execution_count": 15,
     "metadata": {},
     "output_type": "execute_result"
    },
    {
     "data": {
      "image/png": "[encoded data removed]",
      "text/plain": [
       "<Figure size 1152x864 with 1 Axes>"
      ]
     },
     "metadata": {},
     "output_type": "display_data"
    }
   ],
   "source": [
    "sns.distplot(df_21['distance'], bins = 200)"
   ]
  },
  {
   "cell_type": "code",
   "execution_count": null,
   "id": "82e7bd96",
   "metadata": {},
   "outputs": [],
   "source": []
  },
  {
   "cell_type": "code",
   "execution_count": 16,
   "id": "9d1a216a",
   "metadata": {},
   "outputs": [],
   "source": [
    "distances_per_ride_time_20= df_20.groupby('ride_time')['distance'].apply(list)\n",
    "distances_per_ride_time_21= df_21.groupby('ride_time')['distance'].apply(list) "
   ]
  },
  {
   "cell_type": "code",
   "execution_count": 17,
   "id": "a9f4a7c8",
   "metadata": {},
   "outputs": [],
   "source": [
    "distances_per_ride_time_20 = distances_per_ride_time_20.to_dict()\n",
    "distances_per_ride_time_21 = distances_per_ride_time_21.to_dict()"
   ]
  },
  {
   "cell_type": "code",
   "execution_count": 34,
   "id": "9843a25d",
   "metadata": {},
   "outputs": [],
   "source": [
    "duration_per_ride_time_20 = {}\n",
    "for x in distances_per_ride_time_20.keys(): duration_per_ride_time_20[x] = sum(distances_per_ride_time_20[x])"
   ]
  },
  {
   "cell_type": "code",
   "execution_count": 40,
   "id": "99837e84",
   "metadata": {},
   "outputs": [],
   "source": [
    "duration_per_ride_time_21 = {}\n",
    "for x in distances_per_ride_time_21.keys(): duration_per_ride_time_21[x] = sum(distances_per_ride_time_21[x])"
   ]
  },
  {
   "cell_type": "code",
   "execution_count": 39,
   "id": "abcaf9ae",
   "metadata": {},
   "outputs": [
    {
     "data": {
      "text/plain": [
       "<BarContainer object of 961 artists>"
      ]
     },
     "execution_count": 39,
     "metadata": {},
     "output_type": "execute_result"
    },
    {
     "data": {
      "image/png": "[encoded data removed]",
      "text/plain": [
       "<Figure size 1152x864 with 1 Axes>"
      ]
     },
     "metadata": {},
     "output_type": "display_data"
    }
   ],
   "source": [
    "plt.bar(duration_per_ride_time_20.keys(), duration_per_ride_time_20.values(), color='r')"
   ]
  },
  {
   "cell_type": "code",
   "execution_count": 41,
   "id": "91b95542",
   "metadata": {},
   "outputs": [
    {
     "data": {
      "text/plain": [
       "<BarContainer object of 752 artists>"
      ]
     },
     "execution_count": 41,
     "metadata": {},
     "output_type": "execute_result"
    },
    {
     "data": {
      "image/png": "[encoded data removed]",
      "text/plain": [
       "<Figure size 1152x864 with 1 Axes>"
      ]
     },
     "metadata": {},
     "output_type": "display_data"
    }
   ],
   "source": [
    "plt.bar(duration_per_ride_time_21.keys(), duration_per_ride_time_21.values(), color='r')"
   ]
  },
  {
   "cell_type": "code",
   "execution_count": 43,
   "id": "cd380f61",
   "metadata": {},
   "outputs": [],
   "source": [
    "count_per_ride_time_20 = {}\n",
    "for x in distances_per_ride_time_20.keys(): count_per_ride_time_20[x] = len(distances_per_ride_time_20[x])"
   ]
  },
  {
   "cell_type": "code",
   "execution_count": 44,
   "id": "f86531b0",
   "metadata": {},
   "outputs": [],
   "source": [
    "count_per_ride_time_21 = {}\n",
    "for x in distances_per_ride_time_21.keys(): count_per_ride_time_21[x] = len(distances_per_ride_time_21[x])"
   ]
  },
  {
   "cell_type": "code",
   "execution_count": 45,
   "id": "59077c96",
   "metadata": {},
   "outputs": [
    {
     "data": {
      "text/plain": [
       "<BarContainer object of 961 artists>"
      ]
     },
     "execution_count": 45,
     "metadata": {},
     "output_type": "execute_result"
    },
    {
     "data": {
      "image/png": "[encoded data removed]",
      "text/plain": [
       "<Figure size 1152x864 with 1 Axes>"
      ]
     },
     "metadata": {},
     "output_type": "display_data"
    }
   ],
   "source": [
    "plt.bar(count_per_ride_time_20.keys(), count_per_ride_time_20.values(), color='b')"
   ]
  },
  {
   "cell_type": "code",
   "execution_count": 46,
   "id": "01379771",
   "metadata": {},
   "outputs": [
    {
     "data": {
      "text/plain": [
       "<BarContainer object of 752 artists>"
      ]
     },
     "execution_count": 46,
     "metadata": {},
     "output_type": "execute_result"
    },
    {
     "data": {
      "image/png": "[encoded data removed]",
      "text/plain": [
       "<Figure size 1152x864 with 1 Axes>"
      ]
     },
     "metadata": {},
     "output_type": "display_data"
    }
   ],
   "source": [
    "plt.bar(count_per_ride_time_21.keys(), count_per_ride_time_21.values(), color='b')"
   ]
  },
  {
   "cell_type": "code",
   "execution_count": null,
   "id": "805c301b",
   "metadata": {},
   "outputs": [],
   "source": []
  }
 ],
 "metadata": {
  "kernelspec": {
   "display_name": "Python 3",
   "language": "python",
   "name": "python3"
  },
  "language_info": {
   "codemirror_mode": {
    "name": "ipython",
    "version": 3
   },
   "file_extension": ".py",
   "mimetype": "text/x-python",
   "name": "python",
   "nbconvert_exporter": "python",
   "pygments_lexer": "ipython3",
   "version": "3.5.2"
  }
 },
 "nbformat": 4,
 "nbformat_minor": 5
}
