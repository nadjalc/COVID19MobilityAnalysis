{
 "cells": [
  {
   "cell_type": "code",
   "execution_count": 1,
   "id": "eca1ed40",
   "metadata": {},
   "outputs": [],
   "source": [
    "import pandas as pd\n",
    "import numpy as np\n",
    "import matplotlib\n",
    "import matplotlib.pyplot as plt\n",
    "import seaborn as sns\n",
    "import datetime\n",
    "from itertools import islice\n",
    "import statsmodels.api as sm\n",
    "sns.set()\n",
    "from sklearn.cluster import KMeans\n",
    "from sklearn.cluster import AgglomerativeClustering\n",
    "import scipy.cluster.hierarchy as sch\n",
    "from kneed import KneeLocator"
   ]
  },
  {
   "cell_type": "code",
   "execution_count": 2,
   "id": "74266d5b",
   "metadata": {},
   "outputs": [],
   "source": [
    "matplotlib.rcParams['figure.figsize'] = (12.0, 8.0)\n",
    "matplotlib.style.use('ggplot')"
   ]
  },
  {
   "cell_type": "code",
   "execution_count": 3,
   "id": "df99b485",
   "metadata": {},
   "outputs": [],
   "source": [
    "fmt = '%Y-%m-%d %H:%M:%S'"
   ]
  },
  {
   "cell_type": "code",
   "execution_count": 4,
   "id": "f58b4120",
   "metadata": {},
   "outputs": [],
   "source": [
    "def parse_timestamp(el):\n",
    "    b = datetime.datetime.strptime(el, fmt)\n",
    "    return b"
   ]
  },
  {
   "cell_type": "code",
   "execution_count": 5,
   "id": "49f253e1",
   "metadata": {},
   "outputs": [],
   "source": [
    "def trim_latlng(x):\n",
    "    return round(x,4)"
   ]
  },
  {
   "cell_type": "code",
   "execution_count": 33,
   "id": "db41468d",
   "metadata": {},
   "outputs": [],
   "source": [
    "url = \"/bigdata/jelicicna/clustering_datasets/clustering_data_2020-01.csv\"\n",
    "df = pd.read_csv(url, sep=';', low_memory=False)"
   ]
  },
  {
   "cell_type": "code",
   "execution_count": 34,
   "id": "800a4b31",
   "metadata": {},
   "outputs": [],
   "source": [
    "# x marks points for clustering\n",
    "x = pd.DataFrame()\n",
    "x['lat'] = df['lat_begin']\n",
    "x['lng'] = df['lng_begin']\n",
    "x['location_id'] = df['origin_id']\n",
    "x['ride_id'] = df['ride_id']"
   ]
  },
  {
   "cell_type": "code",
   "execution_count": 35,
   "id": "0795f6ad",
   "metadata": {},
   "outputs": [],
   "source": [
    "df_x = pd.DataFrame()\n",
    "bikes = set(df['bike_id'])\n",
    "lat = []\n",
    "lng = []\n",
    "locations = []\n",
    "rides = []\n",
    "\n",
    "for b in bikes:\n",
    "    last_row = df[df['bike_id']==b]\n",
    "    last_x = last_row.iloc[-1]\n",
    "    lat.append(last_x['lat_end'])\n",
    "    lng.append(last_x['lng_end'])\n",
    "    locations.append(last_x['destination_id'])\n",
    "    rides.append(last_x['ride_id'])\n",
    "df_x['lat'] = lat\n",
    "df_x['lng'] = lng\n",
    "df_x['location_id'] = locations\n",
    "df_x['ride_id'] = rides"
   ]
  },
  {
   "cell_type": "code",
   "execution_count": 36,
   "id": "5b2b9261",
   "metadata": {},
   "outputs": [
    {
     "data": {
      "text/html": [
       "<div>\n",
       "<style scoped>\n",
       "    .dataframe tbody tr th:only-of-type {\n",
       "        vertical-align: middle;\n",
       "    }\n",
       "\n",
       "    .dataframe tbody tr th {\n",
       "        vertical-align: top;\n",
       "    }\n",
       "\n",
       "    .dataframe thead th {\n",
       "        text-align: right;\n",
       "    }\n",
       "</style>\n",
       "<table border=\"1\" class=\"dataframe\">\n",
       "  <thead>\n",
       "    <tr style=\"text-align: right;\">\n",
       "      <th></th>\n",
       "      <th>lat</th>\n",
       "      <th>lng</th>\n",
       "      <th>location_id</th>\n",
       "      <th>ride_id</th>\n",
       "    </tr>\n",
       "  </thead>\n",
       "  <tbody>\n",
       "    <tr>\n",
       "      <th>0</th>\n",
       "      <td>50.932058</td>\n",
       "      <td>6.988541</td>\n",
       "      <td>15405.0</td>\n",
       "      <td>0.0</td>\n",
       "    </tr>\n",
       "    <tr>\n",
       "      <th>1</th>\n",
       "      <td>50.936326</td>\n",
       "      <td>6.986125</td>\n",
       "      <td>16502.0</td>\n",
       "      <td>1.0</td>\n",
       "    </tr>\n",
       "    <tr>\n",
       "      <th>2</th>\n",
       "      <td>50.932037</td>\n",
       "      <td>6.988254</td>\n",
       "      <td>32762.0</td>\n",
       "      <td>2.0</td>\n",
       "    </tr>\n",
       "    <tr>\n",
       "      <th>3</th>\n",
       "      <td>50.933312</td>\n",
       "      <td>6.982806</td>\n",
       "      <td>25309.0</td>\n",
       "      <td>3.0</td>\n",
       "    </tr>\n",
       "    <tr>\n",
       "      <th>4</th>\n",
       "      <td>50.933619</td>\n",
       "      <td>6.977495</td>\n",
       "      <td>38004.0</td>\n",
       "      <td>4.0</td>\n",
       "    </tr>\n",
       "  </tbody>\n",
       "</table>\n",
       "</div>"
      ],
      "text/plain": [
       "         lat       lng  location_id  ride_id\n",
       "0  50.932058  6.988541      15405.0      0.0\n",
       "1  50.936326  6.986125      16502.0      1.0\n",
       "2  50.932037  6.988254      32762.0      2.0\n",
       "3  50.933312  6.982806      25309.0      3.0\n",
       "4  50.933619  6.977495      38004.0      4.0"
      ]
     },
     "execution_count": 36,
     "metadata": {},
     "output_type": "execute_result"
    }
   ],
   "source": [
    "x_points = pd.concat([x,df_x], ignore_index=True)\n",
    "x_points.head()"
   ]
  },
  {
   "cell_type": "code",
   "execution_count": 37,
   "id": "50d8ecc5",
   "metadata": {},
   "outputs": [],
   "source": [
    "#---------\n",
    "#\n",
    "# The cell should be skipped in the first run until missing destinations are calculated\n",
    "#----------------------------------------------------------------------------------------\n",
    "x_points = x_points.append(missing_destinations, ignore_index=True)"
   ]
  },
  {
   "cell_type": "code",
   "execution_count": 38,
   "id": "3cad2763",
   "metadata": {},
   "outputs": [],
   "source": [
    "x = x_points.iloc[:,0:2]"
   ]
  },
  {
   "cell_type": "markdown",
   "id": "b48282b4",
   "metadata": {},
   "source": [
    "## Deciding on an optimal number of clusters"
   ]
  },
  {
   "cell_type": "markdown",
   "id": "b0cfae80",
   "metadata": {},
   "source": [
    "### Elbow method"
   ]
  },
  {
   "cell_type": "code",
   "execution_count": 11,
   "id": "f368685b",
   "metadata": {},
   "outputs": [],
   "source": [
    "potential_k = []\n",
    "for k in range(10,160,10):\n",
    "    potential_k.append(k)"
   ]
  },
  {
   "cell_type": "code",
   "execution_count": 12,
   "id": "15b508a9",
   "metadata": {},
   "outputs": [],
   "source": [
    "kmeans_kwargs = {\n",
    "    \"init\": \"random\",\n",
    "    \"n_init\": 10,\n",
    "    \"max_iter\": 300,\n",
    "    \"random_state\": 42,\n",
    "}\n",
    "\n",
    "# A list holds the SSE values for each k\n",
    "sse = []\n",
    "for k in potential_k:\n",
    "    kmeans = KMeans(n_clusters=k, **kmeans_kwargs)\n",
    "    kmeans.fit(x)\n",
    "    sse.append(kmeans.inertia_)"
   ]
  },
  {
   "cell_type": "code",
   "execution_count": 13,
   "id": "90ecc6bc",
   "metadata": {},
   "outputs": [],
   "source": [
    "font = {'font': 'verdana',\n",
    "        'color':  'black',\n",
    "        'weight': 'normal',\n",
    "        'size': 12,\n",
    "        }\n",
    "font2 = {'font': 'verdana',\n",
    "         'color':  'black',\n",
    "         'weight': 'normal',\n",
    "         'size': 16,\n",
    "        }"
   ]
  },
  {
   "cell_type": "code",
   "execution_count": 14,
   "id": "9d5e1bf5",
   "metadata": {},
   "outputs": [
    {
     "data": {
      "image/png": "[encoded data removed]",
      "text/plain": [
       "<Figure size 864x576 with 1 Axes>"
      ]
     },
     "metadata": {},
     "output_type": "display_data"
    }
   ],
   "source": [
    "plt.style.use(\"fivethirtyeight\")\n",
    "plt.plot(potential_k, sse)\n",
    "plt.xticks(potential_k)\n",
    "plt.xlabel(\"Number of Clusters\", fontdict=font)\n",
    "plt.ylabel(\"SSE\", fontdict=font)\n",
    "plt.title(\"The Elbow method\", fontdict=font2)\n",
    "plt.show()"
   ]
  },
  {
   "cell_type": "code",
   "execution_count": 15,
   "id": "88d8c840",
   "metadata": {},
   "outputs": [
    {
     "data": {
      "text/plain": [
       "40"
      ]
     },
     "execution_count": 15,
     "metadata": {},
     "output_type": "execute_result"
    }
   ],
   "source": [
    "kl = KneeLocator(range(10,160,10), sse, curve=\"convex\", direction=\"decreasing\")\n",
    "kl.elbow"
   ]
  },
  {
   "cell_type": "code",
   "execution_count": 16,
   "id": "c82230dd",
   "metadata": {},
   "outputs": [],
   "source": [
    "#assigning the ideal result of the elbow method as a future k for clustering\n",
    "clust_k = kl.elbow"
   ]
  },
  {
   "cell_type": "markdown",
   "id": "8545ae83",
   "metadata": {},
   "source": [
    "## Clustering K-means"
   ]
  },
  {
   "cell_type": "code",
   "execution_count": 39,
   "id": "fff7bb42",
   "metadata": {},
   "outputs": [],
   "source": [
    "x = x.to_numpy()"
   ]
  },
  {
   "cell_type": "code",
   "execution_count": 40,
   "id": "d431536b",
   "metadata": {},
   "outputs": [
    {
     "data": {
      "text/plain": [
       "KMeans(n_clusters=40)"
      ]
     },
     "execution_count": 40,
     "metadata": {},
     "output_type": "execute_result"
    }
   ],
   "source": [
    "kmeans = KMeans(clust_k)\n",
    "kmeans.fit(x)"
   ]
  },
  {
   "cell_type": "code",
   "execution_count": 41,
   "id": "21906e02",
   "metadata": {},
   "outputs": [
    {
     "data": {
      "text/plain": [
       "array([37, 37, 37, ..., 38,  0, 37], dtype=int32)"
      ]
     },
     "execution_count": 41,
     "metadata": {},
     "output_type": "execute_result"
    }
   ],
   "source": [
    "identified_clusters = kmeans.fit_predict(x)\n",
    "identified_clusters"
   ]
  },
  {
   "cell_type": "code",
   "execution_count": 42,
   "id": "45622c85",
   "metadata": {},
   "outputs": [
    {
     "data": {
      "text/plain": [
       "57623"
      ]
     },
     "execution_count": 42,
     "metadata": {},
     "output_type": "execute_result"
    }
   ],
   "source": [
    "len(identified_clusters)"
   ]
  },
  {
   "cell_type": "code",
   "execution_count": 43,
   "id": "eb5caa04",
   "metadata": {},
   "outputs": [
    {
     "data": {
      "text/plain": [
       "57623"
      ]
     },
     "execution_count": 43,
     "metadata": {},
     "output_type": "execute_result"
    }
   ],
   "source": [
    "len(x_points)"
   ]
  },
  {
   "cell_type": "code",
   "execution_count": 44,
   "id": "7916eb58",
   "metadata": {},
   "outputs": [],
   "source": [
    "x_points['cluster'] = identified_clusters"
   ]
  },
  {
   "cell_type": "code",
   "execution_count": 45,
   "id": "0544e12f",
   "metadata": {},
   "outputs": [],
   "source": [
    "df_merge_x = pd.DataFrame()\n",
    "df_merge_x['location_id'] = x_points['location_id']\n",
    "df_merge_x['cluster'] = x_points['cluster']"
   ]
  },
  {
   "cell_type": "code",
   "execution_count": 46,
   "id": "63157f47",
   "metadata": {},
   "outputs": [],
   "source": [
    "df.rename({'origin_id': 'location_id'}, axis= 1, inplace= True) #temporary change"
   ]
  },
  {
   "cell_type": "code",
   "execution_count": 47,
   "id": "02a04a75",
   "metadata": {},
   "outputs": [],
   "source": [
    "df_clusters = pd.DataFrame()\n",
    "df_clusters = pd.merge(df, df_merge_x, on='location_id', how='left')"
   ]
  },
  {
   "cell_type": "code",
   "execution_count": 48,
   "id": "3351d462",
   "metadata": {},
   "outputs": [],
   "source": [
    "df_clusters.drop_duplicates(subset=['ride_id'], inplace=True)"
   ]
  },
  {
   "cell_type": "code",
   "execution_count": 49,
   "id": "2f938807",
   "metadata": {},
   "outputs": [],
   "source": [
    "#reverting the change of origin name and adding the same for the cluster\n",
    "df_clusters.rename({'location_id':'origin_id', 'cluster':'origin_cluster'}, axis=1, inplace=True)\n",
    "\n",
    "#temporary change for destinations\n",
    "df_clusters.rename({'destination_id':'location_id'}, axis=1, inplace=True)"
   ]
  },
  {
   "cell_type": "code",
   "execution_count": 50,
   "id": "210fd860",
   "metadata": {},
   "outputs": [],
   "source": [
    "df_clusters = pd.merge(df_clusters, df_merge_x, on='location_id', how='left')\n",
    "df_clusters.drop_duplicates(subset=['ride_id'], inplace=True)"
   ]
  },
  {
   "cell_type": "code",
   "execution_count": 51,
   "id": "ad92a7d0",
   "metadata": {},
   "outputs": [],
   "source": [
    "#reverting the change of destination name and adding the same for the cluster\n",
    "df_clusters.rename({'location_id':'destination_id', 'cluster':'destination_cluster'}, axis=1, inplace=True)"
   ]
  },
  {
   "cell_type": "markdown",
   "id": "4c79d443",
   "metadata": {},
   "source": [
    "### Run to compute missing destinations, re-run all the cells -----"
   ]
  },
  {
   "cell_type": "code",
   "execution_count": 30,
   "id": "d4698fbd",
   "metadata": {},
   "outputs": [],
   "source": [
    "temp = df_clusters[df_clusters['destination_cluster'].isna()]"
   ]
  },
  {
   "cell_type": "code",
   "execution_count": 31,
   "id": "82c02036",
   "metadata": {},
   "outputs": [],
   "source": [
    "missing_destinations = pd.DataFrame()\n",
    "missing_destinations['lat'] = temp['lat_end']\n",
    "missing_destinations['lng'] = temp['lng_end']\n",
    "missing_destinations['location_id'] = temp['destination_id']\n",
    "missing_destinations['ride_id'] = temp['ride_id']"
   ]
  },
  {
   "cell_type": "code",
   "execution_count": 32,
   "id": "1ad2148a",
   "metadata": {},
   "outputs": [
    {
     "data": {
      "text/html": [
       "<div>\n",
       "<style scoped>\n",
       "    .dataframe tbody tr th:only-of-type {\n",
       "        vertical-align: middle;\n",
       "    }\n",
       "\n",
       "    .dataframe tbody tr th {\n",
       "        vertical-align: top;\n",
       "    }\n",
       "\n",
       "    .dataframe thead th {\n",
       "        text-align: right;\n",
       "    }\n",
       "</style>\n",
       "<table border=\"1\" class=\"dataframe\">\n",
       "  <thead>\n",
       "    <tr style=\"text-align: right;\">\n",
       "      <th></th>\n",
       "      <th>lat</th>\n",
       "      <th>lng</th>\n",
       "      <th>location_id</th>\n",
       "      <th>ride_id</th>\n",
       "    </tr>\n",
       "  </thead>\n",
       "  <tbody>\n",
       "    <tr>\n",
       "      <th>12</th>\n",
       "      <td>50.937086</td>\n",
       "      <td>6.980346</td>\n",
       "      <td>20054</td>\n",
       "      <td>5</td>\n",
       "    </tr>\n",
       "    <tr>\n",
       "      <th>14</th>\n",
       "      <td>50.932995</td>\n",
       "      <td>6.976686</td>\n",
       "      <td>27300</td>\n",
       "      <td>7</td>\n",
       "    </tr>\n",
       "    <tr>\n",
       "      <th>17</th>\n",
       "      <td>50.933340</td>\n",
       "      <td>6.973975</td>\n",
       "      <td>17079</td>\n",
       "      <td>9</td>\n",
       "    </tr>\n",
       "    <tr>\n",
       "      <th>51</th>\n",
       "      <td>50.934854</td>\n",
       "      <td>6.960032</td>\n",
       "      <td>83</td>\n",
       "      <td>21</td>\n",
       "    </tr>\n",
       "    <tr>\n",
       "      <th>68</th>\n",
       "      <td>50.946891</td>\n",
       "      <td>6.939716</td>\n",
       "      <td>24604</td>\n",
       "      <td>28</td>\n",
       "    </tr>\n",
       "  </tbody>\n",
       "</table>\n",
       "</div>"
      ],
      "text/plain": [
       "          lat       lng  location_id  ride_id\n",
       "12  50.937086  6.980346        20054        5\n",
       "14  50.932995  6.976686        27300        7\n",
       "17  50.933340  6.973975        17079        9\n",
       "51  50.934854  6.960032           83       21\n",
       "68  50.946891  6.939716        24604       28"
      ]
     },
     "execution_count": 32,
     "metadata": {},
     "output_type": "execute_result"
    }
   ],
   "source": [
    "missing_destinations.head()"
   ]
  },
  {
   "cell_type": "markdown",
   "id": "667b45d2",
   "metadata": {},
   "source": [
    "## --------------------------------------------"
   ]
  },
  {
   "cell_type": "code",
   "execution_count": 52,
   "id": "c6166187",
   "metadata": {},
   "outputs": [
    {
     "data": {
      "text/html": [
       "<div>\n",
       "<style scoped>\n",
       "    .dataframe tbody tr th:only-of-type {\n",
       "        vertical-align: middle;\n",
       "    }\n",
       "\n",
       "    .dataframe tbody tr th {\n",
       "        vertical-align: top;\n",
       "    }\n",
       "\n",
       "    .dataframe thead th {\n",
       "        text-align: right;\n",
       "    }\n",
       "</style>\n",
       "<table border=\"1\" class=\"dataframe\">\n",
       "  <thead>\n",
       "    <tr style=\"text-align: right;\">\n",
       "      <th></th>\n",
       "      <th>ride_id</th>\n",
       "      <th>bike_id</th>\n",
       "      <th>origin_id</th>\n",
       "      <th>destination_id</th>\n",
       "      <th>lat_begin</th>\n",
       "      <th>lng_begin</th>\n",
       "      <th>lat_end</th>\n",
       "      <th>lng_end</th>\n",
       "      <th>ride_time</th>\n",
       "      <th>distance</th>\n",
       "      <th>origin_cluster</th>\n",
       "      <th>destination_cluster</th>\n",
       "    </tr>\n",
       "  </thead>\n",
       "  <tbody>\n",
       "    <tr>\n",
       "      <th>0</th>\n",
       "      <td>0</td>\n",
       "      <td>0</td>\n",
       "      <td>15405</td>\n",
       "      <td>16502</td>\n",
       "      <td>50.932058</td>\n",
       "      <td>6.988541</td>\n",
       "      <td>50.936326</td>\n",
       "      <td>6.986125</td>\n",
       "      <td>6.0</td>\n",
       "      <td>504.0</td>\n",
       "      <td>37</td>\n",
       "      <td>37</td>\n",
       "    </tr>\n",
       "    <tr>\n",
       "      <th>3</th>\n",
       "      <td>1</td>\n",
       "      <td>0</td>\n",
       "      <td>16502</td>\n",
       "      <td>32762</td>\n",
       "      <td>50.936326</td>\n",
       "      <td>6.986125</td>\n",
       "      <td>50.932037</td>\n",
       "      <td>6.988254</td>\n",
       "      <td>5.0</td>\n",
       "      <td>500.0</td>\n",
       "      <td>37</td>\n",
       "      <td>37</td>\n",
       "    </tr>\n",
       "    <tr>\n",
       "      <th>7</th>\n",
       "      <td>2</td>\n",
       "      <td>0</td>\n",
       "      <td>32762</td>\n",
       "      <td>25969</td>\n",
       "      <td>50.932037</td>\n",
       "      <td>6.988254</td>\n",
       "      <td>50.933224</td>\n",
       "      <td>6.982801</td>\n",
       "      <td>7.0</td>\n",
       "      <td>404.0</td>\n",
       "      <td>37</td>\n",
       "      <td>37</td>\n",
       "    </tr>\n",
       "    <tr>\n",
       "      <th>8</th>\n",
       "      <td>3</td>\n",
       "      <td>0</td>\n",
       "      <td>25309</td>\n",
       "      <td>38004</td>\n",
       "      <td>50.933312</td>\n",
       "      <td>6.982806</td>\n",
       "      <td>50.933619</td>\n",
       "      <td>6.977495</td>\n",
       "      <td>5.0</td>\n",
       "      <td>374.0</td>\n",
       "      <td>37</td>\n",
       "      <td>9</td>\n",
       "    </tr>\n",
       "    <tr>\n",
       "      <th>9</th>\n",
       "      <td>4</td>\n",
       "      <td>0</td>\n",
       "      <td>38004</td>\n",
       "      <td>8996</td>\n",
       "      <td>50.933619</td>\n",
       "      <td>6.977495</td>\n",
       "      <td>50.936199</td>\n",
       "      <td>6.987294</td>\n",
       "      <td>9.0</td>\n",
       "      <td>744.0</td>\n",
       "      <td>9</td>\n",
       "      <td>37</td>\n",
       "    </tr>\n",
       "  </tbody>\n",
       "</table>\n",
       "</div>"
      ],
      "text/plain": [
       "   ride_id  bike_id  origin_id  destination_id  lat_begin  lng_begin  \\\n",
       "0        0        0      15405           16502  50.932058   6.988541   \n",
       "3        1        0      16502           32762  50.936326   6.986125   \n",
       "7        2        0      32762           25969  50.932037   6.988254   \n",
       "8        3        0      25309           38004  50.933312   6.982806   \n",
       "9        4        0      38004            8996  50.933619   6.977495   \n",
       "\n",
       "     lat_end   lng_end  ride_time  distance  origin_cluster  \\\n",
       "0  50.936326  6.986125        6.0     504.0              37   \n",
       "3  50.932037  6.988254        5.0     500.0              37   \n",
       "7  50.933224  6.982801        7.0     404.0              37   \n",
       "8  50.933619  6.977495        5.0     374.0              37   \n",
       "9  50.936199  6.987294        9.0     744.0               9   \n",
       "\n",
       "   destination_cluster  \n",
       "0                   37  \n",
       "3                   37  \n",
       "7                   37  \n",
       "8                    9  \n",
       "9                   37  "
      ]
     },
     "execution_count": 52,
     "metadata": {},
     "output_type": "execute_result"
    }
   ],
   "source": [
    "df_clusters.head()"
   ]
  },
  {
   "cell_type": "code",
   "execution_count": 53,
   "id": "9a7a658a",
   "metadata": {},
   "outputs": [],
   "source": [
    "df_g = df_clusters[['ride_time','origin_cluster','destination_cluster']]"
   ]
  },
  {
   "cell_type": "code",
   "execution_count": 54,
   "id": "cc91242c",
   "metadata": {},
   "outputs": [],
   "source": [
    "df_g = df_g.groupby(['origin_cluster','destination_cluster']).count()"
   ]
  },
  {
   "cell_type": "code",
   "execution_count": 55,
   "id": "d943e75d",
   "metadata": {},
   "outputs": [],
   "source": [
    "df_g.reset_index(inplace=True)"
   ]
  },
  {
   "cell_type": "code",
   "execution_count": 56,
   "id": "13aa45c4",
   "metadata": {},
   "outputs": [
    {
     "data": {
      "text/html": [
       "<div>\n",
       "<style scoped>\n",
       "    .dataframe tbody tr th:only-of-type {\n",
       "        vertical-align: middle;\n",
       "    }\n",
       "\n",
       "    .dataframe tbody tr th {\n",
       "        vertical-align: top;\n",
       "    }\n",
       "\n",
       "    .dataframe thead th {\n",
       "        text-align: right;\n",
       "    }\n",
       "</style>\n",
       "<table border=\"1\" class=\"dataframe\">\n",
       "  <thead>\n",
       "    <tr style=\"text-align: right;\">\n",
       "      <th></th>\n",
       "      <th>origin_cluster</th>\n",
       "      <th>destination_cluster</th>\n",
       "      <th>ride_count</th>\n",
       "    </tr>\n",
       "  </thead>\n",
       "  <tbody>\n",
       "    <tr>\n",
       "      <th>0</th>\n",
       "      <td>0</td>\n",
       "      <td>0</td>\n",
       "      <td>306</td>\n",
       "    </tr>\n",
       "    <tr>\n",
       "      <th>1</th>\n",
       "      <td>0</td>\n",
       "      <td>1</td>\n",
       "      <td>8</td>\n",
       "    </tr>\n",
       "    <tr>\n",
       "      <th>2</th>\n",
       "      <td>0</td>\n",
       "      <td>2</td>\n",
       "      <td>2</td>\n",
       "    </tr>\n",
       "    <tr>\n",
       "      <th>3</th>\n",
       "      <td>0</td>\n",
       "      <td>4</td>\n",
       "      <td>18</td>\n",
       "    </tr>\n",
       "    <tr>\n",
       "      <th>4</th>\n",
       "      <td>0</td>\n",
       "      <td>5</td>\n",
       "      <td>13</td>\n",
       "    </tr>\n",
       "  </tbody>\n",
       "</table>\n",
       "</div>"
      ],
      "text/plain": [
       "   origin_cluster  destination_cluster  ride_count\n",
       "0               0                    0         306\n",
       "1               0                    1           8\n",
       "2               0                    2           2\n",
       "3               0                    4          18\n",
       "4               0                    5          13"
      ]
     },
     "execution_count": 56,
     "metadata": {},
     "output_type": "execute_result"
    }
   ],
   "source": [
    "df_g.rename({'ride_time':'ride_count'}, axis=1, inplace=True)\n",
    "df_g.head()"
   ]
  },
  {
   "cell_type": "code",
   "execution_count": 57,
   "id": "7c0749cb",
   "metadata": {
    "scrolled": true
   },
   "outputs": [
    {
     "data": {
      "text/plain": [
       "1     40\n",
       "19    39\n",
       "4     39\n",
       "10    39\n",
       "8     39\n",
       "16    38\n",
       "21    38\n",
       "5     37\n",
       "31    37\n",
       "28    37\n",
       "9     36\n",
       "22    36\n",
       "38    35\n",
       "25    35\n",
       "33    34\n",
       "32    34\n",
       "2     34\n",
       "11    34\n",
       "18    34\n",
       "6     32\n",
       "0     32\n",
       "37    32\n",
       "35    32\n",
       "12    31\n",
       "27    30\n",
       "17    30\n",
       "15    30\n",
       "14    30\n",
       "24    30\n",
       "7     30\n",
       "20    29\n",
       "29    28\n",
       "30    28\n",
       "34    27\n",
       "36    27\n",
       "23    23\n",
       "39    22\n",
       "26    21\n",
       "3     20\n",
       "13    18\n",
       "Name: origin_cluster, dtype: int64"
      ]
     },
     "execution_count": 57,
     "metadata": {},
     "output_type": "execute_result"
    }
   ],
   "source": [
    "df_g['origin_cluster'].value_counts() #the most often clusters of origin"
   ]
  },
  {
   "cell_type": "code",
   "execution_count": 58,
   "id": "780eb11a",
   "metadata": {
    "scrolled": true
   },
   "outputs": [
    {
     "data": {
      "text/html": [
       "<div>\n",
       "<style scoped>\n",
       "    .dataframe tbody tr th:only-of-type {\n",
       "        vertical-align: middle;\n",
       "    }\n",
       "\n",
       "    .dataframe tbody tr th {\n",
       "        vertical-align: top;\n",
       "    }\n",
       "\n",
       "    .dataframe thead th {\n",
       "        text-align: right;\n",
       "    }\n",
       "</style>\n",
       "<table border=\"1\" class=\"dataframe\">\n",
       "  <thead>\n",
       "    <tr style=\"text-align: right;\">\n",
       "      <th></th>\n",
       "      <th>origin_cluster</th>\n",
       "      <th>destination_cluster</th>\n",
       "      <th>ride_count</th>\n",
       "    </tr>\n",
       "  </thead>\n",
       "  <tbody>\n",
       "    <tr>\n",
       "      <th>208</th>\n",
       "      <td>6</td>\n",
       "      <td>6</td>\n",
       "      <td>670</td>\n",
       "    </tr>\n",
       "    <tr>\n",
       "      <th>672</th>\n",
       "      <td>20</td>\n",
       "      <td>11</td>\n",
       "      <td>565</td>\n",
       "    </tr>\n",
       "    <tr>\n",
       "      <th>1253</th>\n",
       "      <td>38</td>\n",
       "      <td>38</td>\n",
       "      <td>564</td>\n",
       "    </tr>\n",
       "    <tr>\n",
       "      <th>389</th>\n",
       "      <td>11</td>\n",
       "      <td>11</td>\n",
       "      <td>530</td>\n",
       "    </tr>\n",
       "    <tr>\n",
       "      <th>396</th>\n",
       "      <td>11</td>\n",
       "      <td>20</td>\n",
       "      <td>518</td>\n",
       "    </tr>\n",
       "  </tbody>\n",
       "</table>\n",
       "</div>"
      ],
      "text/plain": [
       "      origin_cluster  destination_cluster  ride_count\n",
       "208                6                    6         670\n",
       "672               20                   11         565\n",
       "1253              38                   38         564\n",
       "389               11                   11         530\n",
       "396               11                   20         518"
      ]
     },
     "execution_count": 58,
     "metadata": {},
     "output_type": "execute_result"
    }
   ],
   "source": [
    "df_g.sort_values(by=['ride_count'], ascending=False).head()"
   ]
  },
  {
   "cell_type": "code",
   "execution_count": 59,
   "id": "5f564764",
   "metadata": {},
   "outputs": [],
   "source": [
    "x_grouped = x_points.groupby(['cluster']).mean()\n",
    "x_grouped.drop(['location_id', 'ride_id'], axis=1, inplace=True)\n",
    "x_grouped.rename({'lat': 'centroid_lat', 'lng': 'centroid_lng'}, axis=1, inplace=True)\n",
    "x_grouped.reset_index(inplace=True)"
   ]
  },
  {
   "cell_type": "code",
   "execution_count": 60,
   "id": "4437e001",
   "metadata": {},
   "outputs": [],
   "source": [
    "x_grouped2 = x_points.groupby(['cluster']).count()\n",
    "x_grouped2.drop(['lat', 'lng', 'location_id'], axis=1, inplace=True)\n",
    "x_grouped2.rename({'ride_id': 'ride_count'}, axis=1, inplace=True)\n",
    "x_grouped2.reset_index(inplace=True)"
   ]
  },
  {
   "cell_type": "code",
   "execution_count": 61,
   "id": "f45b3ab7",
   "metadata": {},
   "outputs": [
    {
     "data": {
      "text/html": [
       "<div>\n",
       "<style scoped>\n",
       "    .dataframe tbody tr th:only-of-type {\n",
       "        vertical-align: middle;\n",
       "    }\n",
       "\n",
       "    .dataframe tbody tr th {\n",
       "        vertical-align: top;\n",
       "    }\n",
       "\n",
       "    .dataframe thead th {\n",
       "        text-align: right;\n",
       "    }\n",
       "</style>\n",
       "<table border=\"1\" class=\"dataframe\">\n",
       "  <thead>\n",
       "    <tr style=\"text-align: right;\">\n",
       "      <th></th>\n",
       "      <th>cluster</th>\n",
       "      <th>centroid_lat</th>\n",
       "      <th>centroid_lng</th>\n",
       "      <th>ride_count</th>\n",
       "    </tr>\n",
       "  </thead>\n",
       "  <tbody>\n",
       "    <tr>\n",
       "      <th>0</th>\n",
       "      <td>0</td>\n",
       "      <td>50.957471</td>\n",
       "      <td>6.900928</td>\n",
       "      <td>1328</td>\n",
       "    </tr>\n",
       "    <tr>\n",
       "      <th>1</th>\n",
       "      <td>1</td>\n",
       "      <td>50.952317</td>\n",
       "      <td>6.958016</td>\n",
       "      <td>1712</td>\n",
       "    </tr>\n",
       "    <tr>\n",
       "      <th>2</th>\n",
       "      <td>2</td>\n",
       "      <td>50.923213</td>\n",
       "      <td>6.953751</td>\n",
       "      <td>1180</td>\n",
       "    </tr>\n",
       "    <tr>\n",
       "      <th>3</th>\n",
       "      <td>3</td>\n",
       "      <td>50.944177</td>\n",
       "      <td>7.020706</td>\n",
       "      <td>611</td>\n",
       "    </tr>\n",
       "    <tr>\n",
       "      <th>4</th>\n",
       "      <td>4</td>\n",
       "      <td>50.941274</td>\n",
       "      <td>6.946040</td>\n",
       "      <td>1955</td>\n",
       "    </tr>\n",
       "  </tbody>\n",
       "</table>\n",
       "</div>"
      ],
      "text/plain": [
       "   cluster  centroid_lat  centroid_lng  ride_count\n",
       "0        0     50.957471      6.900928        1328\n",
       "1        1     50.952317      6.958016        1712\n",
       "2        2     50.923213      6.953751        1180\n",
       "3        3     50.944177      7.020706         611\n",
       "4        4     50.941274      6.946040        1955"
      ]
     },
     "execution_count": 61,
     "metadata": {},
     "output_type": "execute_result"
    }
   ],
   "source": [
    "grouped_df = pd.merge(x_grouped, x_grouped2, on='cluster', how='outer')\n",
    "grouped_df.head()"
   ]
  },
  {
   "cell_type": "code",
   "execution_count": 62,
   "id": "00ede819",
   "metadata": {},
   "outputs": [
    {
     "data": {
      "text/html": [
       "<div>\n",
       "<style scoped>\n",
       "    .dataframe tbody tr th:only-of-type {\n",
       "        vertical-align: middle;\n",
       "    }\n",
       "\n",
       "    .dataframe tbody tr th {\n",
       "        vertical-align: top;\n",
       "    }\n",
       "\n",
       "    .dataframe thead th {\n",
       "        text-align: right;\n",
       "    }\n",
       "</style>\n",
       "<table border=\"1\" class=\"dataframe\">\n",
       "  <thead>\n",
       "    <tr style=\"text-align: right;\">\n",
       "      <th></th>\n",
       "      <th>lat</th>\n",
       "      <th>lng</th>\n",
       "      <th>location_id</th>\n",
       "      <th>ride_id</th>\n",
       "      <th>cluster</th>\n",
       "      <th>centroid_lat</th>\n",
       "      <th>centroid_lng</th>\n",
       "      <th>ride_count</th>\n",
       "    </tr>\n",
       "  </thead>\n",
       "  <tbody>\n",
       "    <tr>\n",
       "      <th>0</th>\n",
       "      <td>50.932058</td>\n",
       "      <td>6.988541</td>\n",
       "      <td>15405.0</td>\n",
       "      <td>0.0</td>\n",
       "      <td>37</td>\n",
       "      <td>50.932574</td>\n",
       "      <td>6.985815</td>\n",
       "      <td>1509</td>\n",
       "    </tr>\n",
       "    <tr>\n",
       "      <th>1</th>\n",
       "      <td>50.936326</td>\n",
       "      <td>6.986125</td>\n",
       "      <td>16502.0</td>\n",
       "      <td>1.0</td>\n",
       "      <td>37</td>\n",
       "      <td>50.932574</td>\n",
       "      <td>6.985815</td>\n",
       "      <td>1509</td>\n",
       "    </tr>\n",
       "    <tr>\n",
       "      <th>2</th>\n",
       "      <td>50.932037</td>\n",
       "      <td>6.988254</td>\n",
       "      <td>32762.0</td>\n",
       "      <td>2.0</td>\n",
       "      <td>37</td>\n",
       "      <td>50.932574</td>\n",
       "      <td>6.985815</td>\n",
       "      <td>1509</td>\n",
       "    </tr>\n",
       "    <tr>\n",
       "      <th>3</th>\n",
       "      <td>50.933312</td>\n",
       "      <td>6.982806</td>\n",
       "      <td>25309.0</td>\n",
       "      <td>3.0</td>\n",
       "      <td>37</td>\n",
       "      <td>50.932574</td>\n",
       "      <td>6.985815</td>\n",
       "      <td>1509</td>\n",
       "    </tr>\n",
       "    <tr>\n",
       "      <th>4</th>\n",
       "      <td>50.933619</td>\n",
       "      <td>6.977495</td>\n",
       "      <td>38004.0</td>\n",
       "      <td>4.0</td>\n",
       "      <td>9</td>\n",
       "      <td>50.938243</td>\n",
       "      <td>6.975198</td>\n",
       "      <td>1895</td>\n",
       "    </tr>\n",
       "  </tbody>\n",
       "</table>\n",
       "</div>"
      ],
      "text/plain": [
       "         lat       lng  location_id  ride_id  cluster  centroid_lat  \\\n",
       "0  50.932058  6.988541      15405.0      0.0       37     50.932574   \n",
       "1  50.936326  6.986125      16502.0      1.0       37     50.932574   \n",
       "2  50.932037  6.988254      32762.0      2.0       37     50.932574   \n",
       "3  50.933312  6.982806      25309.0      3.0       37     50.932574   \n",
       "4  50.933619  6.977495      38004.0      4.0        9     50.938243   \n",
       "\n",
       "   centroid_lng  ride_count  \n",
       "0      6.985815        1509  \n",
       "1      6.985815        1509  \n",
       "2      6.985815        1509  \n",
       "3      6.985815        1509  \n",
       "4      6.975198        1895  "
      ]
     },
     "execution_count": 62,
     "metadata": {},
     "output_type": "execute_result"
    }
   ],
   "source": [
    "final_df = pd.merge(x_points, grouped_df, on='cluster', how='left')\n",
    "final_df.head()"
   ]
  },
  {
   "cell_type": "code",
   "execution_count": 63,
   "id": "3ca27523",
   "metadata": {
    "scrolled": false
   },
   "outputs": [
    {
     "data": {
      "text/plain": [
       "Text(0.5, 1.0, 'Jan 2021')"
      ]
     },
     "execution_count": 63,
     "metadata": {},
     "output_type": "execute_result"
    },
    {
     "data": {
      "image/png": "[encoded data removed]",
      "text/plain": [
       "<Figure size 4248x72 with 1 Axes>"
      ]
     },
     "metadata": {},
     "output_type": "display_data"
    },
    {
     "data": {
      "image/png": "[encoded data removed]",
      "text/plain": [
       "<Figure size 720x720 with 1 Axes>"
      ]
     },
     "metadata": {},
     "output_type": "display_data"
    }
   ],
   "source": [
    "customPalette = ['#7b241c', '#c0392b', '#cd6155', '#d98880', '#633974', '#76448a',\n",
    "                 '#117864', '#148f77', '#17a589', '#1abc9c',\n",
    "                 '#9c640c', '#b9770e', '#d68910', '#f39c12',\n",
    "                 '#ba4a00', '#d35400', '#dc7633', '#e59866', '#626567', '#797d7f',\n",
    "                 '#808000', '#988558', '#229954', '#27ae60', '#943126', '#cb4335', '#ba4a00', '#d35400',\n",
    "                 '#884ea0', '#9b59b6', '#af7ac5', '#c39bd3',\n",
    "                 '#1f618d', '#2471a3', '#2980b9', '#5499c7', '#f5b041', '#f8c471', '#873600','#7fb3d5', '#a9cce3',\n",
    "                 '#48c9b0', '#76d7c4', '#a04000', '#e6b0aa', '#bdc3c7', '#cacfd2',\n",
    "                 '#673147', '#40826D', '#097969', '#6082B6', '#483C32', '#A0522D',\n",
    "                 '#E3735E', '#E9DCC9', '#8B8000', '#93C572', '#C4B454', '#FFE5B4']\n",
    "sns.set_palette(customPalette)\n",
    "sns.palplot(customPalette)\n",
    "\n",
    "labels = set(x_points['cluster'].to_list())\n",
    "\n",
    "#create a new figure\n",
    "f = plt.figure(figsize=(10,10))\n",
    "plt.xlim(6.85, 7.055)\n",
    "plt.ylim(50.88, 51.018)\n",
    "\n",
    "#loop through labels and plot each cluster\n",
    "for l in labels:\n",
    "\n",
    "    #add data points \n",
    "    plt.scatter(x=x_points.loc[x_points['cluster']==l, 'lng'], \n",
    "                y=x_points.loc[x_points['cluster']==l, 'lat'], \n",
    "                color=customPalette[l], \n",
    "                alpha=1)\n",
    "    \n",
    "    #add label\n",
    "    plt.annotate(l, \n",
    "                 x_points.loc[x_points['cluster']==l,['lng','lat']].mean(),\n",
    "                 horizontalalignment='center',\n",
    "                 verticalalignment='center',\n",
    "                 size=14, weight='bold',\n",
    "                 color='white',\n",
    "                 backgroundcolor=customPalette[l]) \n",
    "plt.xlabel('longitude', fontsize=16, color='#000000')\n",
    "plt.ylabel('latitude', fontsize=16, color='#000000')\n",
    "plt.title('Jan 2021', fontsize=20, color='#000000')"
   ]
  },
  {
   "cell_type": "code",
   "execution_count": 64,
   "id": "3d6527ac",
   "metadata": {},
   "outputs": [],
   "source": [
    "#final_df.to_csv('./final_data_2020-01.csv', sep=';', index=False)"
   ]
  },
  {
   "cell_type": "markdown",
   "id": "c1bc2a57",
   "metadata": {},
   "source": [
    "### Agglomerative Clustering"
   ]
  },
  {
   "cell_type": "code",
   "execution_count": 65,
   "id": "29eb5f72",
   "metadata": {},
   "outputs": [],
   "source": [
    "from scipy.cluster.hierarchy import dendrogram"
   ]
  },
  {
   "cell_type": "code",
   "execution_count": 66,
   "id": "cb0ee1a6",
   "metadata": {},
   "outputs": [
    {
     "data": {
      "text/plain": [
       "array([55259, 44884, 54282, ...,     1,     2,     0])"
      ]
     },
     "execution_count": 66,
     "metadata": {},
     "output_type": "execute_result"
    }
   ],
   "source": [
    "# instantiate Agglomerative Clustering instance\n",
    "clustering_model = AgglomerativeClustering(distance_threshold=0, n_clusters=None)\n",
    "\n",
    "# call fit method with array of sample coordinates passed as a parameter\n",
    "categories = clustering_model.fit(x)\n",
    "\n",
    "categories.labels_"
   ]
  },
  {
   "cell_type": "code",
   "execution_count": 67,
   "id": "3b81d5f4",
   "metadata": {},
   "outputs": [
    {
     "data": {
      "text/plain": [
       "array([[  3316,  51956],\n",
       "       [ 13145,  24536],\n",
       "       [ 35737,  45424],\n",
       "       ...,\n",
       "       [115234, 115238],\n",
       "       [115241, 115242],\n",
       "       [115239, 115243]])"
      ]
     },
     "execution_count": 67,
     "metadata": {},
     "output_type": "execute_result"
    }
   ],
   "source": [
    "clustering_model.children_"
   ]
  },
  {
   "cell_type": "code",
   "execution_count": 68,
   "id": "3423d203",
   "metadata": {},
   "outputs": [
    {
     "data": {
      "text/plain": [
       "8.687830210832677"
      ]
     },
     "execution_count": 68,
     "metadata": {},
     "output_type": "execute_result"
    }
   ],
   "source": [
    "clustering_model.distances_.max()"
   ]
  },
  {
   "cell_type": "code",
   "execution_count": 69,
   "id": "8c448498",
   "metadata": {},
   "outputs": [
    {
     "data": {
      "text/plain": [
       "0.0"
      ]
     },
     "execution_count": 69,
     "metadata": {},
     "output_type": "execute_result"
    }
   ],
   "source": [
    "clustering_model.distances_.min()"
   ]
  },
  {
   "cell_type": "code",
   "execution_count": 70,
   "id": "366f8faf",
   "metadata": {},
   "outputs": [
    {
     "data": {
      "image/png": "[encoded data removed]",
      "text/plain": [
       "<Figure size 864x576 with 1 Axes>"
      ]
     },
     "metadata": {},
     "output_type": "display_data"
    }
   ],
   "source": [
    "labels = np.zeros((len(clustering_model.children_), 1))\n",
    "d = np.hstack((clustering_model.children_, clustering_model.distances_.reshape(-1,1), labels))\n",
    "dendrogram(d, truncate_mode='level', p=5)\n",
    "None"
   ]
  },
  {
   "cell_type": "code",
   "execution_count": null,
   "id": "466a775f",
   "metadata": {},
   "outputs": [],
   "source": [
    "# instantiate Agglomerative Clustering instance\n",
    "clustering_model = AgglomerativeClustering(distance_threshold=0.3, n_clusters=None)\n",
    "\n",
    "# call fit method with array of sample coordinates passed as a parameter\n",
    "categories = clustering_model.fit(x)\n",
    "\n",
    "categories.labels_"
   ]
  },
  {
   "cell_type": "code",
   "execution_count": null,
   "id": "fce4cc16",
   "metadata": {},
   "outputs": [],
   "source": [
    "x_points.rename({'cluster': 'cluster_kmns'}, axis= 1, inplace= True)"
   ]
  },
  {
   "cell_type": "code",
   "execution_count": null,
   "id": "d68aace5",
   "metadata": {},
   "outputs": [],
   "source": [
    "len(set(categories.labels_)) #number of clusters for the month"
   ]
  },
  {
   "cell_type": "code",
   "execution_count": null,
   "id": "b561272e",
   "metadata": {},
   "outputs": [],
   "source": [
    "x_points['cluster'] = categories.labels_"
   ]
  },
  {
   "cell_type": "code",
   "execution_count": null,
   "id": "05d70fbe",
   "metadata": {},
   "outputs": [],
   "source": [
    "df_merge_x = pd.DataFrame()\n",
    "df_merge_x['location_id'] = x_points['location_id']\n",
    "df_merge_x['cluster'] = x_points['cluster']"
   ]
  },
  {
   "cell_type": "code",
   "execution_count": null,
   "id": "24bb5ab7",
   "metadata": {},
   "outputs": [],
   "source": [
    "df_clusters.rename({'origin_cluster': 'origin_cluster_kmns', 'destination_cluster': 'destination__cluster_kmns'}, axis= 1, inplace= True)"
   ]
  },
  {
   "cell_type": "code",
   "execution_count": null,
   "id": "eef5e2c7",
   "metadata": {},
   "outputs": [],
   "source": [
    "df_clusters.rename({'origin_id': 'location_id'}, axis= 1, inplace= True) #temporary change\n",
    "df_clusters = pd.merge(df_clusters, df_merge_x, on='location_id', how='left')\n",
    "\n",
    "df_clusters.drop_duplicates(subset=['ride_id'], inplace=True)\n",
    "\n",
    "#reverting the change of origin name and adding the same for the cluster\n",
    "df_clusters.rename({'location_id':'origin_id', 'cluster':'origin_cluster'}, axis=1, inplace=True) \n",
    "\n",
    "#temporary change for destinations\n",
    "df_clusters.rename({'destination_id':'location_id'}, axis=1, inplace=True)\n",
    "\n",
    "df_clusters = pd.merge(df_clusters, df_merge_x, on='location_id', how='left')\n",
    "\n",
    "df_clusters.drop_duplicates(subset=['ride_id'], inplace=True)\n",
    "\n",
    "#reverting the change of destination name and adding the same for the cluster\n",
    "df_clusters.rename({'location_id':'destination_id', 'cluster':'destination_cluster'}, axis=1, inplace=True)"
   ]
  },
  {
   "cell_type": "code",
   "execution_count": null,
   "id": "af6ed63d",
   "metadata": {},
   "outputs": [],
   "source": [
    "df_clusters.head()"
   ]
  },
  {
   "cell_type": "code",
   "execution_count": null,
   "id": "60f0526a",
   "metadata": {},
   "outputs": [],
   "source": [
    "df_g = df_clusters[['ride_time','origin_cluster','destination_cluster']]\n",
    "df_g = df_g.groupby(['origin_cluster','destination_cluster']).count()\n",
    "df_g.reset_index(inplace=True)\n",
    "df_g.rename({'ride_time':'ride_count'}, axis=1, inplace=True)\n",
    "df_g.head()"
   ]
  },
  {
   "cell_type": "code",
   "execution_count": null,
   "id": "3bb5a5b6",
   "metadata": {},
   "outputs": [],
   "source": [
    "customPalette = ['#7b241c', '#c0392b', '#cd6155', '#d98880', '#633974', '#76448a',\n",
    "                 '#117864', '#148f77', '#17a589', '#1abc9c',\n",
    "                 '#9c640c', '#b9770e', '#d68910', '#f39c12',\n",
    "                 '#ba4a00', '#d35400', '#dc7633', '#e59866', '#626567', '#797d7f',\n",
    "                 '#808000', '#988558', '#229954', '#27ae60', '#943126', '#cb4335', '#ba4a00', '#d35400',\n",
    "                 '#884ea0', '#9b59b6', '#af7ac5', '#c39bd3',\n",
    "                 '#1f618d', '#2471a3', '#2980b9', '#5499c7', '#f5b041', '#f8c471', '#873600','#7fb3d5', '#a9cce3',\n",
    "                 '#48c9b0', '#76d7c4', '#a04000', '#e6b0aa', '#bdc3c7', '#cacfd2',\n",
    "                 '#673147', '#40826D', '#097969', '#6082B6', '#483C32', '#A0522D',\n",
    "                 '#E3735E', '#E9DCC9', '#8B8000', '#93C572', '#C4B454', '#FFE5B4']\n",
    "sns.set_palette(customPalette)\n",
    "sns.palplot(customPalette)\n",
    "\n",
    "labels = set(x_points['cluster'].to_list())\n",
    "\n",
    "#create a new figure\n",
    "plt.figure(figsize=(10,10))\n",
    "\n",
    "#loop through labels and plot each cluster\n",
    "for l in labels:\n",
    "\n",
    "    #add data points \n",
    "    plt.scatter(x=x_points.loc[x_points['cluster']==l, 'lng'], \n",
    "                y=x_points.loc[x_points['cluster']==l, 'lat'], \n",
    "                color=customPalette[l], \n",
    "                alpha=1)\n",
    "    \n",
    "    #add label\n",
    "    plt.annotate(l, \n",
    "                 x_points.loc[x_points['cluster']==l,['lng','lat']].mean(),\n",
    "                 horizontalalignment='center',\n",
    "                 verticalalignment='center',\n",
    "                 size=14, weight='bold',\n",
    "                 color='white',\n",
    "                 backgroundcolor=customPalette[l]) \n",
    "plt.xlabel('Longitude')\n",
    "plt.ylabel('Latitude')"
   ]
  },
  {
   "cell_type": "code",
   "execution_count": null,
   "id": "2d9b46b0",
   "metadata": {},
   "outputs": [],
   "source": [
    "df_g.sort_values(by=['ride_count'], ascending=False).head()"
   ]
  },
  {
   "cell_type": "code",
   "execution_count": null,
   "id": "b10da944",
   "metadata": {},
   "outputs": [],
   "source": [
    "df_g['origin_cluster'].value_counts() #the most often clusters of origin"
   ]
  },
  {
   "cell_type": "code",
   "execution_count": null,
   "id": "b965a529",
   "metadata": {},
   "outputs": [],
   "source": [
    "x_grouped = x_points.groupby(['cluster']).mean()\n",
    "x_grouped.drop(['location_id', 'ride_id', 'cluster_kmns'], axis=1, inplace=True)\n",
    "x_grouped.rename({'lat': 'centroid_lat', 'lng': 'centroid_lng'}, axis=1, inplace=True)\n",
    "x_grouped.reset_index(inplace=True)"
   ]
  },
  {
   "cell_type": "code",
   "execution_count": null,
   "id": "2731e9aa",
   "metadata": {},
   "outputs": [],
   "source": [
    "x_grouped2 = x_points.groupby(['cluster']).count()\n",
    "x_grouped2.drop(['lat', 'lng', 'location_id', 'cluster_kmns'], axis=1, inplace=True)\n",
    "x_grouped2.rename({'ride_id': 'ride_count'}, axis=1, inplace=True)\n",
    "x_grouped2.reset_index(inplace=True)"
   ]
  },
  {
   "cell_type": "code",
   "execution_count": null,
   "id": "27e25cdf",
   "metadata": {},
   "outputs": [],
   "source": [
    "grouped_df = pd.merge(x_grouped, x_grouped2, on='cluster', how='outer')\n",
    "grouped_df.head()"
   ]
  },
  {
   "cell_type": "code",
   "execution_count": null,
   "id": "c6f20de3",
   "metadata": {},
   "outputs": [],
   "source": [
    "final_df = pd.merge(x_points, grouped_df, on='cluster', how='left')\n",
    "final_df.head()"
   ]
  },
  {
   "cell_type": "code",
   "execution_count": null,
   "id": "aa519652",
   "metadata": {},
   "outputs": [],
   "source": [
    "#final_df.to_csv('/bigdata/jelicicna/clustering_datasets/final_data_agg3_2021-01.csv', sep=';', index=False)"
   ]
  }
 ],
 "metadata": {
  "kernelspec": {
   "display_name": "Python 3",
   "language": "python",
   "name": "python3"
  },
  "language_info": {
   "codemirror_mode": {
    "name": "ipython",
    "version": 3
   },
   "file_extension": ".py",
   "mimetype": "text/x-python",
   "name": "python",
   "nbconvert_exporter": "python",
   "pygments_lexer": "ipython3",
   "version": "3.6.9"
  }
 },
 "nbformat": 4,
 "nbformat_minor": 5
}
