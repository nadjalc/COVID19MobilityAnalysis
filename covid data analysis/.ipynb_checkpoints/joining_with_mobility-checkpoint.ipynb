{
 "cells": [
  {
   "cell_type": "code",
   "execution_count": 1,
   "metadata": {},
   "outputs": [],
   "source": [
    "import numpy as np\n",
    "import pandas as pd\n",
    "import matplotlib\n",
    "import datetime\n",
    "import time\n",
    "from itertools import islice\n",
    "import glob\n",
    "import io"
   ]
  },
  {
   "cell_type": "code",
   "execution_count": 2,
   "metadata": {},
   "outputs": [],
   "source": [
    "def parse_timestamp(el):\n",
    "    b = datetime.datetime.strptime(el, fmt)\n",
    "    return b"
   ]
  },
  {
   "cell_type": "code",
   "execution_count": 3,
   "metadata": {},
   "outputs": [],
   "source": [
    "def parse_timestamp2(el):\n",
    "    b = datetime.datetime.strptime(el, fmt2)\n",
    "    return b"
   ]
  },
  {
   "cell_type": "code",
   "execution_count": 16,
   "metadata": {},
   "outputs": [],
   "source": [
    "def add_date_col(df_m):\n",
    "    date_lst = []\n",
    "    for index, row in df_m.iterrows():\n",
    "        day = str(df_m['ride_begin'][index].day)\n",
    "        month = str(df_m['ride_begin'][index].month)\n",
    "        year = str(df_m['ride_begin'][index].year)\n",
    "        date_text = year + '-' + month + '-' + day\n",
    "        date_lst.append(date_text)\n",
    "        return date_lst"
   ]
  },
  {
   "cell_type": "code",
   "execution_count": 4,
   "metadata": {},
   "outputs": [],
   "source": [
    "fmt = '%Y-%m-%d'\n",
    "fmt2 = '%Y-%m-%d %H:%M:%S'"
   ]
  },
  {
   "cell_type": "code",
   "execution_count": 5,
   "metadata": {},
   "outputs": [],
   "source": [
    "# Importing data on countermeasures and mobility\n",
    "url_c = \"covid19_final_set.csv\"\n",
    "df_c20 = pd.read_csv(url_c, sep=';', low_memory=False)\n",
    "df_c21 = pd.read_csv(url_c, sep=';', low_memory=False)"
   ]
  },
  {
   "cell_type": "code",
   "execution_count": 6,
   "metadata": {},
   "outputs": [],
   "source": [
    "mobility_2020 = glob.glob('./mobility_data_2020/*.csv')\n",
    "mobility_2020.sort()"
   ]
  },
  {
   "cell_type": "code",
   "execution_count": 7,
   "metadata": {},
   "outputs": [
    {
     "data": {
      "text/plain": [
       "['./mobility_data_2020\\\\anlysis_data_nextbike_2020-01.csv',\n",
       " './mobility_data_2020\\\\anlysis_data_nextbike_2020-02.csv',\n",
       " './mobility_data_2020\\\\anlysis_data_nextbike_2020-03.csv',\n",
       " './mobility_data_2020\\\\anlysis_data_nextbike_2020-04.csv',\n",
       " './mobility_data_2020\\\\anlysis_data_nextbike_2020-05.csv',\n",
       " './mobility_data_2020\\\\anlysis_data_nextbike_2020-06.csv',\n",
       " './mobility_data_2020\\\\anlysis_data_nextbike_2020-07.csv']"
      ]
     },
     "execution_count": 7,
     "metadata": {},
     "output_type": "execute_result"
    }
   ],
   "source": [
    "mobility_2020"
   ]
  },
  {
   "cell_type": "code",
   "execution_count": 8,
   "metadata": {},
   "outputs": [],
   "source": [
    "mobility_2021 = glob.glob('./mobility_data_2021/*.csv')\n",
    "mobility_2021.sort()"
   ]
  },
  {
   "cell_type": "code",
   "execution_count": 9,
   "metadata": {},
   "outputs": [
    {
     "data": {
      "text/plain": [
       "['./mobility_data_2021\\\\anlysis_data_nextbike_2021-01.csv',\n",
       " './mobility_data_2021\\\\anlysis_data_nextbike_2021-02.csv',\n",
       " './mobility_data_2021\\\\anlysis_data_nextbike_2021-03.csv',\n",
       " './mobility_data_2021\\\\anlysis_data_nextbike_2021-04.csv',\n",
       " './mobility_data_2021\\\\anlysis_data_nextbike_2021-05.csv',\n",
       " './mobility_data_2021\\\\anlysis_data_nextbike_2021-06.csv',\n",
       " './mobility_data_2021\\\\anlysis_data_nextbike_2021-07.csv']"
      ]
     },
     "execution_count": 9,
     "metadata": {},
     "output_type": "execute_result"
    }
   ],
   "source": [
    "mobility_2021"
   ]
  },
  {
   "cell_type": "code",
   "execution_count": 10,
   "metadata": {},
   "outputs": [],
   "source": [
    "li = []\n",
    "for file in mobility_2020:\n",
    "    frame = pd.read_csv(file, sep= ';', index_col=None, header=0, low_memory=False)\n",
    "    li.append(frame) \n",
    "df_m20 = pd.concat(li, axis=0, ignore_index=True, sort= False) #connecting all the dates"
   ]
  },
  {
   "cell_type": "code",
   "execution_count": 11,
   "metadata": {},
   "outputs": [],
   "source": [
    "li = []\n",
    "for file in mobility_2021:\n",
    "    frame = pd.read_csv(file, sep= ';', index_col=None, header=0, low_memory=False)\n",
    "    li.append(frame) \n",
    "df_m21 = pd.concat(li, axis=0, ignore_index=True, sort= False) #connecting all the dates"
   ]
  },
  {
   "cell_type": "code",
   "execution_count": 12,
   "metadata": {},
   "outputs": [],
   "source": [
    "pd.set_option('display.max_columns()', None)"
   ]
  },
  {
   "cell_type": "code",
   "execution_count": 14,
   "metadata": {},
   "outputs": [],
   "source": [
    "df_c20['date'] = df_c20['date'].map(parse_timestamp)\n",
    "df_c21['date'] = df_c21['date'].map(parse_timestamp)\n",
    "df_m20['ride_begin'] = df_m20['ride_begin'].map(parse_timestamp2)\n",
    "df_m21['ride_begin'] = df_m21['ride_begin'].map(parse_timestamp2)"
   ]
  },
  {
   "cell_type": "code",
   "execution_count": 18,
   "metadata": {},
   "outputs": [
    {
     "ename": "ValueError",
     "evalue": "Length of values (1) does not match length of index (355682)",
     "output_type": "error",
     "traceback": [
      "\u001b[1;31m---------------------------------------------------------------------------\u001b[0m",
      "\u001b[1;31mValueError\u001b[0m                                Traceback (most recent call last)",
      "\u001b[1;32m<ipython-input-18-59fe1aca83e4>\u001b[0m in \u001b[0;36m<module>\u001b[1;34m\u001b[0m\n\u001b[1;32m----> 1\u001b[1;33m \u001b[0mdf_m20\u001b[0m\u001b[1;33m[\u001b[0m\u001b[1;34m'date'\u001b[0m\u001b[1;33m]\u001b[0m \u001b[1;33m=\u001b[0m \u001b[0madd_date_col\u001b[0m\u001b[1;33m(\u001b[0m\u001b[0mdf_m20\u001b[0m\u001b[1;33m)\u001b[0m\u001b[1;33m\u001b[0m\u001b[1;33m\u001b[0m\u001b[0m\n\u001b[0m",
      "\u001b[1;32m~\\anaconda3\\lib\\site-packages\\pandas\\core\\frame.py\u001b[0m in \u001b[0;36m__setitem__\u001b[1;34m(self, key, value)\u001b[0m\n\u001b[0;32m   3038\u001b[0m         \u001b[1;32melse\u001b[0m\u001b[1;33m:\u001b[0m\u001b[1;33m\u001b[0m\u001b[1;33m\u001b[0m\u001b[0m\n\u001b[0;32m   3039\u001b[0m             \u001b[1;31m# set column\u001b[0m\u001b[1;33m\u001b[0m\u001b[1;33m\u001b[0m\u001b[1;33m\u001b[0m\u001b[0m\n\u001b[1;32m-> 3040\u001b[1;33m             \u001b[0mself\u001b[0m\u001b[1;33m.\u001b[0m\u001b[0m_set_item\u001b[0m\u001b[1;33m(\u001b[0m\u001b[0mkey\u001b[0m\u001b[1;33m,\u001b[0m \u001b[0mvalue\u001b[0m\u001b[1;33m)\u001b[0m\u001b[1;33m\u001b[0m\u001b[1;33m\u001b[0m\u001b[0m\n\u001b[0m\u001b[0;32m   3041\u001b[0m \u001b[1;33m\u001b[0m\u001b[0m\n\u001b[0;32m   3042\u001b[0m     \u001b[1;32mdef\u001b[0m \u001b[0m_setitem_slice\u001b[0m\u001b[1;33m(\u001b[0m\u001b[0mself\u001b[0m\u001b[1;33m,\u001b[0m \u001b[0mkey\u001b[0m\u001b[1;33m:\u001b[0m \u001b[0mslice\u001b[0m\u001b[1;33m,\u001b[0m \u001b[0mvalue\u001b[0m\u001b[1;33m)\u001b[0m\u001b[1;33m:\u001b[0m\u001b[1;33m\u001b[0m\u001b[1;33m\u001b[0m\u001b[0m\n",
      "\u001b[1;32m~\\anaconda3\\lib\\site-packages\\pandas\\core\\frame.py\u001b[0m in \u001b[0;36m_set_item\u001b[1;34m(self, key, value)\u001b[0m\n\u001b[0;32m   3114\u001b[0m         \"\"\"\n\u001b[0;32m   3115\u001b[0m         \u001b[0mself\u001b[0m\u001b[1;33m.\u001b[0m\u001b[0m_ensure_valid_index\u001b[0m\u001b[1;33m(\u001b[0m\u001b[0mvalue\u001b[0m\u001b[1;33m)\u001b[0m\u001b[1;33m\u001b[0m\u001b[1;33m\u001b[0m\u001b[0m\n\u001b[1;32m-> 3116\u001b[1;33m         \u001b[0mvalue\u001b[0m \u001b[1;33m=\u001b[0m \u001b[0mself\u001b[0m\u001b[1;33m.\u001b[0m\u001b[0m_sanitize_column\u001b[0m\u001b[1;33m(\u001b[0m\u001b[0mkey\u001b[0m\u001b[1;33m,\u001b[0m \u001b[0mvalue\u001b[0m\u001b[1;33m)\u001b[0m\u001b[1;33m\u001b[0m\u001b[1;33m\u001b[0m\u001b[0m\n\u001b[0m\u001b[0;32m   3117\u001b[0m         \u001b[0mNDFrame\u001b[0m\u001b[1;33m.\u001b[0m\u001b[0m_set_item\u001b[0m\u001b[1;33m(\u001b[0m\u001b[0mself\u001b[0m\u001b[1;33m,\u001b[0m \u001b[0mkey\u001b[0m\u001b[1;33m,\u001b[0m \u001b[0mvalue\u001b[0m\u001b[1;33m)\u001b[0m\u001b[1;33m\u001b[0m\u001b[1;33m\u001b[0m\u001b[0m\n\u001b[0;32m   3118\u001b[0m \u001b[1;33m\u001b[0m\u001b[0m\n",
      "\u001b[1;32m~\\anaconda3\\lib\\site-packages\\pandas\\core\\frame.py\u001b[0m in \u001b[0;36m_sanitize_column\u001b[1;34m(self, key, value, broadcast)\u001b[0m\n\u001b[0;32m   3762\u001b[0m \u001b[1;33m\u001b[0m\u001b[0m\n\u001b[0;32m   3763\u001b[0m             \u001b[1;31m# turn me into an ndarray\u001b[0m\u001b[1;33m\u001b[0m\u001b[1;33m\u001b[0m\u001b[1;33m\u001b[0m\u001b[0m\n\u001b[1;32m-> 3764\u001b[1;33m             \u001b[0mvalue\u001b[0m \u001b[1;33m=\u001b[0m \u001b[0msanitize_index\u001b[0m\u001b[1;33m(\u001b[0m\u001b[0mvalue\u001b[0m\u001b[1;33m,\u001b[0m \u001b[0mself\u001b[0m\u001b[1;33m.\u001b[0m\u001b[0mindex\u001b[0m\u001b[1;33m)\u001b[0m\u001b[1;33m\u001b[0m\u001b[1;33m\u001b[0m\u001b[0m\n\u001b[0m\u001b[0;32m   3765\u001b[0m             \u001b[1;32mif\u001b[0m \u001b[1;32mnot\u001b[0m \u001b[0misinstance\u001b[0m\u001b[1;33m(\u001b[0m\u001b[0mvalue\u001b[0m\u001b[1;33m,\u001b[0m \u001b[1;33m(\u001b[0m\u001b[0mnp\u001b[0m\u001b[1;33m.\u001b[0m\u001b[0mndarray\u001b[0m\u001b[1;33m,\u001b[0m \u001b[0mIndex\u001b[0m\u001b[1;33m)\u001b[0m\u001b[1;33m)\u001b[0m\u001b[1;33m:\u001b[0m\u001b[1;33m\u001b[0m\u001b[1;33m\u001b[0m\u001b[0m\n\u001b[0;32m   3766\u001b[0m                 \u001b[1;32mif\u001b[0m \u001b[0misinstance\u001b[0m\u001b[1;33m(\u001b[0m\u001b[0mvalue\u001b[0m\u001b[1;33m,\u001b[0m \u001b[0mlist\u001b[0m\u001b[1;33m)\u001b[0m \u001b[1;32mand\u001b[0m \u001b[0mlen\u001b[0m\u001b[1;33m(\u001b[0m\u001b[0mvalue\u001b[0m\u001b[1;33m)\u001b[0m \u001b[1;33m>\u001b[0m \u001b[1;36m0\u001b[0m\u001b[1;33m:\u001b[0m\u001b[1;33m\u001b[0m\u001b[1;33m\u001b[0m\u001b[0m\n",
      "\u001b[1;32m~\\anaconda3\\lib\\site-packages\\pandas\\core\\internals\\construction.py\u001b[0m in \u001b[0;36msanitize_index\u001b[1;34m(data, index)\u001b[0m\n\u001b[0;32m    745\u001b[0m     \"\"\"\n\u001b[0;32m    746\u001b[0m     \u001b[1;32mif\u001b[0m \u001b[0mlen\u001b[0m\u001b[1;33m(\u001b[0m\u001b[0mdata\u001b[0m\u001b[1;33m)\u001b[0m \u001b[1;33m!=\u001b[0m \u001b[0mlen\u001b[0m\u001b[1;33m(\u001b[0m\u001b[0mindex\u001b[0m\u001b[1;33m)\u001b[0m\u001b[1;33m:\u001b[0m\u001b[1;33m\u001b[0m\u001b[1;33m\u001b[0m\u001b[0m\n\u001b[1;32m--> 747\u001b[1;33m         raise ValueError(\n\u001b[0m\u001b[0;32m    748\u001b[0m             \u001b[1;34m\"Length of values \"\u001b[0m\u001b[1;33m\u001b[0m\u001b[1;33m\u001b[0m\u001b[0m\n\u001b[0;32m    749\u001b[0m             \u001b[1;34mf\"({len(data)}) \"\u001b[0m\u001b[1;33m\u001b[0m\u001b[1;33m\u001b[0m\u001b[0m\n",
      "\u001b[1;31mValueError\u001b[0m: Length of values (1) does not match length of index (355682)"
     ]
    }
   ],
   "source": [
    "df_m20['date'] = add_date_col(df_m20)"
   ]
  },
  {
   "cell_type": "code",
   "execution_count": 89,
   "metadata": {},
   "outputs": [],
   "source": [
    "df_m20['date'] = df_m20['date'].map(parse_timestamp)"
   ]
  },
  {
   "cell_type": "code",
   "execution_count": 17,
   "metadata": {},
   "outputs": [
    {
     "data": {
      "text/html": [
       "<div>\n",
       "<style scoped>\n",
       "    .dataframe tbody tr th:only-of-type {\n",
       "        vertical-align: middle;\n",
       "    }\n",
       "\n",
       "    .dataframe tbody tr th {\n",
       "        vertical-align: top;\n",
       "    }\n",
       "\n",
       "    .dataframe thead th {\n",
       "        text-align: right;\n",
       "    }\n",
       "</style>\n",
       "<table border=\"1\" class=\"dataframe\">\n",
       "  <thead>\n",
       "    <tr style=\"text-align: right;\">\n",
       "      <th></th>\n",
       "      <th>old_index</th>\n",
       "      <th>lat_begin</th>\n",
       "      <th>lng_begin</th>\n",
       "      <th>lat_end</th>\n",
       "      <th>lng_end</th>\n",
       "      <th>ride_begin</th>\n",
       "      <th>ride_end</th>\n",
       "      <th>ride_time</th>\n",
       "      <th>distance</th>\n",
       "      <th>uid_begin</th>\n",
       "      <th>uid_end</th>\n",
       "      <th>standing_before_ride</th>\n",
       "      <th>name</th>\n",
       "      <th>available_bikes</th>\n",
       "      <th>calculated_distance</th>\n",
       "    </tr>\n",
       "  </thead>\n",
       "  <tbody>\n",
       "    <tr>\n",
       "      <th>0</th>\n",
       "      <td>0</td>\n",
       "      <td>50.932058</td>\n",
       "      <td>6.988541</td>\n",
       "      <td>50.936326</td>\n",
       "      <td>6.986125</td>\n",
       "      <td>2020-01-01 02:40:01</td>\n",
       "      <td>2020-01-01 02:46:02</td>\n",
       "      <td>6.0</td>\n",
       "      <td>504.0</td>\n",
       "      <td>26503191</td>\n",
       "      <td>26523894</td>\n",
       "      <td>160.0</td>\n",
       "      <td>BIKE 22739</td>\n",
       "      <td>2620</td>\n",
       "      <td>4000.0</td>\n",
       "    </tr>\n",
       "    <tr>\n",
       "      <th>1</th>\n",
       "      <td>1</td>\n",
       "      <td>50.936326</td>\n",
       "      <td>6.986125</td>\n",
       "      <td>50.932037</td>\n",
       "      <td>6.988254</td>\n",
       "      <td>2020-01-01 06:25:02</td>\n",
       "      <td>2020-01-01 06:30:03</td>\n",
       "      <td>5.0</td>\n",
       "      <td>500.0</td>\n",
       "      <td>26523894</td>\n",
       "      <td>26528020</td>\n",
       "      <td>219.0</td>\n",
       "      <td>BIKE 22739</td>\n",
       "      <td>2613</td>\n",
       "      <td>4000.0</td>\n",
       "    </tr>\n",
       "    <tr>\n",
       "      <th>2</th>\n",
       "      <td>2</td>\n",
       "      <td>50.932037</td>\n",
       "      <td>6.988254</td>\n",
       "      <td>50.933224</td>\n",
       "      <td>6.982801</td>\n",
       "      <td>2020-01-01 12:56:02</td>\n",
       "      <td>2020-01-01 13:03:01</td>\n",
       "      <td>7.0</td>\n",
       "      <td>404.0</td>\n",
       "      <td>26528020</td>\n",
       "      <td>26534301</td>\n",
       "      <td>386.0</td>\n",
       "      <td>BIKE 22739</td>\n",
       "      <td>2622</td>\n",
       "      <td>4000.0</td>\n",
       "    </tr>\n",
       "    <tr>\n",
       "      <th>3</th>\n",
       "      <td>6</td>\n",
       "      <td>50.933312</td>\n",
       "      <td>6.982806</td>\n",
       "      <td>50.933619</td>\n",
       "      <td>6.977495</td>\n",
       "      <td>2020-01-06 10:54:02</td>\n",
       "      <td>2020-01-06 10:59:02</td>\n",
       "      <td>5.0</td>\n",
       "      <td>374.0</td>\n",
       "      <td>26551301</td>\n",
       "      <td>26661168</td>\n",
       "      <td>5944.0</td>\n",
       "      <td>BIKE 22739</td>\n",
       "      <td>2635</td>\n",
       "      <td>4000.0</td>\n",
       "    </tr>\n",
       "    <tr>\n",
       "      <th>4</th>\n",
       "      <td>7</td>\n",
       "      <td>50.933619</td>\n",
       "      <td>6.977495</td>\n",
       "      <td>50.936199</td>\n",
       "      <td>6.987294</td>\n",
       "      <td>2020-01-06 13:53:02</td>\n",
       "      <td>2020-01-06 14:02:02</td>\n",
       "      <td>9.0</td>\n",
       "      <td>744.0</td>\n",
       "      <td>26661168</td>\n",
       "      <td>26665444</td>\n",
       "      <td>174.0</td>\n",
       "      <td>BIKE 22739</td>\n",
       "      <td>2581</td>\n",
       "      <td>6500.0</td>\n",
       "    </tr>\n",
       "    <tr>\n",
       "      <th>...</th>\n",
       "      <td>...</td>\n",
       "      <td>...</td>\n",
       "      <td>...</td>\n",
       "      <td>...</td>\n",
       "      <td>...</td>\n",
       "      <td>...</td>\n",
       "      <td>...</td>\n",
       "      <td>...</td>\n",
       "      <td>...</td>\n",
       "      <td>...</td>\n",
       "      <td>...</td>\n",
       "      <td>...</td>\n",
       "      <td>...</td>\n",
       "      <td>...</td>\n",
       "      <td>...</td>\n",
       "    </tr>\n",
       "    <tr>\n",
       "      <th>355677</th>\n",
       "      <td>68283</td>\n",
       "      <td>50.950661</td>\n",
       "      <td>6.980713</td>\n",
       "      <td>50.922703</td>\n",
       "      <td>6.950761</td>\n",
       "      <td>2020-07-31 17:55:03</td>\n",
       "      <td>2020-07-31 18:49:02</td>\n",
       "      <td>54.0</td>\n",
       "      <td>3752.0</td>\n",
       "      <td>33473552</td>\n",
       "      <td>33481991</td>\n",
       "      <td>53.0</td>\n",
       "      <td>BIKE 21871</td>\n",
       "      <td>1090</td>\n",
       "      <td>24000.0</td>\n",
       "    </tr>\n",
       "    <tr>\n",
       "      <th>355678</th>\n",
       "      <td>68284</td>\n",
       "      <td>50.922703</td>\n",
       "      <td>6.950761</td>\n",
       "      <td>50.938472</td>\n",
       "      <td>6.945043</td>\n",
       "      <td>2020-07-31 19:36:03</td>\n",
       "      <td>2020-07-31 19:49:02</td>\n",
       "      <td>13.0</td>\n",
       "      <td>1799.0</td>\n",
       "      <td>33481991</td>\n",
       "      <td>33486620</td>\n",
       "      <td>47.0</td>\n",
       "      <td>BIKE 21871</td>\n",
       "      <td>1097</td>\n",
       "      <td>6500.0</td>\n",
       "    </tr>\n",
       "    <tr>\n",
       "      <th>355679</th>\n",
       "      <td>68285</td>\n",
       "      <td>50.938472</td>\n",
       "      <td>6.945043</td>\n",
       "      <td>50.941885</td>\n",
       "      <td>6.942665</td>\n",
       "      <td>2020-07-31 20:20:02</td>\n",
       "      <td>2020-07-31 20:30:02</td>\n",
       "      <td>10.0</td>\n",
       "      <td>415.0</td>\n",
       "      <td>33486620</td>\n",
       "      <td>33489640</td>\n",
       "      <td>31.0</td>\n",
       "      <td>BIKE 21871</td>\n",
       "      <td>1066</td>\n",
       "      <td>6500.0</td>\n",
       "    </tr>\n",
       "    <tr>\n",
       "      <th>355680</th>\n",
       "      <td>68286</td>\n",
       "      <td>50.941885</td>\n",
       "      <td>6.942665</td>\n",
       "      <td>50.951134</td>\n",
       "      <td>6.927154</td>\n",
       "      <td>2020-07-31 22:13:02</td>\n",
       "      <td>2020-07-31 22:27:03</td>\n",
       "      <td>14.0</td>\n",
       "      <td>1497.0</td>\n",
       "      <td>33489640</td>\n",
       "      <td>33497232</td>\n",
       "      <td>103.0</td>\n",
       "      <td>BIKE 21871</td>\n",
       "      <td>1033</td>\n",
       "      <td>6500.0</td>\n",
       "    </tr>\n",
       "    <tr>\n",
       "      <th>355681</th>\n",
       "      <td>68287</td>\n",
       "      <td>50.951134</td>\n",
       "      <td>6.927154</td>\n",
       "      <td>50.929814</td>\n",
       "      <td>6.933531</td>\n",
       "      <td>2020-07-31 22:59:02</td>\n",
       "      <td>2020-07-31 23:18:02</td>\n",
       "      <td>19.0</td>\n",
       "      <td>2413.0</td>\n",
       "      <td>33497232</td>\n",
       "      <td>33499908</td>\n",
       "      <td>32.0</td>\n",
       "      <td>BIKE 21871</td>\n",
       "      <td>1053</td>\n",
       "      <td>9000.0</td>\n",
       "    </tr>\n",
       "  </tbody>\n",
       "</table>\n",
       "<p>355682 rows × 15 columns</p>\n",
       "</div>"
      ],
      "text/plain": [
       "        old_index  lat_begin  lng_begin    lat_end   lng_end  \\\n",
       "0               0  50.932058   6.988541  50.936326  6.986125   \n",
       "1               1  50.936326   6.986125  50.932037  6.988254   \n",
       "2               2  50.932037   6.988254  50.933224  6.982801   \n",
       "3               6  50.933312   6.982806  50.933619  6.977495   \n",
       "4               7  50.933619   6.977495  50.936199  6.987294   \n",
       "...           ...        ...        ...        ...       ...   \n",
       "355677      68283  50.950661   6.980713  50.922703  6.950761   \n",
       "355678      68284  50.922703   6.950761  50.938472  6.945043   \n",
       "355679      68285  50.938472   6.945043  50.941885  6.942665   \n",
       "355680      68286  50.941885   6.942665  50.951134  6.927154   \n",
       "355681      68287  50.951134   6.927154  50.929814  6.933531   \n",
       "\n",
       "                ride_begin             ride_end  ride_time  distance  \\\n",
       "0      2020-01-01 02:40:01  2020-01-01 02:46:02        6.0     504.0   \n",
       "1      2020-01-01 06:25:02  2020-01-01 06:30:03        5.0     500.0   \n",
       "2      2020-01-01 12:56:02  2020-01-01 13:03:01        7.0     404.0   \n",
       "3      2020-01-06 10:54:02  2020-01-06 10:59:02        5.0     374.0   \n",
       "4      2020-01-06 13:53:02  2020-01-06 14:02:02        9.0     744.0   \n",
       "...                    ...                  ...        ...       ...   \n",
       "355677 2020-07-31 17:55:03  2020-07-31 18:49:02       54.0    3752.0   \n",
       "355678 2020-07-31 19:36:03  2020-07-31 19:49:02       13.0    1799.0   \n",
       "355679 2020-07-31 20:20:02  2020-07-31 20:30:02       10.0     415.0   \n",
       "355680 2020-07-31 22:13:02  2020-07-31 22:27:03       14.0    1497.0   \n",
       "355681 2020-07-31 22:59:02  2020-07-31 23:18:02       19.0    2413.0   \n",
       "\n",
       "        uid_begin   uid_end  standing_before_ride        name  \\\n",
       "0        26503191  26523894                 160.0  BIKE 22739   \n",
       "1        26523894  26528020                 219.0  BIKE 22739   \n",
       "2        26528020  26534301                 386.0  BIKE 22739   \n",
       "3        26551301  26661168                5944.0  BIKE 22739   \n",
       "4        26661168  26665444                 174.0  BIKE 22739   \n",
       "...           ...       ...                   ...         ...   \n",
       "355677   33473552  33481991                  53.0  BIKE 21871   \n",
       "355678   33481991  33486620                  47.0  BIKE 21871   \n",
       "355679   33486620  33489640                  31.0  BIKE 21871   \n",
       "355680   33489640  33497232                 103.0  BIKE 21871   \n",
       "355681   33497232  33499908                  32.0  BIKE 21871   \n",
       "\n",
       "        available_bikes  calculated_distance  \n",
       "0                  2620               4000.0  \n",
       "1                  2613               4000.0  \n",
       "2                  2622               4000.0  \n",
       "3                  2635               4000.0  \n",
       "4                  2581               6500.0  \n",
       "...                 ...                  ...  \n",
       "355677             1090              24000.0  \n",
       "355678             1097               6500.0  \n",
       "355679             1066               6500.0  \n",
       "355680             1033               6500.0  \n",
       "355681             1053               9000.0  \n",
       "\n",
       "[355682 rows x 15 columns]"
      ]
     },
     "execution_count": 17,
     "metadata": {},
     "output_type": "execute_result"
    }
   ],
   "source": [
    "df_m20"
   ]
  },
  {
   "cell_type": "code",
   "execution_count": 19,
   "metadata": {},
   "outputs": [],
   "source": [
    "l = add_date_col(df_m20)"
   ]
  },
  {
   "cell_type": "code",
   "execution_count": 20,
   "metadata": {},
   "outputs": [
    {
     "data": {
      "text/plain": [
       "['2020-1-1']"
      ]
     },
     "execution_count": 20,
     "metadata": {},
     "output_type": "execute_result"
    }
   ],
   "source": [
    "l"
   ]
  },
  {
   "cell_type": "code",
   "execution_count": null,
   "metadata": {},
   "outputs": [],
   "source": []
  }
 ],
 "metadata": {
  "kernelspec": {
   "display_name": "Python 3",
   "language": "python",
   "name": "python3"
  },
  "language_info": {
   "codemirror_mode": {
    "name": "ipython",
    "version": 3
   },
   "file_extension": ".py",
   "mimetype": "text/x-python",
   "name": "python",
   "nbconvert_exporter": "python",
   "pygments_lexer": "ipython3",
   "version": "3.8.5"
  }
 },
 "nbformat": 4,
 "nbformat_minor": 4
}
