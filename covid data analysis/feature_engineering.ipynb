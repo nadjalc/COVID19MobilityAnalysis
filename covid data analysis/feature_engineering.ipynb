{
 "cells": [
  {
   "cell_type": "code",
   "execution_count": 1,
   "metadata": {},
   "outputs": [],
   "source": [
    "import numpy as np\n",
    "import pandas as pd\n",
    "import matplotlib\n",
    "import datetime\n",
    "import time\n",
    "from itertools import islice"
   ]
  },
  {
   "cell_type": "code",
   "execution_count": 2,
   "metadata": {},
   "outputs": [],
   "source": [
    "def parse_timestamp(el):\n",
    "    b = datetime.datetime.strptime(el, fmt)\n",
    "    return b"
   ]
  },
  {
   "cell_type": "code",
   "execution_count": 3,
   "metadata": {},
   "outputs": [],
   "source": [
    "fmt = '%d.%m.%Y'"
   ]
  },
  {
   "cell_type": "code",
   "execution_count": 4,
   "metadata": {},
   "outputs": [],
   "source": [
    "# Importing data on countermeasures\n",
    "url = \"covid19_unified_set.csv\"\n",
    "complete_df = pd.read_csv(url, sep=';', low_memory=False)"
   ]
  },
  {
   "cell_type": "code",
   "execution_count": 5,
   "metadata": {},
   "outputs": [],
   "source": [
    "pd.set_option('display.max_columns()', None)"
   ]
  },
  {
   "cell_type": "code",
   "execution_count": 6,
   "metadata": {},
   "outputs": [
    {
     "data": {
      "text/html": [
       "<div>\n",
       "<style scoped>\n",
       "    .dataframe tbody tr th:only-of-type {\n",
       "        vertical-align: middle;\n",
       "    }\n",
       "\n",
       "    .dataframe tbody tr th {\n",
       "        vertical-align: top;\n",
       "    }\n",
       "\n",
       "    .dataframe thead th {\n",
       "        text-align: right;\n",
       "    }\n",
       "</style>\n",
       "<table border=\"1\" class=\"dataframe\">\n",
       "  <thead>\n",
       "    <tr style=\"text-align: right;\">\n",
       "      <th></th>\n",
       "      <th>date</th>\n",
       "      <th>cultural_venues</th>\n",
       "      <th>gastronomy</th>\n",
       "      <th>essential_retail</th>\n",
       "      <th>non-essential_retail</th>\n",
       "      <th>major_events</th>\n",
       "      <th>events_and_gatherings</th>\n",
       "      <th>public_gatherings</th>\n",
       "      <th>traceability</th>\n",
       "      <th>tourism</th>\n",
       "      <th>traveling</th>\n",
       "      <th>school_facilities</th>\n",
       "      <th>university_facilities</th>\n",
       "      <th>sport_facilities</th>\n",
       "      <th>medical_facilities</th>\n",
       "      <th>mouth_and_nose_covering</th>\n",
       "      <th>curfew</th>\n",
       "      <th>new_infections</th>\n",
       "    </tr>\n",
       "  </thead>\n",
       "  <tbody>\n",
       "    <tr>\n",
       "      <th>0</th>\n",
       "      <td>2020-01-01</td>\n",
       "      <td>open</td>\n",
       "      <td>open</td>\n",
       "      <td>open</td>\n",
       "      <td>open</td>\n",
       "      <td>allowed</td>\n",
       "      <td>allowed</td>\n",
       "      <td>allowed</td>\n",
       "      <td>no</td>\n",
       "      <td>allowed</td>\n",
       "      <td>allowed</td>\n",
       "      <td>open</td>\n",
       "      <td>open</td>\n",
       "      <td>open</td>\n",
       "      <td>open</td>\n",
       "      <td>not_mandatory</td>\n",
       "      <td>no</td>\n",
       "      <td>0</td>\n",
       "    </tr>\n",
       "    <tr>\n",
       "      <th>1</th>\n",
       "      <td>2020-01-02</td>\n",
       "      <td>open</td>\n",
       "      <td>open</td>\n",
       "      <td>open</td>\n",
       "      <td>open</td>\n",
       "      <td>allowed</td>\n",
       "      <td>allowed</td>\n",
       "      <td>allowed</td>\n",
       "      <td>no</td>\n",
       "      <td>allowed</td>\n",
       "      <td>allowed</td>\n",
       "      <td>open</td>\n",
       "      <td>open</td>\n",
       "      <td>open</td>\n",
       "      <td>open</td>\n",
       "      <td>not_mandatory</td>\n",
       "      <td>no</td>\n",
       "      <td>0</td>\n",
       "    </tr>\n",
       "    <tr>\n",
       "      <th>2</th>\n",
       "      <td>2020-01-03</td>\n",
       "      <td>open</td>\n",
       "      <td>open</td>\n",
       "      <td>open</td>\n",
       "      <td>open</td>\n",
       "      <td>allowed</td>\n",
       "      <td>allowed</td>\n",
       "      <td>allowed</td>\n",
       "      <td>no</td>\n",
       "      <td>allowed</td>\n",
       "      <td>allowed</td>\n",
       "      <td>open</td>\n",
       "      <td>open</td>\n",
       "      <td>open</td>\n",
       "      <td>open</td>\n",
       "      <td>not_mandatory</td>\n",
       "      <td>no</td>\n",
       "      <td>0</td>\n",
       "    </tr>\n",
       "    <tr>\n",
       "      <th>3</th>\n",
       "      <td>2020-01-04</td>\n",
       "      <td>open</td>\n",
       "      <td>open</td>\n",
       "      <td>open</td>\n",
       "      <td>open</td>\n",
       "      <td>allowed</td>\n",
       "      <td>allowed</td>\n",
       "      <td>allowed</td>\n",
       "      <td>no</td>\n",
       "      <td>allowed</td>\n",
       "      <td>allowed</td>\n",
       "      <td>open</td>\n",
       "      <td>open</td>\n",
       "      <td>open</td>\n",
       "      <td>open</td>\n",
       "      <td>not_mandatory</td>\n",
       "      <td>no</td>\n",
       "      <td>0</td>\n",
       "    </tr>\n",
       "    <tr>\n",
       "      <th>4</th>\n",
       "      <td>2020-01-05</td>\n",
       "      <td>open</td>\n",
       "      <td>open</td>\n",
       "      <td>open</td>\n",
       "      <td>open</td>\n",
       "      <td>allowed</td>\n",
       "      <td>allowed</td>\n",
       "      <td>allowed</td>\n",
       "      <td>no</td>\n",
       "      <td>allowed</td>\n",
       "      <td>allowed</td>\n",
       "      <td>open</td>\n",
       "      <td>open</td>\n",
       "      <td>open</td>\n",
       "      <td>open</td>\n",
       "      <td>not_mandatory</td>\n",
       "      <td>no</td>\n",
       "      <td>0</td>\n",
       "    </tr>\n",
       "    <tr>\n",
       "      <th>...</th>\n",
       "      <td>...</td>\n",
       "      <td>...</td>\n",
       "      <td>...</td>\n",
       "      <td>...</td>\n",
       "      <td>...</td>\n",
       "      <td>...</td>\n",
       "      <td>...</td>\n",
       "      <td>...</td>\n",
       "      <td>...</td>\n",
       "      <td>...</td>\n",
       "      <td>...</td>\n",
       "      <td>...</td>\n",
       "      <td>...</td>\n",
       "      <td>...</td>\n",
       "      <td>...</td>\n",
       "      <td>...</td>\n",
       "      <td>...</td>\n",
       "      <td>...</td>\n",
       "    </tr>\n",
       "    <tr>\n",
       "      <th>573</th>\n",
       "      <td>2021-07-27</td>\n",
       "      <td>openw/meas</td>\n",
       "      <td>openw/meas</td>\n",
       "      <td>openw/tst_vacc</td>\n",
       "      <td>openw/lim_ppl</td>\n",
       "      <td>sport_1000</td>\n",
       "      <td>allowed_1000max</td>\n",
       "      <td>allowed_100pplw/tst_imm</td>\n",
       "      <td>NaN</td>\n",
       "      <td>allowed</td>\n",
       "      <td>ra_testM_vac_10dqua</td>\n",
       "      <td>open</td>\n",
       "      <td>open</td>\n",
       "      <td>openw/limit</td>\n",
       "      <td>limited_visitsw/mask_test</td>\n",
       "      <td>mandatory_medical</td>\n",
       "      <td>no</td>\n",
       "      <td>82</td>\n",
       "    </tr>\n",
       "    <tr>\n",
       "      <th>574</th>\n",
       "      <td>2021-07-28</td>\n",
       "      <td>openw/meas</td>\n",
       "      <td>openw/meas</td>\n",
       "      <td>openw/tst_vacc</td>\n",
       "      <td>openw/lim_ppl</td>\n",
       "      <td>sport_1000</td>\n",
       "      <td>allowed_1000max</td>\n",
       "      <td>allowed_100pplw/tst_imm</td>\n",
       "      <td>NaN</td>\n",
       "      <td>allowed</td>\n",
       "      <td>ra_testM_vac_10dqua</td>\n",
       "      <td>open</td>\n",
       "      <td>open</td>\n",
       "      <td>openw/limit</td>\n",
       "      <td>limited_visitsw/mask_test</td>\n",
       "      <td>mandatory_medical</td>\n",
       "      <td>no</td>\n",
       "      <td>65</td>\n",
       "    </tr>\n",
       "    <tr>\n",
       "      <th>575</th>\n",
       "      <td>2021-07-29</td>\n",
       "      <td>openw/meas</td>\n",
       "      <td>openw/meas</td>\n",
       "      <td>openw/tst_vacc</td>\n",
       "      <td>openw/lim_ppl</td>\n",
       "      <td>sport_1000</td>\n",
       "      <td>allowed_1000max</td>\n",
       "      <td>allowed_100pplw/tst_imm</td>\n",
       "      <td>NaN</td>\n",
       "      <td>allowed</td>\n",
       "      <td>ra_testM_vac_10dqua</td>\n",
       "      <td>open</td>\n",
       "      <td>open</td>\n",
       "      <td>openw/limit</td>\n",
       "      <td>limited_visitsw/mask_test</td>\n",
       "      <td>mandatory_medical</td>\n",
       "      <td>no</td>\n",
       "      <td>74</td>\n",
       "    </tr>\n",
       "    <tr>\n",
       "      <th>576</th>\n",
       "      <td>2021-07-30</td>\n",
       "      <td>openw/meas</td>\n",
       "      <td>openw/meas</td>\n",
       "      <td>openw/tst_vacc</td>\n",
       "      <td>openw/lim_ppl</td>\n",
       "      <td>sport_1000</td>\n",
       "      <td>allowed_1000max</td>\n",
       "      <td>allowed_100pplw/tst_imm</td>\n",
       "      <td>NaN</td>\n",
       "      <td>allowed</td>\n",
       "      <td>ra_testM_vac_10dqua</td>\n",
       "      <td>open</td>\n",
       "      <td>open</td>\n",
       "      <td>openw/limit</td>\n",
       "      <td>limited_visitsw/mask_test</td>\n",
       "      <td>mandatory_medical</td>\n",
       "      <td>no</td>\n",
       "      <td>50</td>\n",
       "    </tr>\n",
       "    <tr>\n",
       "      <th>577</th>\n",
       "      <td>2021-07-31</td>\n",
       "      <td>openw/meas</td>\n",
       "      <td>openw/meas</td>\n",
       "      <td>openw/tst_vacc</td>\n",
       "      <td>openw/lim_ppl</td>\n",
       "      <td>sport_1000</td>\n",
       "      <td>allowed_1000max</td>\n",
       "      <td>allowed_100pplw/tst_imm</td>\n",
       "      <td>yes</td>\n",
       "      <td>allowed</td>\n",
       "      <td>ra_testM_vac_10dqua</td>\n",
       "      <td>open</td>\n",
       "      <td>open</td>\n",
       "      <td>openw/limit</td>\n",
       "      <td>limited_visitsw/mask_test</td>\n",
       "      <td>mandatory_medical</td>\n",
       "      <td>no</td>\n",
       "      <td>84</td>\n",
       "    </tr>\n",
       "  </tbody>\n",
       "</table>\n",
       "<p>578 rows × 18 columns</p>\n",
       "</div>"
      ],
      "text/plain": [
       "           date cultural_venues  gastronomy essential_retail  \\\n",
       "0    2020-01-01            open        open             open   \n",
       "1    2020-01-02            open        open             open   \n",
       "2    2020-01-03            open        open             open   \n",
       "3    2020-01-04            open        open             open   \n",
       "4    2020-01-05            open        open             open   \n",
       "..          ...             ...         ...              ...   \n",
       "573  2021-07-27      openw/meas  openw/meas   openw/tst_vacc   \n",
       "574  2021-07-28      openw/meas  openw/meas   openw/tst_vacc   \n",
       "575  2021-07-29      openw/meas  openw/meas   openw/tst_vacc   \n",
       "576  2021-07-30      openw/meas  openw/meas   openw/tst_vacc   \n",
       "577  2021-07-31      openw/meas  openw/meas   openw/tst_vacc   \n",
       "\n",
       "    non-essential_retail major_events events_and_gatherings  \\\n",
       "0                   open      allowed               allowed   \n",
       "1                   open      allowed               allowed   \n",
       "2                   open      allowed               allowed   \n",
       "3                   open      allowed               allowed   \n",
       "4                   open      allowed               allowed   \n",
       "..                   ...          ...                   ...   \n",
       "573        openw/lim_ppl   sport_1000       allowed_1000max   \n",
       "574        openw/lim_ppl   sport_1000       allowed_1000max   \n",
       "575        openw/lim_ppl   sport_1000       allowed_1000max   \n",
       "576        openw/lim_ppl   sport_1000       allowed_1000max   \n",
       "577        openw/lim_ppl   sport_1000       allowed_1000max   \n",
       "\n",
       "           public_gatherings traceability  tourism            traveling  \\\n",
       "0                    allowed           no  allowed              allowed   \n",
       "1                    allowed           no  allowed              allowed   \n",
       "2                    allowed           no  allowed              allowed   \n",
       "3                    allowed           no  allowed              allowed   \n",
       "4                    allowed           no  allowed              allowed   \n",
       "..                       ...          ...      ...                  ...   \n",
       "573  allowed_100pplw/tst_imm          NaN  allowed  ra_testM_vac_10dqua   \n",
       "574  allowed_100pplw/tst_imm          NaN  allowed  ra_testM_vac_10dqua   \n",
       "575  allowed_100pplw/tst_imm          NaN  allowed  ra_testM_vac_10dqua   \n",
       "576  allowed_100pplw/tst_imm          NaN  allowed  ra_testM_vac_10dqua   \n",
       "577  allowed_100pplw/tst_imm          yes  allowed  ra_testM_vac_10dqua   \n",
       "\n",
       "    school_facilities university_facilities sport_facilities  \\\n",
       "0                open                  open             open   \n",
       "1                open                  open             open   \n",
       "2                open                  open             open   \n",
       "3                open                  open             open   \n",
       "4                open                  open             open   \n",
       "..                ...                   ...              ...   \n",
       "573              open                  open      openw/limit   \n",
       "574              open                  open      openw/limit   \n",
       "575              open                  open      openw/limit   \n",
       "576              open                  open      openw/limit   \n",
       "577              open                  open      openw/limit   \n",
       "\n",
       "            medical_facilities mouth_and_nose_covering curfew  new_infections  \n",
       "0                         open           not_mandatory     no               0  \n",
       "1                         open           not_mandatory     no               0  \n",
       "2                         open           not_mandatory     no               0  \n",
       "3                         open           not_mandatory     no               0  \n",
       "4                         open           not_mandatory     no               0  \n",
       "..                         ...                     ...    ...             ...  \n",
       "573  limited_visitsw/mask_test       mandatory_medical     no              82  \n",
       "574  limited_visitsw/mask_test       mandatory_medical     no              65  \n",
       "575  limited_visitsw/mask_test       mandatory_medical     no              74  \n",
       "576  limited_visitsw/mask_test       mandatory_medical     no              50  \n",
       "577  limited_visitsw/mask_test       mandatory_medical     no              84  \n",
       "\n",
       "[578 rows x 18 columns]"
      ]
     },
     "execution_count": 6,
     "metadata": {},
     "output_type": "execute_result"
    }
   ],
   "source": [
    "complete_df"
   ]
  },
  {
   "cell_type": "code",
   "execution_count": 7,
   "metadata": {},
   "outputs": [
    {
     "data": {
      "text/plain": [
       "Index(['date', 'cultural_venues', 'gastronomy', 'essential_retail',\n",
       "       'non-essential_retail', 'major_events', 'events_and_gatherings',\n",
       "       'public_gatherings', 'traceability', 'tourism', 'traveling',\n",
       "       'school_facilities', 'university_facilities', 'sport_facilities',\n",
       "       'medical_facilities', 'mouth_and_nose_covering', 'curfew',\n",
       "       'new_infections'],\n",
       "      dtype='object')"
      ]
     },
     "execution_count": 7,
     "metadata": {},
     "output_type": "execute_result"
    }
   ],
   "source": [
    "complete_df.columns"
   ]
  },
  {
   "cell_type": "markdown",
   "metadata": {},
   "source": [
    "## Transformation of features"
   ]
  },
  {
   "cell_type": "code",
   "execution_count": 8,
   "metadata": {},
   "outputs": [
    {
     "data": {
      "text/plain": [
       "closed               175\n",
       "openw/meas           142\n",
       "openw/lim_100         93\n",
       "openw/appointment     86\n",
       "open                  75\n",
       "closedw/exmz           7\n",
       "Name: cultural_venues, dtype: int64"
      ]
     },
     "execution_count": 8,
     "metadata": {},
     "output_type": "execute_result"
    }
   ],
   "source": [
    "#1\n",
    "complete_df['cultural_venues'].value_counts(dropna=False)"
   ]
  },
  {
   "cell_type": "code",
   "execution_count": 9,
   "metadata": {},
   "outputs": [],
   "source": [
    "#replacing unnecesary and rare values\n",
    "complete_df['cultural_venues'] = complete_df['cultural_venues'].str.replace('closedw/exmz','closed')"
   ]
  },
  {
   "cell_type": "code",
   "execution_count": 10,
   "metadata": {},
   "outputs": [],
   "source": [
    "#converting to integers - 5 point scale\n",
    "complete_df['cultural_venues'] = complete_df['cultural_venues'].str.replace('closed','5')\n",
    "complete_df['cultural_venues'] = complete_df['cultural_venues'].str.replace('openw/appointment','4')\n",
    "complete_df['cultural_venues'] = complete_df['cultural_venues'].str.replace('openw/lim_100','3')\n",
    "complete_df['cultural_venues'] = complete_df['cultural_venues'].str.replace('openw/meas','2')\n",
    "complete_df['cultural_venues'] = complete_df['cultural_venues'].str.replace('open','1')"
   ]
  },
  {
   "cell_type": "code",
   "execution_count": 11,
   "metadata": {},
   "outputs": [
    {
     "data": {
      "text/plain": [
       "closedw/dp         263\n",
       "openw/meas         228\n",
       "open                75\n",
       "openw/tst_vacc       7\n",
       "outside_imun/dp      5\n",
       "Name: gastronomy, dtype: int64"
      ]
     },
     "execution_count": 11,
     "metadata": {},
     "output_type": "execute_result"
    }
   ],
   "source": [
    "#2\n",
    "complete_df['gastronomy'].value_counts(dropna=False)"
   ]
  },
  {
   "cell_type": "code",
   "execution_count": 12,
   "metadata": {},
   "outputs": [],
   "source": [
    "#replacing unnecesary and rare values\n",
    "complete_df['gastronomy'] = complete_df['gastronomy'].str.replace('outside_imun/dp','openw/tst_vacc')"
   ]
  },
  {
   "cell_type": "markdown",
   "metadata": {},
   "source": [
    "## Nema smisla da gastronomy bude open bez dokaza a essential retail ne, ispravi to u podacima"
   ]
  },
  {
   "cell_type": "code",
   "execution_count": 13,
   "metadata": {},
   "outputs": [],
   "source": [
    "complete_df['gastronomy'] = complete_df['gastronomy'].str.replace('closedw/dp','4')\n",
    "complete_df['gastronomy'] = complete_df['gastronomy'].str.replace('openw/tst_vacc','3')\n",
    "complete_df['gastronomy'] = complete_df['gastronomy'].str.replace('openw/meas','2')\n",
    "complete_df['gastronomy'] = complete_df['gastronomy'].str.replace('open','1')"
   ]
  },
  {
   "cell_type": "code",
   "execution_count": 14,
   "metadata": {},
   "outputs": [
    {
     "data": {
      "text/plain": [
       "openw/meas            355\n",
       "openw/lim_1p_10sqm     88\n",
       "open                   75\n",
       "openw/tst_vacc         60\n",
       "Name: essential_retail, dtype: int64"
      ]
     },
     "execution_count": 14,
     "metadata": {},
     "output_type": "execute_result"
    }
   ],
   "source": [
    "#3\n",
    "complete_df['essential_retail'].value_counts(dropna=False)"
   ]
  },
  {
   "cell_type": "code",
   "execution_count": 15,
   "metadata": {},
   "outputs": [],
   "source": [
    "complete_df['essential_retail'] = complete_df['essential_retail'].str.replace('openw/tst_vacc','4')\n",
    "complete_df['essential_retail'] = complete_df['essential_retail'].str.replace('openw/lim_1p_10sqm','3')\n",
    "complete_df['essential_retail'] = complete_df['essential_retail'].str.replace('openw/meas','2')\n",
    "complete_df['essential_retail'] = complete_df['essential_retail'].str.replace('open','1')"
   ]
  },
  {
   "cell_type": "code",
   "execution_count": 16,
   "metadata": {},
   "outputs": [
    {
     "data": {
      "text/plain": [
       "openw/meas                  175\n",
       "open                         75\n",
       "closed                       74\n",
       "openw/lim_ppl                65\n",
       "closedw/delivery             56\n",
       "openw/lim_1p_10sqm           44\n",
       "openw/app_negtst             35\n",
       "openw/appointment            28\n",
       "openw/lim_1p_10sqm_esent     26\n",
       "Name: non-essential_retail, dtype: int64"
      ]
     },
     "execution_count": 16,
     "metadata": {},
     "output_type": "execute_result"
    }
   ],
   "source": [
    "#4\n",
    "complete_df['non-essential_retail'].value_counts(dropna=False)"
   ]
  },
  {
   "cell_type": "code",
   "execution_count": 17,
   "metadata": {},
   "outputs": [],
   "source": [
    "#replacing unnecesary and rare values\n",
    "complete_df['non-essential_retail'] = complete_df['non-essential_retail'].str.replace('openw/lim_1p_10sqm','openw/lim_ppl')\n",
    "complete_df['non-essential_retail'] = complete_df['non-essential_retail'].str.replace('openw/lim_1p_10sqm_esent','openw/lim_ppl')\n",
    "complete_df['non-essential_retail'] = complete_df['non-essential_retail'].str.replace('openw/app_negtst','openw/appointment')\n",
    "complete_df['non-essential_retail'] = complete_df['non-essential_retail'].str.replace('openw/lim_ppl_esent','openw/lim_ppl')\n",
    "complete_df['non-essential_retail'] = complete_df['non-essential_retail'].str.replace('closedw/delivery','closed')"
   ]
  },
  {
   "cell_type": "code",
   "execution_count": 18,
   "metadata": {},
   "outputs": [],
   "source": [
    "complete_df['non-essential_retail'] = complete_df['non-essential_retail'].str.replace('closed','5')\n",
    "complete_df['non-essential_retail'] = complete_df['non-essential_retail'].str.replace('openw/appointment','4')\n",
    "complete_df['non-essential_retail'] = complete_df['non-essential_retail'].str.replace('openw/lim_ppl','3')\n",
    "complete_df['non-essential_retail'] = complete_df['non-essential_retail'].str.replace('openw/meas','2')\n",
    "complete_df['non-essential_retail'] = complete_df['non-essential_retail'].str.replace('open','1')"
   ]
  },
  {
   "cell_type": "code",
   "execution_count": 19,
   "metadata": {},
   "outputs": [
    {
     "data": {
      "text/plain": [
       "prohibited    443\n",
       "allowed        75\n",
       "sport_1000     60\n",
       "Name: major_events, dtype: int64"
      ]
     },
     "execution_count": 19,
     "metadata": {},
     "output_type": "execute_result"
    }
   ],
   "source": [
    "#5\n",
    "complete_df['major_events'].value_counts(dropna=False)"
   ]
  },
  {
   "cell_type": "code",
   "execution_count": 20,
   "metadata": {},
   "outputs": [],
   "source": [
    "complete_df['major_events'] = complete_df['major_events'].str.replace('prohibited','3')\n",
    "complete_df['major_events'] = complete_df['major_events'].str.replace('sport_1000','2')\n",
    "complete_df['major_events'] = complete_df['major_events'].str.replace('allowed','1')"
   ]
  },
  {
   "cell_type": "code",
   "execution_count": 25,
   "metadata": {},
   "outputs": [
    {
     "data": {
      "text/plain": [
       "5    200\n",
       "4    156\n",
       "2     82\n",
       "1     75\n",
       "3     65\n",
       "Name: events_and_gatherings, dtype: int64"
      ]
     },
     "execution_count": 25,
     "metadata": {},
     "output_type": "execute_result"
    }
   ],
   "source": [
    "#6\n",
    "complete_df['events_and_gatherings'].value_counts(dropna=False)"
   ]
  },
  {
   "cell_type": "code",
   "execution_count": 22,
   "metadata": {},
   "outputs": [],
   "source": [
    "#replacing unnecesary and rare values\n",
    "complete_df['events_and_gatherings'] = complete_df['events_and_gatherings'].str.replace('allowed_1000max','allowedw/lim_ppl')\n",
    "complete_df['events_and_gatherings'] = complete_df['events_and_gatherings'].str.replace('allowed_500max','allowedw/lim_ppl')\n",
    "complete_df['events_and_gatherings'] = complete_df['events_and_gatherings'].str.replace('allowed_250max','allowedw/lim_ppl')\n",
    "complete_df['events_and_gatherings'] = complete_df['events_and_gatherings'].str.replace('prohibitedw/ex_trials','prohibited')\n",
    "complete_df['events_and_gatherings'] = complete_df['events_and_gatherings'].str.replace('prohibitedw/ex_outdoors','prohibitedw/ex')\n",
    "complete_df['events_and_gatherings'] = complete_df['events_and_gatherings'].str.replace('pw/ex_concert_100','prohibitedw/ex')"
   ]
  },
  {
   "cell_type": "code",
   "execution_count": 24,
   "metadata": {},
   "outputs": [],
   "source": [
    "complete_df['events_and_gatherings'] = complete_df['events_and_gatherings'].str.replace('prohibitedw/ex','4')\n",
    "complete_df['events_and_gatherings'] = complete_df['events_and_gatherings'].str.replace('prohibited','5')\n",
    "complete_df['events_and_gatherings'] = complete_df['events_and_gatherings'].str.replace('allowedw/lim_ppl','3')\n",
    "complete_df['events_and_gatherings'] = complete_df['events_and_gatherings'].str.replace('allowedw/meas','2')\n",
    "complete_df['events_and_gatherings'] = complete_df['events_and_gatherings'].str.replace('allowed','1')"
   ]
  },
  {
   "cell_type": "code",
   "execution_count": 13,
   "metadata": {},
   "outputs": [
    {
     "data": {
      "text/plain": [
       "allowed_2h                 344\n",
       "allowed                     75\n",
       "prohibited_over_2           56\n",
       "allowed_100pplw/tst_imm     53\n",
       "allowed_10p                 29\n",
       "allowed_10ppl                9\n",
       "allowed_10ppl_3h+imm         7\n",
       "allowed_2h+imun              5\n",
       "Name: public_gatherings, dtype: int64"
      ]
     },
     "execution_count": 13,
     "metadata": {},
     "output_type": "execute_result"
    }
   ],
   "source": [
    "#7\n",
    "complete_df['public_gatherings'].value_counts(dropna=False)"
   ]
  },
  {
   "cell_type": "code",
   "execution_count": 8,
   "metadata": {},
   "outputs": [],
   "source": [
    "#replacing unnecesary and rare values\n",
    "complete_df['public_gatherings'] = complete_df['public_gatherings'].str.replace('allowed_2h_5ppl','allowed_2h')"
   ]
  },
  {
   "cell_type": "code",
   "execution_count": 10,
   "metadata": {},
   "outputs": [],
   "source": [
    "complete_df['public_gatherings'] = complete_df['public_gatherings'].str.replace('allowed_2h_1p','allowed_2h')"
   ]
  },
  {
   "cell_type": "code",
   "execution_count": 12,
   "metadata": {},
   "outputs": [],
   "source": [
    "complete_df['public_gatherings'] = complete_df['public_gatherings'].str.replace('allowed_2h+imun','allowed_2h')"
   ]
  },
  {
   "cell_type": "code",
   "execution_count": null,
   "metadata": {},
   "outputs": [],
   "source": []
  }
 ],
 "metadata": {
  "kernelspec": {
   "display_name": "Python 3",
   "language": "python",
   "name": "python3"
  },
  "language_info": {
   "codemirror_mode": {
    "name": "ipython",
    "version": 3
   },
   "file_extension": ".py",
   "mimetype": "text/x-python",
   "name": "python",
   "nbconvert_exporter": "python",
   "pygments_lexer": "ipython3",
   "version": "3.8.5"
  }
 },
 "nbformat": 4,
 "nbformat_minor": 4
}
