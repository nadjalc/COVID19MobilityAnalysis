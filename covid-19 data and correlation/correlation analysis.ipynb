{
 "cells": [
  {
   "cell_type": "code",
   "execution_count": 55,
   "metadata": {},
   "outputs": [],
   "source": [
    "import numpy as np\n",
    "import pandas as pd\n",
    "import matplotlib\n",
    "import datetime\n",
    "import time\n",
    "from itertools import islice\n",
    "import glob\n",
    "import io\n",
    "import seaborn as sns"
   ]
  },
  {
   "cell_type": "code",
   "execution_count": 56,
   "metadata": {},
   "outputs": [],
   "source": [
    "#parsing one type of timestamps\n",
    "def parse_timestamp(el):\n",
    "    b = datetime.datetime.strptime(el, fmt)\n",
    "    return b"
   ]
  },
  {
   "cell_type": "code",
   "execution_count": 57,
   "metadata": {},
   "outputs": [],
   "source": [
    "#parsing another type\n",
    "def parse_timestamp2(el):\n",
    "    b = datetime.datetime.strptime(el, fmt2)\n",
    "    return b"
   ]
  },
  {
   "cell_type": "code",
   "execution_count": 58,
   "metadata": {},
   "outputs": [],
   "source": [
    "#for creating a new column that will contain just the date to use as joint column when mergining datasets by the date\n",
    "def create_date_col(df_m):\n",
    "    date_lst = []\n",
    "    for index, row in df_m.iterrows():\n",
    "        day = str(df_m['ride_begin'][index].day)\n",
    "        month = str(df_m['ride_begin'][index].month)\n",
    "        year = str(df_m['ride_begin'][index].year)\n",
    "        date_text = year + '-' + month + '-' + day\n",
    "        date_lst.append(date_text)\n",
    "    return date_lst"
   ]
  },
  {
   "cell_type": "code",
   "execution_count": 59,
   "metadata": {},
   "outputs": [],
   "source": [
    "fmt = '%Y-%m-%d'\n",
    "fmt2 = '%Y-%m-%d %H:%M:%S'"
   ]
  },
  {
   "cell_type": "code",
   "execution_count": 60,
   "metadata": {},
   "outputs": [],
   "source": [
    "# Importing data on countermeasures\n",
    "url_c = \"covid19_final_set.csv\"\n",
    "df_c = pd.read_csv(url_c, sep=';', low_memory=False)"
   ]
  },
  {
   "cell_type": "code",
   "execution_count": 62,
   "metadata": {},
   "outputs": [],
   "source": [
    "mobility = glob.glob('./mobility_data/*.csv')\n",
    "mobility.sort()"
   ]
  },
  {
   "cell_type": "code",
   "execution_count": 64,
   "metadata": {},
   "outputs": [],
   "source": [
    "li = []\n",
    "for file in mobility:\n",
    "    frame = pd.read_csv(file, sep= ';', index_col=None, header=0, low_memory=False)\n",
    "    li.append(frame) \n",
    "df_m = pd.concat(li, axis=0, ignore_index=True, sort= False) #connecting all the dates"
   ]
  },
  {
   "cell_type": "code",
   "execution_count": 65,
   "metadata": {},
   "outputs": [],
   "source": [
    "pd.set_option('display.max_columns()', None)"
   ]
  },
  {
   "cell_type": "code",
   "execution_count": 66,
   "metadata": {},
   "outputs": [],
   "source": [
    "df_c['date'] = df_c['date'].map(parse_timestamp)\n",
    "df_m['ride_begin'] = df_m['ride_begin'].map(parse_timestamp2)\n",
    "df_m['ride_end'] = df_m['ride_end'].map(parse_timestamp2)"
   ]
  },
  {
   "cell_type": "code",
   "execution_count": 67,
   "metadata": {},
   "outputs": [],
   "source": [
    "df_m['date'] = create_date_col(df_m)"
   ]
  },
  {
   "cell_type": "code",
   "execution_count": 68,
   "metadata": {},
   "outputs": [],
   "source": [
    "df_m['date'] = df_m['date'].map(parse_timestamp)"
   ]
  },
  {
   "cell_type": "code",
   "execution_count": 69,
   "metadata": {},
   "outputs": [],
   "source": [
    "#droping all rows that are after the end of our analysis July 2021, infection numbers go until October\n",
    "for index, row in df_c.iterrows():\n",
    "    if (row['date'].year == 2021) and (row['date'].month > 7):\n",
    "        df_c.drop(index, inplace=True)"
   ]
  },
  {
   "cell_type": "code",
   "execution_count": 71,
   "metadata": {},
   "outputs": [],
   "source": [
    "#merging data frames\n",
    "complete_df = pd.merge(df_m, df_c, on='date', how='outer')"
   ]
  },
  {
   "cell_type": "markdown",
   "metadata": {},
   "source": [
    "### One day grouping for ride times and distances and further use of mean and median values for correlation analysis, count of rides in a day for correlation analysis"
   ]
  },
  {
   "cell_type": "markdown",
   "metadata": {},
   "source": [
    "### Correlation of ride times"
   ]
  },
  {
   "cell_type": "code",
   "execution_count": 114,
   "metadata": {},
   "outputs": [],
   "source": [
    "#daily mean of ride durations used for correlation analysis\n",
    "rt_mean = df_m.groupby('date')['ride_time'].mean()"
   ]
  },
  {
   "cell_type": "code",
   "execution_count": 115,
   "metadata": {},
   "outputs": [],
   "source": [
    "corr_df = pd.merge(rt_mean, df_c, on='date', how='left')"
   ]
  },
  {
   "cell_type": "code",
   "execution_count": 116,
   "metadata": {},
   "outputs": [],
   "source": [
    "final_df = pd.DataFrame()\n",
    "final_df['ride_time'] = corr_df['ride_time']\n",
    "final_df['non-essential_retail'] = corr_df['non-essential_retail']\n",
    "final_df['school_facilities'] = corr_df['school_facilities']\n",
    "final_df['university_facilities'] = corr_df['university_facilities']\n",
    "final_df['cultural_venues'] = corr_df['cultural_venues']\n",
    "final_df['events_and_gatherings'] = corr_df['events_and_gatherings']\n",
    "final_df['public_gatherings'] = corr_df['public_gatherings']\n",
    "final_df['gastronomy'] = corr_df['gastronomy']\n",
    "final_df['tourism'] = corr_df['tourism']\n",
    "final_df['traveling'] = corr_df['traveling']\n",
    "final_df['medical_facilities'] = corr_df['medical_facilities']\n",
    "final_df['new_infections'] = corr_df['new_infections']\n"
   ]
  },
  {
   "cell_type": "code",
   "execution_count": 117,
   "metadata": {},
   "outputs": [
    {
     "data": {
      "text/html": [
       "<div>\n",
       "<style scoped>\n",
       "    .dataframe tbody tr th:only-of-type {\n",
       "        vertical-align: middle;\n",
       "    }\n",
       "\n",
       "    .dataframe tbody tr th {\n",
       "        vertical-align: top;\n",
       "    }\n",
       "\n",
       "    .dataframe thead th {\n",
       "        text-align: right;\n",
       "    }\n",
       "</style>\n",
       "<table border=\"1\" class=\"dataframe\">\n",
       "  <thead>\n",
       "    <tr style=\"text-align: right;\">\n",
       "      <th></th>\n",
       "      <th>ride_time</th>\n",
       "      <th>non-essential_retail</th>\n",
       "      <th>school_facilities</th>\n",
       "      <th>university_facilities</th>\n",
       "      <th>cultural_venues</th>\n",
       "      <th>events_and_gatherings</th>\n",
       "      <th>public_gatherings</th>\n",
       "      <th>gastronomy</th>\n",
       "      <th>tourism</th>\n",
       "      <th>traveling</th>\n",
       "      <th>medical_facilities</th>\n",
       "      <th>new_infections</th>\n",
       "    </tr>\n",
       "  </thead>\n",
       "  <tbody>\n",
       "    <tr>\n",
       "      <th>ride_time</th>\n",
       "      <td>1.000000</td>\n",
       "      <td>0.369763</td>\n",
       "      <td>0.563379</td>\n",
       "      <td>0.572521</td>\n",
       "      <td>0.309246</td>\n",
       "      <td>0.309246</td>\n",
       "      <td>0.563379</td>\n",
       "      <td>0.329913</td>\n",
       "      <td>0.312490</td>\n",
       "      <td>0.626600</td>\n",
       "      <td>0.563379</td>\n",
       "      <td>0.241947</td>\n",
       "    </tr>\n",
       "    <tr>\n",
       "      <th>non-essential_retail</th>\n",
       "      <td>0.369763</td>\n",
       "      <td>1.000000</td>\n",
       "      <td>0.909542</td>\n",
       "      <td>0.887034</td>\n",
       "      <td>0.942061</td>\n",
       "      <td>0.942061</td>\n",
       "      <td>0.909542</td>\n",
       "      <td>0.986263</td>\n",
       "      <td>0.904664</td>\n",
       "      <td>0.216687</td>\n",
       "      <td>0.909542</td>\n",
       "      <td>0.611437</td>\n",
       "    </tr>\n",
       "    <tr>\n",
       "      <th>school_facilities</th>\n",
       "      <td>0.563379</td>\n",
       "      <td>0.909542</td>\n",
       "      <td>1.000000</td>\n",
       "      <td>0.975254</td>\n",
       "      <td>0.807996</td>\n",
       "      <td>0.807996</td>\n",
       "      <td>1.000000</td>\n",
       "      <td>0.845908</td>\n",
       "      <td>0.790233</td>\n",
       "      <td>0.420290</td>\n",
       "      <td>1.000000</td>\n",
       "      <td>0.462525</td>\n",
       "    </tr>\n",
       "    <tr>\n",
       "      <th>university_facilities</th>\n",
       "      <td>0.572521</td>\n",
       "      <td>0.887034</td>\n",
       "      <td>0.975254</td>\n",
       "      <td>1.000000</td>\n",
       "      <td>0.794260</td>\n",
       "      <td>0.794260</td>\n",
       "      <td>0.975254</td>\n",
       "      <td>0.831528</td>\n",
       "      <td>0.778975</td>\n",
       "      <td>0.435751</td>\n",
       "      <td>0.975254</td>\n",
       "      <td>0.497229</td>\n",
       "    </tr>\n",
       "    <tr>\n",
       "      <th>cultural_venues</th>\n",
       "      <td>0.309246</td>\n",
       "      <td>0.942061</td>\n",
       "      <td>0.807996</td>\n",
       "      <td>0.794260</td>\n",
       "      <td>1.000000</td>\n",
       "      <td>1.000000</td>\n",
       "      <td>0.807996</td>\n",
       "      <td>0.955182</td>\n",
       "      <td>0.959201</td>\n",
       "      <td>0.218736</td>\n",
       "      <td>0.807996</td>\n",
       "      <td>0.518815</td>\n",
       "    </tr>\n",
       "    <tr>\n",
       "      <th>events_and_gatherings</th>\n",
       "      <td>0.309246</td>\n",
       "      <td>0.942061</td>\n",
       "      <td>0.807996</td>\n",
       "      <td>0.794260</td>\n",
       "      <td>1.000000</td>\n",
       "      <td>1.000000</td>\n",
       "      <td>0.807996</td>\n",
       "      <td>0.955182</td>\n",
       "      <td>0.959201</td>\n",
       "      <td>0.218736</td>\n",
       "      <td>0.807996</td>\n",
       "      <td>0.518815</td>\n",
       "    </tr>\n",
       "    <tr>\n",
       "      <th>public_gatherings</th>\n",
       "      <td>0.563379</td>\n",
       "      <td>0.909542</td>\n",
       "      <td>1.000000</td>\n",
       "      <td>0.975254</td>\n",
       "      <td>0.807996</td>\n",
       "      <td>0.807996</td>\n",
       "      <td>1.000000</td>\n",
       "      <td>0.845908</td>\n",
       "      <td>0.790233</td>\n",
       "      <td>0.420290</td>\n",
       "      <td>1.000000</td>\n",
       "      <td>0.462525</td>\n",
       "    </tr>\n",
       "    <tr>\n",
       "      <th>gastronomy</th>\n",
       "      <td>0.329913</td>\n",
       "      <td>0.986263</td>\n",
       "      <td>0.845908</td>\n",
       "      <td>0.831528</td>\n",
       "      <td>0.955182</td>\n",
       "      <td>0.955182</td>\n",
       "      <td>0.845908</td>\n",
       "      <td>1.000000</td>\n",
       "      <td>0.917264</td>\n",
       "      <td>0.228999</td>\n",
       "      <td>0.845908</td>\n",
       "      <td>0.675773</td>\n",
       "    </tr>\n",
       "    <tr>\n",
       "      <th>tourism</th>\n",
       "      <td>0.312490</td>\n",
       "      <td>0.904664</td>\n",
       "      <td>0.790233</td>\n",
       "      <td>0.778975</td>\n",
       "      <td>0.959201</td>\n",
       "      <td>0.959201</td>\n",
       "      <td>0.790233</td>\n",
       "      <td>0.917264</td>\n",
       "      <td>1.000000</td>\n",
       "      <td>0.256937</td>\n",
       "      <td>0.790233</td>\n",
       "      <td>0.474821</td>\n",
       "    </tr>\n",
       "    <tr>\n",
       "      <th>traveling</th>\n",
       "      <td>0.626600</td>\n",
       "      <td>0.216687</td>\n",
       "      <td>0.420290</td>\n",
       "      <td>0.435751</td>\n",
       "      <td>0.218736</td>\n",
       "      <td>0.218736</td>\n",
       "      <td>0.420290</td>\n",
       "      <td>0.228999</td>\n",
       "      <td>0.256937</td>\n",
       "      <td>1.000000</td>\n",
       "      <td>0.420290</td>\n",
       "      <td>0.294577</td>\n",
       "    </tr>\n",
       "    <tr>\n",
       "      <th>medical_facilities</th>\n",
       "      <td>0.563379</td>\n",
       "      <td>0.909542</td>\n",
       "      <td>1.000000</td>\n",
       "      <td>0.975254</td>\n",
       "      <td>0.807996</td>\n",
       "      <td>0.807996</td>\n",
       "      <td>1.000000</td>\n",
       "      <td>0.845908</td>\n",
       "      <td>0.790233</td>\n",
       "      <td>0.420290</td>\n",
       "      <td>1.000000</td>\n",
       "      <td>0.462525</td>\n",
       "    </tr>\n",
       "    <tr>\n",
       "      <th>new_infections</th>\n",
       "      <td>0.241947</td>\n",
       "      <td>0.611437</td>\n",
       "      <td>0.462525</td>\n",
       "      <td>0.497229</td>\n",
       "      <td>0.518815</td>\n",
       "      <td>0.518815</td>\n",
       "      <td>0.462525</td>\n",
       "      <td>0.675773</td>\n",
       "      <td>0.474821</td>\n",
       "      <td>0.294577</td>\n",
       "      <td>0.462525</td>\n",
       "      <td>1.000000</td>\n",
       "    </tr>\n",
       "  </tbody>\n",
       "</table>\n",
       "</div>"
      ],
      "text/plain": [
       "                       ride_time  non-essential_retail  school_facilities  \\\n",
       "ride_time               1.000000              0.369763           0.563379   \n",
       "non-essential_retail    0.369763              1.000000           0.909542   \n",
       "school_facilities       0.563379              0.909542           1.000000   \n",
       "university_facilities   0.572521              0.887034           0.975254   \n",
       "cultural_venues         0.309246              0.942061           0.807996   \n",
       "events_and_gatherings   0.309246              0.942061           0.807996   \n",
       "public_gatherings       0.563379              0.909542           1.000000   \n",
       "gastronomy              0.329913              0.986263           0.845908   \n",
       "tourism                 0.312490              0.904664           0.790233   \n",
       "traveling               0.626600              0.216687           0.420290   \n",
       "medical_facilities      0.563379              0.909542           1.000000   \n",
       "new_infections          0.241947              0.611437           0.462525   \n",
       "\n",
       "                       university_facilities  cultural_venues  \\\n",
       "ride_time                           0.572521         0.309246   \n",
       "non-essential_retail                0.887034         0.942061   \n",
       "school_facilities                   0.975254         0.807996   \n",
       "university_facilities               1.000000         0.794260   \n",
       "cultural_venues                     0.794260         1.000000   \n",
       "events_and_gatherings               0.794260         1.000000   \n",
       "public_gatherings                   0.975254         0.807996   \n",
       "gastronomy                          0.831528         0.955182   \n",
       "tourism                             0.778975         0.959201   \n",
       "traveling                           0.435751         0.218736   \n",
       "medical_facilities                  0.975254         0.807996   \n",
       "new_infections                      0.497229         0.518815   \n",
       "\n",
       "                       events_and_gatherings  public_gatherings  gastronomy  \\\n",
       "ride_time                           0.309246           0.563379    0.329913   \n",
       "non-essential_retail                0.942061           0.909542    0.986263   \n",
       "school_facilities                   0.807996           1.000000    0.845908   \n",
       "university_facilities               0.794260           0.975254    0.831528   \n",
       "cultural_venues                     1.000000           0.807996    0.955182   \n",
       "events_and_gatherings               1.000000           0.807996    0.955182   \n",
       "public_gatherings                   0.807996           1.000000    0.845908   \n",
       "gastronomy                          0.955182           0.845908    1.000000   \n",
       "tourism                             0.959201           0.790233    0.917264   \n",
       "traveling                           0.218736           0.420290    0.228999   \n",
       "medical_facilities                  0.807996           1.000000    0.845908   \n",
       "new_infections                      0.518815           0.462525    0.675773   \n",
       "\n",
       "                        tourism  traveling  medical_facilities  new_infections  \n",
       "ride_time              0.312490   0.626600            0.563379        0.241947  \n",
       "non-essential_retail   0.904664   0.216687            0.909542        0.611437  \n",
       "school_facilities      0.790233   0.420290            1.000000        0.462525  \n",
       "university_facilities  0.778975   0.435751            0.975254        0.497229  \n",
       "cultural_venues        0.959201   0.218736            0.807996        0.518815  \n",
       "events_and_gatherings  0.959201   0.218736            0.807996        0.518815  \n",
       "public_gatherings      0.790233   0.420290            1.000000        0.462525  \n",
       "gastronomy             0.917264   0.228999            0.845908        0.675773  \n",
       "tourism                1.000000   0.256937            0.790233        0.474821  \n",
       "traveling              0.256937   1.000000            0.420290        0.294577  \n",
       "medical_facilities     0.790233   0.420290            1.000000        0.462525  \n",
       "new_infections         0.474821   0.294577            0.462525        1.000000  "
      ]
     },
     "execution_count": 117,
     "metadata": {},
     "output_type": "execute_result"
    }
   ],
   "source": [
    "final_df.corr(method ='spearman')"
   ]
  },
  {
   "cell_type": "code",
   "execution_count": 118,
   "metadata": {},
   "outputs": [
    {
     "data": {
      "image/png": "[encoded data removed]",
      "text/plain": [
       "<Figure size 432x288 with 2 Axes>"
      ]
     },
     "metadata": {
      "needs_background": "light"
     },
     "output_type": "display_data"
    }
   ],
   "source": [
    "corr = final_df.corr(method ='spearman')\n",
    "ax = sns.heatmap(\n",
    "    corr, \n",
    "    vmin=-1, vmax=1, center=0,\n",
    "    cmap=sns.diverging_palette(20, 220, n=200),\n",
    "    square=True\n",
    ")\n",
    "ax.set_xticklabels(\n",
    "    ax.get_xticklabels(),\n",
    "    rotation=45,\n",
    "    horizontalalignment='right'\n",
    ");"
   ]
  },
  {
   "cell_type": "code",
   "execution_count": 123,
   "metadata": {},
   "outputs": [
    {
     "data": {
      "text/plain": [
       "<AxesSubplot:>"
      ]
     },
     "execution_count": 123,
     "metadata": {},
     "output_type": "execute_result"
    },
    {
     "data": {
      "image/png": "[encoded data removed]",
      "text/plain": [
       "<Figure size 432x288 with 2 Axes>"
      ]
     },
     "metadata": {
      "needs_background": "light"
     },
     "output_type": "display_data"
    }
   ],
   "source": [
    "sns.heatmap(corr)\n"
   ]
  },
  {
   "cell_type": "markdown",
   "metadata": {},
   "source": [
    "### Correlation of distances"
   ]
  },
  {
   "cell_type": "code",
   "execution_count": 120,
   "metadata": {},
   "outputs": [],
   "source": [
    "#Mean of distances\n",
    "dist_mean = df_m.groupby('date')['distance'].mean()\n",
    "corr_df = pd.merge(dist_mean, df_c, on='date', how='left')"
   ]
  },
  {
   "cell_type": "code",
   "execution_count": 124,
   "metadata": {},
   "outputs": [
    {
     "data": {
      "text/plain": [
       "<AxesSubplot:>"
      ]
     },
     "execution_count": 124,
     "metadata": {},
     "output_type": "execute_result"
    },
    {
     "data": {
      "image/png": "[encoded data removed]",
      "text/plain": [
       "<Figure size 432x288 with 2 Axes>"
      ]
     },
     "metadata": {
      "needs_background": "light"
     },
     "output_type": "display_data"
    }
   ],
   "source": [
    "final_df = pd.DataFrame()\n",
    "final_df['distance'] = corr_df['distance']\n",
    "final_df['non-essential_retail'] = corr_df['non-essential_retail']\n",
    "final_df['school_facilities'] = corr_df['school_facilities']\n",
    "final_df['university_facilities'] = corr_df['university_facilities']\n",
    "final_df['cultural_venues'] = corr_df['cultural_venues']\n",
    "final_df['events_and_gatherings'] = corr_df['events_and_gatherings']\n",
    "final_df['public_gatherings'] = corr_df['public_gatherings']\n",
    "final_df['gastronomy'] = corr_df['gastronomy']\n",
    "final_df['tourism'] = corr_df['tourism']\n",
    "final_df['traveling'] = corr_df['traveling']\n",
    "final_df['medical_facilities'] = corr_df['medical_facilities']\n",
    "final_df['new_infections'] = corr_df['new_infections']\n",
    "\n",
    "\n",
    "corr = final_df.corr(method ='spearman')\n",
    "sns.heatmap(corr)\n"
   ]
  },
  {
   "cell_type": "code",
   "execution_count": null,
   "metadata": {},
   "outputs": [],
   "source": []
  }
 ],
 "metadata": {
  "kernelspec": {
   "display_name": "Python 3",
   "language": "python",
   "name": "python3"
  },
  "language_info": {
   "codemirror_mode": {
    "name": "ipython",
    "version": 3
   },
   "file_extension": ".py",
   "mimetype": "text/x-python",
   "name": "python",
   "nbconvert_exporter": "python",
   "pygments_lexer": "ipython3",
   "version": "3.6.9"
  }
 },
 "nbformat": 4,
 "nbformat_minor": 4
}
