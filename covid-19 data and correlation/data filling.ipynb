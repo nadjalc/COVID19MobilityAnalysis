{
 "cells": [
  {
   "cell_type": "code",
   "execution_count": null,
   "metadata": {},
   "outputs": [],
   "source": [
    "import numpy as np\n",
    "import pandas as pd\n",
    "import matplotlib\n",
    "import datetime\n",
    "import time\n",
    "from itertools import islice"
   ]
  },
  {
   "cell_type": "code",
   "execution_count": null,
   "metadata": {},
   "outputs": [],
   "source": [
    "def parse_timestamp(el):\n",
    "    b = datetime.datetime.strptime(el, fmt)\n",
    "    return b"
   ]
  },
  {
   "cell_type": "code",
   "execution_count": null,
   "metadata": {},
   "outputs": [],
   "source": [
    "fmt = '%d.%m.%Y'"
   ]
  },
  {
   "cell_type": "code",
   "execution_count": null,
   "metadata": {},
   "outputs": [],
   "source": [
    "def days_between(d1, d2):\n",
    "    return abs((d2 - d1).days)"
   ]
  },
  {
   "cell_type": "code",
   "execution_count": null,
   "metadata": {},
   "outputs": [],
   "source": [
    "# Importing data on countermeasures\n",
    "url = \"countermeasures.csv\"\n",
    "df = pd.read_csv(url, sep=';', low_memory=False)"
   ]
  },
  {
   "cell_type": "code",
   "execution_count": null,
   "metadata": {},
   "outputs": [],
   "source": [
    "pd.set_option('display.max_columns()', None)"
   ]
  },
  {
   "cell_type": "code",
   "execution_count": null,
   "metadata": {},
   "outputs": [],
   "source": [
    "df.columns"
   ]
  },
  {
   "cell_type": "code",
   "execution_count": null,
   "metadata": {},
   "outputs": [],
   "source": [
    "df.drop(['amusment_venues', 'administrative_fine', 'shopping_malls', 'work'], axis=1, inplace=True)"
   ]
  },
  {
   "cell_type": "code",
   "execution_count": null,
   "metadata": {},
   "outputs": [],
   "source": [
    "# Adding a row at the begining of the data frame. Data will start from January 2020\n",
    "df.loc[-1] = ['01.01.2020', 'open', 'open', 'open', 'open', 'allowed',\n",
    "              'allowed', 'allowed', 'no', 'allowed', 'allowed', 'open', \n",
    "              'open', 'open', 'open', 'not_mandatory', 'no']  # adding a row\n",
    "df.index = df.index + 1  # shifting index\n",
    "df = df.sort_index()  # sorting by index"
   ]
  },
  {
   "cell_type": "code",
   "execution_count": null,
   "metadata": {},
   "outputs": [],
   "source": [
    "# Adding a row at the end of the data frame. Data will end with July 2021\n",
    "df.loc[42] = ['31.07.2021', 'openw/meas', 'openw/meas', 'openw/tst_vacc', 'openw/lim_ppl', 'sport_1000',\n",
    "              'allowed_1000max', 'allowed_100pplw/tst_imm', 'yes', 'allowed', 'ra_testM_vac_10dqua', 'open', \n",
    "              'open', 'openw/limit', 'limited_visitsw/mask_test', 'mandatory_medical', 'no']"
   ]
  },
  {
   "cell_type": "code",
   "execution_count": null,
   "metadata": {},
   "outputs": [],
   "source": [
    "df['entry_into_force'] = df['entry_into_force'].map(parse_timestamp)"
   ]
  },
  {
   "cell_type": "code",
   "execution_count": null,
   "metadata": {},
   "outputs": [],
   "source": [
    "print(df['entry_into_force'][0].day)\n",
    "print(df['entry_into_force'][0].month)\n",
    "print(df['entry_into_force'][0].year)"
   ]
  },
  {
   "cell_type": "code",
   "execution_count": null,
   "metadata": {},
   "outputs": [],
   "source": [
    "# Creating a new data frame that will be filled with regulations for all dates between Jan 2020 and July 2021\n",
    "new_df = pd.DataFrame(columns= ['entry_into_force', 'cultural_venues', 'gastronomy',\n",
    "       'essential_retail', 'non-essential_retail', 'major_events',\n",
    "       'events_and_gatherings', 'public_gatherings', 'traceability', 'tourism',\n",
    "       'traveling', 'school_facilities',\n",
    "       'university_facilities', 'sport_facilities', 'medical_facilities', 'mouth_and_nose_covering', 'curfew'] ) #empty dataframe"
   ]
  },
  {
   "cell_type": "code",
   "execution_count": null,
   "metadata": {},
   "outputs": [],
   "source": [
    "row_a = df.iloc[0]\n",
    "new_df = new_df.append(row_a)"
   ]
  },
  {
   "cell_type": "code",
   "execution_count": null,
   "metadata": {},
   "outputs": [],
   "source": [
    "for index, row in islice(df.iterrows(), 1, None):\n",
    "    n = days_between(row_a['entry_into_force'], row['entry_into_force'])\n",
    "    for i in range(1,n):        \n",
    "        new_df = new_df.append({ 'entry_into_force' : row_a['entry_into_force'] + datetime.timedelta(days=1), \n",
    "                'cultural_venues' : row_a['cultural_venues'], \n",
    "                'gastronomy' : row_a['gastronomy'], 'essential_retail' : row_a['essential_retail'], \n",
    "                'non-essential_retail' : row_a['non-essential_retail'], 'major_events' : row_a['major_events'], \n",
    "                'events_and_gatherings' : row_a['events_and_gatherings'], \n",
    "                'public_gatherings' : row_a['public_gatherings'], 'traceability' : row_a['traceability'], \n",
    "                'tourism' : row_a['tourism'],\n",
    "                'traveling' : row_a['traveling'], \n",
    "                'school_facilities' : row_a['school_facilities'],\n",
    "                'university_facilities' : row_a['university_facilities'], 'sport_facilities' : row_a['sport_facilities'], \n",
    "                'medical_facilities' : row_a['medical_facilities'],\n",
    "                'mouth_and_nose_covering' : row_a['mouth_and_nose_covering'], \n",
    "                'curfew' : row_a['curfew']}, ignore_index=True)\n",
    "        row_a = new_df.iloc[-1]\n",
    "    new_df = new_df.append(row)\n",
    "    row_a = row"
   ]
  },
  {
   "cell_type": "code",
   "execution_count": null,
   "metadata": {},
   "outputs": [],
   "source": [
    "new_df.reset_index(drop= True, inplace=True)"
   ]
  },
  {
   "cell_type": "code",
   "execution_count": null,
   "metadata": {
    "scrolled": true
   },
   "outputs": [],
   "source": [
    "new_df.loc[70:120]"
   ]
  },
  {
   "cell_type": "code",
   "execution_count": null,
   "metadata": {},
   "outputs": [],
   "source": [
    "#renaming a column to a simple name data for future merging of two data sets\n",
    "new_df = new_df.rename({'entry_into_force':'date'},axis=1)"
   ]
  },
  {
   "cell_type": "code",
   "execution_count": null,
   "metadata": {},
   "outputs": [],
   "source": [
    "# Importing data on infection numbers -daily new infections format\n",
    "url2 = \"Cologne numbers.csv\"\n",
    "df_num = pd.read_csv(url2, sep=',', low_memory=False)"
   ]
  },
  {
   "cell_type": "code",
   "execution_count": null,
   "metadata": {},
   "outputs": [],
   "source": [
    "df_num = df_num.iloc[::-1]\n",
    "df_num.reset_index(drop=True, inplace=True)"
   ]
  },
  {
   "cell_type": "code",
   "execution_count": null,
   "metadata": {},
   "outputs": [],
   "source": [
    "# Adding a row at the begining of the data frame. Data will start from January 2020\n",
    "df_num.loc[-1] = ['01.01.2020', '0']  # adding a row\n",
    "df_num.index = df_num.index + 1  # shifting index\n",
    "df_num = df_num.sort_index()  # sorting by index"
   ]
  },
  {
   "cell_type": "code",
   "execution_count": null,
   "metadata": {},
   "outputs": [],
   "source": [
    "df_num['new_infections'][2]"
   ]
  },
  {
   "cell_type": "code",
   "execution_count": null,
   "metadata": {},
   "outputs": [],
   "source": [
    "df_num['new_infections'] = df_num['new_infections'].replace('-', 0)"
   ]
  },
  {
   "cell_type": "code",
   "execution_count": null,
   "metadata": {},
   "outputs": [],
   "source": [
    "df_num['new_infections'].value_counts(dropna=False)"
   ]
  },
  {
   "cell_type": "code",
   "execution_count": null,
   "metadata": {},
   "outputs": [],
   "source": [
    "def to_integer(s):\n",
    "    value = int(s)\n",
    "    return value"
   ]
  },
  {
   "cell_type": "code",
   "execution_count": null,
   "metadata": {},
   "outputs": [],
   "source": [
    "df_num['new_infections'] = df_num['new_infections'].map(to_integer)"
   ]
  },
  {
   "cell_type": "code",
   "execution_count": null,
   "metadata": {},
   "outputs": [],
   "source": [
    "df_num['date'] = df_num['date'].map(parse_timestamp)"
   ]
  },
  {
   "cell_type": "code",
   "execution_count": null,
   "metadata": {},
   "outputs": [],
   "source": [
    "type(df_num['date'][0])"
   ]
  },
  {
   "cell_type": "code",
   "execution_count": null,
   "metadata": {},
   "outputs": [],
   "source": [
    "new_num = pd.DataFrame(columns= ['date', 'new_infections'])"
   ]
  },
  {
   "cell_type": "code",
   "execution_count": null,
   "metadata": {},
   "outputs": [],
   "source": [
    "row_b = df_num.iloc[0]\n",
    "new_num = new_num.append(row_b)"
   ]
  },
  {
   "cell_type": "code",
   "execution_count": null,
   "metadata": {},
   "outputs": [],
   "source": [
    "for index, row in islice(df_num.iterrows(), 1, None):\n",
    "    n = days_between(row_b['date'], row['date'])\n",
    "    for i in range(1,n):        \n",
    "        new_num = new_num.append({'date' : row_b['date'] + datetime.timedelta(days=1), \n",
    "                'new_infections' : row_b['new_infections']}, ignore_index=True)\n",
    "        row_b = new_num.iloc[-1]\n",
    "    new_num = new_num.append(row)\n",
    "    row_b = row"
   ]
  },
  {
   "cell_type": "code",
   "execution_count": null,
   "metadata": {},
   "outputs": [],
   "source": [
    "df_num[:20]"
   ]
  },
  {
   "cell_type": "code",
   "execution_count": null,
   "metadata": {},
   "outputs": [],
   "source": [
    "new_num.reset_index(drop=True, inplace=True)"
   ]
  },
  {
   "cell_type": "code",
   "execution_count": null,
   "metadata": {},
   "outputs": [],
   "source": [
    "new_num.head()"
   ]
  },
  {
   "cell_type": "code",
   "execution_count": null,
   "metadata": {},
   "outputs": [],
   "source": [
    "#merging two data frames to have new infection numbers together with countermeasures data\n",
    "complete_df = pd.merge(new_df, new_num, on='date', how='outer')"
   ]
  },
  {
   "cell_type": "code",
   "execution_count": null,
   "metadata": {},
   "outputs": [],
   "source": [
    "complete_df.columns"
   ]
  },
  {
   "cell_type": "code",
   "execution_count": null,
   "metadata": {},
   "outputs": [],
   "source": [
    "complete_df.to_csv('covid19_unified_set.csv', sep=';', index=False)"
   ]
  }
 ],
 "metadata": {
  "kernelspec": {
   "display_name": "Python 3",
   "language": "python",
   "name": "python3"
  },
  "language_info": {
   "codemirror_mode": {
    "name": "ipython",
    "version": 3
   },
   "file_extension": ".py",
   "mimetype": "text/x-python",
   "name": "python",
   "nbconvert_exporter": "python",
   "pygments_lexer": "ipython3",
   "version": "3.6.9"
  }
 },
 "nbformat": 4,
 "nbformat_minor": 4
}
