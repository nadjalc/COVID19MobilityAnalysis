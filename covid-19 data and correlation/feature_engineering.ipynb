{
 "cells": [
  {
   "cell_type": "code",
   "execution_count": null,
   "metadata": {},
   "outputs": [],
   "source": [
    "import numpy as np\n",
    "import pandas as pd\n",
    "import matplotlib\n",
    "import datetime\n",
    "import time\n",
    "from itertools import islice"
   ]
  },
  {
   "cell_type": "code",
   "execution_count": null,
   "metadata": {},
   "outputs": [],
   "source": [
    "def parse_timestamp(el):\n",
    "    b = datetime.datetime.strptime(el, fmt)\n",
    "    return b"
   ]
  },
  {
   "cell_type": "code",
   "execution_count": null,
   "metadata": {},
   "outputs": [],
   "source": [
    "fmt = '%d.%m.%Y'"
   ]
  },
  {
   "cell_type": "code",
   "execution_count": null,
   "metadata": {},
   "outputs": [],
   "source": [
    "# Importing data on countermeasures\n",
    "url = \"covid19_unified_set.csv\"\n",
    "complete_df = pd.read_csv(url, sep=';', low_memory=False)"
   ]
  },
  {
   "cell_type": "code",
   "execution_count": null,
   "metadata": {},
   "outputs": [],
   "source": [
    "pd.set_option('display.max_columns()', None)"
   ]
  },
  {
   "cell_type": "code",
   "execution_count": null,
   "metadata": {},
   "outputs": [],
   "source": [
    "complete_df.columns"
   ]
  },
  {
   "cell_type": "markdown",
   "metadata": {},
   "source": [
    "## Transformation of features"
   ]
  },
  {
   "cell_type": "markdown",
   "metadata": {},
   "source": [
    "### Ordinal encoding"
   ]
  },
  {
   "cell_type": "code",
   "execution_count": null,
   "metadata": {},
   "outputs": [],
   "source": [
    "#1\n",
    "complete_df['cultural_venues'].value_counts(dropna=False)"
   ]
  },
  {
   "cell_type": "code",
   "execution_count": null,
   "metadata": {},
   "outputs": [],
   "source": [
    "#replacing unnecesary and rare values\n",
    "complete_df['cultural_venues'] = complete_df['cultural_venues'].str.replace('closedw/exmz','closed')"
   ]
  },
  {
   "cell_type": "code",
   "execution_count": null,
   "metadata": {},
   "outputs": [],
   "source": [
    "#converting to integers - 5 point scale\n",
    "complete_df['cultural_venues'] = complete_df['cultural_venues'].str.replace('closed','5')\n",
    "complete_df['cultural_venues'] = complete_df['cultural_venues'].str.replace('openw/appointment','4')\n",
    "complete_df['cultural_venues'] = complete_df['cultural_venues'].str.replace('openw/lim_100','3')\n",
    "complete_df['cultural_venues'] = complete_df['cultural_venues'].str.replace('openw/meas','2')\n",
    "complete_df['cultural_venues'] = complete_df['cultural_venues'].str.replace('open','1')"
   ]
  },
  {
   "cell_type": "code",
   "execution_count": null,
   "metadata": {},
   "outputs": [],
   "source": [
    "#2\n",
    "complete_df['gastronomy'].value_counts(dropna=False)"
   ]
  },
  {
   "cell_type": "code",
   "execution_count": null,
   "metadata": {},
   "outputs": [],
   "source": [
    "#replacing unnecesary and rare values\n",
    "complete_df['gastronomy'] = complete_df['gastronomy'].str.replace('outside_imun/dp','openw/tst_vacc')"
   ]
  },
  {
   "cell_type": "markdown",
   "metadata": {},
   "source": [
    "## Nema smisla da gastronomy bude open bez dokaza a essential retail ne, ispravi to u podacima"
   ]
  },
  {
   "cell_type": "code",
   "execution_count": null,
   "metadata": {},
   "outputs": [],
   "source": [
    "complete_df['gastronomy'] = complete_df['gastronomy'].str.replace('closedw/dp','4')\n",
    "complete_df['gastronomy'] = complete_df['gastronomy'].str.replace('openw/tst_vacc','3')\n",
    "complete_df['gastronomy'] = complete_df['gastronomy'].str.replace('openw/meas','2')\n",
    "complete_df['gastronomy'] = complete_df['gastronomy'].str.replace('open','1')"
   ]
  },
  {
   "cell_type": "code",
   "execution_count": null,
   "metadata": {},
   "outputs": [],
   "source": [
    "#3\n",
    "complete_df['essential_retail'].value_counts(dropna=False)"
   ]
  },
  {
   "cell_type": "code",
   "execution_count": null,
   "metadata": {},
   "outputs": [],
   "source": [
    "complete_df['essential_retail'] = complete_df['essential_retail'].str.replace('openw/tst_vacc','4')\n",
    "complete_df['essential_retail'] = complete_df['essential_retail'].str.replace('openw/lim_1p_10sqm','3')\n",
    "complete_df['essential_retail'] = complete_df['essential_retail'].str.replace('openw/meas','2')\n",
    "complete_df['essential_retail'] = complete_df['essential_retail'].str.replace('open','1')"
   ]
  },
  {
   "cell_type": "code",
   "execution_count": null,
   "metadata": {},
   "outputs": [],
   "source": [
    "#4\n",
    "complete_df['non-essential_retail'].value_counts(dropna=False)"
   ]
  },
  {
   "cell_type": "code",
   "execution_count": null,
   "metadata": {},
   "outputs": [],
   "source": [
    "#replacing unnecesary and rare values\n",
    "complete_df['non-essential_retail'] = complete_df['non-essential_retail'].str.replace('openw/lim_1p_10sqm','openw/lim_ppl')\n",
    "complete_df['non-essential_retail'] = complete_df['non-essential_retail'].str.replace('openw/lim_1p_10sqm_esent','openw/lim_ppl')\n",
    "complete_df['non-essential_retail'] = complete_df['non-essential_retail'].str.replace('openw/app_negtst','openw/appointment')\n",
    "complete_df['non-essential_retail'] = complete_df['non-essential_retail'].str.replace('openw/lim_ppl_esent','openw/lim_ppl')\n",
    "complete_df['non-essential_retail'] = complete_df['non-essential_retail'].str.replace('closedw/delivery','closed')"
   ]
  },
  {
   "cell_type": "code",
   "execution_count": null,
   "metadata": {},
   "outputs": [],
   "source": [
    "complete_df['non-essential_retail'] = complete_df['non-essential_retail'].str.replace('closed','5')\n",
    "complete_df['non-essential_retail'] = complete_df['non-essential_retail'].str.replace('openw/appointment','4')\n",
    "complete_df['non-essential_retail'] = complete_df['non-essential_retail'].str.replace('openw/lim_ppl','3')\n",
    "complete_df['non-essential_retail'] = complete_df['non-essential_retail'].str.replace('openw/meas','2')\n",
    "complete_df['non-essential_retail'] = complete_df['non-essential_retail'].str.replace('open','1')"
   ]
  },
  {
   "cell_type": "code",
   "execution_count": null,
   "metadata": {},
   "outputs": [],
   "source": [
    "#5\n",
    "complete_df['major_events'].value_counts(dropna=False)"
   ]
  },
  {
   "cell_type": "code",
   "execution_count": null,
   "metadata": {},
   "outputs": [],
   "source": [
    "complete_df['major_events'] = complete_df['major_events'].str.replace('prohibited','3')\n",
    "complete_df['major_events'] = complete_df['major_events'].str.replace('sport_1000','2')\n",
    "complete_df['major_events'] = complete_df['major_events'].str.replace('allowed','1')"
   ]
  },
  {
   "cell_type": "code",
   "execution_count": null,
   "metadata": {},
   "outputs": [],
   "source": [
    "#6\n",
    "complete_df['events_and_gatherings'].value_counts(dropna=False)"
   ]
  },
  {
   "cell_type": "code",
   "execution_count": null,
   "metadata": {},
   "outputs": [],
   "source": [
    "#replacing unnecesary and rare values\n",
    "complete_df['events_and_gatherings'] = complete_df['events_and_gatherings'].str.replace('allowed_1000max','allowedw/lim_ppl')\n",
    "complete_df['events_and_gatherings'] = complete_df['events_and_gatherings'].str.replace('allowed_500max','allowedw/lim_ppl')\n",
    "complete_df['events_and_gatherings'] = complete_df['events_and_gatherings'].str.replace('allowed_250max','allowedw/lim_ppl')\n",
    "complete_df['events_and_gatherings'] = complete_df['events_and_gatherings'].str.replace('prohibitedw/ex_trials','prohibited')\n",
    "complete_df['events_and_gatherings'] = complete_df['events_and_gatherings'].str.replace('prohibitedw/ex_outdoors','prohibitedw/ex')\n",
    "complete_df['events_and_gatherings'] = complete_df['events_and_gatherings'].str.replace('pw/ex_concert_100','prohibitedw/ex')"
   ]
  },
  {
   "cell_type": "code",
   "execution_count": null,
   "metadata": {},
   "outputs": [],
   "source": [
    "complete_df['events_and_gatherings'] = complete_df['events_and_gatherings'].str.replace('prohibitedw/ex','4')\n",
    "complete_df['events_and_gatherings'] = complete_df['events_and_gatherings'].str.replace('prohibited','5')\n",
    "complete_df['events_and_gatherings'] = complete_df['events_and_gatherings'].str.replace('allowedw/lim_ppl','3')\n",
    "complete_df['events_and_gatherings'] = complete_df['events_and_gatherings'].str.replace('allowedw/meas','2')\n",
    "complete_df['events_and_gatherings'] = complete_df['events_and_gatherings'].str.replace('allowed','1')"
   ]
  },
  {
   "cell_type": "code",
   "execution_count": null,
   "metadata": {
    "scrolled": true
   },
   "outputs": [],
   "source": [
    "#7\n",
    "complete_df['public_gatherings'].value_counts(dropna=False)"
   ]
  },
  {
   "cell_type": "code",
   "execution_count": null,
   "metadata": {},
   "outputs": [],
   "source": [
    "#replacing unnecesary and rare values\n",
    "complete_df['public_gatherings'] = complete_df['public_gatherings'].str.replace('allowed_2h_imun','allowed_2h_imm')\n",
    "complete_df['public_gatherings'] = complete_df['public_gatherings'].str.replace('allowed_2h_5ppl','allowed_2h')\n",
    "complete_df['public_gatherings'] = complete_df['public_gatherings'].str.replace('allowed_2h_1p','allowed_2h')\n",
    "complete_df['public_gatherings'] = complete_df['public_gatherings'].str.replace('allowed_10ppl_3h_imm','allowed_2h_imm')\n",
    "complete_df['public_gatherings'] = complete_df['public_gatherings'].str.replace('allowed_10ppl','allowed_2h')\n",
    "complete_df['public_gatherings'] = complete_df['public_gatherings'].str.replace('allowed_10p','allowed_2h')\n",
    "complete_df['public_gatherings'] = complete_df['public_gatherings'].str.replace('allowed_100pplw/tst_imm','allowed_100p')\n",
    "complete_df['public_gatherings'] = complete_df['public_gatherings'].str.replace('allowed_100ppl_tst_imm','allowed_100p')"
   ]
  },
  {
   "cell_type": "code",
   "execution_count": null,
   "metadata": {},
   "outputs": [],
   "source": [
    "complete_df['public_gatherings'] = complete_df['public_gatherings'].str.replace('prohibited_over_2','5')\n",
    "complete_df['public_gatherings'] = complete_df['public_gatherings'].str.replace('allowed_2h_imm','3')\n",
    "complete_df['public_gatherings'] = complete_df['public_gatherings'].str.replace('allowed_2h','4')\n",
    "complete_df['public_gatherings'] = complete_df['public_gatherings'].str.replace('allowed_100p','2')\n",
    "complete_df['public_gatherings'] = complete_df['public_gatherings'].str.replace('allowed','1')"
   ]
  },
  {
   "cell_type": "code",
   "execution_count": null,
   "metadata": {},
   "outputs": [],
   "source": [
    "#9\n",
    "complete_df['tourism'].value_counts(dropna=False)"
   ]
  },
  {
   "cell_type": "code",
   "execution_count": null,
   "metadata": {},
   "outputs": [],
   "source": [
    "#replacing unnecesary and rare values\n",
    "complete_df['tourism'] = complete_df['tourism'].str.replace('allowedw/ex_ra_med_cert','allowedw/test')\n",
    "complete_df['tourism'] = complete_df['tourism'].str.replace('limitedw/test','allowedw/test')\n",
    "complete_df['tourism'] = complete_df['tourism'].str.replace('limited','prohibited')"
   ]
  },
  {
   "cell_type": "code",
   "execution_count": null,
   "metadata": {},
   "outputs": [],
   "source": [
    "complete_df['tourism'] = complete_df['tourism'].str.replace('prohibited','4')\n",
    "complete_df['tourism'] = complete_df['tourism'].str.replace('allowed_only4','3')\n",
    "complete_df['tourism'] = complete_df['tourism'].str.replace('allowedw/test','2')\n",
    "complete_df['tourism'] = complete_df['tourism'].str.replace('allowed','1')"
   ]
  },
  {
   "cell_type": "code",
   "execution_count": null,
   "metadata": {},
   "outputs": [],
   "source": [
    "#10\n",
    "complete_df['traveling'].value_counts(dropna=False)"
   ]
  },
  {
   "cell_type": "code",
   "execution_count": null,
   "metadata": {},
   "outputs": [],
   "source": [
    "#replacing unnecesary and rare values\n",
    "complete_df['traveling'] = complete_df['traveling'].str.replace('ra_10dqua_reg_5test_mUKSA','10q_r_5')\n",
    "complete_df['traveling'] = complete_df['traveling'].str.replace('ra_10dqua_reg_5testM','10q_r_5')\n",
    "complete_df['traveling'] = complete_df['traveling'].str.replace('ra_10dqua_reg_5test','10q_r_5')\n",
    "complete_df['traveling'] = complete_df['traveling'].str.replace('ra_testM_vac_10dqua','10q_proof')\n",
    "complete_df['traveling'] = complete_df['traveling'].str.replace('ra_10dqua_postestM','10q_proof')\n",
    "complete_df['traveling'] = complete_df['traveling'].str.replace('ra_testM_10dqua','10q_proof')\n",
    "complete_df['traveling'] = complete_df['traveling'].str.replace('above canceled','10q_proof')\n",
    "complete_df['traveling'] = complete_df['traveling'].str.replace('ra_testM_vac_14dqua_noshort','14q')\n",
    "complete_df['traveling'] = complete_df['traveling'].str.replace('ra_14d_quarantine','14q')\n",
    "complete_df['traveling'] = complete_df['traveling'].str.replace('o4_14d_quarantine','14q')\n",
    "complete_df['traveling'] = complete_df['traveling'].str.replace('ra_48test_14dqpos','14q')\n",
    "complete_df['traveling'] = complete_df['traveling'].str.replace('ra_14d_limitations','14q_light')\n",
    "complete_df['traveling'] = complete_df['traveling'].str.replace('ra_14d_nomedfac','14q_light')"
   ]
  },
  {
   "cell_type": "code",
   "execution_count": null,
   "metadata": {},
   "outputs": [],
   "source": [
    "complete_df['traveling'] = complete_df['traveling'].str.replace('14q_light','2')\n",
    "complete_df['traveling'] = complete_df['traveling'].str.replace('14q','5')\n",
    "complete_df['traveling'] = complete_df['traveling'].str.replace('10q_proof','4')\n",
    "complete_df['traveling'] = complete_df['traveling'].str.replace('10q_r_5','3')\n",
    "complete_df['traveling'] = complete_df['traveling'].str.replace('allowed','1')"
   ]
  },
  {
   "cell_type": "code",
   "execution_count": null,
   "metadata": {},
   "outputs": [],
   "source": [
    "#11\n",
    "complete_df['school_facilities'].value_counts(dropna=False)"
   ]
  },
  {
   "cell_type": "code",
   "execution_count": null,
   "metadata": {},
   "outputs": [],
   "source": [
    "#replacing unnecesary and rare values\n",
    "complete_df['school_facilities'] = complete_df['school_facilities'].str.replace('openw/test','openw/tst_vac')"
   ]
  },
  {
   "cell_type": "code",
   "execution_count": null,
   "metadata": {},
   "outputs": [],
   "source": [
    "complete_df['school_facilities'] = complete_df['school_facilities'].str.replace('closed','4')\n",
    "complete_df['school_facilities'] = complete_df['school_facilities'].str.replace('openw/tst_vac','3')\n",
    "complete_df['school_facilities'] = complete_df['school_facilities'].str.replace('openw/meas','2')\n",
    "complete_df['school_facilities'] = complete_df['school_facilities'].str.replace('open','1')"
   ]
  },
  {
   "cell_type": "code",
   "execution_count": null,
   "metadata": {},
   "outputs": [],
   "source": [
    "#12\n",
    "complete_df['university_facilities'].value_counts(dropna=False)"
   ]
  },
  {
   "cell_type": "code",
   "execution_count": null,
   "metadata": {},
   "outputs": [],
   "source": [
    "#replacing unnecesary and rare values\n",
    "complete_df['university_facilities'] = complete_df['university_facilities'].str.replace('closedw/exlib','closed')"
   ]
  },
  {
   "cell_type": "code",
   "execution_count": null,
   "metadata": {},
   "outputs": [],
   "source": [
    "complete_df['university_facilities'] = complete_df['university_facilities'].str.replace('closed','5')\n",
    "complete_df['university_facilities'] = complete_df['university_facilities'].str.replace('open_limited','4')\n",
    "complete_df['university_facilities'] = complete_df['university_facilities'].str.replace('openw/tst_vac','3')\n",
    "complete_df['university_facilities'] = complete_df['university_facilities'].str.replace('openw/meas','2')\n",
    "complete_df['university_facilities'] = complete_df['university_facilities'].str.replace('open','1')"
   ]
  },
  {
   "cell_type": "code",
   "execution_count": null,
   "metadata": {},
   "outputs": [],
   "source": [
    "#13\n",
    "complete_df['sport_facilities'].value_counts(dropna=False)"
   ]
  },
  {
   "cell_type": "code",
   "execution_count": null,
   "metadata": {},
   "outputs": [],
   "source": [
    "#replacing unnecesary and rare values\n",
    "complete_df['sport_facilities'] = complete_df['sport_facilities'].str.replace('closedw/expo','closed')"
   ]
  },
  {
   "cell_type": "code",
   "execution_count": null,
   "metadata": {},
   "outputs": [],
   "source": [
    "complete_df['sport_facilities'] = complete_df['sport_facilities'].str.replace('closed','4')\n",
    "complete_df['sport_facilities'] = complete_df['sport_facilities'].str.replace('openw/limit','3')\n",
    "complete_df['sport_facilities'] = complete_df['sport_facilities'].str.replace('openw/meas','2')\n",
    "complete_df['sport_facilities'] = complete_df['sport_facilities'].str.replace('open','1')"
   ]
  },
  {
   "cell_type": "code",
   "execution_count": null,
   "metadata": {},
   "outputs": [],
   "source": [
    "#14\n",
    "complete_df['medical_facilities'].value_counts(dropna=False)"
   ]
  },
  {
   "cell_type": "code",
   "execution_count": null,
   "metadata": {},
   "outputs": [],
   "source": [
    "#replacing unnecesary and rare values\n",
    "complete_df['medical_facilities'] = complete_df['medical_facilities'].str.replace('limited_visitsw/FFP2_test','limited_visitsw/mask_test')\n",
    "complete_df['medical_facilities'] = complete_df['medical_facilities'].str.replace('allowed_visitsw/FFP2','allowed_visitsw/meas')"
   ]
  },
  {
   "cell_type": "code",
   "execution_count": null,
   "metadata": {},
   "outputs": [],
   "source": [
    "complete_df['medical_facilities'] = complete_df['medical_facilities'].str.replace('limited_visitsw/mask_test','5')\n",
    "complete_df['medical_facilities'] = complete_df['medical_facilities'].str.replace('limited_visitsw/FFP2','4')\n",
    "complete_df['medical_facilities'] = complete_df['medical_facilities'].str.replace('limited_visits','3')\n",
    "complete_df['medical_facilities'] = complete_df['medical_facilities'].str.replace('allowed_visitsw/meas','2')\n",
    "complete_df['medical_facilities'] = complete_df['medical_facilities'].str.replace('open','1')"
   ]
  },
  {
   "cell_type": "code",
   "execution_count": null,
   "metadata": {},
   "outputs": [],
   "source": [
    "#15\n",
    "complete_df['mouth_and_nose_covering'].value_counts(dropna=False)"
   ]
  },
  {
   "cell_type": "code",
   "execution_count": null,
   "metadata": {},
   "outputs": [],
   "source": [
    "#replacing unnecesary and rare values\n",
    "complete_df['mouth_and_nose_covering'] = complete_df['mouth_and_nose_covering'].str.replace('mandatory_textile_no_dist','mandatory_textile')"
   ]
  },
  {
   "cell_type": "code",
   "execution_count": null,
   "metadata": {},
   "outputs": [],
   "source": [
    "complete_df['mouth_and_nose_covering'] = complete_df['mouth_and_nose_covering'].str.replace('mandatory_medical','4')\n",
    "complete_df['mouth_and_nose_covering'] = complete_df['mouth_and_nose_covering'].str.replace('mandatory_mixed','3')\n",
    "complete_df['mouth_and_nose_covering'] = complete_df['mouth_and_nose_covering'].str.replace('mandatory_textile','2')\n",
    "complete_df['mouth_and_nose_covering'] = complete_df['mouth_and_nose_covering'].str.replace('not_mandatory','1')"
   ]
  },
  {
   "cell_type": "code",
   "execution_count": null,
   "metadata": {},
   "outputs": [],
   "source": [
    "complete_df"
   ]
  },
  {
   "cell_type": "markdown",
   "metadata": {},
   "source": [
    "### Dummy encoding"
   ]
  },
  {
   "cell_type": "code",
   "execution_count": null,
   "metadata": {},
   "outputs": [],
   "source": [
    "#8\n",
    "complete_df['traceability'].value_counts(dropna=False)"
   ]
  },
  {
   "cell_type": "code",
   "execution_count": null,
   "metadata": {},
   "outputs": [],
   "source": [
    "#replacing unnecesary and rare values\n",
    "complete_df['traceability'] = complete_df['traceability'].fillna('yes')"
   ]
  },
  {
   "cell_type": "code",
   "execution_count": null,
   "metadata": {},
   "outputs": [],
   "source": [
    "#16\n",
    "complete_df['curfew'].value_counts(dropna=False)"
   ]
  },
  {
   "cell_type": "code",
   "execution_count": null,
   "metadata": {},
   "outputs": [],
   "source": [
    "complete_df['curfew'] = complete_df['curfew'].str.replace('10pm_5am_12act','yes')"
   ]
  },
  {
   "cell_type": "code",
   "execution_count": null,
   "metadata": {},
   "outputs": [],
   "source": [
    "trccols = pd.get_dummies(complete_df['traceability'], prefix='traceability')"
   ]
  },
  {
   "cell_type": "code",
   "execution_count": null,
   "metadata": {},
   "outputs": [],
   "source": [
    "crfcols = pd.get_dummies(complete_df['curfew'], prefix='curfew')"
   ]
  },
  {
   "cell_type": "code",
   "execution_count": null,
   "metadata": {},
   "outputs": [],
   "source": [
    "final_df = pd.concat([complete_df, trccols], axis=1)\n",
    "final_df = pd.concat([final_df, crfcols], axis=1)"
   ]
  },
  {
   "cell_type": "code",
   "execution_count": null,
   "metadata": {},
   "outputs": [],
   "source": [
    "final_df.drop(['traceability', 'curfew'], axis=1, inplace=True)"
   ]
  },
  {
   "cell_type": "code",
   "execution_count": null,
   "metadata": {},
   "outputs": [],
   "source": [
    "#final_df.to_csv('covid19_final_set.csv', sep=';', index=False)"
   ]
  },
  {
   "cell_type": "code",
   "execution_count": null,
   "metadata": {},
   "outputs": [],
   "source": []
  }
 ],
 "metadata": {
  "kernelspec": {
   "display_name": "Python 3",
   "language": "python",
   "name": "python3"
  },
  "language_info": {
   "codemirror_mode": {
    "name": "ipython",
    "version": 3
   },
   "file_extension": ".py",
   "mimetype": "text/x-python",
   "name": "python",
   "nbconvert_exporter": "python",
   "pygments_lexer": "ipython3",
   "version": "3.6.9"
  }
 },
 "nbformat": 4,
 "nbformat_minor": 4
}
