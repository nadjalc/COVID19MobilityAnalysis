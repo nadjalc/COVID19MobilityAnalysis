{
 "cells": [
  {
   "cell_type": "code",
   "execution_count": 1,
   "id": "8ff86f1e",
   "metadata": {},
   "outputs": [],
   "source": [
    "import numpy as np\n",
    "import pandas as pd\n",
    "import seaborn as sns\n",
    "import matplotlib\n",
    "from fitter import Fitter, get_common_distributions, get_distributions"
   ]
  },
  {
   "cell_type": "code",
   "execution_count": 2,
   "id": "7173feed",
   "metadata": {},
   "outputs": [],
   "source": [
    "matplotlib.rcParams['figure.figsize'] = (16.0, 12.0)\n",
    "matplotlib.style.use('ggplot')"
   ]
  },
  {
   "cell_type": "code",
   "execution_count": 3,
   "id": "9f81399e",
   "metadata": {},
   "outputs": [],
   "source": [
    "url = \"/bigdata/jelicicna/output_datasets/anlysis_data_nextbike_2021-05.csv\"\n",
    "df = pd.read_csv(url, sep=';', low_memory=False)"
   ]
  },
  {
   "cell_type": "markdown",
   "id": "02d821f2",
   "metadata": {},
   "source": [
    "# Distances Analysis"
   ]
  },
  {
   "cell_type": "markdown",
   "id": "4dafef2a",
   "metadata": {},
   "source": [
    "### Inital view of the data"
   ]
  },
  {
   "cell_type": "code",
   "execution_count": null,
   "id": "f3d940e3",
   "metadata": {},
   "outputs": [
    {
     "data": {
      "text/plain": [
       "<matplotlib.axes._subplots.AxesSubplot at 0x7ff538642ba8>"
      ]
     },
     "execution_count": 4,
     "metadata": {},
     "output_type": "execute_result"
    }
   ],
   "source": [
    "sns.set_style('white')\n",
    "sns.set_context(\"paper\", font_scale = 1.5)\n",
    "sns.distplot(df['distance'], bins = 100)"
   ]
  },
  {
   "cell_type": "code",
   "execution_count": null,
   "id": "81a7b95c",
   "metadata": {},
   "outputs": [],
   "source": [
    "distance = df[\"distance\"].values"
   ]
  },
  {
   "cell_type": "markdown",
   "id": "642e4543",
   "metadata": {},
   "source": [
    "#### 5 common distributions"
   ]
  },
  {
   "cell_type": "code",
   "execution_count": null,
   "id": "12b56ac3",
   "metadata": {},
   "outputs": [],
   "source": [
    "f = Fitter(distance,\n",
    "           distributions=['gamma',\n",
    "                          'lognorm',\n",
    "                          \"beta\",\n",
    "                          \"burr\",\n",
    "                          \"norm\"], bins=100)\n",
    "f.fit()\n",
    "f.summary()"
   ]
  },
  {
   "cell_type": "code",
   "execution_count": null,
   "id": "7798c16d",
   "metadata": {},
   "outputs": [],
   "source": [
    "f.get_best(method = 'sumsquare_error')"
   ]
  },
  {
   "cell_type": "code",
   "execution_count": null,
   "id": "4f9d1071",
   "metadata": {},
   "outputs": [],
   "source": [
    "f.get_best(method = 'aic')"
   ]
  },
  {
   "cell_type": "code",
   "execution_count": null,
   "id": "eb7b8435",
   "metadata": {},
   "outputs": [],
   "source": [
    "f.get_best(method = 'bic')"
   ]
  },
  {
   "cell_type": "markdown",
   "id": "35def2b0",
   "metadata": {},
   "source": [
    "### Fitting distributions with regards to the result of 5 from above including variety of common distributions"
   ]
  },
  {
   "cell_type": "code",
   "execution_count": null,
   "id": "b4e6a5cb",
   "metadata": {},
   "outputs": [],
   "source": [
    "f = Fitter(distance,\n",
    "           distributions= ['alpha','beta','norm','bradford','burr'], bins=100)\n",
    "f.fit()\n",
    "f.summary()"
   ]
  },
  {
   "cell_type": "code",
   "execution_count": null,
   "id": "fb5d3949",
   "metadata": {},
   "outputs": [],
   "source": [
    "f = Fitter(distance,\n",
    "           distributions= ['chi','chi2','cosine','dgamma','expon'], bins=100)\n",
    "f.fit()\n",
    "f.summary()"
   ]
  },
  {
   "cell_type": "code",
   "execution_count": null,
   "id": "642ba403",
   "metadata": {},
   "outputs": [],
   "source": [
    "f = Fitter(distance,\n",
    "           distributions= ['exponnorm','f','fatiguelife','fisk','gamma'], bins=100)\n",
    "f.fit()\n",
    "f.summary()"
   ]
  },
  {
   "cell_type": "code",
   "execution_count": null,
   "id": "e8e1a0e6",
   "metadata": {},
   "outputs": [],
   "source": [
    "f = Fitter(distance,\n",
    "           distributions= ['genexpon','gengamma','levy','loggamma','lognorm'], bins=100)\n",
    "f.fit()\n",
    "f.summary()"
   ]
  },
  {
   "cell_type": "code",
   "execution_count": null,
   "id": "34bf36a4",
   "metadata": {},
   "outputs": [],
   "source": [
    "f = Fitter(distance,\n",
    "           distributions= ['logistic','pareto','pearson3','powerlaw','t'], bins=100)\n",
    "f.fit()\n",
    "f.summary()"
   ]
  },
  {
   "cell_type": "markdown",
   "id": "76739a51",
   "metadata": {},
   "source": [
    "### 5 best distributions chosen from the above analysis"
   ]
  },
  {
   "cell_type": "code",
   "execution_count": null,
   "id": "64eeb62a",
   "metadata": {},
   "outputs": [],
   "source": [
    "f = Fitter(distance,\n",
    "           distributions= ['beta','chi','gamma', 'gengamma', 'pearson3'], bins=100)\n",
    "\n",
    "f.fit()\n",
    "f.summary()"
   ]
  },
  {
   "cell_type": "markdown",
   "id": "5a39aa9d",
   "metadata": {},
   "source": [
    "## Rides Analysis"
   ]
  },
  {
   "cell_type": "markdown",
   "id": "b6b77a42",
   "metadata": {},
   "source": [
    "### Inital view of the data"
   ]
  },
  {
   "cell_type": "code",
   "execution_count": null,
   "id": "f848fefb",
   "metadata": {},
   "outputs": [],
   "source": [
    "sns.set_style('white')\n",
    "sns.set_context(\"paper\", font_scale = 1.5)\n",
    "sns.distplot(df['ride_time'], bins = 140)"
   ]
  },
  {
   "cell_type": "code",
   "execution_count": null,
   "id": "38a9bf47",
   "metadata": {},
   "outputs": [],
   "source": [
    "rides = df[\"ride_time\"].values"
   ]
  },
  {
   "cell_type": "markdown",
   "id": "de030719",
   "metadata": {},
   "source": [
    "#### 5 common distributions"
   ]
  },
  {
   "cell_type": "code",
   "execution_count": null,
   "id": "6f3c636e",
   "metadata": {},
   "outputs": [],
   "source": [
    "f = Fitter(rides,\n",
    "           distributions=['gamma',\n",
    "                          'lognorm',\n",
    "                          \"beta\",\n",
    "                          \"burr\",\n",
    "                          \"norm\"], bins = 100)\n",
    "f.fit()\n",
    "f.summary()"
   ]
  },
  {
   "cell_type": "code",
   "execution_count": null,
   "id": "db9664e4",
   "metadata": {},
   "outputs": [],
   "source": [
    "f.get_best(method = 'sumsquare_error')"
   ]
  },
  {
   "cell_type": "code",
   "execution_count": null,
   "id": "742c6c3b",
   "metadata": {},
   "outputs": [],
   "source": [
    "f.get_best(method = 'aic')"
   ]
  },
  {
   "cell_type": "code",
   "execution_count": null,
   "id": "40601905",
   "metadata": {},
   "outputs": [],
   "source": [
    "f.get_best(method = 'bic')"
   ]
  },
  {
   "cell_type": "markdown",
   "id": "f01916c9",
   "metadata": {},
   "source": [
    "### Fitting distributions with regards to the result of 5 from above including variety of common distributions"
   ]
  },
  {
   "cell_type": "code",
   "execution_count": null,
   "id": "43e923d8",
   "metadata": {},
   "outputs": [],
   "source": [
    "f = Fitter(rides,\n",
    "           distributions= ['alpha','beta','norm','bradford','burr'], bins = 100)\n",
    "f.fit()\n",
    "f.summary()"
   ]
  },
  {
   "cell_type": "code",
   "execution_count": null,
   "id": "99023135",
   "metadata": {},
   "outputs": [],
   "source": [
    "f = Fitter(rides,\n",
    "           distributions= ['chi','chi2','cosine','dgamma','expon'], bins = 100)\n",
    "f.fit()\n",
    "f.summary()"
   ]
  },
  {
   "cell_type": "code",
   "execution_count": null,
   "id": "affc07f6",
   "metadata": {},
   "outputs": [],
   "source": [
    "f = Fitter(rides,\n",
    "           distributions= ['exponnorm','f','fatiguelife','fisk','gamma'], bins = 100)\n",
    "f.fit()\n",
    "f.summary()"
   ]
  },
  {
   "cell_type": "code",
   "execution_count": null,
   "id": "0ccc3dcc",
   "metadata": {},
   "outputs": [],
   "source": [
    "f = Fitter(rides,\n",
    "           distributions= ['genexpon','gengamma','levy','loggamma','lognorm'], bins = 100)\n",
    "f.fit()\n",
    "f.summary()"
   ]
  },
  {
   "cell_type": "code",
   "execution_count": null,
   "id": "bc6d644e",
   "metadata": {},
   "outputs": [],
   "source": [
    "f = Fitter(rides,\n",
    "           distributions= ['logistic','pareto','pearson3','powerlaw','t'], bins = 100)\n",
    "f.fit()\n",
    "f.summary()"
   ]
  },
  {
   "cell_type": "markdown",
   "id": "d63bed09",
   "metadata": {},
   "source": [
    "### 5 best distributions chosen from the above analysis"
   ]
  },
  {
   "cell_type": "code",
   "execution_count": null,
   "id": "19af1608",
   "metadata": {},
   "outputs": [],
   "source": [
    "f = Fitter(rides,\n",
    "           distributions= ['alpha','burr','lognorm'], bins = 100)\n",
    "f.fit()\n",
    "f.summary()"
   ]
  },
  {
   "cell_type": "code",
   "execution_count": null,
   "id": "d35e40b8",
   "metadata": {},
   "outputs": [],
   "source": []
  }
 ],
 "metadata": {
  "kernelspec": {
   "display_name": "Python 3",
   "language": "python",
   "name": "python3"
  },
  "language_info": {
   "codemirror_mode": {
    "name": "ipython",
    "version": 3
   },
   "file_extension": ".py",
   "mimetype": "text/x-python",
   "name": "python",
   "nbconvert_exporter": "python",
   "pygments_lexer": "ipython3",
   "version": "3.5.2"
  }
 },
 "nbformat": 4,
 "nbformat_minor": 5
}
