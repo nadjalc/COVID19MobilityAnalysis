{
 "cells": [
  {
   "cell_type": "code",
   "execution_count": 1,
   "metadata": {},
   "outputs": [],
   "source": [
    "import pandas as pd"
   ]
  },
  {
   "cell_type": "code",
   "execution_count": 2,
   "metadata": {},
   "outputs": [],
   "source": [
    "def create_new_frame():\n",
    "    new_df = pd.DataFrame(columns= ['lat', 'lng', 'time_begin', 'time_end', 'uid', 'address', 'name', 'bike', 'bike_racks',\n",
    "                                    'bikes', 'booked_bikes', 'free_racks', 'free_special_racks', 'maintenance', 'number', \n",
    "                                    'place_type', 'rack_locks', 'special_racks', 'spot', 'terminal_type', 'city', \n",
    "                                    'country_code', 'company', 'timezone', 'available_bikes'] )\n",
    "    return new_df"
   ]
  },
  {
   "cell_type": "code",
   "execution_count": 3,
   "metadata": {},
   "outputs": [],
   "source": [
    "def first_append_new_frame(new_df, row):\n",
    "    frame = new_df.append({'uid' : row['uid'] , 'lat' : row['lat'], 'lng' : row['lng'], \n",
    "                           'time_begin' : row['timestamp'], 'time_end' : 0, \n",
    "                           'address' : row['address'], 'bike' : row['bike'], \n",
    "                           'bike_racks' : row['bike_racks'], 'bikes' : row['bikes'], \n",
    "                           'free_special_racks' : row['free_special_racks'], \n",
    "                           'maintenance' : row['maintenance'], 'name' : row['name'], 'number' : row['number'], \n",
    "                           'place_type' : row['place_type'], 'rack_locks' : row['rack_locks'], \n",
    "                           'special_racks' : row['special_racks'], 'spot' : row['spot'], \n",
    "                           'terminal_type' : row['terminal_type'], 'city' : row['city'], \n",
    "                           'country_code' : row['country_code'], 'company' : row['company'], \n",
    "                           'timezone' : row['timezone'], 'available_bikes' : row['available_bikes']}, ignore_index=True) "
   ]
  },
  {
   "cell_type": "code",
   "execution_count": 4,
   "metadata": {},
   "outputs": [],
   "source": [
    "def append_to_new_frame(new_df, row):\n",
    "    frame = new_df.append({'uid' : row['uid'] , 'lat' : row['lat'], 'lng' : row['lng'], \n",
    "                           'time_begin' : row['timestamp'], 'time_end' : row['timestamp'], \n",
    "                           'address' : row['address'], 'bike' : row['bike'], \n",
    "                           'bike_racks' : row['bike_racks'], 'bikes' : row['bikes'], \n",
    "                           'free_special_racks' : row['free_special_racks'], \n",
    "                           'maintenance' : row['maintenance'], 'name' : row['name'], 'number' : row['number'], \n",
    "                           'place_type' : row['place_type'], 'rack_locks' : row['rack_locks'], \n",
    "                           'special_racks' : row['special_racks'], 'spot' : row['spot'], \n",
    "                           'terminal_type' : row['terminal_type'], 'city' : row['city'], \n",
    "                           'country_code' : row['country_code'], 'company' : row['company'], \n",
    "                           'timezone' : row['timezone'], 'available_bikes' : row['available_bikes']}, ignore_index=True) "
   ]
  },
  {
   "cell_type": "code",
   "execution_count": null,
   "metadata": {},
   "outputs": [],
   "source": []
  }
 ],
 "metadata": {
  "kernelspec": {
   "display_name": "Python 3",
   "language": "python",
   "name": "python3"
  },
  "language_info": {
   "codemirror_mode": {
    "name": "ipython",
    "version": 3
   },
   "file_extension": ".py",
   "mimetype": "text/x-python",
   "name": "python",
   "nbconvert_exporter": "python",
   "pygments_lexer": "ipython3",
   "version": "3.8.5"
  }
 },
 "nbformat": 4,
 "nbformat_minor": 2
}
