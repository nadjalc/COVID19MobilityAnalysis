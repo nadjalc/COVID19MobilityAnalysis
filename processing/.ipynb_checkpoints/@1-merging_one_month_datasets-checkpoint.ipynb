{
 "cells": [
  {
   "cell_type": "code",
   "execution_count": null,
   "metadata": {},
   "outputs": [],
   "source": [
    "import pandas as pd\n",
    "from datetime import datetime\n",
    "import time\n",
    "from itertools import islice\n",
    "import glob\n",
    "import io"
   ]
  },
  {
   "cell_type": "code",
   "execution_count": null,
   "metadata": {},
   "outputs": [],
   "source": [
    "all_files = glob.glob('/bigdata/jelicicna/out_data/*.csv')\n",
    "all_files.sort()"
   ]
  },
  {
   "cell_type": "code",
   "execution_count": null,
   "metadata": {},
   "outputs": [],
   "source": [
    "all_files"
   ]
  },
  {
   "cell_type": "code",
   "execution_count": null,
   "metadata": {},
   "outputs": [],
   "source": [
    "li = []\n",
    "for file in all_files:\n",
    "    frame = pd.read_csv(file, sep= ';', index_col=None, header=0, low_memory=False)\n",
    "    li.append(frame) \n",
    "df = pd.concat(li, axis=0, ignore_index=True, sort= False) #connecting all the dates"
   ]
  },
  {
   "cell_type": "code",
   "execution_count": null,
   "metadata": {},
   "outputs": [],
   "source": [
    "pd.set_option('display.max_columns()', None)"
   ]
  },
  {
   "cell_type": "markdown",
   "metadata": {},
   "source": [
    "### Removing midnight breaks"
   ]
  },
  {
   "cell_type": "code",
   "execution_count": null,
   "metadata": {},
   "outputs": [],
   "source": [
    "namesToList = df['name'].tolist()\n",
    "namesList = list(set(namesToList))"
   ]
  },
  {
   "cell_type": "code",
   "execution_count": null,
   "metadata": {},
   "outputs": [],
   "source": [
    "len(namesList)"
   ]
  },
  {
   "cell_type": "code",
   "execution_count": null,
   "metadata": {},
   "outputs": [],
   "source": [
    "new_df = pd.DataFrame(columns= ['lat', 'lng', 'time_begin', 'time_end', 'name', 'address', 'bike', 'bike_racks', 'bikes', \n",
    "                                'booked_bikes', 'free_racks', 'free_special_racks', 'maintenance', 'number', \n",
    "                                'place_type', 'rack_locks', 'special_racks', 'spot', 'terminal_type','uid',  'city',\n",
    "                                'country_code', 'company', 'timezone', 'available_bikes'] ) #empty dataframe with the new column structure"
   ]
  },
  {
   "cell_type": "code",
   "execution_count": null,
   "metadata": {},
   "outputs": [],
   "source": [
    "for name in namesList: #repeat for each bike/bike name\n",
    "    single_bike_records = df[df['name']== name] #separating dataframe that has all the columns as df but only for current name\n",
    "\n",
    "    first_row_data = single_bike_records.iloc[0] #saving first row data\n",
    "    latitude, longitude = first_row_data['lat'], first_row_data['lng']\n",
    "    new_df = new_df.append({'lat' : latitude, 'lng' : longitude,\n",
    "                            'time_begin' : first_row_data['time_begin'], 'time_end' : first_row_data['time_end'],\n",
    "                            'name' : name, 'address' : first_row_data['address'], 'bike' : first_row_data['bike'], \n",
    "                            'bike_racks' : first_row_data['bike_racks'], 'bikes' : first_row_data['bikes'], \n",
    "                            'booked_bikes' : first_row_data['booked_bikes'], 'free_racks' : first_row_data['free_racks'], \n",
    "                            'free_special_racks' : first_row_data['free_special_racks'],\n",
    "                            'maintenance' : first_row_data['maintenance'], 'number' : first_row_data['number'], \n",
    "                            'place_type' : first_row_data['place_type'], 'rack_locks' : first_row_data['rack_locks'], \n",
    "                            'special_racks' : first_row_data['special_racks'], 'spot' : first_row_data['spot'], \n",
    "                            'terminal_type' : first_row_data['terminal_type'],'uid' : first_row_data['uid'], \n",
    "                            'city' : first_row_data['city'], \n",
    "                            'country_code' : first_row_data['country_code'], 'company' : first_row_data['company'], \n",
    "                            'timezone' : first_row_data['timezone'],\n",
    "                            'available_bikes' : first_row_data['available_bikes']}, ignore_index=True) \n",
    "\n",
    "    for index, row in islice(single_bike_records.iterrows(), 1, None): \n",
    "        if latitude == row['lat'] and longitude == row['lng']:\n",
    "            new_df.iloc[-1, new_df.columns.get_loc('time_end')] = row['time_end'] \n",
    "\n",
    "        else: \n",
    "            new_df = new_df.append({'uid' : row['uid'] , 'lat' : row['lat'], 'lng' : row['lng'],\n",
    "                            'time_begin' : row['time_begin'], 'time_end' : row['time_end'], 'name' : row['name'],\n",
    "                            'address' : row['address'], 'bike' : row['bike'], \n",
    "                            'bike_racks' : row['bike_racks'], 'bikes' : row['bikes'], \n",
    "                            'booked_bikes' : row['booked_bikes'], 'free_racks' : row['free_racks'], \n",
    "                            'free_special_racks' : row['free_special_racks'], \n",
    "                            'maintenance' : row['maintenance'], 'number' : row['number'], \n",
    "                            'place_type' : row['place_type'], 'rack_locks' : row['rack_locks'], \n",
    "                            'special_racks' : row['special_racks'], 'spot' : row['spot'], \n",
    "                            'terminal_type' : row['terminal_type'], 'city' : row['city'], \n",
    "                            'country_code' : row['country_code'], 'company' : row['company'], \n",
    "                            'timezone' : row['timezone'],\n",
    "                            'available_bikes' : row['available_bikes']}, ignore_index=True)\n",
    "            #saving the new row if there is a change in location\n",
    "            latitude, longitude = row['lat'], row['lng'] #updating to new location, continue searching for changes"
   ]
  },
  {
   "cell_type": "code",
   "execution_count": null,
   "metadata": {
    "scrolled": true
   },
   "outputs": [],
   "source": [
    "new_df.info()"
   ]
  },
  {
   "cell_type": "code",
   "execution_count": null,
   "metadata": {},
   "outputs": [],
   "source": [
    "namesToList2 = new_df['name'].tolist()\n",
    "namesList2 = list(set(namesToList2))"
   ]
  },
  {
   "cell_type": "code",
   "execution_count": null,
   "metadata": {},
   "outputs": [],
   "source": [
    "len(namesList2)"
   ]
  },
  {
   "cell_type": "code",
   "execution_count": null,
   "metadata": {},
   "outputs": [],
   "source": [
    "new_df.to_csv('/bigdata/jelicicna/output_datasets/cleaned_data_nextbike_2019-12.csv', sep=';', index=False)"
   ]
  },
  {
   "cell_type": "code",
   "execution_count": null,
   "metadata": {},
   "outputs": [],
   "source": []
  }
 ],
 "metadata": {
  "kernelspec": {
   "display_name": "Python 3",
   "language": "python",
   "name": "python3"
  },
  "language_info": {
   "codemirror_mode": {
    "name": "ipython",
    "version": 3
   },
   "file_extension": ".py",
   "mimetype": "text/x-python",
   "name": "python",
   "nbconvert_exporter": "python",
   "pygments_lexer": "ipython3",
   "version": "3.6.9"
  }
 },
 "nbformat": 4,
 "nbformat_minor": 2
}
