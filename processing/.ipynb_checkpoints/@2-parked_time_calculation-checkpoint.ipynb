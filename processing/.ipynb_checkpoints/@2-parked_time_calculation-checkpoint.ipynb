{
 "cells": [
  {
   "cell_type": "code",
   "execution_count": null,
   "metadata": {},
   "outputs": [],
   "source": [
    "import pandas as pd\n",
    "import glob\n",
    "from datetime import datetime\n",
    "import time"
   ]
  },
  {
   "cell_type": "markdown",
   "metadata": {},
   "source": [
    "#### Preprocessing of the raw collected data into the table where one row shows one period of time that the bike spent on the same location (station)"
   ]
  },
  {
   "cell_type": "code",
   "execution_count": null,
   "metadata": {},
   "outputs": [],
   "source": [
    "url = \"/bigdata/jelicicna/output_datasets/cleaned_data_nextbike_2019-12.csv.gz\"\n",
    "df = pd.read_csv(url, sep=';', parse_dates=True, low_memory=False)"
   ]
  },
  {
   "cell_type": "code",
   "execution_count": null,
   "metadata": {},
   "outputs": [],
   "source": [
    "fmt = '%Y-%m-%d %H:%M:%S'"
   ]
  },
  {
   "cell_type": "code",
   "execution_count": null,
   "metadata": {},
   "outputs": [],
   "source": [
    "def parse_timestamp(el):\n",
    "    a = el.split('.')[0]\n",
    "    b = datetime.strptime(a, fmt)\n",
    "    return b"
   ]
  },
  {
   "cell_type": "code",
   "execution_count": null,
   "metadata": {},
   "outputs": [],
   "source": [
    "df['time_begin'] = df['time_begin'].map(parse_timestamp)\n",
    "df['time_end'] = df['time_end'].map(parse_timestamp)"
   ]
  },
  {
   "cell_type": "code",
   "execution_count": null,
   "metadata": {},
   "outputs": [],
   "source": [
    "df.head()"
   ]
  },
  {
   "cell_type": "code",
   "execution_count": null,
   "metadata": {},
   "outputs": [],
   "source": [
    "new_df = pd.DataFrame(columns= ['lat', 'lng', 'parking_begin', 'parking_end', 'parked_time', 'uid', 'name', 'address', \n",
    "                                'available_bikes', 'maintenance','bike', 'bike_racks', 'bikes', \n",
    "                                'booked_bikes', 'free_racks', 'free_special_racks', 'number', \n",
    "                                'place_type', 'rack_locks', 'special_racks', 'spot', 'terminal_type', 'city',\n",
    "                                'country_code', 'company', 'timezone'\n",
    "                               ] ) #empty dataframe with the new column structure"
   ]
  },
  {
   "cell_type": "code",
   "execution_count": null,
   "metadata": {},
   "outputs": [],
   "source": [
    "for index, row in df.iterrows():\n",
    "    \n",
    "    d1_ts = time.mktime(df['time_begin'][index].timetuple())\n",
    "    d2_ts = time.mktime(df['time_end'][index].timetuple())\n",
    "    \n",
    "    minsDiff = round((int(d2_ts-d1_ts) / 60), 0)\n",
    "    new_df = new_df.append({'lat' : row['lat'], 'lng' : row['lng'] ,\n",
    "                            'parking_begin' : row['time_begin'], 'parking_end' : row['time_end'], \n",
    "                            'parked_time' : minsDiff, 'uid' : row['uid'], 'name' : row['name'], 'address' : row['address'], \n",
    "                            'available_bikes' : row['available_bikes'], 'maintenance' : row['maintenance'], \n",
    "                            'bike' : row['bike'], 'bike_racks' : row['bike_racks'], 'bikes' : row['bikes'], \n",
    "                            'booked_bikes' : row['booked_bikes'], 'free_racks' : row['free_racks'], \n",
    "                            'free_special_racks' : row['free_special_racks'], \n",
    "                            'number' : row['number'], \n",
    "                            'place_type' : row['place_type'], 'rack_locks' : row['rack_locks'], \n",
    "                            'special_racks' : row['special_racks'], 'spot' : row['spot'], \n",
    "                            'terminal_type' : row['terminal_type'], 'city' : row['city'], \n",
    "                            'country_code' : row['country_code'], 'company' : row['company'], \n",
    "                            'timezone' : row['timezone']\n",
    "                           }, ignore_index=True)\n"
   ]
  },
  {
   "cell_type": "code",
   "execution_count": null,
   "metadata": {},
   "outputs": [],
   "source": [
    "new_df.head()"
   ]
  },
  {
   "cell_type": "code",
   "execution_count": null,
   "metadata": {},
   "outputs": [],
   "source": [
    "new_df.to_csv('/bigdata/jelicicna/output_datasets/parked_time_data_nextbike_2019-12.csv', sep=';', index=False) #change the date in the output name"
   ]
  },
  {
   "cell_type": "code",
   "execution_count": null,
   "metadata": {},
   "outputs": [],
   "source": []
  }
 ],
 "metadata": {
  "kernelspec": {
   "display_name": "Python 3",
   "language": "python",
   "name": "python3"
  },
  "language_info": {
   "codemirror_mode": {
    "name": "ipython",
    "version": 3
   },
   "file_extension": ".py",
   "mimetype": "text/x-python",
   "name": "python",
   "nbconvert_exporter": "python",
   "pygments_lexer": "ipython3",
   "version": "3.6.9"
  }
 },
 "nbformat": 4,
 "nbformat_minor": 2
}
