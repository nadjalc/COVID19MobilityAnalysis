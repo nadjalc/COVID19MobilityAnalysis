{
 "cells": [
  {
   "cell_type": "code",
   "execution_count": 1,
   "metadata": {},
   "outputs": [],
   "source": [
    "import pandas as pd\n",
    "from datetime import datetime\n",
    "import time\n",
    "from itertools import islice"
   ]
  },
  {
   "cell_type": "code",
   "execution_count": 2,
   "metadata": {},
   "outputs": [],
   "source": [
    "def append_new_row(data_frame, row):\n",
    "    data_frame = data_frame.append({'lat_begin' : row['lat'], 'lng_begin' : row['lng'],\n",
    "                                'lat_end' : 0, 'lng_end' : 0,\n",
    "                                'ride_begin' : row['parking_end'], 'ride_end' : 0,\n",
    "                                'ride_time' : 0,\n",
    "                                'uid_begin' : row['uid'], 'uid_end' : 0, 'standing_before_ride' : row['parked_time'],\n",
    "                                'name' : row['name'], 'address' : row['address'],\n",
    "                                'bike' : row['bike'], 'bike_racks' : row['bike_racks'], \n",
    "                                'bikes' : row['bikes'], 'booked_bikes' : row['booked_bikes'], \n",
    "                                'free_racks' : row['free_racks'], 'free_special_racks' : row['free_special_racks'],\n",
    "                                'maintenance' : row['maintenance'], 'number' : row['number'], \n",
    "                                'place_type' : row['place_type'], 'rack_locks' : row['rack_locks'],\n",
    "                                'special_racks' : row['special_racks'], 'spot' : row['spot'], \n",
    "                                'terminal_type' : row['terminal_type'], 'city' : row['city'],\n",
    "                                'country_code' : row['country_code'], 'company' : row['company'],\n",
    "                                'timezone' : row['timezone'],\n",
    "                                'available_bikes' : row['available_bikes']}, ignore_index=True)\n",
    "    return data_frame"
   ]
  },
  {
   "cell_type": "code",
   "execution_count": 3,
   "metadata": {},
   "outputs": [],
   "source": [
    "def parse_timestamp(el):\n",
    "    a = el.split('.')[0]\n",
    "    b = datetime.strptime(a, fmt)\n",
    "    return b"
   ]
  },
  {
   "cell_type": "code",
   "execution_count": 4,
   "metadata": {},
   "outputs": [],
   "source": [
    "fmt = '%Y-%m-%d %H:%M:%S'"
   ]
  },
  {
   "cell_type": "markdown",
   "metadata": {},
   "source": [
    "### Processes the data in order to create new column  'ride_time_minutes' \n",
    "\n",
    "#### As URL set one of the following:\n",
    "1. 'cleaned_data_nextbike_yy-mm.csv.gz' if you want to work with original cleaned data \n",
    "2. 'processed_data_nextbike_yy-mm.csv.gz' if you want to work with data that has GPS errors removed \n",
    "\n",
    "CHANGE NAME OF OUTPUT TO DESCRIBE THE CHOICE"
   ]
  },
  {
   "cell_type": "code",
   "execution_count": 5,
   "metadata": {},
   "outputs": [],
   "source": [
    "url = \"/bigdata/jelicicna/output_datasets/processed_data_nextbike_2021-01.csv.gz\"\n",
    "df = pd.read_csv(url, sep=';', low_memory=False)"
   ]
  },
  {
   "cell_type": "code",
   "execution_count": 6,
   "metadata": {},
   "outputs": [],
   "source": [
    "df['parking_begin'] = df['parking_begin'].map(parse_timestamp)\n",
    "df['parking_end'] = df['parking_end'].map(parse_timestamp)"
   ]
  },
  {
   "cell_type": "code",
   "execution_count": 7,
   "metadata": {},
   "outputs": [],
   "source": [
    "pd.set_option('display.max_columns', None)"
   ]
  },
  {
   "cell_type": "code",
   "execution_count": 8,
   "metadata": {},
   "outputs": [
    {
     "data": {
      "text/plain": [
       "False"
      ]
     },
     "execution_count": 8,
     "metadata": {},
     "output_type": "execute_result"
    }
   ],
   "source": [
    "df[\"uid\"].duplicated().any() #checking if cleaning in notebook @3 was done - there should be no duplicates"
   ]
  },
  {
   "cell_type": "code",
   "execution_count": 9,
   "metadata": {},
   "outputs": [
    {
     "data": {
      "text/html": [
       "<div>\n",
       "<style scoped>\n",
       "    .dataframe tbody tr th:only-of-type {\n",
       "        vertical-align: middle;\n",
       "    }\n",
       "\n",
       "    .dataframe tbody tr th {\n",
       "        vertical-align: top;\n",
       "    }\n",
       "\n",
       "    .dataframe thead th {\n",
       "        text-align: right;\n",
       "    }\n",
       "</style>\n",
       "<table border=\"1\" class=\"dataframe\">\n",
       "  <thead>\n",
       "    <tr style=\"text-align: right;\">\n",
       "      <th></th>\n",
       "      <th>lat</th>\n",
       "      <th>lng</th>\n",
       "      <th>parking_begin</th>\n",
       "      <th>parking_end</th>\n",
       "      <th>parked_time</th>\n",
       "      <th>uid</th>\n",
       "      <th>name</th>\n",
       "      <th>address</th>\n",
       "      <th>available_bikes</th>\n",
       "      <th>maintenance</th>\n",
       "      <th>bike</th>\n",
       "      <th>bike_racks</th>\n",
       "      <th>bikes</th>\n",
       "      <th>booked_bikes</th>\n",
       "      <th>free_racks</th>\n",
       "      <th>free_special_racks</th>\n",
       "      <th>number</th>\n",
       "      <th>place_type</th>\n",
       "      <th>rack_locks</th>\n",
       "      <th>special_racks</th>\n",
       "      <th>spot</th>\n",
       "      <th>terminal_type</th>\n",
       "      <th>city</th>\n",
       "      <th>country_code</th>\n",
       "      <th>company</th>\n",
       "      <th>timezone</th>\n",
       "    </tr>\n",
       "  </thead>\n",
       "  <tbody>\n",
       "    <tr>\n",
       "      <th>0</th>\n",
       "      <td>50.961457</td>\n",
       "      <td>6.999181</td>\n",
       "      <td>2021-01-01 00:00:01</td>\n",
       "      <td>2021-01-06 11:26:01</td>\n",
       "      <td>7886.0</td>\n",
       "      <td>40590363</td>\n",
       "      <td>BIKE 22329</td>\n",
       "      <td>NaN</td>\n",
       "      <td>814</td>\n",
       "      <td>False</td>\n",
       "      <td>True</td>\n",
       "      <td>0</td>\n",
       "      <td>1</td>\n",
       "      <td>0</td>\n",
       "      <td>0</td>\n",
       "      <td>0</td>\n",
       "      <td>0</td>\n",
       "      <td>12</td>\n",
       "      <td>False</td>\n",
       "      <td>0</td>\n",
       "      <td>False</td>\n",
       "      <td>NaN</td>\n",
       "      <td>Köln</td>\n",
       "      <td>DE</td>\n",
       "      <td>Nextbike</td>\n",
       "      <td>Europe/Berlin</td>\n",
       "    </tr>\n",
       "    <tr>\n",
       "      <th>1</th>\n",
       "      <td>50.931226</td>\n",
       "      <td>6.925998</td>\n",
       "      <td>2021-01-06 11:57:02</td>\n",
       "      <td>2021-01-06 16:29:02</td>\n",
       "      <td>272.0</td>\n",
       "      <td>40712345</td>\n",
       "      <td>BIKE 22329</td>\n",
       "      <td>NaN</td>\n",
       "      <td>789</td>\n",
       "      <td>False</td>\n",
       "      <td>True</td>\n",
       "      <td>0</td>\n",
       "      <td>1</td>\n",
       "      <td>0</td>\n",
       "      <td>0</td>\n",
       "      <td>0</td>\n",
       "      <td>0</td>\n",
       "      <td>12</td>\n",
       "      <td>False</td>\n",
       "      <td>0</td>\n",
       "      <td>False</td>\n",
       "      <td>NaN</td>\n",
       "      <td>Köln</td>\n",
       "      <td>DE</td>\n",
       "      <td>Nextbike</td>\n",
       "      <td>Europe/Berlin</td>\n",
       "    </tr>\n",
       "    <tr>\n",
       "      <th>2</th>\n",
       "      <td>50.931359</td>\n",
       "      <td>6.909372</td>\n",
       "      <td>2021-01-06 16:41:02</td>\n",
       "      <td>2021-01-08 15:13:01</td>\n",
       "      <td>2792.0</td>\n",
       "      <td>40717401</td>\n",
       "      <td>BIKE 22329</td>\n",
       "      <td>NaN</td>\n",
       "      <td>769</td>\n",
       "      <td>False</td>\n",
       "      <td>True</td>\n",
       "      <td>0</td>\n",
       "      <td>1</td>\n",
       "      <td>0</td>\n",
       "      <td>0</td>\n",
       "      <td>0</td>\n",
       "      <td>0</td>\n",
       "      <td>12</td>\n",
       "      <td>False</td>\n",
       "      <td>0</td>\n",
       "      <td>False</td>\n",
       "      <td>NaN</td>\n",
       "      <td>Köln</td>\n",
       "      <td>DE</td>\n",
       "      <td>Nextbike</td>\n",
       "      <td>Europe/Berlin</td>\n",
       "    </tr>\n",
       "    <tr>\n",
       "      <th>3</th>\n",
       "      <td>50.936145</td>\n",
       "      <td>6.929095</td>\n",
       "      <td>2021-01-08 17:05:02</td>\n",
       "      <td>2021-01-10 12:15:02</td>\n",
       "      <td>2590.0</td>\n",
       "      <td>40759633</td>\n",
       "      <td>BIKE 22329</td>\n",
       "      <td>NaN</td>\n",
       "      <td>764</td>\n",
       "      <td>False</td>\n",
       "      <td>True</td>\n",
       "      <td>0</td>\n",
       "      <td>1</td>\n",
       "      <td>0</td>\n",
       "      <td>0</td>\n",
       "      <td>0</td>\n",
       "      <td>0</td>\n",
       "      <td>12</td>\n",
       "      <td>False</td>\n",
       "      <td>0</td>\n",
       "      <td>False</td>\n",
       "      <td>NaN</td>\n",
       "      <td>Köln</td>\n",
       "      <td>DE</td>\n",
       "      <td>Nextbike</td>\n",
       "      <td>Europe/Berlin</td>\n",
       "    </tr>\n",
       "    <tr>\n",
       "      <th>4</th>\n",
       "      <td>50.934049</td>\n",
       "      <td>6.904291</td>\n",
       "      <td>2021-01-10 12:34:02</td>\n",
       "      <td>2021-01-10 13:45:01</td>\n",
       "      <td>71.0</td>\n",
       "      <td>40793543</td>\n",
       "      <td>BIKE 22329</td>\n",
       "      <td>NaN</td>\n",
       "      <td>771</td>\n",
       "      <td>False</td>\n",
       "      <td>True</td>\n",
       "      <td>0</td>\n",
       "      <td>1</td>\n",
       "      <td>0</td>\n",
       "      <td>0</td>\n",
       "      <td>0</td>\n",
       "      <td>0</td>\n",
       "      <td>12</td>\n",
       "      <td>False</td>\n",
       "      <td>0</td>\n",
       "      <td>False</td>\n",
       "      <td>NaN</td>\n",
       "      <td>Köln</td>\n",
       "      <td>DE</td>\n",
       "      <td>Nextbike</td>\n",
       "      <td>Europe/Berlin</td>\n",
       "    </tr>\n",
       "  </tbody>\n",
       "</table>\n",
       "</div>"
      ],
      "text/plain": [
       "         lat       lng       parking_begin         parking_end  parked_time  \\\n",
       "0  50.961457  6.999181 2021-01-01 00:00:01 2021-01-06 11:26:01       7886.0   \n",
       "1  50.931226  6.925998 2021-01-06 11:57:02 2021-01-06 16:29:02        272.0   \n",
       "2  50.931359  6.909372 2021-01-06 16:41:02 2021-01-08 15:13:01       2792.0   \n",
       "3  50.936145  6.929095 2021-01-08 17:05:02 2021-01-10 12:15:02       2590.0   \n",
       "4  50.934049  6.904291 2021-01-10 12:34:02 2021-01-10 13:45:01         71.0   \n",
       "\n",
       "        uid        name address  available_bikes  maintenance  bike  \\\n",
       "0  40590363  BIKE 22329     NaN              814        False  True   \n",
       "1  40712345  BIKE 22329     NaN              789        False  True   \n",
       "2  40717401  BIKE 22329     NaN              769        False  True   \n",
       "3  40759633  BIKE 22329     NaN              764        False  True   \n",
       "4  40793543  BIKE 22329     NaN              771        False  True   \n",
       "\n",
       "   bike_racks  bikes  booked_bikes  free_racks  free_special_racks  number  \\\n",
       "0           0      1             0           0                   0       0   \n",
       "1           0      1             0           0                   0       0   \n",
       "2           0      1             0           0                   0       0   \n",
       "3           0      1             0           0                   0       0   \n",
       "4           0      1             0           0                   0       0   \n",
       "\n",
       "   place_type  rack_locks  special_racks   spot  terminal_type  city  \\\n",
       "0          12       False              0  False            NaN  Köln   \n",
       "1          12       False              0  False            NaN  Köln   \n",
       "2          12       False              0  False            NaN  Köln   \n",
       "3          12       False              0  False            NaN  Köln   \n",
       "4          12       False              0  False            NaN  Köln   \n",
       "\n",
       "  country_code   company       timezone  \n",
       "0           DE  Nextbike  Europe/Berlin  \n",
       "1           DE  Nextbike  Europe/Berlin  \n",
       "2           DE  Nextbike  Europe/Berlin  \n",
       "3           DE  Nextbike  Europe/Berlin  \n",
       "4           DE  Nextbike  Europe/Berlin  "
      ]
     },
     "execution_count": 9,
     "metadata": {},
     "output_type": "execute_result"
    }
   ],
   "source": [
    "df.head()"
   ]
  },
  {
   "cell_type": "code",
   "execution_count": 10,
   "metadata": {},
   "outputs": [],
   "source": [
    "new_df = pd.DataFrame(columns= ['lat_begin', 'lng_begin', 'lat_end', 'lng_end', 'ride_begin', 'ride_end', 'ride_time', \n",
    "                                'uid_begin', 'uid_end', 'standing_before_ride', 'address', 'name', 'available_bikes', 'bike', 'bike_racks', 'bikes', \n",
    "                                'booked_bikes', 'free_racks', 'free_special_racks', 'maintenance', 'number', \n",
    "                                'place_type', 'rack_locks', 'special_racks', 'spot', 'terminal_type', 'city',\n",
    "                                'country_code', 'company', 'timezone'] ) #empty dataframe with the new column structure"
   ]
  },
  {
   "cell_type": "code",
   "execution_count": 11,
   "metadata": {},
   "outputs": [],
   "source": [
    "bikesToList = df['name'].tolist()\n",
    "bikesList = list(set(bikesToList))"
   ]
  },
  {
   "cell_type": "code",
   "execution_count": null,
   "metadata": {},
   "outputs": [],
   "source": [
    "for name in bikesList: #repeat for each bike/bike name\n",
    "    single_bike_records = df[df['name']==name]\n",
    "    first_row_data = single_bike_records.iloc[0]\n",
    "    last_end_time = first_row_data['parking_end']\n",
    "\n",
    "    new_df = append_new_row(new_df, first_row_data)\n",
    "\n",
    "    for index, row in islice(single_bike_records.iterrows(), 1, None):\n",
    "\n",
    "        d1_ts = time.mktime(df['parking_begin'][index].timetuple())\n",
    "        d2_ts = time.mktime(last_end_time.timetuple())\n",
    "\n",
    "        minsDiff = round((int(d1_ts-d2_ts) / 60), 0)\n",
    "\n",
    "        new_df.iloc[-1, new_df.columns.get_loc('ride_time')] = minsDiff\n",
    "        new_df.iloc[-1, new_df.columns.get_loc('lat_end')] = row['lat']\n",
    "        new_df.iloc[-1, new_df.columns.get_loc('lng_end')] = row['lng']\n",
    "        new_df.iloc[-1, new_df.columns.get_loc('ride_end')] = row['parking_begin']\n",
    "        new_df.iloc[-1, new_df.columns.get_loc('uid_end')] = row['uid']\n",
    "\n",
    "        last_end_time = row['parking_end']\n",
    "        \n",
    "        new_df = append_new_row(new_df, row)"
   ]
  },
  {
   "cell_type": "code",
   "execution_count": null,
   "metadata": {},
   "outputs": [],
   "source": [
    "new_df.head(10)"
   ]
  },
  {
   "cell_type": "code",
   "execution_count": null,
   "metadata": {},
   "outputs": [],
   "source": [
    "new_df.info()"
   ]
  },
  {
   "cell_type": "markdown",
   "metadata": {},
   "source": [
    "###  Prevous code assignes 0 values to some features that should be updated trough itteration to contain acctual end values of one ride.\n",
    "### As a result for each bike there will be one extra row that has not updated values, meaning itteration has reached the end for selected bike and 0 values were not updated. \n",
    "### In the following cells we check for rows like that - idealy number of rows shoud match number of bikes"
   ]
  },
  {
   "cell_type": "code",
   "execution_count": null,
   "metadata": {},
   "outputs": [],
   "source": [
    "control_df = new_df[new_df['ride_end'] == 0]\n",
    "control_df.info()"
   ]
  },
  {
   "cell_type": "code",
   "execution_count": null,
   "metadata": {},
   "outputs": [],
   "source": [
    "len(bikesList)"
   ]
  },
  {
   "cell_type": "code",
   "execution_count": null,
   "metadata": {},
   "outputs": [],
   "source": [
    "incorrect_indexes = list(control_df.index.values)\n",
    "len(incorrect_indexes)"
   ]
  },
  {
   "cell_type": "code",
   "execution_count": null,
   "metadata": {},
   "outputs": [],
   "source": [
    "for i in incorrect_indexes:\n",
    "    if i in new_df.index.values:\n",
    "        new_df.drop(i, inplace=True)"
   ]
  },
  {
   "cell_type": "code",
   "execution_count": null,
   "metadata": {},
   "outputs": [],
   "source": [
    "new_df = new_df.reset_index()"
   ]
  },
  {
   "cell_type": "code",
   "execution_count": null,
   "metadata": {},
   "outputs": [],
   "source": [
    "new_df = new_df.drop(['index'], axis=1)"
   ]
  },
  {
   "cell_type": "code",
   "execution_count": null,
   "metadata": {},
   "outputs": [],
   "source": [
    "new_df['ride_time'].value_counts(dropna=False)"
   ]
  },
  {
   "cell_type": "code",
   "execution_count": null,
   "metadata": {},
   "outputs": [],
   "source": [
    "single_bike = df[df['name']== 'BIKE 21423' ]\n",
    "single_bike"
   ]
  },
  {
   "cell_type": "code",
   "execution_count": null,
   "metadata": {},
   "outputs": [],
   "source": [
    "single_bike_new = new_df[new_df['name']== 'BIKE 21423' ]\n",
    "single_bike_new"
   ]
  },
  {
   "cell_type": "code",
   "execution_count": null,
   "metadata": {},
   "outputs": [],
   "source": [
    "new_df.info()"
   ]
  },
  {
   "cell_type": "code",
   "execution_count": null,
   "metadata": {},
   "outputs": [],
   "source": [
    "new_df.to_csv('/bigdata/jelicicna/output_datasets/rides_table_nextbike_2020-01.csv', sep=';', index=False) "
   ]
  },
  {
   "cell_type": "code",
   "execution_count": null,
   "metadata": {},
   "outputs": [],
   "source": []
  }
 ],
 "metadata": {
  "kernelspec": {
   "display_name": "Python 3",
   "language": "python",
   "name": "python3"
  },
  "language_info": {
   "codemirror_mode": {
    "name": "ipython",
    "version": 3
   },
   "file_extension": ".py",
   "mimetype": "text/x-python",
   "name": "python",
   "nbconvert_exporter": "python",
   "pygments_lexer": "ipython3",
   "version": "3.5.2"
  }
 },
 "nbformat": 4,
 "nbformat_minor": 2
}
