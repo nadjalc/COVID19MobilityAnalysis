{
 "cells": [
  {
   "cell_type": "code",
   "execution_count": 27,
   "metadata": {},
   "outputs": [],
   "source": [
    "import pandas as pd\n",
    "from datetime import datetime\n",
    "import time\n",
    "from itertools import islice\n",
    "import glob\n",
    "import io"
   ]
  },
  {
   "cell_type": "code",
   "execution_count": 28,
   "metadata": {},
   "outputs": [],
   "source": [
    "all_files = glob.glob('/bigdata/jelicicna/out_data/*.csv')\n",
    "all_files.sort()"
   ]
  },
  {
   "cell_type": "code",
   "execution_count": 29,
   "metadata": {},
   "outputs": [
    {
     "data": {
      "text/plain": [
       "['/bigdata/jelicicna/out_data/bikes_nextbike_2020-10-01.csv',\n",
       " '/bigdata/jelicicna/out_data/bikes_nextbike_2020-10-02.csv',\n",
       " '/bigdata/jelicicna/out_data/bikes_nextbike_2020-10-03.csv',\n",
       " '/bigdata/jelicicna/out_data/bikes_nextbike_2020-10-04.csv',\n",
       " '/bigdata/jelicicna/out_data/bikes_nextbike_2020-10-05.csv',\n",
       " '/bigdata/jelicicna/out_data/bikes_nextbike_2020-10-06.csv',\n",
       " '/bigdata/jelicicna/out_data/bikes_nextbike_2020-10-07.csv',\n",
       " '/bigdata/jelicicna/out_data/bikes_nextbike_2020-10-08.csv',\n",
       " '/bigdata/jelicicna/out_data/bikes_nextbike_2020-10-09.csv',\n",
       " '/bigdata/jelicicna/out_data/bikes_nextbike_2020-10-10.csv',\n",
       " '/bigdata/jelicicna/out_data/bikes_nextbike_2020-10-11.csv',\n",
       " '/bigdata/jelicicna/out_data/bikes_nextbike_2020-10-12.csv',\n",
       " '/bigdata/jelicicna/out_data/bikes_nextbike_2020-10-13.csv',\n",
       " '/bigdata/jelicicna/out_data/bikes_nextbike_2020-10-14.csv',\n",
       " '/bigdata/jelicicna/out_data/bikes_nextbike_2020-10-15.csv',\n",
       " '/bigdata/jelicicna/out_data/bikes_nextbike_2020-10-16.csv',\n",
       " '/bigdata/jelicicna/out_data/bikes_nextbike_2020-10-17.csv',\n",
       " '/bigdata/jelicicna/out_data/bikes_nextbike_2020-10-18.csv',\n",
       " '/bigdata/jelicicna/out_data/bikes_nextbike_2020-10-19.csv',\n",
       " '/bigdata/jelicicna/out_data/bikes_nextbike_2020-10-20.csv',\n",
       " '/bigdata/jelicicna/out_data/bikes_nextbike_2020-10-21.csv',\n",
       " '/bigdata/jelicicna/out_data/bikes_nextbike_2020-10-22.csv',\n",
       " '/bigdata/jelicicna/out_data/bikes_nextbike_2020-10-23.csv',\n",
       " '/bigdata/jelicicna/out_data/bikes_nextbike_2020-10-24.csv',\n",
       " '/bigdata/jelicicna/out_data/bikes_nextbike_2020-10-25.csv',\n",
       " '/bigdata/jelicicna/out_data/bikes_nextbike_2020-10-26.csv',\n",
       " '/bigdata/jelicicna/out_data/bikes_nextbike_2020-10-27.csv',\n",
       " '/bigdata/jelicicna/out_data/bikes_nextbike_2020-10-28.csv',\n",
       " '/bigdata/jelicicna/out_data/bikes_nextbike_2020-10-29.csv',\n",
       " '/bigdata/jelicicna/out_data/bikes_nextbike_2020-10-30.csv',\n",
       " '/bigdata/jelicicna/out_data/bikes_nextbike_2020-10-31.csv']"
      ]
     },
     "execution_count": 29,
     "metadata": {},
     "output_type": "execute_result"
    }
   ],
   "source": [
    "all_files"
   ]
  },
  {
   "cell_type": "code",
   "execution_count": 30,
   "metadata": {},
   "outputs": [],
   "source": [
    "li = []\n",
    "for file in all_files:\n",
    "    frame = pd.read_csv(file, sep= ';', index_col=None, header=0, low_memory=False)\n",
    "    li.append(frame) \n",
    "df = pd.concat(li, axis=0, ignore_index=True, sort= False) #connecting all the dates"
   ]
  },
  {
   "cell_type": "code",
   "execution_count": 31,
   "metadata": {},
   "outputs": [],
   "source": [
    "pd.set_option('display.max_columns()', None)"
   ]
  },
  {
   "cell_type": "markdown",
   "metadata": {},
   "source": [
    "### Removing midnight breaks"
   ]
  },
  {
   "cell_type": "code",
   "execution_count": 32,
   "metadata": {},
   "outputs": [],
   "source": [
    "namesToList = df['name'].tolist()\n",
    "namesList = list(set(namesToList))"
   ]
  },
  {
   "cell_type": "code",
   "execution_count": 33,
   "metadata": {},
   "outputs": [
    {
     "data": {
      "text/plain": [
       "1038"
      ]
     },
     "execution_count": 33,
     "metadata": {},
     "output_type": "execute_result"
    }
   ],
   "source": [
    "len(namesList)"
   ]
  },
  {
   "cell_type": "code",
   "execution_count": 34,
   "metadata": {},
   "outputs": [],
   "source": [
    "new_df = pd.DataFrame(columns= ['lat', 'lng', 'time_begin', 'time_end', 'name', 'address', 'bike', 'bike_racks', 'bikes', \n",
    "                                'booked_bikes', 'free_racks', 'free_special_racks', 'maintenance', 'number', \n",
    "                                'place_type', 'rack_locks', 'special_racks', 'spot', 'terminal_type','uid',  'city',\n",
    "                                'country_code', 'company', 'timezone', 'available_bikes'] ) #empty dataframe with the new column structure"
   ]
  },
  {
   "cell_type": "code",
   "execution_count": 35,
   "metadata": {},
   "outputs": [],
   "source": [
    "for name in namesList: #repeat for each bike/bike name\n",
    "    single_bike_records = df[df['name']== name] #separating dataframe that has all the columns as df but only for current name\n",
    "\n",
    "    first_row_data = single_bike_records.iloc[0] #saving first row data\n",
    "    latitude, longitude = first_row_data['lat'], first_row_data['lng']\n",
    "    new_df = new_df.append({'lat' : latitude, 'lng' : longitude,\n",
    "                            'time_begin' : first_row_data['time_begin'], 'time_end' : first_row_data['time_end'],\n",
    "                            'name' : name, 'address' : first_row_data['address'], 'bike' : first_row_data['bike'], \n",
    "                            'bike_racks' : first_row_data['bike_racks'], 'bikes' : first_row_data['bikes'], \n",
    "                            'booked_bikes' : first_row_data['booked_bikes'], 'free_racks' : first_row_data['free_racks'], \n",
    "                            'free_special_racks' : first_row_data['free_special_racks'],\n",
    "                            'maintenance' : first_row_data['maintenance'], 'number' : first_row_data['number'], \n",
    "                            'place_type' : first_row_data['place_type'], 'rack_locks' : first_row_data['rack_locks'], \n",
    "                            'special_racks' : first_row_data['special_racks'], 'spot' : first_row_data['spot'], \n",
    "                            'terminal_type' : first_row_data['terminal_type'],'uid' : first_row_data['uid'], \n",
    "                            'city' : first_row_data['city'], \n",
    "                            'country_code' : first_row_data['country_code'], 'company' : first_row_data['company'], \n",
    "                            'timezone' : first_row_data['timezone'],\n",
    "                            'available_bikes' : first_row_data['available_bikes']}, ignore_index=True) \n",
    "\n",
    "    for index, row in islice(single_bike_records.iterrows(), 1, None): \n",
    "        if latitude == row['lat'] and longitude == row['lng']:\n",
    "            new_df.iloc[-1, new_df.columns.get_loc('time_end')] = row['time_end'] \n",
    "\n",
    "        else: \n",
    "            new_df = new_df.append({'uid' : row['uid'] , 'lat' : row['lat'], 'lng' : row['lng'],\n",
    "                            'time_begin' : row['time_begin'], 'time_end' : row['time_end'], 'name' : row['name'],\n",
    "                            'address' : row['address'], 'bike' : row['bike'], \n",
    "                            'bike_racks' : row['bike_racks'], 'bikes' : row['bikes'], \n",
    "                            'booked_bikes' : row['booked_bikes'], 'free_racks' : row['free_racks'], \n",
    "                            'free_special_racks' : row['free_special_racks'], \n",
    "                            'maintenance' : row['maintenance'], 'number' : row['number'], \n",
    "                            'place_type' : row['place_type'], 'rack_locks' : row['rack_locks'], \n",
    "                            'special_racks' : row['special_racks'], 'spot' : row['spot'], \n",
    "                            'terminal_type' : row['terminal_type'], 'city' : row['city'], \n",
    "                            'country_code' : row['country_code'], 'company' : row['company'], \n",
    "                            'timezone' : row['timezone'],\n",
    "                            'available_bikes' : row['available_bikes']}, ignore_index=True)\n",
    "            #saving the new row if there is a change in location\n",
    "            latitude, longitude = row['lat'], row['lng'] #updating to new location, continue searching for changes"
   ]
  },
  {
   "cell_type": "code",
   "execution_count": 36,
   "metadata": {
    "scrolled": true
   },
   "outputs": [
    {
     "name": "stdout",
     "output_type": "stream",
     "text": [
      "<class 'pandas.core.frame.DataFrame'>\n",
      "RangeIndex: 99846 entries, 0 to 99845\n",
      "Data columns (total 25 columns):\n",
      "lat                   99846 non-null float64\n",
      "lng                   99846 non-null float64\n",
      "time_begin            99846 non-null object\n",
      "time_end              99846 non-null object\n",
      "name                  99846 non-null object\n",
      "address               621 non-null object\n",
      "bike                  99846 non-null object\n",
      "bike_racks            99846 non-null object\n",
      "bikes                 99846 non-null object\n",
      "booked_bikes          99846 non-null object\n",
      "free_racks            99846 non-null object\n",
      "free_special_racks    99846 non-null object\n",
      "maintenance           99846 non-null object\n",
      "number                99846 non-null object\n",
      "place_type            99846 non-null object\n",
      "rack_locks            99846 non-null object\n",
      "special_racks         99846 non-null object\n",
      "spot                  99846 non-null object\n",
      "terminal_type         0 non-null float64\n",
      "uid                   99846 non-null object\n",
      "city                  99846 non-null object\n",
      "country_code          99846 non-null object\n",
      "company               99846 non-null object\n",
      "timezone              99846 non-null object\n",
      "available_bikes       99846 non-null object\n",
      "dtypes: float64(3), object(22)\n",
      "memory usage: 19.0+ MB\n"
     ]
    }
   ],
   "source": [
    "new_df.info()"
   ]
  },
  {
   "cell_type": "code",
   "execution_count": 37,
   "metadata": {},
   "outputs": [],
   "source": [
    "namesToList2 = new_df['name'].tolist()\n",
    "namesList2 = list(set(namesToList2))"
   ]
  },
  {
   "cell_type": "code",
   "execution_count": 38,
   "metadata": {},
   "outputs": [
    {
     "data": {
      "text/plain": [
       "1038"
      ]
     },
     "execution_count": 38,
     "metadata": {},
     "output_type": "execute_result"
    }
   ],
   "source": [
    "len(namesList2)"
   ]
  },
  {
   "cell_type": "code",
   "execution_count": 39,
   "metadata": {},
   "outputs": [],
   "source": [
    "new_df.to_csv('/bigdata/jelicicna/output_datasets/cleaned_data_nextbike_2020-10.csv', sep=';', index=False)"
   ]
  },
  {
   "cell_type": "code",
   "execution_count": null,
   "metadata": {},
   "outputs": [],
   "source": []
  }
 ],
 "metadata": {
  "kernelspec": {
   "display_name": "Python 3",
   "language": "python",
   "name": "python3"
  },
  "language_info": {
   "codemirror_mode": {
    "name": "ipython",
    "version": 3
   },
   "file_extension": ".py",
   "mimetype": "text/x-python",
   "name": "python",
   "nbconvert_exporter": "python",
   "pygments_lexer": "ipython3",
   "version": "3.5.2"
  }
 },
 "nbformat": 4,
 "nbformat_minor": 2
}
