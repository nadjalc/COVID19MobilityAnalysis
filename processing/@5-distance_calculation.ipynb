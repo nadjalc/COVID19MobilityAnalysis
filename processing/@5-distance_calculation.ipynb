{
 "cells": [
  {
   "cell_type": "code",
   "execution_count": null,
   "metadata": {},
   "outputs": [],
   "source": [
    "import pandas as pd\n",
    "import random\n",
    "from datetime import datetime\n",
    "import time\n",
    "from itertools import islice\n",
    "from math import sin, cos, sqrt, atan2, radians"
   ]
  },
  {
   "cell_type": "code",
   "execution_count": null,
   "metadata": {},
   "outputs": [],
   "source": [
    "url = \"/bigdata/jelicicna/output_datasets/rides_table_nextbike_2021-04.csv.gz\""
   ]
  },
  {
   "cell_type": "code",
   "execution_count": null,
   "metadata": {},
   "outputs": [],
   "source": [
    "df = pd.read_csv(url, sep=';', low_memory=False)"
   ]
  },
  {
   "cell_type": "code",
   "execution_count": null,
   "metadata": {},
   "outputs": [],
   "source": [
    "df"
   ]
  },
  {
   "cell_type": "code",
   "execution_count": null,
   "metadata": {},
   "outputs": [],
   "source": [
    "# approximate radius of earth in km\n",
    "R = 6373.0"
   ]
  },
  {
   "cell_type": "code",
   "execution_count": null,
   "metadata": {},
   "outputs": [],
   "source": [
    "pd.set_option('display.max_columns', None)"
   ]
  },
  {
   "cell_type": "code",
   "execution_count": null,
   "metadata": {},
   "outputs": [],
   "source": [
    "new_df = pd.DataFrame(columns= ['lat_begin', 'lng_begin', 'lat_end', 'lng_end', 'ride_begin', 'ride_end', 'ride_time',\n",
    "                                'distance', 'uid_begin', 'uid_end', 'standing_before_ride', \n",
    "                                'address', 'name', 'available_bikes', 'bike', 'bike_racks', 'bikes', \n",
    "                                'booked_bikes', 'free_racks', 'free_special_racks', 'maintenance', 'number', \n",
    "                                'place_type', 'rack_locks', 'special_racks', 'spot', 'terminal_type', 'city',\n",
    "                                'country_code', 'company', 'timezone'] )"
   ]
  },
  {
   "cell_type": "code",
   "execution_count": null,
   "metadata": {},
   "outputs": [],
   "source": [
    "for index, row in df.iterrows():\n",
    "    lat_begin = radians(row['lat_begin'])\n",
    "    lng_begin = radians(row['lng_begin'])\n",
    "    lat_end = radians(row['lat_end'])\n",
    "    lng_end = radians(row['lng_end'])\n",
    "    \n",
    "    distance_lat = lat_end - lat_begin\n",
    "    distance_lng = lng_end - lng_begin\n",
    "    \n",
    "    a = sin(distance_lat / 2)**2 + cos(lat_begin) * cos(lat_end) * sin(distance_lng / 2)**2\n",
    "    c = 2 * atan2(sqrt(a), sqrt(1 - a))\n",
    "    \n",
    "    distance = round(R * c, 3)*1000\n",
    "    \n",
    "    new_df = new_df.append({'lat_begin' : row['lat_begin'], 'lng_begin' : row['lng_begin'],\n",
    "                            'lat_end' : row['lat_end'], 'lng_end' : row['lng_end'],\n",
    "                            'ride_begin' : row['ride_begin'], 'ride_end' : row['ride_end'],\n",
    "                            'ride_time' : row['ride_time'],\n",
    "                            'distance' : distance,\n",
    "                            'uid_begin' : row['uid_begin'], 'uid_end' : row['uid_end'], \n",
    "                            'standing_before_ride' : row['standing_before_ride'], \n",
    "                            'name' : row['name'], 'address' : row['address'],\n",
    "                            'bike' : row['bike'], 'bike_racks' : row['bike_racks'], \n",
    "                            'bikes' : row['bikes'], 'booked_bikes' : row['booked_bikes'], \n",
    "                            'free_racks' : row['free_racks'], 'free_special_racks' : row['free_special_racks'],\n",
    "                            'maintenance' : row['maintenance'], 'number' : row['number'], \n",
    "                            'place_type' : row['place_type'], 'rack_locks' : row['rack_locks'],\n",
    "                            'special_racks' : row['special_racks'], 'spot' : row['spot'], \n",
    "                            'terminal_type' : row['terminal_type'], 'city' : row['city'],\n",
    "                            'country_code' : row['country_code'], 'company' : row['company'],\n",
    "                            'timezone' : row['timezone'],\n",
    "                            'available_bikes' : row['available_bikes']}, ignore_index=True)"
   ]
  },
  {
   "cell_type": "code",
   "execution_count": null,
   "metadata": {},
   "outputs": [],
   "source": [
    "new_df.to_csv('/bigdata/jelicicna/output_datasets/distances_table_nextbike_2019-12.csv', sep=';', index=False)"
   ]
  },
  {
   "cell_type": "code",
   "execution_count": null,
   "metadata": {},
   "outputs": [],
   "source": [
    "new_df"
   ]
  },
  {
   "cell_type": "code",
   "execution_count": null,
   "metadata": {},
   "outputs": [],
   "source": [
    "single_bike_data = new_df[new_df['uid_end']==0]\n",
    "single_bike_data"
   ]
  },
  {
   "cell_type": "code",
   "execution_count": null,
   "metadata": {},
   "outputs": [],
   "source": [
    "drop_list = single_bike_data.index.to_list()"
   ]
  },
  {
   "cell_type": "code",
   "execution_count": null,
   "metadata": {},
   "outputs": [],
   "source": [
    "for i in drop_list:\n",
    "    if i in new_df.index.values:\n",
    "        new_df.drop(i, inplace=True)"
   ]
  },
  {
   "cell_type": "code",
   "execution_count": null,
   "metadata": {},
   "outputs": [],
   "source": [
    "new_df = new_df.reset_index()\n",
    "new_df.drop(['index'], axis=1, inplace=True)"
   ]
  },
  {
   "cell_type": "code",
   "execution_count": null,
   "metadata": {},
   "outputs": [],
   "source": [
    "single_bike_data = new_df[new_df['name']==\"BIKE 21885\"]\n",
    "single_bike_data"
   ]
  },
  {
   "cell_type": "code",
   "execution_count": null,
   "metadata": {},
   "outputs": [],
   "source": [
    "new_df.head(50)"
   ]
  },
  {
   "cell_type": "code",
   "execution_count": null,
   "metadata": {},
   "outputs": [],
   "source": []
  }
 ],
 "metadata": {
  "kernelspec": {
   "display_name": "Python 3",
   "language": "python",
   "name": "python3"
  },
  "language_info": {
   "codemirror_mode": {
    "name": "ipython",
    "version": 3
   },
   "file_extension": ".py",
   "mimetype": "text/x-python",
   "name": "python",
   "nbconvert_exporter": "python",
   "pygments_lexer": "ipython3",
   "version": "3.6.9"
  }
 },
 "nbformat": 4,
 "nbformat_minor": 2
}
