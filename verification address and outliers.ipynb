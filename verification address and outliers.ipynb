{
 "cells": [
  {
   "cell_type": "code",
   "execution_count": 1,
   "metadata": {},
   "outputs": [],
   "source": [
    "import pandas as pd\n",
    "from itertools import islice"
   ]
  },
  {
   "cell_type": "code",
   "execution_count": 29,
   "metadata": {},
   "outputs": [],
   "source": [
    "url = \"/bigdata/jelicicna/output_datasets/distances_table_nextbike_2020-03.csv.gz\"\n",
    "#url_pr = \"processed_data_nextbike_2020-06cc.csv\"\n",
    "df = pd.read_csv(url, sep=';', low_memory=False)\n",
    "#df_pr = pd.read_csv(url, sep=';', low_memory=False)"
   ]
  },
  {
   "cell_type": "code",
   "execution_count": 30,
   "metadata": {},
   "outputs": [],
   "source": [
    "pd.set_option('display.max_columns()', None)"
   ]
  },
  {
   "cell_type": "markdown",
   "metadata": {},
   "source": [
    "#### Function for limiting possible lengths of distances to 2500meters in order to work with one part of data without extreme values"
   ]
  },
  {
   "cell_type": "code",
   "execution_count": 31,
   "metadata": {},
   "outputs": [],
   "source": [
    "def drop_duplicates(l):\n",
    "    '''Droping duplicates from a list while maintaining order'''\n",
    "    seen = set()\n",
    "    seen_add = seen.add\n",
    "    return [x for x in l if not (x in seen or seen_add(x))]"
   ]
  },
  {
   "cell_type": "code",
   "execution_count": 32,
   "metadata": {},
   "outputs": [],
   "source": [
    "def short_list(time):\n",
    "    return [x for x in sr[time] if x < 2500]"
   ]
  },
  {
   "cell_type": "code",
   "execution_count": 33,
   "metadata": {},
   "outputs": [],
   "source": [
    "df = df.drop(['bike', 'bike_racks', 'bikes', 'booked_bikes', 'free_racks', 'free_special_racks', 'maintenance', 'number', \n",
    "              'place_type', 'rack_locks', 'special_racks', 'spot', 'terminal_type', 'city',\n",
    "              'country_code', 'company', 'timezone'], axis=1)"
   ]
  },
  {
   "cell_type": "markdown",
   "metadata": {
    "collapsed": true
   },
   "source": [
    "df.drop(['index'], axis=1, inplace=True)"
   ]
  },
  {
   "cell_type": "code",
   "execution_count": 34,
   "metadata": {},
   "outputs": [
    {
     "data": {
      "text/html": [
       "<div>\n",
       "<style scoped>\n",
       "    .dataframe tbody tr th:only-of-type {\n",
       "        vertical-align: middle;\n",
       "    }\n",
       "\n",
       "    .dataframe tbody tr th {\n",
       "        vertical-align: top;\n",
       "    }\n",
       "\n",
       "    .dataframe thead th {\n",
       "        text-align: right;\n",
       "    }\n",
       "</style>\n",
       "<table border=\"1\" class=\"dataframe\">\n",
       "  <thead>\n",
       "    <tr style=\"text-align: right;\">\n",
       "      <th></th>\n",
       "      <th>lat_begin</th>\n",
       "      <th>lng_begin</th>\n",
       "      <th>lat_end</th>\n",
       "      <th>lng_end</th>\n",
       "      <th>ride_begin</th>\n",
       "      <th>ride_end</th>\n",
       "      <th>ride_time</th>\n",
       "      <th>distance</th>\n",
       "      <th>uid_begin</th>\n",
       "      <th>uid_end</th>\n",
       "      <th>standing_before_ride</th>\n",
       "      <th>address</th>\n",
       "      <th>name</th>\n",
       "      <th>available_bikes</th>\n",
       "    </tr>\n",
       "  </thead>\n",
       "  <tbody>\n",
       "    <tr>\n",
       "      <th>0</th>\n",
       "      <td>50.950063</td>\n",
       "      <td>7.018723</td>\n",
       "      <td>50.937656</td>\n",
       "      <td>6.998714</td>\n",
       "      <td>2020-03-03 12:26:02</td>\n",
       "      <td>2020-03-03 12:56:02</td>\n",
       "      <td>30.0</td>\n",
       "      <td>1968.0</td>\n",
       "      <td>28123664</td>\n",
       "      <td>28186419</td>\n",
       "      <td>3626.0</td>\n",
       "      <td>NaN</td>\n",
       "      <td>BIKE 21381</td>\n",
       "      <td>2549</td>\n",
       "    </tr>\n",
       "    <tr>\n",
       "      <th>1</th>\n",
       "      <td>50.937656</td>\n",
       "      <td>6.998714</td>\n",
       "      <td>50.931719</td>\n",
       "      <td>6.991636</td>\n",
       "      <td>2020-03-03 14:10:02</td>\n",
       "      <td>2020-03-03 14:18:02</td>\n",
       "      <td>8.0</td>\n",
       "      <td>826.0</td>\n",
       "      <td>28186419</td>\n",
       "      <td>28188864</td>\n",
       "      <td>74.0</td>\n",
       "      <td>NaN</td>\n",
       "      <td>BIKE 21381</td>\n",
       "      <td>2522</td>\n",
       "    </tr>\n",
       "    <tr>\n",
       "      <th>2</th>\n",
       "      <td>50.931719</td>\n",
       "      <td>6.991636</td>\n",
       "      <td>50.930753</td>\n",
       "      <td>6.994297</td>\n",
       "      <td>2020-03-03 17:53:02</td>\n",
       "      <td>2020-03-03 17:58:01</td>\n",
       "      <td>5.0</td>\n",
       "      <td>215.0</td>\n",
       "      <td>28188864</td>\n",
       "      <td>28195415</td>\n",
       "      <td>215.0</td>\n",
       "      <td>NaN</td>\n",
       "      <td>BIKE 21381</td>\n",
       "      <td>2527</td>\n",
       "    </tr>\n",
       "    <tr>\n",
       "      <th>3</th>\n",
       "      <td>50.930753</td>\n",
       "      <td>6.994297</td>\n",
       "      <td>50.931347</td>\n",
       "      <td>6.991467</td>\n",
       "      <td>2020-03-03 18:00:02</td>\n",
       "      <td>2020-03-03 18:04:03</td>\n",
       "      <td>4.0</td>\n",
       "      <td>209.0</td>\n",
       "      <td>28195415</td>\n",
       "      <td>28195665</td>\n",
       "      <td>2.0</td>\n",
       "      <td>NaN</td>\n",
       "      <td>BIKE 21381</td>\n",
       "      <td>2484</td>\n",
       "    </tr>\n",
       "    <tr>\n",
       "      <th>4</th>\n",
       "      <td>50.931347</td>\n",
       "      <td>6.991467</td>\n",
       "      <td>50.931112</td>\n",
       "      <td>6.994412</td>\n",
       "      <td>2020-03-03 19:18:02</td>\n",
       "      <td>2020-03-03 19:22:01</td>\n",
       "      <td>4.0</td>\n",
       "      <td>208.0</td>\n",
       "      <td>28195665</td>\n",
       "      <td>28198028</td>\n",
       "      <td>74.0</td>\n",
       "      <td>NaN</td>\n",
       "      <td>BIKE 21381</td>\n",
       "      <td>2481</td>\n",
       "    </tr>\n",
       "  </tbody>\n",
       "</table>\n",
       "</div>"
      ],
      "text/plain": [
       "   lat_begin  lng_begin    lat_end   lng_end           ride_begin  \\\n",
       "0  50.950063   7.018723  50.937656  6.998714  2020-03-03 12:26:02   \n",
       "1  50.937656   6.998714  50.931719  6.991636  2020-03-03 14:10:02   \n",
       "2  50.931719   6.991636  50.930753  6.994297  2020-03-03 17:53:02   \n",
       "3  50.930753   6.994297  50.931347  6.991467  2020-03-03 18:00:02   \n",
       "4  50.931347   6.991467  50.931112  6.994412  2020-03-03 19:18:02   \n",
       "\n",
       "              ride_end  ride_time  distance  uid_begin   uid_end  \\\n",
       "0  2020-03-03 12:56:02       30.0    1968.0   28123664  28186419   \n",
       "1  2020-03-03 14:18:02        8.0     826.0   28186419  28188864   \n",
       "2  2020-03-03 17:58:01        5.0     215.0   28188864  28195415   \n",
       "3  2020-03-03 18:04:03        4.0     209.0   28195415  28195665   \n",
       "4  2020-03-03 19:22:01        4.0     208.0   28195665  28198028   \n",
       "\n",
       "   standing_before_ride address        name  available_bikes  \n",
       "0                3626.0     NaN  BIKE 21381             2549  \n",
       "1                  74.0     NaN  BIKE 21381             2522  \n",
       "2                 215.0     NaN  BIKE 21381             2527  \n",
       "3                   2.0     NaN  BIKE 21381             2484  \n",
       "4                  74.0     NaN  BIKE 21381             2481  "
      ]
     },
     "execution_count": 34,
     "metadata": {},
     "output_type": "execute_result"
    }
   ],
   "source": [
    "df.head()"
   ]
  },
  {
   "cell_type": "code",
   "execution_count": 48,
   "metadata": {},
   "outputs": [],
   "source": [
    "suspicious_times = []\n",
    "for index, row in df.iterrows():\n",
    "    if row['ride_time'] > 1440:\n",
    "        suspicious_times.append(index)"
   ]
  },
  {
   "cell_type": "code",
   "execution_count": 49,
   "metadata": {},
   "outputs": [
    {
     "data": {
      "text/plain": [
       "772"
      ]
     },
     "execution_count": 49,
     "metadata": {},
     "output_type": "execute_result"
    }
   ],
   "source": [
    "len(suspicious_times)"
   ]
  },
  {
   "cell_type": "code",
   "execution_count": 27,
   "metadata": {},
   "outputs": [
    {
     "data": {
      "text/html": [
       "<div>\n",
       "<style scoped>\n",
       "    .dataframe tbody tr th:only-of-type {\n",
       "        vertical-align: middle;\n",
       "    }\n",
       "\n",
       "    .dataframe tbody tr th {\n",
       "        vertical-align: top;\n",
       "    }\n",
       "\n",
       "    .dataframe thead th {\n",
       "        text-align: right;\n",
       "    }\n",
       "</style>\n",
       "<table border=\"1\" class=\"dataframe\">\n",
       "  <thead>\n",
       "    <tr style=\"text-align: right;\">\n",
       "      <th></th>\n",
       "      <th>lat_begin</th>\n",
       "      <th>lng_begin</th>\n",
       "      <th>lat_end</th>\n",
       "      <th>lng_end</th>\n",
       "      <th>ride_begin</th>\n",
       "      <th>ride_end</th>\n",
       "      <th>ride_time</th>\n",
       "      <th>distance</th>\n",
       "      <th>uid_begin</th>\n",
       "      <th>uid_end</th>\n",
       "      <th>standing_before_ride</th>\n",
       "      <th>address</th>\n",
       "      <th>name</th>\n",
       "      <th>available_bikes</th>\n",
       "    </tr>\n",
       "  </thead>\n",
       "  <tbody>\n",
       "    <tr>\n",
       "      <th>48070</th>\n",
       "      <td>50.963047</td>\n",
       "      <td>6.964814</td>\n",
       "      <td>50.977931</td>\n",
       "      <td>6.962235</td>\n",
       "      <td>2020-01-20 11:07:02</td>\n",
       "      <td>2020-01-23 18:32:01</td>\n",
       "      <td>4765.0</td>\n",
       "      <td>1665.0</td>\n",
       "      <td>27003691</td>\n",
       "      <td>27249051</td>\n",
       "      <td>5713.0</td>\n",
       "      <td>Florastraße 196, Köln</td>\n",
       "      <td>BIKE 21485</td>\n",
       "      <td>2546</td>\n",
       "    </tr>\n",
       "    <tr>\n",
       "      <th>48071</th>\n",
       "      <td>50.977931</td>\n",
       "      <td>6.962235</td>\n",
       "      <td>50.960959</td>\n",
       "      <td>6.948859</td>\n",
       "      <td>2020-01-24 11:16:01</td>\n",
       "      <td>2020-01-24 12:00:02</td>\n",
       "      <td>44.0</td>\n",
       "      <td>2108.0</td>\n",
       "      <td>27249051</td>\n",
       "      <td>27266203</td>\n",
       "      <td>1004.0</td>\n",
       "      <td>NaN</td>\n",
       "      <td>BIKE 21485</td>\n",
       "      <td>2588</td>\n",
       "    </tr>\n",
       "  </tbody>\n",
       "</table>\n",
       "</div>"
      ],
      "text/plain": [
       "       lat_begin  lng_begin    lat_end   lng_end           ride_begin  \\\n",
       "48070  50.963047   6.964814  50.977931  6.962235  2020-01-20 11:07:02   \n",
       "48071  50.977931   6.962235  50.960959  6.948859  2020-01-24 11:16:01   \n",
       "\n",
       "                  ride_end  ride_time  distance  uid_begin   uid_end  \\\n",
       "48070  2020-01-23 18:32:01     4765.0    1665.0   27003691  27249051   \n",
       "48071  2020-01-24 12:00:02       44.0    2108.0   27249051  27266203   \n",
       "\n",
       "       standing_before_ride                address        name  \\\n",
       "48070                5713.0  Florastraße 196, Köln  BIKE 21485   \n",
       "48071                1004.0                    NaN  BIKE 21485   \n",
       "\n",
       "       available_bikes  \n",
       "48070             2546  \n",
       "48071             2588  "
      ]
     },
     "execution_count": 27,
     "metadata": {},
     "output_type": "execute_result"
    }
   ],
   "source": [
    "df.loc[48070:48071]"
   ]
  },
  {
   "cell_type": "code",
   "execution_count": null,
   "metadata": {
    "scrolled": true
   },
   "outputs": [],
   "source": [
    "#single_bike1 = df[df['name']== 'BIKE 22829' ] #the bike that appears in India\n",
    "#single_bike1"
   ]
  },
  {
   "cell_type": "code",
   "execution_count": null,
   "metadata": {},
   "outputs": [],
   "source": [
    "#single_bike2 = df[df['name']== 'BIKE 22447' ] #the bike that spent days in Bonn\n",
    "#single_bike2"
   ]
  },
  {
   "cell_type": "code",
   "execution_count": null,
   "metadata": {},
   "outputs": [],
   "source": [
    "#single_bike3 = df_no_adr[df_no_adr['name']== 'BIKE 22385' ]\n",
    "#single_bike3"
   ]
  },
  {
   "cell_type": "code",
   "execution_count": null,
   "metadata": {},
   "outputs": [],
   "source": [
    "#This is to be used only if we want to include the data about the bike that spent days out of Cologne in the list for droping\n",
    "#out_of_cologne = set(single_bike2.index)\n",
    "#list_for_dropping = set(suspicious_indexes) - out_of_cologne\n",
    "#list_for_dropping = suspicious_indexes + list(list_for_dropping)"
   ]
  },
  {
   "cell_type": "code",
   "execution_count": 25,
   "metadata": {},
   "outputs": [],
   "source": [
    "df_no = df.drop(suspicious_times, axis=0)\n",
    "df_no.reset_index(inplace=True)\n",
    "df_no.drop('index', axis=1, inplace=True)"
   ]
  },
  {
   "cell_type": "code",
   "execution_count": 26,
   "metadata": {},
   "outputs": [
    {
     "name": "stdout",
     "output_type": "stream",
     "text": [
      "<class 'pandas.core.frame.DataFrame'>\n",
      "RangeIndex: 28984 entries, 0 to 28983\n",
      "Data columns (total 14 columns):\n",
      "lat_begin               28984 non-null float64\n",
      "lng_begin               28984 non-null float64\n",
      "lat_end                 28984 non-null float64\n",
      "lng_end                 28984 non-null float64\n",
      "ride_begin              28984 non-null object\n",
      "ride_end                28984 non-null object\n",
      "ride_time               28984 non-null float64\n",
      "distance                28984 non-null float64\n",
      "uid_begin               28984 non-null int64\n",
      "uid_end                 28984 non-null int64\n",
      "standing_before_ride    28984 non-null float64\n",
      "address                 182 non-null object\n",
      "name                    28984 non-null object\n",
      "available_bikes         28984 non-null int64\n",
      "dtypes: float64(7), int64(3), object(4)\n",
      "memory usage: 3.1+ MB\n"
     ]
    }
   ],
   "source": [
    "df_no.info()"
   ]
  },
  {
   "cell_type": "code",
   "execution_count": 27,
   "metadata": {},
   "outputs": [],
   "source": [
    "df_no.to_csv('/bigdata/jelicicna/output_datasets/anlysis_data_nextbike_2021-01.csv', sep=';', index=False) "
   ]
  },
  {
   "cell_type": "code",
   "execution_count": null,
   "metadata": {},
   "outputs": [],
   "source": [
    "df_no[df_no[\"\"]]"
   ]
  }
 ],
 "metadata": {
  "kernelspec": {
   "display_name": "Python 3",
   "language": "python",
   "name": "python3"
  },
  "language_info": {
   "codemirror_mode": {
    "name": "ipython",
    "version": 3
   },
   "file_extension": ".py",
   "mimetype": "text/x-python",
   "name": "python",
   "nbconvert_exporter": "python",
   "pygments_lexer": "ipython3",
   "version": "3.5.2"
  }
 },
 "nbformat": 4,
 "nbformat_minor": 2
}
