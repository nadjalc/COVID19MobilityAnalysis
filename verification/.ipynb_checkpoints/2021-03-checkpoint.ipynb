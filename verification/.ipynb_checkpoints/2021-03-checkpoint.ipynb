{
 "cells": [
  {
   "cell_type": "code",
   "execution_count": 1,
   "metadata": {},
   "outputs": [],
   "source": [
    "import pandas as pd\n",
    "from itertools import islice\n",
    "import seaborn as sns\n",
    "import matplotlib"
   ]
  },
  {
   "cell_type": "code",
   "execution_count": 2,
   "metadata": {},
   "outputs": [],
   "source": [
    "url = \"/bigdata/jelicicna/output_datasets/distances_table_nextbike_2021-02.csv.gz\"\n",
    "#url_pr = \"processed_data_nextbike_2020-06cc.csv\"\n",
    "df = pd.read_csv(url, sep=';', low_memory=False)\n",
    "#df_pr = pd.read_csv(url, sep=';', low_memory=False)"
   ]
  },
  {
   "cell_type": "code",
   "execution_count": 3,
   "metadata": {},
   "outputs": [],
   "source": [
    "matplotlib.rcParams['figure.figsize'] = (16.0, 12.0)\n",
    "matplotlib.style.use('ggplot')"
   ]
  },
  {
   "cell_type": "code",
   "execution_count": 4,
   "metadata": {},
   "outputs": [],
   "source": [
    "pd.set_option('display.max_columns()', None)"
   ]
  },
  {
   "cell_type": "markdown",
   "metadata": {},
   "source": [
    "#### Function for limiting possible lengths of distances to 2500meters in order to work with one part of data without extreme values"
   ]
  },
  {
   "cell_type": "code",
   "execution_count": 5,
   "metadata": {},
   "outputs": [],
   "source": [
    "def drop_duplicates(l):\n",
    "    '''Droping duplicates from a list while maintaining order'''\n",
    "    seen = set()\n",
    "    seen_add = seen.add\n",
    "    return [x for x in l if not (x in seen or seen_add(x))]"
   ]
  },
  {
   "cell_type": "code",
   "execution_count": 6,
   "metadata": {},
   "outputs": [],
   "source": [
    "def short_list(time):\n",
    "    return [x for x in sr[time] if x < 2500]"
   ]
  },
  {
   "cell_type": "code",
   "execution_count": 7,
   "metadata": {},
   "outputs": [],
   "source": [
    "df = df.drop(['bike', 'bike_racks', 'bikes', 'booked_bikes', 'free_racks', 'free_special_racks', 'maintenance', 'number', \n",
    "              'place_type', 'rack_locks', 'special_racks', 'spot', 'terminal_type', 'city',\n",
    "              'country_code', 'company', 'timezone'], axis=1)"
   ]
  },
  {
   "cell_type": "markdown",
   "metadata": {
    "collapsed": true
   },
   "source": [
    "df.drop(['index'], axis=1, inplace=True)"
   ]
  },
  {
   "cell_type": "code",
   "execution_count": 8,
   "metadata": {},
   "outputs": [
    {
     "data": {
      "text/html": [
       "<div>\n",
       "<style scoped>\n",
       "    .dataframe tbody tr th:only-of-type {\n",
       "        vertical-align: middle;\n",
       "    }\n",
       "\n",
       "    .dataframe tbody tr th {\n",
       "        vertical-align: top;\n",
       "    }\n",
       "\n",
       "    .dataframe thead th {\n",
       "        text-align: right;\n",
       "    }\n",
       "</style>\n",
       "<table border=\"1\" class=\"dataframe\">\n",
       "  <thead>\n",
       "    <tr style=\"text-align: right;\">\n",
       "      <th></th>\n",
       "      <th>lat_begin</th>\n",
       "      <th>lng_begin</th>\n",
       "      <th>lat_end</th>\n",
       "      <th>lng_end</th>\n",
       "      <th>ride_begin</th>\n",
       "      <th>ride_end</th>\n",
       "      <th>ride_time</th>\n",
       "      <th>distance</th>\n",
       "      <th>uid_begin</th>\n",
       "      <th>uid_end</th>\n",
       "      <th>standing_before_ride</th>\n",
       "      <th>address</th>\n",
       "      <th>name</th>\n",
       "      <th>available_bikes</th>\n",
       "    </tr>\n",
       "  </thead>\n",
       "  <tbody>\n",
       "    <tr>\n",
       "      <th>0</th>\n",
       "      <td>50.923536</td>\n",
       "      <td>6.925439</td>\n",
       "      <td>50.940574</td>\n",
       "      <td>6.968034</td>\n",
       "      <td>2021-02-20 11:31:01</td>\n",
       "      <td>2021-02-20 13:10:03</td>\n",
       "      <td>99.0</td>\n",
       "      <td>3537.0</td>\n",
       "      <td>41642186</td>\n",
       "      <td>41660078</td>\n",
       "      <td>1046.0</td>\n",
       "      <td>NaN</td>\n",
       "      <td>BIKE 22449</td>\n",
       "      <td>612</td>\n",
       "    </tr>\n",
       "    <tr>\n",
       "      <th>1</th>\n",
       "      <td>50.940574</td>\n",
       "      <td>6.968034</td>\n",
       "      <td>50.940300</td>\n",
       "      <td>6.968321</td>\n",
       "      <td>2021-02-20 13:10:03</td>\n",
       "      <td>2021-02-20 13:11:01</td>\n",
       "      <td>1.0</td>\n",
       "      <td>36.0</td>\n",
       "      <td>41660078</td>\n",
       "      <td>41660338</td>\n",
       "      <td>0.0</td>\n",
       "      <td>NaN</td>\n",
       "      <td>BIKE 22449</td>\n",
       "      <td>636</td>\n",
       "    </tr>\n",
       "    <tr>\n",
       "      <th>2</th>\n",
       "      <td>50.940300</td>\n",
       "      <td>6.968321</td>\n",
       "      <td>50.921751</td>\n",
       "      <td>6.925827</td>\n",
       "      <td>2021-02-20 14:22:02</td>\n",
       "      <td>2021-02-20 15:30:02</td>\n",
       "      <td>68.0</td>\n",
       "      <td>3624.0</td>\n",
       "      <td>41660338</td>\n",
       "      <td>41665223</td>\n",
       "      <td>71.0</td>\n",
       "      <td>NaN</td>\n",
       "      <td>BIKE 22449</td>\n",
       "      <td>638</td>\n",
       "    </tr>\n",
       "    <tr>\n",
       "      <th>3</th>\n",
       "      <td>50.921751</td>\n",
       "      <td>6.925827</td>\n",
       "      <td>50.933906</td>\n",
       "      <td>6.929564</td>\n",
       "      <td>2021-02-20 16:05:02</td>\n",
       "      <td>2021-02-20 16:16:02</td>\n",
       "      <td>11.0</td>\n",
       "      <td>1377.0</td>\n",
       "      <td>41665223</td>\n",
       "      <td>41667619</td>\n",
       "      <td>35.0</td>\n",
       "      <td>NaN</td>\n",
       "      <td>BIKE 22449</td>\n",
       "      <td>581</td>\n",
       "    </tr>\n",
       "    <tr>\n",
       "      <th>4</th>\n",
       "      <td>50.933906</td>\n",
       "      <td>6.929564</td>\n",
       "      <td>50.931093</td>\n",
       "      <td>6.932945</td>\n",
       "      <td>2021-02-20 17:16:01</td>\n",
       "      <td>2021-02-20 19:25:01</td>\n",
       "      <td>129.0</td>\n",
       "      <td>392.0</td>\n",
       "      <td>41667619</td>\n",
       "      <td>41671008</td>\n",
       "      <td>60.0</td>\n",
       "      <td>NaN</td>\n",
       "      <td>BIKE 22449</td>\n",
       "      <td>587</td>\n",
       "    </tr>\n",
       "  </tbody>\n",
       "</table>\n",
       "</div>"
      ],
      "text/plain": [
       "   lat_begin  lng_begin    lat_end   lng_end           ride_begin  \\\n",
       "0  50.923536   6.925439  50.940574  6.968034  2021-02-20 11:31:01   \n",
       "1  50.940574   6.968034  50.940300  6.968321  2021-02-20 13:10:03   \n",
       "2  50.940300   6.968321  50.921751  6.925827  2021-02-20 14:22:02   \n",
       "3  50.921751   6.925827  50.933906  6.929564  2021-02-20 16:05:02   \n",
       "4  50.933906   6.929564  50.931093  6.932945  2021-02-20 17:16:01   \n",
       "\n",
       "              ride_end  ride_time  distance  uid_begin   uid_end  \\\n",
       "0  2021-02-20 13:10:03       99.0    3537.0   41642186  41660078   \n",
       "1  2021-02-20 13:11:01        1.0      36.0   41660078  41660338   \n",
       "2  2021-02-20 15:30:02       68.0    3624.0   41660338  41665223   \n",
       "3  2021-02-20 16:16:02       11.0    1377.0   41665223  41667619   \n",
       "4  2021-02-20 19:25:01      129.0     392.0   41667619  41671008   \n",
       "\n",
       "   standing_before_ride address        name  available_bikes  \n",
       "0                1046.0     NaN  BIKE 22449              612  \n",
       "1                   0.0     NaN  BIKE 22449              636  \n",
       "2                  71.0     NaN  BIKE 22449              638  \n",
       "3                  35.0     NaN  BIKE 22449              581  \n",
       "4                  60.0     NaN  BIKE 22449              587  "
      ]
     },
     "execution_count": 8,
     "metadata": {},
     "output_type": "execute_result"
    }
   ],
   "source": [
    "df.head()"
   ]
  },
  {
   "cell_type": "code",
   "execution_count": 9,
   "metadata": {},
   "outputs": [
    {
     "data": {
      "text/plain": [
       "[]"
      ]
     },
     "execution_count": 9,
     "metadata": {},
     "output_type": "execute_result"
    }
   ],
   "source": [
    "negative_values = df[df['ride_time'] < 0].index.to_list()\n",
    "negative_values"
   ]
  },
  {
   "cell_type": "code",
   "execution_count": 10,
   "metadata": {},
   "outputs": [],
   "source": [
    "#use only if there are values that you need to drop in negative values\n",
    "#df.drop(negative_values, inplace=True)"
   ]
  },
  {
   "cell_type": "code",
   "execution_count": 11,
   "metadata": {},
   "outputs": [],
   "source": [
    "out_rides = []\n",
    "for index, row in df.iterrows():\n",
    "    if (row['ride_time'] < 2) or (row['ride_time'] >= 700):\n",
    "        out_rides.append(index)"
   ]
  },
  {
   "cell_type": "code",
   "execution_count": null,
   "metadata": {},
   "outputs": [],
   "source": [
    "out_distances_total = []\n",
    "for index, row in df.iterrows():\n",
    "    if (row['distance'] < 200) or (row['distance'] >= 10200):\n",
    "        out_distances_total.append(index)"
   ]
  },
  {
   "cell_type": "code",
   "execution_count": null,
   "metadata": {},
   "outputs": [],
   "source": [
    "len(df)"
   ]
  },
  {
   "cell_type": "code",
   "execution_count": null,
   "metadata": {},
   "outputs": [],
   "source": [
    "len(out_distances_total)"
   ]
  },
  {
   "cell_type": "code",
   "execution_count": null,
   "metadata": {},
   "outputs": [],
   "source": [
    "len(out_rides)"
   ]
  },
  {
   "cell_type": "code",
   "execution_count": null,
   "metadata": {},
   "outputs": [],
   "source": [
    "out_set = len(set(out_rides + out_distances_total))\n",
    "out_set"
   ]
  },
  {
   "cell_type": "code",
   "execution_count": null,
   "metadata": {},
   "outputs": [],
   "source": [
    "# Function to callculate the intersection of two lists\n",
    "def intersection(lst1, lst2):\n",
    "    lst3 = [value for value in lst1 if value in lst2]\n",
    "    return lst3"
   ]
  },
  {
   "cell_type": "code",
   "execution_count": null,
   "metadata": {},
   "outputs": [],
   "source": [
    "intersect = intersection(out_rides, out_distances_total)\n",
    "len(intersect)"
   ]
  },
  {
   "cell_type": "code",
   "execution_count": null,
   "metadata": {},
   "outputs": [],
   "source": [
    "df_limit = df.drop(out_rides, axis=0)"
   ]
  },
  {
   "cell_type": "code",
   "execution_count": null,
   "metadata": {
    "scrolled": true
   },
   "outputs": [],
   "source": [
    "df_limit['distance'].value_counts()"
   ]
  },
  {
   "cell_type": "code",
   "execution_count": null,
   "metadata": {},
   "outputs": [],
   "source": [
    "out_distances = []\n",
    "for index, row in df_limit.iterrows():\n",
    "    if (row['distance'] < 200) or (row['distance'] >= 10200):\n",
    "        out_distances.append(index)"
   ]
  },
  {
   "cell_type": "code",
   "execution_count": null,
   "metadata": {},
   "outputs": [],
   "source": [
    "len(out_distances)"
   ]
  },
  {
   "cell_type": "code",
   "execution_count": null,
   "metadata": {},
   "outputs": [],
   "source": [
    "len(out_distances + out_rides)"
   ]
  },
  {
   "cell_type": "code",
   "execution_count": null,
   "metadata": {},
   "outputs": [],
   "source": [
    "quotient = len(out_distances + out_rides) / len(df)\n",
    "percent = quotient * 100\n",
    "print(percent)"
   ]
  },
  {
   "cell_type": "code",
   "execution_count": null,
   "metadata": {},
   "outputs": [],
   "source": [
    "df_c = df_limit.drop(out_distances, axis=0)\n",
    "df_c.reset_index(inplace=True)"
   ]
  },
  {
   "cell_type": "code",
   "execution_count": null,
   "metadata": {},
   "outputs": [],
   "source": [
    "df_c.info()"
   ]
  },
  {
   "cell_type": "code",
   "execution_count": null,
   "metadata": {},
   "outputs": [],
   "source": [
    "df_c['distance'].value_counts()"
   ]
  },
  {
   "cell_type": "code",
   "execution_count": null,
   "metadata": {},
   "outputs": [],
   "source": [
    "df_c['ride_time'].value_counts()"
   ]
  },
  {
   "cell_type": "code",
   "execution_count": null,
   "metadata": {},
   "outputs": [],
   "source": [
    "ind = []\n",
    "for index, row in df_c.iterrows():\n",
    "    if row['distance']<300:\n",
    "        ind.append(index)"
   ]
  },
  {
   "cell_type": "code",
   "execution_count": null,
   "metadata": {},
   "outputs": [],
   "source": [
    "ind"
   ]
  },
  {
   "cell_type": "code",
   "execution_count": null,
   "metadata": {},
   "outputs": [],
   "source": [
    "df_c.iloc[ind]"
   ]
  },
  {
   "cell_type": "code",
   "execution_count": null,
   "metadata": {},
   "outputs": [],
   "source": [
    "sns.set_style('white')\n",
    "sns.set_context(\"paper\", font_scale = 1.5)\n",
    "sns.distplot(df_c['ride_time'], bins = 140)"
   ]
  },
  {
   "cell_type": "code",
   "execution_count": null,
   "metadata": {},
   "outputs": [],
   "source": [
    "sns.set_style('white')\n",
    "sns.set_context(\"paper\", font_scale = 1.5)\n",
    "sns.distplot(df_c['distance'], bins = 140)"
   ]
  },
  {
   "cell_type": "code",
   "execution_count": null,
   "metadata": {},
   "outputs": [],
   "source": [
    "rows_with_nan = []\n",
    "for index, row in df_c.iterrows():\n",
    "    is_nan_series = row.isnull()\n",
    "    if is_nan_series.any():\n",
    "        rows_with_nan.append(index)"
   ]
  },
  {
   "cell_type": "code",
   "execution_count": null,
   "metadata": {},
   "outputs": [],
   "source": [
    "df_adr = df_c.drop(rows_with_nan, axis=0)"
   ]
  },
  {
   "cell_type": "code",
   "execution_count": null,
   "metadata": {
    "scrolled": true
   },
   "outputs": [],
   "source": [
    "df_adr"
   ]
  },
  {
   "cell_type": "code",
   "execution_count": null,
   "metadata": {},
   "outputs": [],
   "source": [
    "previous_index = 0\n",
    "previous_distance = df_c.iloc[0]['distance']\n",
    "suspicious_return_trips = []\n",
    "for index,row in islice(df_c.iterrows(), 1, None):\n",
    "    if (row['distance'] == previous_distance):\n",
    "        suspicious_return_trips.append(previous_index)\n",
    "        suspicious_return_trips.append(index)\n",
    "        \n",
    "    previous_index = index\n",
    "    previous_distance = row['distance']"
   ]
  },
  {
   "cell_type": "code",
   "execution_count": null,
   "metadata": {},
   "outputs": [],
   "source": [
    "df_c.iloc[suspicious_return_trips]"
   ]
  },
  {
   "cell_type": "code",
   "execution_count": null,
   "metadata": {},
   "outputs": [],
   "source": [
    "def cal_distance_in_meters(speed, time):\n",
    "    return (speed * round((time/60),1))*1000;"
   ]
  },
  {
   "cell_type": "code",
   "execution_count": null,
   "metadata": {},
   "outputs": [],
   "source": [
    "def cal_dis(speed, time):\n",
    "    print(\" Time(hr) :\", time) ;\n",
    "    print(\" Speed(km / hr) :\", speed);\n",
    "    return speed * time;\n",
    "\n",
    "print(\" The calculated Distance(km) :\",\n",
    "                   cal_dis(20, 0.3));"
   ]
  },
  {
   "cell_type": "code",
   "execution_count": null,
   "metadata": {},
   "outputs": [],
   "source": [
    "calculated_distances = []\n",
    "for row,col in df_c.iterrows():\n",
    "    recorded_distance = df_c['distance'][row]\n",
    "    duration = df_c['ride_time'][row]\n",
    "    \n",
    "    calculated_distance = cal_distance_in_meters(25, duration)\n",
    "    calculated_distances.append(calculated_distance)"
   ]
  },
  {
   "cell_type": "code",
   "execution_count": null,
   "metadata": {},
   "outputs": [],
   "source": [
    "for d in range(len(calculated_distances)):\n",
    "    calculated_distances[d] = round(calculated_distances[d] + 1500, 1)"
   ]
  },
  {
   "cell_type": "code",
   "execution_count": null,
   "metadata": {},
   "outputs": [],
   "source": [
    "df_c['calculated_distance'] = calculated_distances"
   ]
  },
  {
   "cell_type": "code",
   "execution_count": null,
   "metadata": {},
   "outputs": [],
   "source": [
    "unmatched_distances = []\n",
    "for index, row in df_c.iterrows():\n",
    "    if df_c['distance'][index] > df_c['calculated_distance'][index]:\n",
    "        unmatched_distances.append(index)"
   ]
  },
  {
   "cell_type": "code",
   "execution_count": null,
   "metadata": {
    "scrolled": true
   },
   "outputs": [],
   "source": [
    "df_c.iloc[unmatched_distances]"
   ]
  },
  {
   "cell_type": "code",
   "execution_count": null,
   "metadata": {},
   "outputs": [],
   "source": [
    "len(unmatched_distances)"
   ]
  },
  {
   "cell_type": "code",
   "execution_count": null,
   "metadata": {},
   "outputs": [],
   "source": [
    "for i in unmatched_distances:\n",
    "    if i in df_c.index.values:\n",
    "        df_c.drop(i, inplace=True)"
   ]
  },
  {
   "cell_type": "code",
   "execution_count": null,
   "metadata": {},
   "outputs": [],
   "source": [
    "df_c.reset_index(inplace=True)"
   ]
  },
  {
   "cell_type": "code",
   "execution_count": null,
   "metadata": {},
   "outputs": [],
   "source": [
    "df_c['address'].value_counts(dropna=False)"
   ]
  },
  {
   "cell_type": "code",
   "execution_count": null,
   "metadata": {},
   "outputs": [],
   "source": [
    "df_c.rename(columns={\"index\": \"old_index\"}, inplace=True)\n",
    "df_c.drop(['level_0', 'address'], axis=1, inplace=True)"
   ]
  },
  {
   "cell_type": "code",
   "execution_count": null,
   "metadata": {},
   "outputs": [],
   "source": [
    "df_c.to_csv('/bigdata/jelicicna/output_datasets/anlysis_data_nextbike_2021-02.csv', sep=';', index=False) "
   ]
  },
  {
   "cell_type": "code",
   "execution_count": null,
   "metadata": {},
   "outputs": [],
   "source": [
    "len(df_c)"
   ]
  }
 ],
 "metadata": {
  "kernelspec": {
   "display_name": "Python 3",
   "language": "python",
   "name": "python3"
  },
  "language_info": {
   "codemirror_mode": {
    "name": "ipython",
    "version": 3
   },
   "file_extension": ".py",
   "mimetype": "text/x-python",
   "name": "python",
   "nbconvert_exporter": "python",
   "pygments_lexer": "ipython3",
   "version": "3.5.2"
  }
 },
 "nbformat": 4,
 "nbformat_minor": 2
}
