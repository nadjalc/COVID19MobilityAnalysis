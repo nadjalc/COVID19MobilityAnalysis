{
 "cells": [
  {
   "cell_type": "code",
   "execution_count": 1,
   "metadata": {},
   "outputs": [],
   "source": [
    "import pandas as pd\n",
    "from itertools import islice\n",
    "import seaborn as sns\n",
    "import matplotlib"
   ]
  },
  {
   "cell_type": "code",
   "execution_count": 2,
   "metadata": {},
   "outputs": [],
   "source": [
    "url = \"/bigdata/jelicicna/output_datasets/distances_table_nextbike_2021-03.csv.gz\"\n",
    "#url_pr = \"processed_data_nextbike_2020-06cc.csv\"\n",
    "df = pd.read_csv(url, sep=';', low_memory=False)\n",
    "#df_pr = pd.read_csv(url, sep=';', low_memory=False)"
   ]
  },
  {
   "cell_type": "code",
   "execution_count": 3,
   "metadata": {},
   "outputs": [],
   "source": [
    "matplotlib.rcParams['figure.figsize'] = (16.0, 12.0)\n",
    "matplotlib.style.use('ggplot')"
   ]
  },
  {
   "cell_type": "code",
   "execution_count": 4,
   "metadata": {},
   "outputs": [],
   "source": [
    "pd.set_option('display.max_columns()', None)"
   ]
  },
  {
   "cell_type": "markdown",
   "metadata": {},
   "source": [
    "#### Function for limiting possible lengths of distances to 2500meters in order to work with one part of data without extreme values"
   ]
  },
  {
   "cell_type": "code",
   "execution_count": 5,
   "metadata": {},
   "outputs": [],
   "source": [
    "def drop_duplicates(l):\n",
    "    '''Droping duplicates from a list while maintaining order'''\n",
    "    seen = set()\n",
    "    seen_add = seen.add\n",
    "    return [x for x in l if not (x in seen or seen_add(x))]"
   ]
  },
  {
   "cell_type": "code",
   "execution_count": 6,
   "metadata": {},
   "outputs": [],
   "source": [
    "def short_list(time):\n",
    "    return [x for x in sr[time] if x < 2500]"
   ]
  },
  {
   "cell_type": "code",
   "execution_count": 7,
   "metadata": {},
   "outputs": [],
   "source": [
    "df = df.drop(['bike', 'bike_racks', 'bikes', 'booked_bikes', 'free_racks', 'free_special_racks', 'maintenance', 'number', \n",
    "              'place_type', 'rack_locks', 'special_racks', 'spot', 'terminal_type', 'city',\n",
    "              'country_code', 'company', 'timezone'], axis=1)"
   ]
  },
  {
   "cell_type": "markdown",
   "metadata": {
    "collapsed": true
   },
   "source": [
    "df.drop(['index'], axis=1, inplace=True)"
   ]
  },
  {
   "cell_type": "code",
   "execution_count": 8,
   "metadata": {},
   "outputs": [
    {
     "data": {
      "text/html": [
       "<div>\n",
       "<style scoped>\n",
       "    .dataframe tbody tr th:only-of-type {\n",
       "        vertical-align: middle;\n",
       "    }\n",
       "\n",
       "    .dataframe tbody tr th {\n",
       "        vertical-align: top;\n",
       "    }\n",
       "\n",
       "    .dataframe thead th {\n",
       "        text-align: right;\n",
       "    }\n",
       "</style>\n",
       "<table border=\"1\" class=\"dataframe\">\n",
       "  <thead>\n",
       "    <tr style=\"text-align: right;\">\n",
       "      <th></th>\n",
       "      <th>lat_begin</th>\n",
       "      <th>lng_begin</th>\n",
       "      <th>lat_end</th>\n",
       "      <th>lng_end</th>\n",
       "      <th>ride_begin</th>\n",
       "      <th>ride_end</th>\n",
       "      <th>ride_time</th>\n",
       "      <th>distance</th>\n",
       "      <th>uid_begin</th>\n",
       "      <th>uid_end</th>\n",
       "      <th>standing_before_ride</th>\n",
       "      <th>address</th>\n",
       "      <th>name</th>\n",
       "      <th>available_bikes</th>\n",
       "    </tr>\n",
       "  </thead>\n",
       "  <tbody>\n",
       "    <tr>\n",
       "      <th>0</th>\n",
       "      <td>50.906261</td>\n",
       "      <td>6.944233</td>\n",
       "      <td>50.930842</td>\n",
       "      <td>6.900563</td>\n",
       "      <td>2021-03-01 15:41:01</td>\n",
       "      <td>2021-03-01 16:27:02</td>\n",
       "      <td>46.0</td>\n",
       "      <td>4105.0</td>\n",
       "      <td>41946174</td>\n",
       "      <td>41964922</td>\n",
       "      <td>915.0</td>\n",
       "      <td>NaN</td>\n",
       "      <td>BIKE 22414</td>\n",
       "      <td>679</td>\n",
       "    </tr>\n",
       "    <tr>\n",
       "      <th>1</th>\n",
       "      <td>50.930842</td>\n",
       "      <td>6.900563</td>\n",
       "      <td>50.928876</td>\n",
       "      <td>6.900142</td>\n",
       "      <td>2021-03-01 16:34:01</td>\n",
       "      <td>2021-03-01 16:35:02</td>\n",
       "      <td>1.0</td>\n",
       "      <td>221.0</td>\n",
       "      <td>41964922</td>\n",
       "      <td>41966407</td>\n",
       "      <td>7.0</td>\n",
       "      <td>NaN</td>\n",
       "      <td>BIKE 22414</td>\n",
       "      <td>601</td>\n",
       "    </tr>\n",
       "    <tr>\n",
       "      <th>2</th>\n",
       "      <td>50.928876</td>\n",
       "      <td>6.900142</td>\n",
       "      <td>50.937211</td>\n",
       "      <td>6.900554</td>\n",
       "      <td>2021-03-01 17:54:02</td>\n",
       "      <td>2021-03-01 18:08:01</td>\n",
       "      <td>14.0</td>\n",
       "      <td>927.0</td>\n",
       "      <td>41966407</td>\n",
       "      <td>41970488</td>\n",
       "      <td>79.0</td>\n",
       "      <td>NaN</td>\n",
       "      <td>BIKE 22414</td>\n",
       "      <td>600</td>\n",
       "    </tr>\n",
       "    <tr>\n",
       "      <th>3</th>\n",
       "      <td>50.937211</td>\n",
       "      <td>6.900554</td>\n",
       "      <td>50.944225</td>\n",
       "      <td>6.911160</td>\n",
       "      <td>2021-03-01 18:28:01</td>\n",
       "      <td>2021-03-01 18:46:01</td>\n",
       "      <td>18.0</td>\n",
       "      <td>1078.0</td>\n",
       "      <td>41970488</td>\n",
       "      <td>41972082</td>\n",
       "      <td>20.0</td>\n",
       "      <td>NaN</td>\n",
       "      <td>BIKE 22414</td>\n",
       "      <td>595</td>\n",
       "    </tr>\n",
       "    <tr>\n",
       "      <th>4</th>\n",
       "      <td>50.944225</td>\n",
       "      <td>6.911160</td>\n",
       "      <td>50.906063</td>\n",
       "      <td>6.944202</td>\n",
       "      <td>2021-03-01 22:14:02</td>\n",
       "      <td>2021-03-01 23:12:02</td>\n",
       "      <td>58.0</td>\n",
       "      <td>4836.0</td>\n",
       "      <td>41972082</td>\n",
       "      <td>41977369</td>\n",
       "      <td>208.0</td>\n",
       "      <td>NaN</td>\n",
       "      <td>BIKE 22414</td>\n",
       "      <td>606</td>\n",
       "    </tr>\n",
       "  </tbody>\n",
       "</table>\n",
       "</div>"
      ],
      "text/plain": [
       "   lat_begin  lng_begin    lat_end   lng_end           ride_begin  \\\n",
       "0  50.906261   6.944233  50.930842  6.900563  2021-03-01 15:41:01   \n",
       "1  50.930842   6.900563  50.928876  6.900142  2021-03-01 16:34:01   \n",
       "2  50.928876   6.900142  50.937211  6.900554  2021-03-01 17:54:02   \n",
       "3  50.937211   6.900554  50.944225  6.911160  2021-03-01 18:28:01   \n",
       "4  50.944225   6.911160  50.906063  6.944202  2021-03-01 22:14:02   \n",
       "\n",
       "              ride_end  ride_time  distance  uid_begin   uid_end  \\\n",
       "0  2021-03-01 16:27:02       46.0    4105.0   41946174  41964922   \n",
       "1  2021-03-01 16:35:02        1.0     221.0   41964922  41966407   \n",
       "2  2021-03-01 18:08:01       14.0     927.0   41966407  41970488   \n",
       "3  2021-03-01 18:46:01       18.0    1078.0   41970488  41972082   \n",
       "4  2021-03-01 23:12:02       58.0    4836.0   41972082  41977369   \n",
       "\n",
       "   standing_before_ride address        name  available_bikes  \n",
       "0                 915.0     NaN  BIKE 22414              679  \n",
       "1                   7.0     NaN  BIKE 22414              601  \n",
       "2                  79.0     NaN  BIKE 22414              600  \n",
       "3                  20.0     NaN  BIKE 22414              595  \n",
       "4                 208.0     NaN  BIKE 22414              606  "
      ]
     },
     "execution_count": 8,
     "metadata": {},
     "output_type": "execute_result"
    }
   ],
   "source": [
    "df.head()"
   ]
  },
  {
   "cell_type": "code",
   "execution_count": 9,
   "metadata": {},
   "outputs": [
    {
     "data": {
      "text/plain": [
       "[]"
      ]
     },
     "execution_count": 9,
     "metadata": {},
     "output_type": "execute_result"
    }
   ],
   "source": [
    "negative_values = df[df['ride_time'] < 0].index.to_list()\n",
    "negative_values"
   ]
  },
  {
   "cell_type": "code",
   "execution_count": 10,
   "metadata": {},
   "outputs": [],
   "source": [
    "#use only if there are values that you need to drop in negative values\n",
    "#df.drop(negative_values, inplace=True)"
   ]
  },
  {
   "cell_type": "code",
   "execution_count": null,
   "metadata": {},
   "outputs": [],
   "source": [
    "out_rides = []\n",
    "for index, row in df.iterrows():\n",
    "    if (row['ride_time'] < 2) or (row['ride_time'] >= 700):\n",
    "        out_rides.append(index)"
   ]
  },
  {
   "cell_type": "code",
   "execution_count": null,
   "metadata": {},
   "outputs": [],
   "source": [
    "out_distances_total = []\n",
    "for index, row in df.iterrows():\n",
    "    if (row['distance'] < 200) or (row['distance'] >= 10200):\n",
    "        out_distances_total.append(index)"
   ]
  },
  {
   "cell_type": "code",
   "execution_count": null,
   "metadata": {},
   "outputs": [],
   "source": [
    "len(df)"
   ]
  },
  {
   "cell_type": "code",
   "execution_count": null,
   "metadata": {},
   "outputs": [],
   "source": [
    "len(out_distances_total)"
   ]
  },
  {
   "cell_type": "code",
   "execution_count": null,
   "metadata": {},
   "outputs": [],
   "source": [
    "len(out_rides)"
   ]
  },
  {
   "cell_type": "code",
   "execution_count": null,
   "metadata": {},
   "outputs": [],
   "source": [
    "out_set = len(set(out_rides + out_distances_total))\n",
    "out_set"
   ]
  },
  {
   "cell_type": "code",
   "execution_count": null,
   "metadata": {},
   "outputs": [],
   "source": [
    "# Function to callculate the intersection of two lists\n",
    "def intersection(lst1, lst2):\n",
    "    lst3 = [value for value in lst1 if value in lst2]\n",
    "    return lst3"
   ]
  },
  {
   "cell_type": "code",
   "execution_count": null,
   "metadata": {},
   "outputs": [],
   "source": [
    "intersect = intersection(out_rides, out_distances_total)\n",
    "len(intersect)"
   ]
  },
  {
   "cell_type": "code",
   "execution_count": null,
   "metadata": {},
   "outputs": [],
   "source": [
    "df_limit = df.drop(out_rides, axis=0)"
   ]
  },
  {
   "cell_type": "code",
   "execution_count": null,
   "metadata": {
    "scrolled": true
   },
   "outputs": [],
   "source": [
    "df_limit['distance'].value_counts()"
   ]
  },
  {
   "cell_type": "code",
   "execution_count": null,
   "metadata": {},
   "outputs": [],
   "source": [
    "out_distances = []\n",
    "for index, row in df_limit.iterrows():\n",
    "    if (row['distance'] < 200) or (row['distance'] >= 10200):\n",
    "        out_distances.append(index)"
   ]
  },
  {
   "cell_type": "code",
   "execution_count": null,
   "metadata": {},
   "outputs": [],
   "source": [
    "len(out_distances)"
   ]
  },
  {
   "cell_type": "code",
   "execution_count": null,
   "metadata": {},
   "outputs": [],
   "source": [
    "len(out_distances + out_rides)"
   ]
  },
  {
   "cell_type": "code",
   "execution_count": null,
   "metadata": {},
   "outputs": [],
   "source": [
    "quotient = len(out_distances + out_rides) / len(df)\n",
    "percent = quotient * 100\n",
    "print(percent)"
   ]
  },
  {
   "cell_type": "code",
   "execution_count": null,
   "metadata": {},
   "outputs": [],
   "source": [
    "df_c = df_limit.drop(out_distances, axis=0)\n",
    "df_c.reset_index(inplace=True)"
   ]
  },
  {
   "cell_type": "code",
   "execution_count": null,
   "metadata": {},
   "outputs": [],
   "source": [
    "df_c.info()"
   ]
  },
  {
   "cell_type": "code",
   "execution_count": null,
   "metadata": {},
   "outputs": [],
   "source": [
    "df_c['distance'].value_counts()"
   ]
  },
  {
   "cell_type": "code",
   "execution_count": null,
   "metadata": {},
   "outputs": [],
   "source": [
    "df_c['ride_time'].value_counts()"
   ]
  },
  {
   "cell_type": "code",
   "execution_count": null,
   "metadata": {},
   "outputs": [],
   "source": [
    "ind = []\n",
    "for index, row in df_c.iterrows():\n",
    "    if row['distance']<300:\n",
    "        ind.append(index)"
   ]
  },
  {
   "cell_type": "code",
   "execution_count": null,
   "metadata": {},
   "outputs": [],
   "source": [
    "ind"
   ]
  },
  {
   "cell_type": "code",
   "execution_count": null,
   "metadata": {},
   "outputs": [],
   "source": [
    "df_c.iloc[ind]"
   ]
  },
  {
   "cell_type": "code",
   "execution_count": null,
   "metadata": {},
   "outputs": [],
   "source": [
    "sns.set_style('white')\n",
    "sns.set_context(\"paper\", font_scale = 1.5)\n",
    "sns.distplot(df_c['ride_time'], bins = 140)"
   ]
  },
  {
   "cell_type": "code",
   "execution_count": null,
   "metadata": {},
   "outputs": [],
   "source": [
    "sns.set_style('white')\n",
    "sns.set_context(\"paper\", font_scale = 1.5)\n",
    "sns.distplot(df_c['distance'], bins = 140)"
   ]
  },
  {
   "cell_type": "code",
   "execution_count": null,
   "metadata": {},
   "outputs": [],
   "source": [
    "rows_with_nan = []\n",
    "for index, row in df_c.iterrows():\n",
    "    is_nan_series = row.isnull()\n",
    "    if is_nan_series.any():\n",
    "        rows_with_nan.append(index)"
   ]
  },
  {
   "cell_type": "code",
   "execution_count": null,
   "metadata": {},
   "outputs": [],
   "source": [
    "df_adr = df_c.drop(rows_with_nan, axis=0)"
   ]
  },
  {
   "cell_type": "code",
   "execution_count": null,
   "metadata": {
    "scrolled": true
   },
   "outputs": [],
   "source": [
    "df_adr"
   ]
  },
  {
   "cell_type": "code",
   "execution_count": null,
   "metadata": {},
   "outputs": [],
   "source": [
    "previous_index = 0\n",
    "previous_distance = df_c.iloc[0]['distance']\n",
    "suspicious_return_trips = []\n",
    "for index,row in islice(df_c.iterrows(), 1, None):\n",
    "    if (row['distance'] == previous_distance):\n",
    "        suspicious_return_trips.append(previous_index)\n",
    "        suspicious_return_trips.append(index)\n",
    "        \n",
    "    previous_index = index\n",
    "    previous_distance = row['distance']"
   ]
  },
  {
   "cell_type": "code",
   "execution_count": null,
   "metadata": {},
   "outputs": [],
   "source": [
    "df_c.iloc[suspicious_return_trips]"
   ]
  },
  {
   "cell_type": "code",
   "execution_count": null,
   "metadata": {},
   "outputs": [],
   "source": [
    "def cal_distance_in_meters(speed, time):\n",
    "    return (speed * round((time/60),1))*1000;"
   ]
  },
  {
   "cell_type": "code",
   "execution_count": null,
   "metadata": {},
   "outputs": [],
   "source": [
    "def cal_dis(speed, time):\n",
    "    print(\" Time(hr) :\", time) ;\n",
    "    print(\" Speed(km / hr) :\", speed);\n",
    "    return speed * time;\n",
    "\n",
    "print(\" The calculated Distance(km) :\",\n",
    "                   cal_dis(20, 0.3));"
   ]
  },
  {
   "cell_type": "code",
   "execution_count": null,
   "metadata": {},
   "outputs": [],
   "source": [
    "calculated_distances = []\n",
    "for row,col in df_c.iterrows():\n",
    "    recorded_distance = df_c['distance'][row]\n",
    "    duration = df_c['ride_time'][row]\n",
    "    \n",
    "    calculated_distance = cal_distance_in_meters(25, duration)\n",
    "    calculated_distances.append(calculated_distance)"
   ]
  },
  {
   "cell_type": "code",
   "execution_count": null,
   "metadata": {},
   "outputs": [],
   "source": [
    "for d in range(len(calculated_distances)):\n",
    "    calculated_distances[d] = round(calculated_distances[d] + 1500, 1)"
   ]
  },
  {
   "cell_type": "code",
   "execution_count": null,
   "metadata": {},
   "outputs": [],
   "source": [
    "df_c['calculated_distance'] = calculated_distances"
   ]
  },
  {
   "cell_type": "code",
   "execution_count": null,
   "metadata": {},
   "outputs": [],
   "source": [
    "unmatched_distances = []\n",
    "for index, row in df_c.iterrows():\n",
    "    if df_c['distance'][index] > df_c['calculated_distance'][index]:\n",
    "        unmatched_distances.append(index)"
   ]
  },
  {
   "cell_type": "code",
   "execution_count": null,
   "metadata": {
    "scrolled": true
   },
   "outputs": [],
   "source": [
    "df_c.iloc[unmatched_distances]"
   ]
  },
  {
   "cell_type": "code",
   "execution_count": null,
   "metadata": {},
   "outputs": [],
   "source": [
    "len(unmatched_distances)"
   ]
  },
  {
   "cell_type": "code",
   "execution_count": null,
   "metadata": {},
   "outputs": [],
   "source": [
    "for i in unmatched_distances:\n",
    "    if i in df_c.index.values:\n",
    "        df_c.drop(i, inplace=True)"
   ]
  },
  {
   "cell_type": "code",
   "execution_count": null,
   "metadata": {},
   "outputs": [],
   "source": [
    "df_c.reset_index(inplace=True)"
   ]
  },
  {
   "cell_type": "code",
   "execution_count": null,
   "metadata": {},
   "outputs": [],
   "source": [
    "df_c['address'].value_counts(dropna=False)"
   ]
  },
  {
   "cell_type": "code",
   "execution_count": null,
   "metadata": {},
   "outputs": [],
   "source": [
    "df_c.rename(columns={\"index\": \"old_index\"}, inplace=True)\n",
    "df_c.drop(['level_0', 'address'], axis=1, inplace=True)"
   ]
  },
  {
   "cell_type": "code",
   "execution_count": null,
   "metadata": {},
   "outputs": [],
   "source": [
    "df_c.to_csv('/bigdata/jelicicna/output_datasets/anlysis_data_nextbike_2021-03.csv', sep=';', index=False) "
   ]
  },
  {
   "cell_type": "code",
   "execution_count": null,
   "metadata": {},
   "outputs": [],
   "source": [
    "len(df_c)"
   ]
  }
 ],
 "metadata": {
  "kernelspec": {
   "display_name": "Python 3",
   "language": "python",
   "name": "python3"
  },
  "language_info": {
   "codemirror_mode": {
    "name": "ipython",
    "version": 3
   },
   "file_extension": ".py",
   "mimetype": "text/x-python",
   "name": "python",
   "nbconvert_exporter": "python",
   "pygments_lexer": "ipython3",
   "version": "3.5.2"
  }
 },
 "nbformat": 4,
 "nbformat_minor": 2
}
